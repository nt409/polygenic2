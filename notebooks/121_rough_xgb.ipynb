{
 "cells": [
  {
   "cell_type": "markdown",
   "id": "59d8512c-fd3a-4ab2-ae04-05bfe55bf48e",
   "metadata": {},
   "source": [
    "# XGB test\n"
   ]
  },
  {
   "cell_type": "code",
   "execution_count": 1,
   "id": "10a4e91c-2ac1-4c97-9800-7dea3cb6c2df",
   "metadata": {},
   "outputs": [],
   "source": [
    "%load_ext autoreload\n",
    "%autoreload 2\n",
    "\n",
    "# %matplotlib widget"
   ]
  },
  {
   "cell_type": "code",
   "execution_count": 2,
   "id": "f598092b-71c1-4fde-bb78-b6551f449484",
   "metadata": {},
   "outputs": [
    {
     "name": "stderr",
     "output_type": "stream",
     "text": [
      "C:\\Users\\user\\anaconda3\\envs\\poly2\\lib\\site-packages\\xgboost\\compat.py:36: FutureWarning: pandas.Int64Index is deprecated and will be removed from pandas in a future version. Use pandas.Index with the appropriate dtype instead.\n",
      "  from pandas import MultiIndex, Int64Index\n"
     ]
    }
   ],
   "source": [
    "import pandas as pd\n",
    "\n",
    "import seaborn as sns\n",
    "\n",
    "from math import log\n",
    "\n",
    "import numpy as np\n",
    "import matplotlib.pyplot as plt\n",
    "\n",
    "from tqdm import tqdm\n",
    "\n",
    "from xgboost import XGBRegressor\n",
    "import shap\n",
    "\n",
    "\n",
    "from sklearn.metrics import mean_squared_error\n",
    "from sklearn.model_selection import KFold\n",
    "\n",
    "from plots2.fns import (\n",
    "    # standard_layout,\n",
    "    # corner_annotations_colwise,\n",
    "    # corner_annotations_rowwise,\n",
    "    # get_text_annotation,\n",
    "    get_corner_annotations,\n",
    "    get_corner_annotations_custom_labels,\n",
    "    # get_corner_annotations_explicit\n",
    ")\n",
    "\n",
    "from plots2.consts import (\n",
    "    SMALL_FONT,\n",
    "    MEDIUM_FONT,\n",
    "    BIGGER_FONT,\n",
    "    SHAP_BLUE\n",
    ")\n",
    "\n",
    "from poly2.utils import trait_vec, gamma_dist, object_dump, object_load\n",
    "# from poly2.shap import get_shap_values_cumulative\n",
    "# from poly2.run import no_joblib_single_run, no_joblib_multiple_run\n",
    "from poly2.config import Config, ConfigMixture, get_asymptote_config\n",
    "# from poly2.simulator import SimulatorOneTrait, SimulatorAsymptote"
   ]
  },
  {
   "cell_type": "code",
   "execution_count": 4,
   "id": "fe242fd7-08d4-428b-9e0b-f4ca2709c672",
   "metadata": {},
   "outputs": [],
   "source": [
    "from poly2.utils import load_train_test_data, HyperparamsObj\n",
    "import optuna\n",
    "from optuna.samplers import TPESampler"
   ]
  },
  {
   "cell_type": "markdown",
   "id": "d3272ecc-51ea-417a-a27d-f3926abbd7a9",
   "metadata": {},
   "source": [
    "# combine hyperparam dfs"
   ]
  },
  {
   "cell_type": "code",
   "execution_count": 18,
   "id": "55065558-69a0-4d17-873b-9f0166076bab",
   "metadata": {},
   "outputs": [],
   "source": [
    "def combine_hyperparam_dfs(model):\n",
    "\n",
    "    df = (\n",
    "        pd.read_csv(f'../outputs/scores/{model}.csv')\n",
    "        .join(\n",
    "            pd.read_csv(f'../outputs/hyperparams/{model}.csv')\n",
    "        )\n",
    "        .sort_values('best_cv_score')\n",
    "    )\n",
    "    \n",
    "    df.head(1).to_csv(f'../outputs/hyperparams/best/{model}.csv', index=False)\n",
    "\n",
    "    return df"
   ]
  },
  {
   "cell_type": "code",
   "execution_count": 191,
   "id": "ca7233ee-d9df-44b5-bb2e-919e8cd23e7f",
   "metadata": {},
   "outputs": [],
   "source": [
    "model_c = 'all'"
   ]
  },
  {
   "cell_type": "code",
   "execution_count": 192,
   "id": "207329a5-5c91-4f0f-bede-471262d7f3cb",
   "metadata": {},
   "outputs": [],
   "source": [
    "df = combine_hyperparam_dfs(model_c)"
   ]
  },
  {
   "cell_type": "code",
   "execution_count": 193,
   "id": "e3a3f4d4-b480-42f8-bf7f-90c7e9e742f1",
   "metadata": {},
   "outputs": [
    {
     "data": {
      "text/html": [
       "<div>\n",
       "<style scoped>\n",
       "    .dataframe tbody tr th:only-of-type {\n",
       "        vertical-align: middle;\n",
       "    }\n",
       "\n",
       "    .dataframe tbody tr th {\n",
       "        vertical-align: top;\n",
       "    }\n",
       "\n",
       "    .dataframe thead th {\n",
       "        text-align: right;\n",
       "    }\n",
       "</style>\n",
       "<table border=\"1\" class=\"dataframe\">\n",
       "  <thead>\n",
       "    <tr style=\"text-align: right;\">\n",
       "      <th></th>\n",
       "      <th>model</th>\n",
       "      <th>default_cv_score</th>\n",
       "      <th>best_cv_score</th>\n",
       "      <th>rmse_test</th>\n",
       "      <th>rmse_train</th>\n",
       "      <th>rmse_test_def</th>\n",
       "      <th>number</th>\n",
       "      <th>max_depth</th>\n",
       "      <th>n_estimators</th>\n",
       "      <th>learning_rate</th>\n",
       "      <th>subsample</th>\n",
       "      <th>colsample_bytree</th>\n",
       "    </tr>\n",
       "  </thead>\n",
       "  <tbody>\n",
       "    <tr>\n",
       "      <th>99</th>\n",
       "      <td>all</td>\n",
       "      <td>0.131867</td>\n",
       "      <td>0.109074</td>\n",
       "      <td>0.107335</td>\n",
       "      <td>0.042964</td>\n",
       "      <td>0.12707</td>\n",
       "      <td>3</td>\n",
       "      <td>10</td>\n",
       "      <td>1740</td>\n",
       "      <td>0.019909</td>\n",
       "      <td>0.546807</td>\n",
       "      <td>0.887985</td>\n",
       "    </tr>\n",
       "    <tr>\n",
       "      <th>46</th>\n",
       "      <td>all</td>\n",
       "      <td>0.131867</td>\n",
       "      <td>0.109675</td>\n",
       "      <td>0.107622</td>\n",
       "      <td>0.048611</td>\n",
       "      <td>0.12707</td>\n",
       "      <td>13</td>\n",
       "      <td>11</td>\n",
       "      <td>1504</td>\n",
       "      <td>0.007188</td>\n",
       "      <td>0.703664</td>\n",
       "      <td>0.897356</td>\n",
       "    </tr>\n",
       "    <tr>\n",
       "      <th>92</th>\n",
       "      <td>all</td>\n",
       "      <td>0.131867</td>\n",
       "      <td>0.109896</td>\n",
       "      <td>0.106789</td>\n",
       "      <td>0.033212</td>\n",
       "      <td>0.12707</td>\n",
       "      <td>21</td>\n",
       "      <td>11</td>\n",
       "      <td>1312</td>\n",
       "      <td>0.026453</td>\n",
       "      <td>0.504260</td>\n",
       "      <td>0.942453</td>\n",
       "    </tr>\n",
       "    <tr>\n",
       "      <th>195</th>\n",
       "      <td>all</td>\n",
       "      <td>0.131867</td>\n",
       "      <td>0.110027</td>\n",
       "      <td>0.107727</td>\n",
       "      <td>0.046411</td>\n",
       "      <td>0.12707</td>\n",
       "      <td>15</td>\n",
       "      <td>11</td>\n",
       "      <td>770</td>\n",
       "      <td>0.015954</td>\n",
       "      <td>0.737537</td>\n",
       "      <td>0.881221</td>\n",
       "    </tr>\n",
       "    <tr>\n",
       "      <th>52</th>\n",
       "      <td>all</td>\n",
       "      <td>0.131867</td>\n",
       "      <td>0.110066</td>\n",
       "      <td>0.108242</td>\n",
       "      <td>0.029186</td>\n",
       "      <td>0.12707</td>\n",
       "      <td>3</td>\n",
       "      <td>10</td>\n",
       "      <td>1347</td>\n",
       "      <td>0.048889</td>\n",
       "      <td>0.684228</td>\n",
       "      <td>0.915346</td>\n",
       "    </tr>\n",
       "  </tbody>\n",
       "</table>\n",
       "</div>"
      ],
      "text/plain": [
       "    model  default_cv_score  best_cv_score  rmse_test  rmse_train  \\\n",
       "99    all          0.131867       0.109074   0.107335    0.042964   \n",
       "46    all          0.131867       0.109675   0.107622    0.048611   \n",
       "92    all          0.131867       0.109896   0.106789    0.033212   \n",
       "195   all          0.131867       0.110027   0.107727    0.046411   \n",
       "52    all          0.131867       0.110066   0.108242    0.029186   \n",
       "\n",
       "     rmse_test_def  number  max_depth  n_estimators  learning_rate  subsample  \\\n",
       "99         0.12707       3         10          1740       0.019909   0.546807   \n",
       "46         0.12707      13         11          1504       0.007188   0.703664   \n",
       "92         0.12707      21         11          1312       0.026453   0.504260   \n",
       "195        0.12707      15         11           770       0.015954   0.737537   \n",
       "52         0.12707       3         10          1347       0.048889   0.684228   \n",
       "\n",
       "     colsample_bytree  \n",
       "99           0.887985  \n",
       "46           0.897356  \n",
       "92           0.942453  \n",
       "195          0.881221  \n",
       "52           0.915346  "
      ]
     },
     "execution_count": 193,
     "metadata": {},
     "output_type": "execute_result"
    }
   ],
   "source": [
    "df.head()"
   ]
  },
  {
   "cell_type": "code",
   "execution_count": 194,
   "id": "e80b2290-1093-4147-b9a1-667ba0dfbd54",
   "metadata": {},
   "outputs": [
    {
     "data": {
      "text/plain": [
       "<seaborn.axisgrid.PairGrid at 0x1c9a7aab2b0>"
      ]
     },
     "execution_count": 194,
     "metadata": {},
     "output_type": "execute_result"
    },
    {
     "data": {
      "image/png": "[encoded data removed]",
      "text/plain": [
       "<Figure size 1080x1080 with 27 Axes>"
      ]
     },
     "metadata": {
      "needs_background": "light"
     },
     "output_type": "display_data"
    }
   ],
   "source": [
    "sns.pairplot(\n",
    "    df.loc[:, [\n",
    "        'best_cv_score', \n",
    "        'max_depth',\n",
    "        'n_estimators',\n",
    "        'learning_rate',\n",
    "        'subsample',\n",
    "        'colsample_bytree',\n",
    "    ]],\n",
    "    corner=True\n",
    "    # hue='best_cv_score',\n",
    "    # palette='rocket',\n",
    ")"
   ]
  },
  {
   "cell_type": "markdown",
   "id": "c29106ca-e77d-4788-b287-814abe0ca663",
   "metadata": {},
   "source": [
    "# Check for missing indices"
   ]
  },
  {
   "cell_type": "code",
   "execution_count": 176,
   "id": "f5cc6279-c3f6-42a0-8788-f3c75b89f0e2",
   "metadata": {},
   "outputs": [],
   "source": [
    "model = 'cumulative'"
   ]
  },
  {
   "cell_type": "code",
   "execution_count": 178,
   "id": "c2544405-864c-4eed-94c9-f5d034d7119f",
   "metadata": {},
   "outputs": [],
   "source": [
    "hyper = (\n",
    "    pd.read_csv(f\"../outputs/files/{model}_h.csv\")\n",
    "    .sort_values('value')\n",
    ")"
   ]
  },
  {
   "cell_type": "code",
   "execution_count": 183,
   "id": "d67d9d37-a9e9-4b53-a141-b9c7b95bbf18",
   "metadata": {},
   "outputs": [],
   "source": [
    "scores = (\n",
    "    pd.read_csv(f\"../outputs/files/{model}_s.csv\")\n",
    "    .sort_values('value')\n",
    ")"
   ]
  },
  {
   "cell_type": "code",
   "execution_count": 186,
   "id": "55d4c441-36ae-4d23-9c57-8c125d89d793",
   "metadata": {},
   "outputs": [],
   "source": [
    "def get_missing_indices(df):\n",
    "    out = (\n",
    "        pd.DataFrame(dict(indices=np.arange(200)))\n",
    "        .assign(exists = lambda x: x.indices.isin(df.value))\n",
    "        .loc[lambda x: ~x.exists]\n",
    "    )\n",
    "    \n",
    "    return out"
   ]
  },
  {
   "cell_type": "code",
   "execution_count": 187,
   "id": "10d0e577-a65c-4f15-8c3b-104cbec64492",
   "metadata": {},
   "outputs": [],
   "source": [
    "s = get_missing_indices(scores)"
   ]
  },
  {
   "cell_type": "code",
   "execution_count": 188,
   "id": "8c547180-1c58-4e2b-abbb-f4acd559fa1b",
   "metadata": {},
   "outputs": [],
   "source": [
    "h = get_missing_indices(hyper)"
   ]
  },
  {
   "cell_type": "code",
   "execution_count": 189,
   "id": "f22317e6-316a-418d-bb24-70b5f7ee2371",
   "metadata": {},
   "outputs": [
    {
     "data": {
      "text/html": [
       "<div>\n",
       "<style scoped>\n",
       "    .dataframe tbody tr th:only-of-type {\n",
       "        vertical-align: middle;\n",
       "    }\n",
       "\n",
       "    .dataframe tbody tr th {\n",
       "        vertical-align: top;\n",
       "    }\n",
       "\n",
       "    .dataframe thead th {\n",
       "        text-align: right;\n",
       "    }\n",
       "</style>\n",
       "<table border=\"1\" class=\"dataframe\">\n",
       "  <thead>\n",
       "    <tr style=\"text-align: right;\">\n",
       "      <th></th>\n",
       "      <th>indices</th>\n",
       "      <th>exists</th>\n",
       "    </tr>\n",
       "  </thead>\n",
       "  <tbody>\n",
       "    <tr>\n",
       "      <th>66</th>\n",
       "      <td>66</td>\n",
       "      <td>False</td>\n",
       "    </tr>\n",
       "    <tr>\n",
       "      <th>137</th>\n",
       "      <td>137</td>\n",
       "      <td>False</td>\n",
       "    </tr>\n",
       "  </tbody>\n",
       "</table>\n",
       "</div>"
      ],
      "text/plain": [
       "     indices  exists\n",
       "66        66   False\n",
       "137      137   False"
      ]
     },
     "execution_count": 189,
     "metadata": {},
     "output_type": "execute_result"
    }
   ],
   "source": [
    "todo = pd.concat([s, h]).drop_duplicates()\n",
    "todo"
   ]
  },
  {
   "cell_type": "code",
   "execution_count": 190,
   "id": "a5777977-51ff-4f4c-90d6-76f448699420",
   "metadata": {},
   "outputs": [],
   "source": [
    "todo.to_csv(f'../outputs/todo/{model}.csv', index=False)"
   ]
  },
  {
   "cell_type": "markdown",
   "id": "7f6aa9ca-bdb4-4cc7-a58d-030728d4bf18",
   "metadata": {},
   "source": [
    "## Seeds"
   ]
  },
  {
   "cell_type": "code",
   "execution_count": 104,
   "id": "a0eec066-2442-4fde-8a57-b1facef47395",
   "metadata": {},
   "outputs": [],
   "source": [
    "seeds = pd.read_csv(f'../outputs/todo/all.csv')\n",
    "SEED = int(seeds.iloc[0].indices)"
   ]
  },
  {
   "cell_type": "code",
   "execution_count": 106,
   "id": "2d1712f9-c554-403a-a67c-078f2d8557b8",
   "metadata": {},
   "outputs": [
    {
     "data": {
      "text/html": [
       "<div>\n",
       "<style scoped>\n",
       "    .dataframe tbody tr th:only-of-type {\n",
       "        vertical-align: middle;\n",
       "    }\n",
       "\n",
       "    .dataframe tbody tr th {\n",
       "        vertical-align: top;\n",
       "    }\n",
       "\n",
       "    .dataframe thead th {\n",
       "        text-align: right;\n",
       "    }\n",
       "</style>\n",
       "<table border=\"1\" class=\"dataframe\">\n",
       "  <thead>\n",
       "    <tr style=\"text-align: right;\">\n",
       "      <th></th>\n",
       "      <th>indices</th>\n",
       "      <th>exists</th>\n",
       "    </tr>\n",
       "  </thead>\n",
       "  <tbody>\n",
       "    <tr>\n",
       "      <th>0</th>\n",
       "      <td>10</td>\n",
       "      <td>False</td>\n",
       "    </tr>\n",
       "    <tr>\n",
       "      <th>1</th>\n",
       "      <td>11</td>\n",
       "      <td>False</td>\n",
       "    </tr>\n",
       "    <tr>\n",
       "      <th>2</th>\n",
       "      <td>57</td>\n",
       "      <td>False</td>\n",
       "    </tr>\n",
       "    <tr>\n",
       "      <th>3</th>\n",
       "      <td>108</td>\n",
       "      <td>False</td>\n",
       "    </tr>\n",
       "    <tr>\n",
       "      <th>4</th>\n",
       "      <td>124</td>\n",
       "      <td>False</td>\n",
       "    </tr>\n",
       "    <tr>\n",
       "      <th>5</th>\n",
       "      <td>127</td>\n",
       "      <td>False</td>\n",
       "    </tr>\n",
       "    <tr>\n",
       "      <th>6</th>\n",
       "      <td>134</td>\n",
       "      <td>False</td>\n",
       "    </tr>\n",
       "    <tr>\n",
       "      <th>7</th>\n",
       "      <td>137</td>\n",
       "      <td>False</td>\n",
       "    </tr>\n",
       "    <tr>\n",
       "      <th>8</th>\n",
       "      <td>141</td>\n",
       "      <td>False</td>\n",
       "    </tr>\n",
       "    <tr>\n",
       "      <th>9</th>\n",
       "      <td>149</td>\n",
       "      <td>False</td>\n",
       "    </tr>\n",
       "    <tr>\n",
       "      <th>10</th>\n",
       "      <td>154</td>\n",
       "      <td>False</td>\n",
       "    </tr>\n",
       "    <tr>\n",
       "      <th>11</th>\n",
       "      <td>162</td>\n",
       "      <td>False</td>\n",
       "    </tr>\n",
       "    <tr>\n",
       "      <th>12</th>\n",
       "      <td>163</td>\n",
       "      <td>False</td>\n",
       "    </tr>\n",
       "    <tr>\n",
       "      <th>13</th>\n",
       "      <td>166</td>\n",
       "      <td>False</td>\n",
       "    </tr>\n",
       "    <tr>\n",
       "      <th>14</th>\n",
       "      <td>167</td>\n",
       "      <td>False</td>\n",
       "    </tr>\n",
       "    <tr>\n",
       "      <th>15</th>\n",
       "      <td>168</td>\n",
       "      <td>False</td>\n",
       "    </tr>\n",
       "    <tr>\n",
       "      <th>16</th>\n",
       "      <td>169</td>\n",
       "      <td>False</td>\n",
       "    </tr>\n",
       "    <tr>\n",
       "      <th>17</th>\n",
       "      <td>170</td>\n",
       "      <td>False</td>\n",
       "    </tr>\n",
       "    <tr>\n",
       "      <th>18</th>\n",
       "      <td>171</td>\n",
       "      <td>False</td>\n",
       "    </tr>\n",
       "    <tr>\n",
       "      <th>19</th>\n",
       "      <td>172</td>\n",
       "      <td>False</td>\n",
       "    </tr>\n",
       "    <tr>\n",
       "      <th>20</th>\n",
       "      <td>173</td>\n",
       "      <td>False</td>\n",
       "    </tr>\n",
       "    <tr>\n",
       "      <th>21</th>\n",
       "      <td>175</td>\n",
       "      <td>False</td>\n",
       "    </tr>\n",
       "    <tr>\n",
       "      <th>22</th>\n",
       "      <td>177</td>\n",
       "      <td>False</td>\n",
       "    </tr>\n",
       "    <tr>\n",
       "      <th>23</th>\n",
       "      <td>178</td>\n",
       "      <td>False</td>\n",
       "    </tr>\n",
       "    <tr>\n",
       "      <th>24</th>\n",
       "      <td>181</td>\n",
       "      <td>False</td>\n",
       "    </tr>\n",
       "    <tr>\n",
       "      <th>25</th>\n",
       "      <td>184</td>\n",
       "      <td>False</td>\n",
       "    </tr>\n",
       "    <tr>\n",
       "      <th>26</th>\n",
       "      <td>188</td>\n",
       "      <td>False</td>\n",
       "    </tr>\n",
       "    <tr>\n",
       "      <th>27</th>\n",
       "      <td>190</td>\n",
       "      <td>False</td>\n",
       "    </tr>\n",
       "    <tr>\n",
       "      <th>28</th>\n",
       "      <td>193</td>\n",
       "      <td>False</td>\n",
       "    </tr>\n",
       "    <tr>\n",
       "      <th>29</th>\n",
       "      <td>194</td>\n",
       "      <td>False</td>\n",
       "    </tr>\n",
       "    <tr>\n",
       "      <th>30</th>\n",
       "      <td>196</td>\n",
       "      <td>False</td>\n",
       "    </tr>\n",
       "    <tr>\n",
       "      <th>31</th>\n",
       "      <td>197</td>\n",
       "      <td>False</td>\n",
       "    </tr>\n",
       "    <tr>\n",
       "      <th>32</th>\n",
       "      <td>198</td>\n",
       "      <td>False</td>\n",
       "    </tr>\n",
       "    <tr>\n",
       "      <th>33</th>\n",
       "      <td>199</td>\n",
       "      <td>False</td>\n",
       "    </tr>\n",
       "  </tbody>\n",
       "</table>\n",
       "</div>"
      ],
      "text/plain": [
       "    indices  exists\n",
       "0        10   False\n",
       "1        11   False\n",
       "2        57   False\n",
       "3       108   False\n",
       "4       124   False\n",
       "5       127   False\n",
       "6       134   False\n",
       "7       137   False\n",
       "8       141   False\n",
       "9       149   False\n",
       "10      154   False\n",
       "11      162   False\n",
       "12      163   False\n",
       "13      166   False\n",
       "14      167   False\n",
       "15      168   False\n",
       "16      169   False\n",
       "17      170   False\n",
       "18      171   False\n",
       "19      172   False\n",
       "20      173   False\n",
       "21      175   False\n",
       "22      177   False\n",
       "23      178   False\n",
       "24      181   False\n",
       "25      184   False\n",
       "26      188   False\n",
       "27      190   False\n",
       "28      193   False\n",
       "29      194   False\n",
       "30      196   False\n",
       "31      197   False\n",
       "32      198   False\n",
       "33      199   False"
      ]
     },
     "execution_count": 106,
     "metadata": {},
     "output_type": "execute_result"
    }
   ],
   "source": [
    "seeds"
   ]
  },
  {
   "cell_type": "markdown",
   "id": "fb17125e-cf00-468e-b72d-7c5de9989f2f",
   "metadata": {},
   "source": [
    "# older"
   ]
  },
  {
   "cell_type": "code",
   "execution_count": 28,
   "id": "b92285d0-dc6f-4120-8a4a-db243464deb4",
   "metadata": {},
   "outputs": [],
   "source": [
    "X_cv, y_cv, X_test, y_test = load_train_test_data('all')"
   ]
  },
  {
   "cell_type": "code",
   "execution_count": 45,
   "id": "426d4d01-f21f-45af-8523-a8a02eebc707",
   "metadata": {},
   "outputs": [
    {
     "name": "stdout",
     "output_type": "stream",
     "text": [
      "model='all'\n",
      "load data\n",
      "check default model\n"
     ]
    },
    {
     "name": "stderr",
     "output_type": "stream",
     "text": [
      "5it [00:28,  5.66s/it]\n",
      "\u001b[32m[I 2022-09-11 20:45:31,249]\u001b[0m A new study created in memory with name: no-name-a8cfea67-55d9-49b1-8f8b-c00863ad06bd\u001b[0m\n"
     ]
    },
    {
     "name": "stdout",
     "output_type": "stream",
     "text": [
      "optimise hyperparameters\n",
      "20:45:31: starting\n"
     ]
    },
    {
     "name": "stderr",
     "output_type": "stream",
     "text": [
      "5it [00:13,  2.76s/it]\n",
      "\u001b[32m[I 2022-09-11 20:45:45,095]\u001b[0m Trial 0 finished with value: 0.35282812742442526 and parameters: {'max_depth': 16, 'n_estimators': 11, 'learning_rate': 0.03712132853191884, 'subsample': 0.8744019412693059, 'colsample_bytree': 0.6991042073815543}. Best is trial 0 with value: 0.35282812742442526.\u001b[0m\n",
      "5it [00:03,  1.51it/s]\n",
      "\u001b[32m[I 2022-09-11 20:45:48,416]\u001b[0m Trial 1 finished with value: 0.22912415762247038 and parameters: {'max_depth': 7, 'n_estimators': 27, 'learning_rate': 0.07654675630645541, 'subsample': 0.5845554182812678, 'colsample_bytree': 0.4530038885044062}. Best is trial 1 with value: 0.22912415762247038.\u001b[0m\n",
      "0it [05:24, ?it/s]\n"
     ]
    },
    {
     "ename": "KeyboardInterrupt",
     "evalue": "",
     "output_type": "error",
     "traceback": [
      "\u001b[1;31m---------------------------------------------------------------------------\u001b[0m",
      "\u001b[1;31mKeyboardInterrupt\u001b[0m                         Traceback (most recent call last)",
      "\u001b[1;32m~\\AppData\\Local\\Temp\\ipykernel_12676\\352666829.py\u001b[0m in \u001b[0;36m<module>\u001b[1;34m\u001b[0m\n\u001b[0;32m      1\u001b[0m \u001b[1;31m# run_optuna(X_cv, y_cv, 'all')\u001b[0m\u001b[1;33m\u001b[0m\u001b[1;33m\u001b[0m\u001b[1;33m\u001b[0m\u001b[0m\n\u001b[1;32m----> 2\u001b[1;33m \u001b[0mmain\u001b[0m\u001b[1;33m(\u001b[0m\u001b[1;34m'all'\u001b[0m\u001b[1;33m)\u001b[0m\u001b[1;33m\u001b[0m\u001b[1;33m\u001b[0m\u001b[0m\n\u001b[0m",
      "\u001b[1;32mc:\\users\\user\\documents\\python\\phd\\poly2\\polygenic2\\src\\poly2\\xgb_optimiser.py\u001b[0m in \u001b[0;36mmain\u001b[1;34m(model)\u001b[0m\n\u001b[0;32m     33\u001b[0m \u001b[1;33m\u001b[0m\u001b[0m\n\u001b[0;32m     34\u001b[0m     \u001b[0mprint\u001b[0m\u001b[1;33m(\u001b[0m\u001b[1;34m'optimise hyperparameters'\u001b[0m\u001b[1;33m)\u001b[0m\u001b[1;33m\u001b[0m\u001b[1;33m\u001b[0m\u001b[0m\n\u001b[1;32m---> 35\u001b[1;33m     \u001b[0mbest_score\u001b[0m\u001b[1;33m,\u001b[0m \u001b[0mbest_pars\u001b[0m\u001b[1;33m,\u001b[0m \u001b[0mbest_number\u001b[0m \u001b[1;33m=\u001b[0m \u001b[0mrun_optuna\u001b[0m\u001b[1;33m(\u001b[0m\u001b[0mX_cv\u001b[0m\u001b[1;33m,\u001b[0m \u001b[0my_cv\u001b[0m\u001b[1;33m,\u001b[0m \u001b[0mseed\u001b[0m\u001b[1;33m)\u001b[0m\u001b[1;33m\u001b[0m\u001b[1;33m\u001b[0m\u001b[0m\n\u001b[0m\u001b[0;32m     36\u001b[0m \u001b[1;33m\u001b[0m\u001b[0m\n\u001b[0;32m     37\u001b[0m     \u001b[0mprint\u001b[0m\u001b[1;33m(\u001b[0m\u001b[1;34m'Save best pars'\u001b[0m\u001b[1;33m)\u001b[0m\u001b[1;33m\u001b[0m\u001b[1;33m\u001b[0m\u001b[0m\n",
      "\u001b[1;32mc:\\users\\user\\documents\\python\\phd\\poly2\\polygenic2\\src\\poly2\\xgb_optimiser.py\u001b[0m in \u001b[0;36mrun_optuna\u001b[1;34m(X_cv, y_cv, model)\u001b[0m\n\u001b[0;32m     74\u001b[0m     \u001b[0moptuna\u001b[0m\u001b[1;33m.\u001b[0m\u001b[0mlogging\u001b[0m\u001b[1;33m.\u001b[0m\u001b[0mset_verbosity\u001b[0m\u001b[1;33m(\u001b[0m\u001b[1;36m3\u001b[0m\u001b[1;33m)\u001b[0m\u001b[1;33m\u001b[0m\u001b[1;33m\u001b[0m\u001b[0m\n\u001b[0;32m     75\u001b[0m \u001b[1;33m\u001b[0m\u001b[0m\n\u001b[1;32m---> 76\u001b[1;33m     \u001b[0mobj\u001b[0m \u001b[1;33m=\u001b[0m \u001b[0mHyperparamsObj\u001b[0m\u001b[1;33m(\u001b[0m\u001b[0mX_cv\u001b[0m\u001b[1;33m,\u001b[0m \u001b[0my_cv\u001b[0m\u001b[1;33m)\u001b[0m\u001b[1;33m\u001b[0m\u001b[1;33m\u001b[0m\u001b[0m\n\u001b[0m\u001b[0;32m     77\u001b[0m \u001b[1;33m\u001b[0m\u001b[0m\n\u001b[0;32m     78\u001b[0m     \u001b[0msampler\u001b[0m \u001b[1;33m=\u001b[0m \u001b[0moptuna\u001b[0m\u001b[1;33m.\u001b[0m\u001b[0msamplers\u001b[0m\u001b[1;33m.\u001b[0m\u001b[0mRandomSampler\u001b[0m\u001b[1;33m(\u001b[0m\u001b[0mseed\u001b[0m\u001b[1;33m=\u001b[0m\u001b[0mseed\u001b[0m\u001b[1;33m)\u001b[0m\u001b[1;33m\u001b[0m\u001b[1;33m\u001b[0m\u001b[0m\n",
      "\u001b[1;32m~\\anaconda3\\envs\\poly2\\lib\\site-packages\\optuna\\study\\study.py\u001b[0m in \u001b[0;36moptimize\u001b[1;34m(self, func, n_trials, timeout, n_jobs, catch, callbacks, gc_after_trial, show_progress_bar)\u001b[0m\n\u001b[0;32m    398\u001b[0m             )\n\u001b[0;32m    399\u001b[0m \u001b[1;33m\u001b[0m\u001b[0m\n\u001b[1;32m--> 400\u001b[1;33m         _optimize(\n\u001b[0m\u001b[0;32m    401\u001b[0m             \u001b[0mstudy\u001b[0m\u001b[1;33m=\u001b[0m\u001b[0mself\u001b[0m\u001b[1;33m,\u001b[0m\u001b[1;33m\u001b[0m\u001b[1;33m\u001b[0m\u001b[0m\n\u001b[0;32m    402\u001b[0m             \u001b[0mfunc\u001b[0m\u001b[1;33m=\u001b[0m\u001b[0mfunc\u001b[0m\u001b[1;33m,\u001b[0m\u001b[1;33m\u001b[0m\u001b[1;33m\u001b[0m\u001b[0m\n",
      "\u001b[1;32m~\\anaconda3\\envs\\poly2\\lib\\site-packages\\optuna\\study\\_optimize.py\u001b[0m in \u001b[0;36m_optimize\u001b[1;34m(study, func, n_trials, timeout, n_jobs, catch, callbacks, gc_after_trial, show_progress_bar)\u001b[0m\n\u001b[0;32m     64\u001b[0m     \u001b[1;32mtry\u001b[0m\u001b[1;33m:\u001b[0m\u001b[1;33m\u001b[0m\u001b[1;33m\u001b[0m\u001b[0m\n\u001b[0;32m     65\u001b[0m         \u001b[1;32mif\u001b[0m \u001b[0mn_jobs\u001b[0m \u001b[1;33m==\u001b[0m \u001b[1;36m1\u001b[0m\u001b[1;33m:\u001b[0m\u001b[1;33m\u001b[0m\u001b[1;33m\u001b[0m\u001b[0m\n\u001b[1;32m---> 66\u001b[1;33m             _optimize_sequential(\n\u001b[0m\u001b[0;32m     67\u001b[0m                 \u001b[0mstudy\u001b[0m\u001b[1;33m,\u001b[0m\u001b[1;33m\u001b[0m\u001b[1;33m\u001b[0m\u001b[0m\n\u001b[0;32m     68\u001b[0m                 \u001b[0mfunc\u001b[0m\u001b[1;33m,\u001b[0m\u001b[1;33m\u001b[0m\u001b[1;33m\u001b[0m\u001b[0m\n",
      "\u001b[1;32m~\\anaconda3\\envs\\poly2\\lib\\site-packages\\optuna\\study\\_optimize.py\u001b[0m in \u001b[0;36m_optimize_sequential\u001b[1;34m(study, func, n_trials, timeout, catch, callbacks, gc_after_trial, reseed_sampler_rng, time_start, progress_bar)\u001b[0m\n\u001b[0;32m    161\u001b[0m \u001b[1;33m\u001b[0m\u001b[0m\n\u001b[0;32m    162\u001b[0m         \u001b[1;32mtry\u001b[0m\u001b[1;33m:\u001b[0m\u001b[1;33m\u001b[0m\u001b[1;33m\u001b[0m\u001b[0m\n\u001b[1;32m--> 163\u001b[1;33m             \u001b[0mtrial\u001b[0m \u001b[1;33m=\u001b[0m \u001b[0m_run_trial\u001b[0m\u001b[1;33m(\u001b[0m\u001b[0mstudy\u001b[0m\u001b[1;33m,\u001b[0m \u001b[0mfunc\u001b[0m\u001b[1;33m,\u001b[0m \u001b[0mcatch\u001b[0m\u001b[1;33m)\u001b[0m\u001b[1;33m\u001b[0m\u001b[1;33m\u001b[0m\u001b[0m\n\u001b[0m\u001b[0;32m    164\u001b[0m         \u001b[1;32mexcept\u001b[0m \u001b[0mException\u001b[0m\u001b[1;33m:\u001b[0m\u001b[1;33m\u001b[0m\u001b[1;33m\u001b[0m\u001b[0m\n\u001b[0;32m    165\u001b[0m             \u001b[1;32mraise\u001b[0m\u001b[1;33m\u001b[0m\u001b[1;33m\u001b[0m\u001b[0m\n",
      "\u001b[1;32m~\\anaconda3\\envs\\poly2\\lib\\site-packages\\optuna\\study\\_optimize.py\u001b[0m in \u001b[0;36m_run_trial\u001b[1;34m(study, func, catch)\u001b[0m\n\u001b[0;32m    211\u001b[0m \u001b[1;33m\u001b[0m\u001b[0m\n\u001b[0;32m    212\u001b[0m     \u001b[1;32mtry\u001b[0m\u001b[1;33m:\u001b[0m\u001b[1;33m\u001b[0m\u001b[1;33m\u001b[0m\u001b[0m\n\u001b[1;32m--> 213\u001b[1;33m         \u001b[0mvalue_or_values\u001b[0m \u001b[1;33m=\u001b[0m \u001b[0mfunc\u001b[0m\u001b[1;33m(\u001b[0m\u001b[0mtrial\u001b[0m\u001b[1;33m)\u001b[0m\u001b[1;33m\u001b[0m\u001b[1;33m\u001b[0m\u001b[0m\n\u001b[0m\u001b[0;32m    214\u001b[0m     \u001b[1;32mexcept\u001b[0m \u001b[0mexceptions\u001b[0m\u001b[1;33m.\u001b[0m\u001b[0mTrialPruned\u001b[0m \u001b[1;32mas\u001b[0m \u001b[0me\u001b[0m\u001b[1;33m:\u001b[0m\u001b[1;33m\u001b[0m\u001b[1;33m\u001b[0m\u001b[0m\n\u001b[0;32m    215\u001b[0m         \u001b[1;31m# TODO(mamu): Handle multi-objective cases.\u001b[0m\u001b[1;33m\u001b[0m\u001b[1;33m\u001b[0m\u001b[1;33m\u001b[0m\u001b[0m\n",
      "\u001b[1;32mc:\\users\\user\\documents\\python\\phd\\poly2\\polygenic2\\src\\poly2\\utils.py\u001b[0m in \u001b[0;36m__call__\u001b[1;34m(self, trial)\u001b[0m\n\u001b[0;32m   1011\u001b[0m         \u001b[0mparams\u001b[0m \u001b[1;33m=\u001b[0m \u001b[0mself\u001b[0m\u001b[1;33m.\u001b[0m\u001b[0mget_params\u001b[0m\u001b[1;33m(\u001b[0m\u001b[0mtrial\u001b[0m\u001b[1;33m)\u001b[0m\u001b[1;33m\u001b[0m\u001b[1;33m\u001b[0m\u001b[0m\n\u001b[0;32m   1012\u001b[0m \u001b[1;33m\u001b[0m\u001b[0m\n\u001b[1;32m-> 1013\u001b[1;33m         \u001b[0mscore\u001b[0m \u001b[1;33m=\u001b[0m \u001b[0mcheck_default_model\u001b[0m\u001b[1;33m(\u001b[0m\u001b[0mself\u001b[0m\u001b[1;33m.\u001b[0m\u001b[0mX\u001b[0m\u001b[1;33m,\u001b[0m \u001b[0mself\u001b[0m\u001b[1;33m.\u001b[0m\u001b[0my\u001b[0m\u001b[1;33m,\u001b[0m \u001b[0mparams\u001b[0m\u001b[1;33m)\u001b[0m\u001b[1;33m\u001b[0m\u001b[1;33m\u001b[0m\u001b[0m\n\u001b[0m\u001b[0;32m   1014\u001b[0m \u001b[1;33m\u001b[0m\u001b[0m\n\u001b[0;32m   1015\u001b[0m         \u001b[1;32mreturn\u001b[0m \u001b[0mscore\u001b[0m\u001b[1;33m\u001b[0m\u001b[1;33m\u001b[0m\u001b[0m\n",
      "\u001b[1;32mc:\\users\\user\\documents\\python\\phd\\poly2\\polygenic2\\src\\poly2\\utils.py\u001b[0m in \u001b[0;36mcheck_default_model\u001b[1;34m(X, y, params)\u001b[0m\n\u001b[0;32m   1047\u001b[0m         \u001b[0my_v\u001b[0m \u001b[1;33m=\u001b[0m \u001b[0mnp\u001b[0m\u001b[1;33m.\u001b[0m\u001b[0marray\u001b[0m\u001b[1;33m(\u001b[0m\u001b[0my_v\u001b[0m\u001b[1;33m)\u001b[0m\u001b[1;33m\u001b[0m\u001b[1;33m\u001b[0m\u001b[0m\n\u001b[0;32m   1048\u001b[0m \u001b[1;33m\u001b[0m\u001b[0m\n\u001b[1;32m-> 1049\u001b[1;33m         \u001b[0mmodel\u001b[0m \u001b[1;33m=\u001b[0m \u001b[0mXGBRegressor\u001b[0m\u001b[1;33m(\u001b[0m\u001b[1;33m**\u001b[0m\u001b[0mparams\u001b[0m\u001b[1;33m)\u001b[0m\u001b[1;33m.\u001b[0m\u001b[0mfit\u001b[0m\u001b[1;33m(\u001b[0m\u001b[0mX_tr\u001b[0m\u001b[1;33m,\u001b[0m \u001b[0my_tr\u001b[0m\u001b[1;33m)\u001b[0m\u001b[1;33m\u001b[0m\u001b[1;33m\u001b[0m\u001b[0m\n\u001b[0m\u001b[0;32m   1050\u001b[0m \u001b[1;33m\u001b[0m\u001b[0m\n\u001b[0;32m   1051\u001b[0m         \u001b[0my_p\u001b[0m \u001b[1;33m=\u001b[0m \u001b[0mmodel\u001b[0m\u001b[1;33m.\u001b[0m\u001b[0mpredict\u001b[0m\u001b[1;33m(\u001b[0m\u001b[0mX_v\u001b[0m\u001b[1;33m)\u001b[0m\u001b[1;33m\u001b[0m\u001b[1;33m\u001b[0m\u001b[0m\n",
      "\u001b[1;32m~\\anaconda3\\envs\\poly2\\lib\\site-packages\\xgboost\\core.py\u001b[0m in \u001b[0;36minner_f\u001b[1;34m(*args, **kwargs)\u001b[0m\n\u001b[0;32m    504\u001b[0m         \u001b[1;32mfor\u001b[0m \u001b[0mk\u001b[0m\u001b[1;33m,\u001b[0m \u001b[0marg\u001b[0m \u001b[1;32min\u001b[0m \u001b[0mzip\u001b[0m\u001b[1;33m(\u001b[0m\u001b[0msig\u001b[0m\u001b[1;33m.\u001b[0m\u001b[0mparameters\u001b[0m\u001b[1;33m,\u001b[0m \u001b[0margs\u001b[0m\u001b[1;33m)\u001b[0m\u001b[1;33m:\u001b[0m\u001b[1;33m\u001b[0m\u001b[1;33m\u001b[0m\u001b[0m\n\u001b[0;32m    505\u001b[0m             \u001b[0mkwargs\u001b[0m\u001b[1;33m[\u001b[0m\u001b[0mk\u001b[0m\u001b[1;33m]\u001b[0m \u001b[1;33m=\u001b[0m \u001b[0marg\u001b[0m\u001b[1;33m\u001b[0m\u001b[1;33m\u001b[0m\u001b[0m\n\u001b[1;32m--> 506\u001b[1;33m         \u001b[1;32mreturn\u001b[0m \u001b[0mf\u001b[0m\u001b[1;33m(\u001b[0m\u001b[1;33m**\u001b[0m\u001b[0mkwargs\u001b[0m\u001b[1;33m)\u001b[0m\u001b[1;33m\u001b[0m\u001b[1;33m\u001b[0m\u001b[0m\n\u001b[0m\u001b[0;32m    507\u001b[0m \u001b[1;33m\u001b[0m\u001b[0m\n\u001b[0;32m    508\u001b[0m     \u001b[1;32mreturn\u001b[0m \u001b[0minner_f\u001b[0m\u001b[1;33m\u001b[0m\u001b[1;33m\u001b[0m\u001b[0m\n",
      "\u001b[1;32m~\\anaconda3\\envs\\poly2\\lib\\site-packages\\xgboost\\sklearn.py\u001b[0m in \u001b[0;36mfit\u001b[1;34m(self, X, y, sample_weight, base_margin, eval_set, eval_metric, early_stopping_rounds, verbose, xgb_model, sample_weight_eval_set, base_margin_eval_set, feature_weights, callbacks)\u001b[0m\n\u001b[0;32m    787\u001b[0m \u001b[1;33m\u001b[0m\u001b[0m\n\u001b[0;32m    788\u001b[0m         \u001b[0mmodel\u001b[0m\u001b[1;33m,\u001b[0m \u001b[0mfeval\u001b[0m\u001b[1;33m,\u001b[0m \u001b[0mparams\u001b[0m \u001b[1;33m=\u001b[0m \u001b[0mself\u001b[0m\u001b[1;33m.\u001b[0m\u001b[0m_configure_fit\u001b[0m\u001b[1;33m(\u001b[0m\u001b[0mxgb_model\u001b[0m\u001b[1;33m,\u001b[0m \u001b[0meval_metric\u001b[0m\u001b[1;33m,\u001b[0m \u001b[0mparams\u001b[0m\u001b[1;33m)\u001b[0m\u001b[1;33m\u001b[0m\u001b[1;33m\u001b[0m\u001b[0m\n\u001b[1;32m--> 789\u001b[1;33m         self._Booster = train(\n\u001b[0m\u001b[0;32m    790\u001b[0m             \u001b[0mparams\u001b[0m\u001b[1;33m,\u001b[0m\u001b[1;33m\u001b[0m\u001b[1;33m\u001b[0m\u001b[0m\n\u001b[0;32m    791\u001b[0m             \u001b[0mtrain_dmatrix\u001b[0m\u001b[1;33m,\u001b[0m\u001b[1;33m\u001b[0m\u001b[1;33m\u001b[0m\u001b[0m\n",
      "\u001b[1;32m~\\anaconda3\\envs\\poly2\\lib\\site-packages\\xgboost\\training.py\u001b[0m in \u001b[0;36mtrain\u001b[1;34m(params, dtrain, num_boost_round, evals, obj, feval, maximize, early_stopping_rounds, evals_result, verbose_eval, xgb_model, callbacks)\u001b[0m\n\u001b[0;32m    186\u001b[0m     \u001b[0mBooster\u001b[0m \u001b[1;33m:\u001b[0m \u001b[0ma\u001b[0m \u001b[0mtrained\u001b[0m \u001b[0mbooster\u001b[0m \u001b[0mmodel\u001b[0m\u001b[1;33m\u001b[0m\u001b[1;33m\u001b[0m\u001b[0m\n\u001b[0;32m    187\u001b[0m     \"\"\"\n\u001b[1;32m--> 188\u001b[1;33m     bst = _train_internal(params, dtrain,\n\u001b[0m\u001b[0;32m    189\u001b[0m                           \u001b[0mnum_boost_round\u001b[0m\u001b[1;33m=\u001b[0m\u001b[0mnum_boost_round\u001b[0m\u001b[1;33m,\u001b[0m\u001b[1;33m\u001b[0m\u001b[1;33m\u001b[0m\u001b[0m\n\u001b[0;32m    190\u001b[0m                           \u001b[0mevals\u001b[0m\u001b[1;33m=\u001b[0m\u001b[0mevals\u001b[0m\u001b[1;33m,\u001b[0m\u001b[1;33m\u001b[0m\u001b[1;33m\u001b[0m\u001b[0m\n",
      "\u001b[1;32m~\\anaconda3\\envs\\poly2\\lib\\site-packages\\xgboost\\training.py\u001b[0m in \u001b[0;36m_train_internal\u001b[1;34m(params, dtrain, num_boost_round, evals, obj, feval, xgb_model, callbacks, evals_result, maximize, verbose_eval, early_stopping_rounds)\u001b[0m\n\u001b[0;32m    110\u001b[0m     \u001b[1;31m# Copy to serialise and unserialise booster to reset state and free\u001b[0m\u001b[1;33m\u001b[0m\u001b[1;33m\u001b[0m\u001b[1;33m\u001b[0m\u001b[0m\n\u001b[0;32m    111\u001b[0m     \u001b[1;31m# training memory\u001b[0m\u001b[1;33m\u001b[0m\u001b[1;33m\u001b[0m\u001b[1;33m\u001b[0m\u001b[0m\n\u001b[1;32m--> 112\u001b[1;33m     \u001b[1;32mreturn\u001b[0m \u001b[0mbst\u001b[0m\u001b[1;33m.\u001b[0m\u001b[0mcopy\u001b[0m\u001b[1;33m(\u001b[0m\u001b[1;33m)\u001b[0m\u001b[1;33m\u001b[0m\u001b[1;33m\u001b[0m\u001b[0m\n\u001b[0m\u001b[0;32m    113\u001b[0m \u001b[1;33m\u001b[0m\u001b[0m\n\u001b[0;32m    114\u001b[0m \u001b[1;33m\u001b[0m\u001b[0m\n",
      "\u001b[1;32m~\\anaconda3\\envs\\poly2\\lib\\site-packages\\xgboost\\core.py\u001b[0m in \u001b[0;36mcopy\u001b[1;34m(self)\u001b[0m\n\u001b[0;32m   1531\u001b[0m             \u001b[0ma\u001b[0m \u001b[0mcopied\u001b[0m \u001b[0mbooster\u001b[0m \u001b[0mmodel\u001b[0m\u001b[1;33m\u001b[0m\u001b[1;33m\u001b[0m\u001b[0m\n\u001b[0;32m   1532\u001b[0m         \"\"\"\n\u001b[1;32m-> 1533\u001b[1;33m         \u001b[1;32mreturn\u001b[0m \u001b[0mself\u001b[0m\u001b[1;33m.\u001b[0m\u001b[0m__copy__\u001b[0m\u001b[1;33m(\u001b[0m\u001b[1;33m)\u001b[0m\u001b[1;33m\u001b[0m\u001b[1;33m\u001b[0m\u001b[0m\n\u001b[0m\u001b[0;32m   1534\u001b[0m \u001b[1;33m\u001b[0m\u001b[0m\n\u001b[0;32m   1535\u001b[0m     \u001b[1;32mdef\u001b[0m \u001b[0mattr\u001b[0m\u001b[1;33m(\u001b[0m\u001b[0mself\u001b[0m\u001b[1;33m,\u001b[0m \u001b[0mkey\u001b[0m\u001b[1;33m)\u001b[0m\u001b[1;33m:\u001b[0m\u001b[1;33m\u001b[0m\u001b[1;33m\u001b[0m\u001b[0m\n",
      "\u001b[1;32m~\\anaconda3\\envs\\poly2\\lib\\site-packages\\xgboost\\core.py\u001b[0m in \u001b[0;36m__copy__\u001b[1;34m(self)\u001b[0m\n\u001b[0;32m   1517\u001b[0m \u001b[1;33m\u001b[0m\u001b[0m\n\u001b[0;32m   1518\u001b[0m     \u001b[1;32mdef\u001b[0m \u001b[0m__copy__\u001b[0m\u001b[1;33m(\u001b[0m\u001b[0mself\u001b[0m\u001b[1;33m)\u001b[0m\u001b[1;33m:\u001b[0m\u001b[1;33m\u001b[0m\u001b[1;33m\u001b[0m\u001b[0m\n\u001b[1;32m-> 1519\u001b[1;33m         \u001b[1;32mreturn\u001b[0m \u001b[0mself\u001b[0m\u001b[1;33m.\u001b[0m\u001b[0m__deepcopy__\u001b[0m\u001b[1;33m(\u001b[0m\u001b[1;32mNone\u001b[0m\u001b[1;33m)\u001b[0m\u001b[1;33m\u001b[0m\u001b[1;33m\u001b[0m\u001b[0m\n\u001b[0m\u001b[0;32m   1520\u001b[0m \u001b[1;33m\u001b[0m\u001b[0m\n\u001b[0;32m   1521\u001b[0m     \u001b[1;32mdef\u001b[0m \u001b[0m__deepcopy__\u001b[0m\u001b[1;33m(\u001b[0m\u001b[0mself\u001b[0m\u001b[1;33m,\u001b[0m \u001b[0m_\u001b[0m\u001b[1;33m)\u001b[0m\u001b[1;33m:\u001b[0m\u001b[1;33m\u001b[0m\u001b[1;33m\u001b[0m\u001b[0m\n",
      "\u001b[1;32m~\\anaconda3\\envs\\poly2\\lib\\site-packages\\xgboost\\core.py\u001b[0m in \u001b[0;36m__deepcopy__\u001b[1;34m(self, _)\u001b[0m\n\u001b[0;32m   1521\u001b[0m     \u001b[1;32mdef\u001b[0m \u001b[0m__deepcopy__\u001b[0m\u001b[1;33m(\u001b[0m\u001b[0mself\u001b[0m\u001b[1;33m,\u001b[0m \u001b[0m_\u001b[0m\u001b[1;33m)\u001b[0m\u001b[1;33m:\u001b[0m\u001b[1;33m\u001b[0m\u001b[1;33m\u001b[0m\u001b[0m\n\u001b[0;32m   1522\u001b[0m         \u001b[1;34m'''Return a copy of booster.'''\u001b[0m\u001b[1;33m\u001b[0m\u001b[1;33m\u001b[0m\u001b[0m\n\u001b[1;32m-> 1523\u001b[1;33m         \u001b[1;32mreturn\u001b[0m \u001b[0mBooster\u001b[0m\u001b[1;33m(\u001b[0m\u001b[0mmodel_file\u001b[0m\u001b[1;33m=\u001b[0m\u001b[0mself\u001b[0m\u001b[1;33m)\u001b[0m\u001b[1;33m\u001b[0m\u001b[1;33m\u001b[0m\u001b[0m\n\u001b[0m\u001b[0;32m   1524\u001b[0m \u001b[1;33m\u001b[0m\u001b[0m\n\u001b[0;32m   1525\u001b[0m     \u001b[1;32mdef\u001b[0m \u001b[0mcopy\u001b[0m\u001b[1;33m(\u001b[0m\u001b[0mself\u001b[0m\u001b[1;33m)\u001b[0m\u001b[1;33m:\u001b[0m\u001b[1;33m\u001b[0m\u001b[1;33m\u001b[0m\u001b[0m\n",
      "\u001b[1;32m~\\anaconda3\\envs\\poly2\\lib\\site-packages\\xgboost\\core.py\u001b[0m in \u001b[0;36m__init__\u001b[1;34m(self, params, cache, model_file)\u001b[0m\n\u001b[0;32m   1315\u001b[0m             \u001b[1;31m# We use the pickle interface for getting memory snapshot from\u001b[0m\u001b[1;33m\u001b[0m\u001b[1;33m\u001b[0m\u001b[1;33m\u001b[0m\u001b[0m\n\u001b[0;32m   1316\u001b[0m             \u001b[1;31m# another model, and load the snapshot with this booster.\u001b[0m\u001b[1;33m\u001b[0m\u001b[1;33m\u001b[0m\u001b[1;33m\u001b[0m\u001b[0m\n\u001b[1;32m-> 1317\u001b[1;33m             \u001b[0mstate\u001b[0m \u001b[1;33m=\u001b[0m \u001b[0mmodel_file\u001b[0m\u001b[1;33m.\u001b[0m\u001b[0m__getstate__\u001b[0m\u001b[1;33m(\u001b[0m\u001b[1;33m)\u001b[0m\u001b[1;33m\u001b[0m\u001b[1;33m\u001b[0m\u001b[0m\n\u001b[0m\u001b[0;32m   1318\u001b[0m             \u001b[0mhandle\u001b[0m \u001b[1;33m=\u001b[0m \u001b[0mstate\u001b[0m\u001b[1;33m[\u001b[0m\u001b[1;34m'handle'\u001b[0m\u001b[1;33m]\u001b[0m\u001b[1;33m\u001b[0m\u001b[1;33m\u001b[0m\u001b[0m\n\u001b[0;32m   1319\u001b[0m             \u001b[1;32mdel\u001b[0m \u001b[0mstate\u001b[0m\u001b[1;33m[\u001b[0m\u001b[1;34m'handle'\u001b[0m\u001b[1;33m]\u001b[0m\u001b[1;33m\u001b[0m\u001b[1;33m\u001b[0m\u001b[0m\n",
      "\u001b[1;32m~\\anaconda3\\envs\\poly2\\lib\\site-packages\\xgboost\\core.py\u001b[0m in \u001b[0;36m__getstate__\u001b[1;34m(self)\u001b[0m\n\u001b[0;32m   1431\u001b[0m             \u001b[0mlength\u001b[0m \u001b[1;33m=\u001b[0m \u001b[0mc_bst_ulong\u001b[0m\u001b[1;33m(\u001b[0m\u001b[1;33m)\u001b[0m\u001b[1;33m\u001b[0m\u001b[1;33m\u001b[0m\u001b[0m\n\u001b[0;32m   1432\u001b[0m             \u001b[0mcptr\u001b[0m \u001b[1;33m=\u001b[0m \u001b[0mctypes\u001b[0m\u001b[1;33m.\u001b[0m\u001b[0mPOINTER\u001b[0m\u001b[1;33m(\u001b[0m\u001b[0mctypes\u001b[0m\u001b[1;33m.\u001b[0m\u001b[0mc_char\u001b[0m\u001b[1;33m)\u001b[0m\u001b[1;33m(\u001b[0m\u001b[1;33m)\u001b[0m\u001b[1;33m\u001b[0m\u001b[1;33m\u001b[0m\u001b[0m\n\u001b[1;32m-> 1433\u001b[1;33m             _check_call(_LIB.XGBoosterSerializeToBuffer(self.handle,\n\u001b[0m\u001b[0;32m   1434\u001b[0m                                                         \u001b[0mctypes\u001b[0m\u001b[1;33m.\u001b[0m\u001b[0mbyref\u001b[0m\u001b[1;33m(\u001b[0m\u001b[0mlength\u001b[0m\u001b[1;33m)\u001b[0m\u001b[1;33m,\u001b[0m\u001b[1;33m\u001b[0m\u001b[1;33m\u001b[0m\u001b[0m\n\u001b[0;32m   1435\u001b[0m                                                         ctypes.byref(cptr)))\n",
      "\u001b[1;31mKeyboardInterrupt\u001b[0m: "
     ]
    }
   ],
   "source": [
    "# run_optuna(X_cv, y_cv, 'all')\n",
    "main('all')"
   ]
  },
  {
   "cell_type": "markdown",
   "id": "9f9bd056-e338-4b4c-a470-5ebe851c2226",
   "metadata": {},
   "source": [
    "# old"
   ]
  },
  {
   "cell_type": "code",
   "execution_count": 3,
   "id": "7945930e-6360-4107-bb2b-25dff39146d3",
   "metadata": {},
   "outputs": [
    {
     "data": {
      "text/html": [
       "<div>\n",
       "<style scoped>\n",
       "    .dataframe tbody tr th:only-of-type {\n",
       "        vertical-align: middle;\n",
       "    }\n",
       "\n",
       "    .dataframe tbody tr th {\n",
       "        vertical-align: top;\n",
       "    }\n",
       "\n",
       "    .dataframe thead th {\n",
       "        text-align: right;\n",
       "    }\n",
       "</style>\n",
       "<table border=\"1\" class=\"dataframe\">\n",
       "  <thead>\n",
       "    <tr style=\"text-align: right;\">\n",
       "      <th></th>\n",
       "      <th>run</th>\n",
       "      <th>year</th>\n",
       "      <th>best_dose</th>\n",
       "      <th>n_pos_diff</th>\n",
       "      <th>in_0p0_0p1</th>\n",
       "      <th>in_0p1_0p2</th>\n",
       "      <th>in_0p2_0p3</th>\n",
       "      <th>in_0p3_0p4</th>\n",
       "      <th>in_0p4_0p5</th>\n",
       "      <th>in_0p5_0p6</th>\n",
       "      <th>...</th>\n",
       "      <th>in_0p8_0p9</th>\n",
       "      <th>in_0p9_1p0</th>\n",
       "      <th>mu</th>\n",
       "      <th>b</th>\n",
       "      <th>asymptote</th>\n",
       "      <th>dec_rate_multiplier</th>\n",
       "      <th>m_prop_multiplier</th>\n",
       "      <th>m_scale_multiplier</th>\n",
       "      <th>ME_var</th>\n",
       "      <th>ME_mean</th>\n",
       "    </tr>\n",
       "  </thead>\n",
       "  <tbody>\n",
       "    <tr>\n",
       "      <th>0</th>\n",
       "      <td>0</td>\n",
       "      <td>1</td>\n",
       "      <td>1.0</td>\n",
       "      <td>9</td>\n",
       "      <td>1.0</td>\n",
       "      <td>5.054079e-27</td>\n",
       "      <td>7.584700e-34</td>\n",
       "      <td>1.472094e-39</td>\n",
       "      <td>4.846678e-45</td>\n",
       "      <td>9.976588e-51</td>\n",
       "      <td>...</td>\n",
       "      <td>2.492945e-74</td>\n",
       "      <td>3.501367e-90</td>\n",
       "      <td>17.879734</td>\n",
       "      <td>2.744068</td>\n",
       "      <td>0.602763</td>\n",
       "      <td>1.786355</td>\n",
       "      <td>0.703574</td>\n",
       "      <td>1.95789</td>\n",
       "      <td>5.044122e-17</td>\n",
       "      <td>0.398241</td>\n",
       "    </tr>\n",
       "    <tr>\n",
       "      <th>1</th>\n",
       "      <td>0</td>\n",
       "      <td>2</td>\n",
       "      <td>1.0</td>\n",
       "      <td>9</td>\n",
       "      <td>1.0</td>\n",
       "      <td>5.054079e-27</td>\n",
       "      <td>7.584700e-34</td>\n",
       "      <td>1.472094e-39</td>\n",
       "      <td>4.846678e-45</td>\n",
       "      <td>9.976588e-51</td>\n",
       "      <td>...</td>\n",
       "      <td>2.492945e-74</td>\n",
       "      <td>3.501367e-90</td>\n",
       "      <td>17.879734</td>\n",
       "      <td>2.744068</td>\n",
       "      <td>0.602763</td>\n",
       "      <td>1.786355</td>\n",
       "      <td>0.703574</td>\n",
       "      <td>1.95789</td>\n",
       "      <td>5.044122e-17</td>\n",
       "      <td>0.398241</td>\n",
       "    </tr>\n",
       "    <tr>\n",
       "      <th>2</th>\n",
       "      <td>0</td>\n",
       "      <td>3</td>\n",
       "      <td>1.0</td>\n",
       "      <td>9</td>\n",
       "      <td>1.0</td>\n",
       "      <td>5.054079e-27</td>\n",
       "      <td>7.584700e-34</td>\n",
       "      <td>1.472094e-39</td>\n",
       "      <td>4.846678e-45</td>\n",
       "      <td>9.976588e-51</td>\n",
       "      <td>...</td>\n",
       "      <td>2.492945e-74</td>\n",
       "      <td>3.501367e-90</td>\n",
       "      <td>17.879734</td>\n",
       "      <td>2.744068</td>\n",
       "      <td>0.602763</td>\n",
       "      <td>1.786355</td>\n",
       "      <td>0.703574</td>\n",
       "      <td>1.95789</td>\n",
       "      <td>5.044122e-17</td>\n",
       "      <td>0.398241</td>\n",
       "    </tr>\n",
       "    <tr>\n",
       "      <th>3</th>\n",
       "      <td>0</td>\n",
       "      <td>4</td>\n",
       "      <td>1.0</td>\n",
       "      <td>9</td>\n",
       "      <td>1.0</td>\n",
       "      <td>5.054079e-27</td>\n",
       "      <td>7.584700e-34</td>\n",
       "      <td>1.472094e-39</td>\n",
       "      <td>4.846678e-45</td>\n",
       "      <td>9.976588e-51</td>\n",
       "      <td>...</td>\n",
       "      <td>2.492945e-74</td>\n",
       "      <td>3.501367e-90</td>\n",
       "      <td>17.879734</td>\n",
       "      <td>2.744068</td>\n",
       "      <td>0.602763</td>\n",
       "      <td>1.786355</td>\n",
       "      <td>0.703574</td>\n",
       "      <td>1.95789</td>\n",
       "      <td>5.044122e-17</td>\n",
       "      <td>0.398241</td>\n",
       "    </tr>\n",
       "    <tr>\n",
       "      <th>4</th>\n",
       "      <td>0</td>\n",
       "      <td>5</td>\n",
       "      <td>1.0</td>\n",
       "      <td>9</td>\n",
       "      <td>1.0</td>\n",
       "      <td>5.054079e-27</td>\n",
       "      <td>7.584700e-34</td>\n",
       "      <td>1.472094e-39</td>\n",
       "      <td>4.846678e-45</td>\n",
       "      <td>9.976588e-51</td>\n",
       "      <td>...</td>\n",
       "      <td>2.492945e-74</td>\n",
       "      <td>3.501367e-90</td>\n",
       "      <td>17.879734</td>\n",
       "      <td>2.744068</td>\n",
       "      <td>0.602763</td>\n",
       "      <td>1.786355</td>\n",
       "      <td>0.703574</td>\n",
       "      <td>1.95789</td>\n",
       "      <td>5.044122e-17</td>\n",
       "      <td>0.398241</td>\n",
       "    </tr>\n",
       "  </tbody>\n",
       "</table>\n",
       "<p>5 rows × 22 columns</p>\n",
       "</div>"
      ],
      "text/plain": [
       "   run  year  best_dose  n_pos_diff  in_0p0_0p1    in_0p1_0p2    in_0p2_0p3  \\\n",
       "0    0     1        1.0           9         1.0  5.054079e-27  7.584700e-34   \n",
       "1    0     2        1.0           9         1.0  5.054079e-27  7.584700e-34   \n",
       "2    0     3        1.0           9         1.0  5.054079e-27  7.584700e-34   \n",
       "3    0     4        1.0           9         1.0  5.054079e-27  7.584700e-34   \n",
       "4    0     5        1.0           9         1.0  5.054079e-27  7.584700e-34   \n",
       "\n",
       "     in_0p3_0p4    in_0p4_0p5    in_0p5_0p6  ...    in_0p8_0p9    in_0p9_1p0  \\\n",
       "0  1.472094e-39  4.846678e-45  9.976588e-51  ...  2.492945e-74  3.501367e-90   \n",
       "1  1.472094e-39  4.846678e-45  9.976588e-51  ...  2.492945e-74  3.501367e-90   \n",
       "2  1.472094e-39  4.846678e-45  9.976588e-51  ...  2.492945e-74  3.501367e-90   \n",
       "3  1.472094e-39  4.846678e-45  9.976588e-51  ...  2.492945e-74  3.501367e-90   \n",
       "4  1.472094e-39  4.846678e-45  9.976588e-51  ...  2.492945e-74  3.501367e-90   \n",
       "\n",
       "          mu         b  asymptote  dec_rate_multiplier  m_prop_multiplier  \\\n",
       "0  17.879734  2.744068   0.602763             1.786355           0.703574   \n",
       "1  17.879734  2.744068   0.602763             1.786355           0.703574   \n",
       "2  17.879734  2.744068   0.602763             1.786355           0.703574   \n",
       "3  17.879734  2.744068   0.602763             1.786355           0.703574   \n",
       "4  17.879734  2.744068   0.602763             1.786355           0.703574   \n",
       "\n",
       "   m_scale_multiplier        ME_var   ME_mean  \n",
       "0             1.95789  5.044122e-17  0.398241  \n",
       "1             1.95789  5.044122e-17  0.398241  \n",
       "2             1.95789  5.044122e-17  0.398241  \n",
       "3             1.95789  5.044122e-17  0.398241  \n",
       "4             1.95789  5.044122e-17  0.398241  \n",
       "\n",
       "[5 rows x 22 columns]"
      ]
     },
     "execution_count": 3,
     "metadata": {},
     "output_type": "execute_result"
    }
   ],
   "source": [
    "df = pd.read_csv('../outputs/combined/scan_all.csv')\n",
    "\n",
    "df.head()"
   ]
  },
  {
   "cell_type": "code",
   "execution_count": 14,
   "id": "9c316947-f565-4d6a-afb6-e2bf53e36a07",
   "metadata": {},
   "outputs": [
    {
     "data": {
      "text/html": [
       "<div>\n",
       "<style scoped>\n",
       "    .dataframe tbody tr th:only-of-type {\n",
       "        vertical-align: middle;\n",
       "    }\n",
       "\n",
       "    .dataframe tbody tr th {\n",
       "        vertical-align: top;\n",
       "    }\n",
       "\n",
       "    .dataframe thead th {\n",
       "        text-align: right;\n",
       "    }\n",
       "</style>\n",
       "<table border=\"1\" class=\"dataframe\">\n",
       "  <thead>\n",
       "    <tr style=\"text-align: right;\">\n",
       "      <th></th>\n",
       "      <th>run</th>\n",
       "      <th>year</th>\n",
       "      <th>mu</th>\n",
       "      <th>b</th>\n",
       "      <th>asymp</th>\n",
       "      <th>dec_rate</th>\n",
       "      <th>m_prop</th>\n",
       "      <th>m_scale</th>\n",
       "      <th>ME_mean</th>\n",
       "    </tr>\n",
       "  </thead>\n",
       "  <tbody>\n",
       "    <tr>\n",
       "      <th>0</th>\n",
       "      <td>0</td>\n",
       "      <td>1</td>\n",
       "      <td>17.879734</td>\n",
       "      <td>2.744068</td>\n",
       "      <td>0.602763</td>\n",
       "      <td>1.786355</td>\n",
       "      <td>0.703574</td>\n",
       "      <td>1.95789</td>\n",
       "      <td>0.398241</td>\n",
       "    </tr>\n",
       "    <tr>\n",
       "      <th>1</th>\n",
       "      <td>0</td>\n",
       "      <td>2</td>\n",
       "      <td>17.879734</td>\n",
       "      <td>2.744068</td>\n",
       "      <td>0.602763</td>\n",
       "      <td>1.786355</td>\n",
       "      <td>0.703574</td>\n",
       "      <td>1.95789</td>\n",
       "      <td>0.398241</td>\n",
       "    </tr>\n",
       "    <tr>\n",
       "      <th>2</th>\n",
       "      <td>0</td>\n",
       "      <td>3</td>\n",
       "      <td>17.879734</td>\n",
       "      <td>2.744068</td>\n",
       "      <td>0.602763</td>\n",
       "      <td>1.786355</td>\n",
       "      <td>0.703574</td>\n",
       "      <td>1.95789</td>\n",
       "      <td>0.398241</td>\n",
       "    </tr>\n",
       "    <tr>\n",
       "      <th>3</th>\n",
       "      <td>0</td>\n",
       "      <td>4</td>\n",
       "      <td>17.879734</td>\n",
       "      <td>2.744068</td>\n",
       "      <td>0.602763</td>\n",
       "      <td>1.786355</td>\n",
       "      <td>0.703574</td>\n",
       "      <td>1.95789</td>\n",
       "      <td>0.398241</td>\n",
       "    </tr>\n",
       "    <tr>\n",
       "      <th>4</th>\n",
       "      <td>0</td>\n",
       "      <td>5</td>\n",
       "      <td>17.879734</td>\n",
       "      <td>2.744068</td>\n",
       "      <td>0.602763</td>\n",
       "      <td>1.786355</td>\n",
       "      <td>0.703574</td>\n",
       "      <td>1.95789</td>\n",
       "      <td>0.398241</td>\n",
       "    </tr>\n",
       "  </tbody>\n",
       "</table>\n",
       "</div>"
      ],
      "text/plain": [
       "   run  year         mu         b     asymp  dec_rate    m_prop  m_scale  \\\n",
       "0    0     1  17.879734  2.744068  0.602763  1.786355  0.703574  1.95789   \n",
       "1    0     2  17.879734  2.744068  0.602763  1.786355  0.703574  1.95789   \n",
       "2    0     3  17.879734  2.744068  0.602763  1.786355  0.703574  1.95789   \n",
       "3    0     4  17.879734  2.744068  0.602763  1.786355  0.703574  1.95789   \n",
       "4    0     5  17.879734  2.744068  0.602763  1.786355  0.703574  1.95789   \n",
       "\n",
       "    ME_mean  \n",
       "0  0.398241  \n",
       "1  0.398241  \n",
       "2  0.398241  \n",
       "3  0.398241  \n",
       "4  0.398241  "
      ]
     },
     "execution_count": 14,
     "metadata": {},
     "output_type": "execute_result"
    }
   ],
   "source": [
    "X = (\n",
    "    # df_filt\n",
    "    df\n",
    "    .drop([\n",
    "        'best_dose',\n",
    "        'n_pos_diff',\n",
    "        'ME_var',\n",
    "        # 'ME_mean',\n",
    "        # 'yld',\n",
    "        # 'cum_yld',\n",
    "    ], axis=1)\n",
    "    .filter(regex='^((?!in_0).)*$')\n",
    "    .rename(columns = {\n",
    "        'dec_rate_multiplier': 'dec_rate',\n",
    "        'm_prop_multiplier': 'm_prop',\n",
    "        'm_scale_multiplier': 'm_scale',\n",
    "        'asymptote': 'asymp',\n",
    "    })\n",
    "    \n",
    "#     .drop('ME_mean', axis=1)\n",
    "#     .assign(a = lambda x: x.b*x.mu)\n",
    "#     .assign(nu = lambda x: (x.b)**(x.a) / (1 + x.b)**(x.a))\n",
    "#     .assign(ME_mean = lambda x: 1 - x.asymp + x.asymp * x.nu)\n",
    "    \n",
    "#     .drop(['a', 'nu'], axis=1)\n",
    ")\n",
    "\n",
    "# y = df_filt.loc[:, ['run', 'best_dose']]\n",
    "y = df.loc[:, ['run', 'best_dose']]\n",
    "\n",
    "X.head()"
   ]
  },
  {
   "cell_type": "code",
   "execution_count": 15,
   "id": "04c93ffd-805e-45fa-88de-7a736a58094d",
   "metadata": {},
   "outputs": [],
   "source": [
    "# reset index? Might help with Int64Index XGB warning\n",
    "X_cv = X.loc[lambda x: (x.run<8000)].drop('run', axis=1)\n",
    "y_cv = y.loc[lambda x: (x.run<8000)].drop('run', axis=1)\n",
    "\n",
    "X_test = X.loc[lambda x: (x.run>=8000)].drop('run', axis=1)\n",
    "y_test = np.array(y.loc[lambda x: (x.run>=8000)].drop('run', axis=1))"
   ]
  },
  {
   "cell_type": "code",
   "execution_count": 16,
   "id": "8a0f3c07-724c-4dd7-8e0d-bf2628f1dff0",
   "metadata": {},
   "outputs": [
    {
     "data": {
      "text/plain": [
       "{'max_depth': 10,\n",
       " 'n_estimators': 853,\n",
       " 'learning_rate': 0.0182387397607204,\n",
       " 'subsample': 0.721624617726085,\n",
       " 'colsample_bytree': 0.943486029986996,\n",
       " 'objective': 'reg:pseudohubererror'}"
      ]
     },
     "execution_count": 16,
     "metadata": {},
     "output_type": "execute_result"
    }
   ],
   "source": [
    "hyperparams = (\n",
    "    pd.read_csv('../outputs/best_XGB_hyperparams.csv')\n",
    "    .iloc[0]\n",
    "    .to_dict()\n",
    ")\n",
    "\n",
    "hyperparams['max_depth'] = int(hyperparams['max_depth'])\n",
    "hyperparams['n_estimators'] = int(hyperparams['n_estimators'])\n",
    "\n",
    "hyperparams['objective'] = 'reg:pseudohubererror'\n",
    "\n",
    "hyperparams"
   ]
  },
  {
   "cell_type": "code",
   "execution_count": 17,
   "id": "09377c94-2416-4bb4-a1a8-f3a62dd4a93c",
   "metadata": {},
   "outputs": [
    {
     "name": "stdout",
     "output_type": "stream",
     "text": [
      "ok? True\n"
     ]
    },
    {
     "name": "stderr",
     "output_type": "stream",
     "text": [
      "pandas.Int64Index is deprecated and will be removed from pandas in a future version. Use pandas.Index with the appropriate dtype instead.\n"
     ]
    },
    {
     "name": "stdout",
     "output_type": "stream",
     "text": [
      "ok? True\n"
     ]
    },
    {
     "name": "stderr",
     "output_type": "stream",
     "text": [
      "pandas.Int64Index is deprecated and will be removed from pandas in a future version. Use pandas.Index with the appropriate dtype instead.\n"
     ]
    },
    {
     "name": "stdout",
     "output_type": "stream",
     "text": [
      "ok? True\n"
     ]
    },
    {
     "name": "stderr",
     "output_type": "stream",
     "text": [
      "pandas.Int64Index is deprecated and will be removed from pandas in a future version. Use pandas.Index with the appropriate dtype instead.\n"
     ]
    },
    {
     "name": "stdout",
     "output_type": "stream",
     "text": [
      "ok? True\n"
     ]
    },
    {
     "name": "stderr",
     "output_type": "stream",
     "text": [
      "pandas.Int64Index is deprecated and will be removed from pandas in a future version. Use pandas.Index with the appropriate dtype instead.\n"
     ]
    },
    {
     "name": "stdout",
     "output_type": "stream",
     "text": [
      "ok? True\n"
     ]
    },
    {
     "name": "stderr",
     "output_type": "stream",
     "text": [
      "pandas.Int64Index is deprecated and will be removed from pandas in a future version. Use pandas.Index with the appropriate dtype instead.\n"
     ]
    },
    {
     "name": "stdout",
     "output_type": "stream",
     "text": [
      "ok? True\n"
     ]
    },
    {
     "name": "stderr",
     "output_type": "stream",
     "text": [
      "pandas.Int64Index is deprecated and will be removed from pandas in a future version. Use pandas.Index with the appropriate dtype instead.\n"
     ]
    },
    {
     "name": "stdout",
     "output_type": "stream",
     "text": [
      "ok? True\n"
     ]
    },
    {
     "name": "stderr",
     "output_type": "stream",
     "text": [
      "pandas.Int64Index is deprecated and will be removed from pandas in a future version. Use pandas.Index with the appropriate dtype instead.\n"
     ]
    },
    {
     "name": "stdout",
     "output_type": "stream",
     "text": [
      "ok? True\n"
     ]
    },
    {
     "name": "stderr",
     "output_type": "stream",
     "text": [
      "pandas.Int64Index is deprecated and will be removed from pandas in a future version. Use pandas.Index with the appropriate dtype instead.\n"
     ]
    },
    {
     "name": "stdout",
     "output_type": "stream",
     "text": [
      "ok? True\n"
     ]
    },
    {
     "name": "stderr",
     "output_type": "stream",
     "text": [
      "pandas.Int64Index is deprecated and will be removed from pandas in a future version. Use pandas.Index with the appropriate dtype instead.\n"
     ]
    },
    {
     "name": "stdout",
     "output_type": "stream",
     "text": [
      "ok? True\n"
     ]
    },
    {
     "name": "stderr",
     "output_type": "stream",
     "text": [
      "pandas.Int64Index is deprecated and will be removed from pandas in a future version. Use pandas.Index with the appropriate dtype instead.\n"
     ]
    },
    {
     "name": "stdout",
     "output_type": "stream",
     "text": [
      "Wall time: 16min 6s\n"
     ]
    },
    {
     "data": {
      "text/plain": [
       "0.10888194232377864"
      ]
     },
     "execution_count": 17,
     "metadata": {},
     "output_type": "execute_result"
    }
   ],
   "source": [
    "%%time\n",
    "\n",
    "rmse_list = []\n",
    "        \n",
    "kf = KFold(n_splits=10)\n",
    "\n",
    "for train_ind, val_ind in tqdm(kf.split(X_cv)):\n",
    "\n",
    "    X_tr = X_cv.iloc[train_ind]\n",
    "    y_tr = y_cv.iloc[train_ind]\n",
    "\n",
    "    X_v = X_cv.iloc[val_ind]\n",
    "    y_v = y_cv.iloc[val_ind]\n",
    "    \n",
    "    train_runs = X.iloc[train_ind].run\n",
    "    val_runs = X.iloc[val_ind].run\n",
    "\n",
    "    print(f'ok? {sum(train_runs.isin(val_runs))==0}')\n",
    "\n",
    "    y_tr = np.array(y_tr)\n",
    "    y_v = np.array(y_v)\n",
    "\n",
    "    model = XGBRegressor(\n",
    "        **hyperparams,\n",
    "    ).fit(X_tr, y_tr)\n",
    "\n",
    "    y_p = model.predict(X_v)\n",
    "\n",
    "    rmse = mean_squared_error(y_p, y_v, squared=False)\n",
    "\n",
    "    rmse_list.append(rmse)\n",
    "\n",
    "score = sum(rmse_list)/len(rmse_list)\n",
    "\n",
    "score"
   ]
  },
  {
   "cell_type": "markdown",
   "id": "47d8d7df-a6ff-4465-ba0e-3a7475820422",
   "metadata": {},
   "source": [
    "Aiming to beat `0.110` (squared error, keep non-exact `ME_mean`)\n",
    "\n",
    "- `0.1138`: using `reg:pseudohubererror` and dropping `ME_mean`.\n",
    "- `0.1089`: using `reg:pseudohubererror` and keeping `ME_mean`.\n",
    "- `XX`: using `reg:squarederror` and dropping `ME_mean`.\n",
    "- `XX`: using `reg:squarederror` and using exact `ME_mean`."
   ]
  },
  {
   "cell_type": "code",
   "execution_count": 30,
   "id": "5a449157-a485-4096-ad7a-06a10fd4e3d6",
   "metadata": {},
   "outputs": [
    {
     "data": {
      "text/plain": [
       "<AxesSubplot:>"
      ]
     },
     "execution_count": 30,
     "metadata": {},
     "output_type": "execute_result"
    },
    {
     "data": {
      "image/png": "[encoded data removed]",
      "text/plain": [
       "<Figure size 432x288 with 1 Axes>"
      ]
     },
     "metadata": {
      "needs_background": "light"
     },
     "output_type": "display_data"
    }
   ],
   "source": [
    "start = 2000\n",
    "show = 350\n",
    "\n",
    "(\n",
    "    pd.DataFrame(dict(model=y_p, data=y_v[:, 0]))\n",
    "    # .head(1000)\n",
    "    .iloc[start:start+show]\n",
    "    .plot()\n",
    ")"
   ]
  },
  {
   "cell_type": "code",
   "execution_count": 157,
   "id": "c2f7d072-fa7d-43b2-87e3-afb66c946473",
   "metadata": {},
   "outputs": [
    {
     "name": "stderr",
     "output_type": "stream",
     "text": [
      "pandas.Int64Index is deprecated and will be removed from pandas in a future version. Use pandas.Index with the appropriate dtype instead.\n"
     ]
    },
    {
     "name": "stdout",
     "output_type": "stream",
     "text": [
      "Wall time: 1min 30s\n"
     ]
    },
    {
     "data": {
      "text/plain": [
       "0.050031964040011964"
      ]
     },
     "execution_count": 157,
     "metadata": {},
     "output_type": "execute_result"
    }
   ],
   "source": [
    "%%time\n",
    "\n",
    "best_model = XGBRegressor(**hyperparams).fit(X_cv, y_cv)\n",
    "\n",
    "y_p = best_model.predict(X_test)\n",
    "\n",
    "rmse = mean_squared_error(y_p, y_test, squared=False)\n",
    "\n",
    "rmse"
   ]
  },
  {
   "cell_type": "code",
   "execution_count": 144,
   "id": "c65e9f11-a52e-479f-a430-b9b3119d4656",
   "metadata": {},
   "outputs": [],
   "source": [
    "best_model.save_model('xgb_scan_all_no_ME_mean.json')"
   ]
  },
  {
   "cell_type": "markdown",
   "id": "d810f56c-0fbf-43d5-b2c3-aa425c7d94d8",
   "metadata": {},
   "source": [
    "Shap vals took around `43.2s`"
   ]
  },
  {
   "cell_type": "code",
   "execution_count": 145,
   "id": "1ae0bdaf-1893-43d4-9c7c-7b7e632fe869",
   "metadata": {},
   "outputs": [
    {
     "name": "stdout",
     "output_type": "stream",
     "text": [
      "________________________________________________________________________________\n",
      "[Memory] Calling poly2.shap.get_shap_values_cumulative...\n",
      "get_shap_values_cumulative(      year         mu         b     asymp  dec_rate    m_prop   m_scale  \\\n",
      "0      1.0  17.879734  2.744068  0.602763  1.786355  0.703574  1.957890   \n",
      "1      2.0  17.879734  2.744068  0.602763  1.786355  0.703574  1.957890   \n",
      "2      3.0  17.879734  2.744068  0.602763  1.786355  0.703574  1.957890   \n",
      "3      4.0  17.879734  2.744068  0.602763  1.786355  0.703574  1.957890   \n",
      "4      5.0  17.879734  2.744068  0.602763  1.786355  0.703574  1.957890   \n",
      "...    ...        ...       ...       ...       ...       ...       ...   \n",
      "997   18.0   4.290742  3.649953  0.521037  0.478235  0.251185  0.108904   \n",
      "998   19.0   4.290742  3.649953  0.521037  0.478235  0.251185  0.108904   \n",
      "999   20.0   4.290742  3.649953  0.521037  0.478235  0.251185  0.108904   \n",
      "1000  21.0   4.290742  3.649953  0.521037  0.478235  0.251185  0.108904   \n",
      "1001  22.0   4.290742  3.649953  0.521037  0.478235  0.251185  0.108904   \n",
      "\n",
      "       ME_mean  \n",
      "0     0.397237  \n",
      "1     0.397237  \n",
      "2     0.397237  \n",
      "3     0.397237  \n",
      "4     0.397237  \n",
      "...        ...  \n",
      "997   0.490711  \n",
      "998   0.490711  \n",
      "999   0.490711  \n",
      "1000  0.490711  \n",
      "1001  0.490711  \n",
      "\n",
      "[1002 rows x 8 columns])\n",
      "start\n"
     ]
    },
    {
     "name": "stderr",
     "output_type": "stream",
     "text": [
      "ntree_limit is deprecated, use `iteration_range` or model slicing instead.\n"
     ]
    },
    {
     "name": "stdout",
     "output_type": "stream",
     "text": [
      "done\n",
      "______________________________________get_shap_values_cumulative - 42.8s, 0.7min\n",
      "Wall time: 42.9 s\n"
     ]
    }
   ],
   "source": [
    "# %%time\n",
    "\n",
    "# X_use = X_cv.head(1002)\n",
    "\n",
    "# shap_values = get_shap_values_cumulative(X_use)"
   ]
  },
  {
   "cell_type": "code",
   "execution_count": 146,
   "id": "067e179b-71be-43e8-8d07-1c56f07ed7fa",
   "metadata": {},
   "outputs": [],
   "source": [
    "fn = './shap_values_cumulative.pickle'\n",
    "\n",
    "if True:\n",
    "    object_dump(shap_values, fn)\n",
    "else:\n",
    "    shap_values = object_load(fn)"
   ]
  },
  {
   "cell_type": "markdown",
   "id": "0aa246bf-b629-46a1-a594-a46f3ac36850",
   "metadata": {},
   "source": [
    "# Fig"
   ]
  },
  {
   "cell_type": "code",
   "execution_count": 147,
   "id": "ace8ff64-f0e5-49ab-9c72-fc6b546d649b",
   "metadata": {},
   "outputs": [],
   "source": [
    "WIDTH = 8\n",
    "HEIGHT = 4"
   ]
  },
  {
   "cell_type": "markdown",
   "id": "645ca445-7e0f-4ea3-be85-43cb51943feb",
   "metadata": {},
   "source": [
    "## A"
   ]
  },
  {
   "cell_type": "code",
   "execution_count": 148,
   "id": "cd0e4613-1972-457c-9e40-cffa81aff24c",
   "metadata": {},
   "outputs": [
    {
     "data": {
      "text/plain": [
       "Text(0.05, 0.9, 'A')"
      ]
     },
     "execution_count": 148,
     "metadata": {},
     "output_type": "execute_result"
    },
    {
     "data": {
      "image/png": "[encoded data removed]",
      "text/plain": [
       "<Figure size 576x288 with 1 Axes>"
      ]
     },
     "metadata": {},
     "output_type": "display_data"
    }
   ],
   "source": [
    "plt.close('all')\n",
    "\n",
    "shap.plots.bar(shap_values, show=False)\n",
    "\n",
    "f = plt.gcf()\n",
    "\n",
    "ax = plt.gca()\n",
    "\n",
    "f.set_figwidth(WIDTH)\n",
    "f.set_figheight(HEIGHT)\n",
    "\n",
    "f.patch.set_facecolor('white')\n",
    "\n",
    "\n",
    "labels=[\n",
    "    r'$M_s$',\n",
    "    r'$M_d$',\n",
    "    r'$\\nu$',\n",
    "    r'$Y$',\n",
    "    r'$\\mu$',\n",
    "    r'$b$',\n",
    "    r'$\\omega$',\n",
    "    r'$M_p$',\n",
    "]*2\n",
    "\n",
    "# ax.set_yticklabels(labels)\n",
    "\n",
    "\n",
    "ax.spines['top'].set_visible(True)\n",
    "ax.spines['right'].set_visible(True)\n",
    "\n",
    "# ax.set_xlim([0, 0.15])\n",
    "\n",
    "f.tight_layout(rect=[0.028, 0, 0.9, 0.92])\n",
    "\n",
    "plt.annotate(\n",
    "    'A',\n",
    "    (0.05, 0.9),\n",
    "    xycoords='figure fraction',\n",
    "    color=(0.4, 0.4, 0.4),\n",
    "    size=20,\n",
    ")\n",
    "\n",
    "# f"
   ]
  },
  {
   "cell_type": "code",
   "execution_count": 149,
   "id": "55233a05-1755-4a77-ab34-902a9c070beb",
   "metadata": {},
   "outputs": [],
   "source": [
    "f.savefig('../figures/to_combine/appc_fig5_1.jpg', dpi=300)"
   ]
  },
  {
   "cell_type": "markdown",
   "id": "ea08abdf-bdcb-4e0b-ae68-8f9f33a60802",
   "metadata": {},
   "source": [
    "## B"
   ]
  },
  {
   "cell_type": "code",
   "execution_count": 150,
   "id": "022eb053-3249-4183-8de4-b120dd685224",
   "metadata": {},
   "outputs": [
    {
     "data": {
      "text/plain": [
       "Text(0.05, 0.9, 'B')"
      ]
     },
     "execution_count": 150,
     "metadata": {},
     "output_type": "execute_result"
    },
    {
     "data": {
      "image/png": "[encoded data removed]",
      "text/plain": [
       "<Figure size 576x288 with 2 Axes>"
      ]
     },
     "metadata": {},
     "output_type": "display_data"
    }
   ],
   "source": [
    "plt.close('all')\n",
    "\n",
    "shap.plots.beeswarm(shap_values, plot_size=(WIDTH,HEIGHT), show=False)\n",
    "\n",
    "f = plt.gcf()\n",
    "\n",
    "ax = plt.gca()\n",
    "\n",
    "f.patch.set_facecolor('white')\n",
    "\n",
    "\n",
    "ax.spines['top'].set_visible(True)\n",
    "ax.spines['right'].set_visible(True)\n",
    "ax.spines['bottom'].set_visible(True)\n",
    "ax.spines['left'].set_visible(True)\n",
    "\n",
    "labels=[\n",
    "    r'$M_p$',\n",
    "    r'$\\omega$',\n",
    "    r'$b$',\n",
    "    r'$\\mu$',\n",
    "    r'$Y$',\n",
    "    r'$\\nu$',\n",
    "    r'$M_d$',\n",
    "    r'$M_s$',\n",
    "]\n",
    "\n",
    "# ax.set_yticklabels(labels)\n",
    "\n",
    "f.tight_layout(rect=[0, 0, 1, 0.95])\n",
    "\n",
    "plt.annotate(\n",
    "    'B',\n",
    "    (0.05, 0.9),\n",
    "    xycoords='figure fraction',\n",
    "    color=(0.4, 0.4, 0.4),\n",
    "    size=20,\n",
    ")"
   ]
  },
  {
   "cell_type": "code",
   "execution_count": 151,
   "id": "e78611b8-791d-4bfe-bd63-6364b887d1c9",
   "metadata": {},
   "outputs": [],
   "source": [
    "f.savefig('../figures/to_combine/appc_fig5_2.jpg', dpi=300) # , bbox_inches=\"tight\""
   ]
  },
  {
   "cell_type": "markdown",
   "id": "3b0abb17-0663-4ebc-99ab-469c29cc6307",
   "metadata": {},
   "source": [
    "Run this in `cmd`:\n",
    "```\n",
    "cd Documents\\Python\\PhD\\poly2\\polygenic2\\figures\\to_combine\n",
    "magick montage appc_fig5_[1-2].jpg -tile x2 -geometry 1000x450+2+20 appc_fig3.jpg\n",
    "```"
   ]
  },
  {
   "cell_type": "code",
   "execution_count": null,
   "id": "de4d59c5-b0b7-4338-aa5c-de122c6643e6",
   "metadata": {},
   "outputs": [],
   "source": []
  }
 ],
 "metadata": {
  "kernelspec": {
   "display_name": "poly2_kernel",
   "language": "python",
   "name": "poly2_kernel"
  },
  "language_info": {
   "codemirror_mode": {
    "name": "ipython",
    "version": 3
   },
   "file_extension": ".py",
   "mimetype": "text/x-python",
   "name": "python",
   "nbconvert_exporter": "python",
   "pygments_lexer": "ipython3",
   "version": "3.8.12"
  }
 },
 "nbformat": 4,
 "nbformat_minor": 5
}
