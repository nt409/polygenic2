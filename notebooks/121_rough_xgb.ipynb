{
 "cells": [
  {
   "cell_type": "markdown",
   "id": "59d8512c-fd3a-4ab2-ae04-05bfe55bf48e",
   "metadata": {},
   "source": [
    "# XGB test\n"
   ]
  },
  {
   "cell_type": "code",
   "execution_count": 1,
   "id": "10a4e91c-2ac1-4c97-9800-7dea3cb6c2df",
   "metadata": {},
   "outputs": [],
   "source": [
    "%load_ext autoreload\n",
    "%autoreload 2\n",
    "\n",
    "# %matplotlib widget"
   ]
  },
  {
   "cell_type": "code",
   "execution_count": 18,
   "id": "f598092b-71c1-4fde-bb78-b6551f449484",
   "metadata": {},
   "outputs": [],
   "source": [
    "import pandas as pd\n",
    "\n",
    "import seaborn as sns\n",
    "\n",
    "from math import log\n",
    "\n",
    "import numpy as np\n",
    "import matplotlib.pyplot as plt\n",
    "\n",
    "from tqdm import tqdm\n",
    "\n",
    "from xgboost import XGBRegressor\n",
    "import shap\n",
    "\n",
    "\n",
    "from sklearn.metrics import mean_squared_error\n",
    "from sklearn.model_selection import KFold\n",
    "\n",
    "from plots2.fns import (\n",
    "    # standard_layout,\n",
    "    # corner_annotations_colwise,\n",
    "    # corner_annotations_rowwise,\n",
    "    # get_text_annotation,\n",
    "    get_corner_annotations,\n",
    "    get_corner_annotations_custom_labels,\n",
    "    # get_corner_annotations_explicit\n",
    ")\n",
    "\n",
    "from plots2.consts import (\n",
    "    SMALL_FONT,\n",
    "    MEDIUM_FONT,\n",
    "    BIGGER_FONT,\n",
    "    SHAP_BLUE\n",
    ")\n",
    "\n",
    "from poly2.utils import trait_vec, gamma_dist, object_dump, object_load\n",
    "from poly2.shap import get_shap_values_cumulative\n",
    "# from poly2.run import no_joblib_single_run, no_joblib_multiple_run\n",
    "from poly2.config import Config, ConfigMixture, get_asymptote_config\n",
    "# from poly2.simulator import SimulatorOneTrait, SimulatorAsymptote"
   ]
  },
  {
   "cell_type": "code",
   "execution_count": 3,
   "id": "7945930e-6360-4107-bb2b-25dff39146d3",
   "metadata": {},
   "outputs": [
    {
     "data": {
      "text/html": [
       "<div>\n",
       "<style scoped>\n",
       "    .dataframe tbody tr th:only-of-type {\n",
       "        vertical-align: middle;\n",
       "    }\n",
       "\n",
       "    .dataframe tbody tr th {\n",
       "        vertical-align: top;\n",
       "    }\n",
       "\n",
       "    .dataframe thead th {\n",
       "        text-align: right;\n",
       "    }\n",
       "</style>\n",
       "<table border=\"1\" class=\"dataframe\">\n",
       "  <thead>\n",
       "    <tr style=\"text-align: right;\">\n",
       "      <th></th>\n",
       "      <th>run</th>\n",
       "      <th>year</th>\n",
       "      <th>best_dose</th>\n",
       "      <th>n_pos_diff</th>\n",
       "      <th>in_0p0_0p1</th>\n",
       "      <th>in_0p1_0p2</th>\n",
       "      <th>in_0p2_0p3</th>\n",
       "      <th>in_0p3_0p4</th>\n",
       "      <th>in_0p4_0p5</th>\n",
       "      <th>in_0p5_0p6</th>\n",
       "      <th>...</th>\n",
       "      <th>in_0p8_0p9</th>\n",
       "      <th>in_0p9_1p0</th>\n",
       "      <th>mu</th>\n",
       "      <th>b</th>\n",
       "      <th>asymptote</th>\n",
       "      <th>dec_rate_multiplier</th>\n",
       "      <th>m_prop_multiplier</th>\n",
       "      <th>m_scale_multiplier</th>\n",
       "      <th>ME_var</th>\n",
       "      <th>ME_mean</th>\n",
       "    </tr>\n",
       "  </thead>\n",
       "  <tbody>\n",
       "    <tr>\n",
       "      <th>0</th>\n",
       "      <td>0</td>\n",
       "      <td>1</td>\n",
       "      <td>1.0</td>\n",
       "      <td>9</td>\n",
       "      <td>1.0</td>\n",
       "      <td>5.054079e-27</td>\n",
       "      <td>7.584700e-34</td>\n",
       "      <td>1.472094e-39</td>\n",
       "      <td>4.846678e-45</td>\n",
       "      <td>9.976588e-51</td>\n",
       "      <td>...</td>\n",
       "      <td>2.492945e-74</td>\n",
       "      <td>3.501367e-90</td>\n",
       "      <td>17.879734</td>\n",
       "      <td>2.744068</td>\n",
       "      <td>0.602763</td>\n",
       "      <td>1.786355</td>\n",
       "      <td>0.703574</td>\n",
       "      <td>1.95789</td>\n",
       "      <td>5.044122e-17</td>\n",
       "      <td>0.398241</td>\n",
       "    </tr>\n",
       "    <tr>\n",
       "      <th>1</th>\n",
       "      <td>0</td>\n",
       "      <td>2</td>\n",
       "      <td>1.0</td>\n",
       "      <td>9</td>\n",
       "      <td>1.0</td>\n",
       "      <td>5.054079e-27</td>\n",
       "      <td>7.584700e-34</td>\n",
       "      <td>1.472094e-39</td>\n",
       "      <td>4.846678e-45</td>\n",
       "      <td>9.976588e-51</td>\n",
       "      <td>...</td>\n",
       "      <td>2.492945e-74</td>\n",
       "      <td>3.501367e-90</td>\n",
       "      <td>17.879734</td>\n",
       "      <td>2.744068</td>\n",
       "      <td>0.602763</td>\n",
       "      <td>1.786355</td>\n",
       "      <td>0.703574</td>\n",
       "      <td>1.95789</td>\n",
       "      <td>5.044122e-17</td>\n",
       "      <td>0.398241</td>\n",
       "    </tr>\n",
       "    <tr>\n",
       "      <th>2</th>\n",
       "      <td>0</td>\n",
       "      <td>3</td>\n",
       "      <td>1.0</td>\n",
       "      <td>9</td>\n",
       "      <td>1.0</td>\n",
       "      <td>5.054079e-27</td>\n",
       "      <td>7.584700e-34</td>\n",
       "      <td>1.472094e-39</td>\n",
       "      <td>4.846678e-45</td>\n",
       "      <td>9.976588e-51</td>\n",
       "      <td>...</td>\n",
       "      <td>2.492945e-74</td>\n",
       "      <td>3.501367e-90</td>\n",
       "      <td>17.879734</td>\n",
       "      <td>2.744068</td>\n",
       "      <td>0.602763</td>\n",
       "      <td>1.786355</td>\n",
       "      <td>0.703574</td>\n",
       "      <td>1.95789</td>\n",
       "      <td>5.044122e-17</td>\n",
       "      <td>0.398241</td>\n",
       "    </tr>\n",
       "    <tr>\n",
       "      <th>3</th>\n",
       "      <td>0</td>\n",
       "      <td>4</td>\n",
       "      <td>1.0</td>\n",
       "      <td>9</td>\n",
       "      <td>1.0</td>\n",
       "      <td>5.054079e-27</td>\n",
       "      <td>7.584700e-34</td>\n",
       "      <td>1.472094e-39</td>\n",
       "      <td>4.846678e-45</td>\n",
       "      <td>9.976588e-51</td>\n",
       "      <td>...</td>\n",
       "      <td>2.492945e-74</td>\n",
       "      <td>3.501367e-90</td>\n",
       "      <td>17.879734</td>\n",
       "      <td>2.744068</td>\n",
       "      <td>0.602763</td>\n",
       "      <td>1.786355</td>\n",
       "      <td>0.703574</td>\n",
       "      <td>1.95789</td>\n",
       "      <td>5.044122e-17</td>\n",
       "      <td>0.398241</td>\n",
       "    </tr>\n",
       "    <tr>\n",
       "      <th>4</th>\n",
       "      <td>0</td>\n",
       "      <td>5</td>\n",
       "      <td>1.0</td>\n",
       "      <td>9</td>\n",
       "      <td>1.0</td>\n",
       "      <td>5.054079e-27</td>\n",
       "      <td>7.584700e-34</td>\n",
       "      <td>1.472094e-39</td>\n",
       "      <td>4.846678e-45</td>\n",
       "      <td>9.976588e-51</td>\n",
       "      <td>...</td>\n",
       "      <td>2.492945e-74</td>\n",
       "      <td>3.501367e-90</td>\n",
       "      <td>17.879734</td>\n",
       "      <td>2.744068</td>\n",
       "      <td>0.602763</td>\n",
       "      <td>1.786355</td>\n",
       "      <td>0.703574</td>\n",
       "      <td>1.95789</td>\n",
       "      <td>5.044122e-17</td>\n",
       "      <td>0.398241</td>\n",
       "    </tr>\n",
       "  </tbody>\n",
       "</table>\n",
       "<p>5 rows × 22 columns</p>\n",
       "</div>"
      ],
      "text/plain": [
       "   run  year  best_dose  n_pos_diff  in_0p0_0p1    in_0p1_0p2    in_0p2_0p3  \\\n",
       "0    0     1        1.0           9         1.0  5.054079e-27  7.584700e-34   \n",
       "1    0     2        1.0           9         1.0  5.054079e-27  7.584700e-34   \n",
       "2    0     3        1.0           9         1.0  5.054079e-27  7.584700e-34   \n",
       "3    0     4        1.0           9         1.0  5.054079e-27  7.584700e-34   \n",
       "4    0     5        1.0           9         1.0  5.054079e-27  7.584700e-34   \n",
       "\n",
       "     in_0p3_0p4    in_0p4_0p5    in_0p5_0p6  ...    in_0p8_0p9    in_0p9_1p0  \\\n",
       "0  1.472094e-39  4.846678e-45  9.976588e-51  ...  2.492945e-74  3.501367e-90   \n",
       "1  1.472094e-39  4.846678e-45  9.976588e-51  ...  2.492945e-74  3.501367e-90   \n",
       "2  1.472094e-39  4.846678e-45  9.976588e-51  ...  2.492945e-74  3.501367e-90   \n",
       "3  1.472094e-39  4.846678e-45  9.976588e-51  ...  2.492945e-74  3.501367e-90   \n",
       "4  1.472094e-39  4.846678e-45  9.976588e-51  ...  2.492945e-74  3.501367e-90   \n",
       "\n",
       "          mu         b  asymptote  dec_rate_multiplier  m_prop_multiplier  \\\n",
       "0  17.879734  2.744068   0.602763             1.786355           0.703574   \n",
       "1  17.879734  2.744068   0.602763             1.786355           0.703574   \n",
       "2  17.879734  2.744068   0.602763             1.786355           0.703574   \n",
       "3  17.879734  2.744068   0.602763             1.786355           0.703574   \n",
       "4  17.879734  2.744068   0.602763             1.786355           0.703574   \n",
       "\n",
       "   m_scale_multiplier        ME_var   ME_mean  \n",
       "0             1.95789  5.044122e-17  0.398241  \n",
       "1             1.95789  5.044122e-17  0.398241  \n",
       "2             1.95789  5.044122e-17  0.398241  \n",
       "3             1.95789  5.044122e-17  0.398241  \n",
       "4             1.95789  5.044122e-17  0.398241  \n",
       "\n",
       "[5 rows x 22 columns]"
      ]
     },
     "execution_count": 3,
     "metadata": {},
     "output_type": "execute_result"
    }
   ],
   "source": [
    "df = pd.read_csv('../outputs/combined/scan_all.csv')\n",
    "\n",
    "df.head()"
   ]
  },
  {
   "cell_type": "code",
   "execution_count": 14,
   "id": "9c316947-f565-4d6a-afb6-e2bf53e36a07",
   "metadata": {},
   "outputs": [
    {
     "data": {
      "text/html": [
       "<div>\n",
       "<style scoped>\n",
       "    .dataframe tbody tr th:only-of-type {\n",
       "        vertical-align: middle;\n",
       "    }\n",
       "\n",
       "    .dataframe tbody tr th {\n",
       "        vertical-align: top;\n",
       "    }\n",
       "\n",
       "    .dataframe thead th {\n",
       "        text-align: right;\n",
       "    }\n",
       "</style>\n",
       "<table border=\"1\" class=\"dataframe\">\n",
       "  <thead>\n",
       "    <tr style=\"text-align: right;\">\n",
       "      <th></th>\n",
       "      <th>run</th>\n",
       "      <th>year</th>\n",
       "      <th>mu</th>\n",
       "      <th>b</th>\n",
       "      <th>asymp</th>\n",
       "      <th>dec_rate</th>\n",
       "      <th>m_prop</th>\n",
       "      <th>m_scale</th>\n",
       "      <th>ME_mean</th>\n",
       "    </tr>\n",
       "  </thead>\n",
       "  <tbody>\n",
       "    <tr>\n",
       "      <th>0</th>\n",
       "      <td>0</td>\n",
       "      <td>1</td>\n",
       "      <td>17.879734</td>\n",
       "      <td>2.744068</td>\n",
       "      <td>0.602763</td>\n",
       "      <td>1.786355</td>\n",
       "      <td>0.703574</td>\n",
       "      <td>1.95789</td>\n",
       "      <td>0.398241</td>\n",
       "    </tr>\n",
       "    <tr>\n",
       "      <th>1</th>\n",
       "      <td>0</td>\n",
       "      <td>2</td>\n",
       "      <td>17.879734</td>\n",
       "      <td>2.744068</td>\n",
       "      <td>0.602763</td>\n",
       "      <td>1.786355</td>\n",
       "      <td>0.703574</td>\n",
       "      <td>1.95789</td>\n",
       "      <td>0.398241</td>\n",
       "    </tr>\n",
       "    <tr>\n",
       "      <th>2</th>\n",
       "      <td>0</td>\n",
       "      <td>3</td>\n",
       "      <td>17.879734</td>\n",
       "      <td>2.744068</td>\n",
       "      <td>0.602763</td>\n",
       "      <td>1.786355</td>\n",
       "      <td>0.703574</td>\n",
       "      <td>1.95789</td>\n",
       "      <td>0.398241</td>\n",
       "    </tr>\n",
       "    <tr>\n",
       "      <th>3</th>\n",
       "      <td>0</td>\n",
       "      <td>4</td>\n",
       "      <td>17.879734</td>\n",
       "      <td>2.744068</td>\n",
       "      <td>0.602763</td>\n",
       "      <td>1.786355</td>\n",
       "      <td>0.703574</td>\n",
       "      <td>1.95789</td>\n",
       "      <td>0.398241</td>\n",
       "    </tr>\n",
       "    <tr>\n",
       "      <th>4</th>\n",
       "      <td>0</td>\n",
       "      <td>5</td>\n",
       "      <td>17.879734</td>\n",
       "      <td>2.744068</td>\n",
       "      <td>0.602763</td>\n",
       "      <td>1.786355</td>\n",
       "      <td>0.703574</td>\n",
       "      <td>1.95789</td>\n",
       "      <td>0.398241</td>\n",
       "    </tr>\n",
       "  </tbody>\n",
       "</table>\n",
       "</div>"
      ],
      "text/plain": [
       "   run  year         mu         b     asymp  dec_rate    m_prop  m_scale  \\\n",
       "0    0     1  17.879734  2.744068  0.602763  1.786355  0.703574  1.95789   \n",
       "1    0     2  17.879734  2.744068  0.602763  1.786355  0.703574  1.95789   \n",
       "2    0     3  17.879734  2.744068  0.602763  1.786355  0.703574  1.95789   \n",
       "3    0     4  17.879734  2.744068  0.602763  1.786355  0.703574  1.95789   \n",
       "4    0     5  17.879734  2.744068  0.602763  1.786355  0.703574  1.95789   \n",
       "\n",
       "    ME_mean  \n",
       "0  0.398241  \n",
       "1  0.398241  \n",
       "2  0.398241  \n",
       "3  0.398241  \n",
       "4  0.398241  "
      ]
     },
     "execution_count": 14,
     "metadata": {},
     "output_type": "execute_result"
    }
   ],
   "source": [
    "X = (\n",
    "    # df_filt\n",
    "    df\n",
    "    .drop([\n",
    "        'best_dose',\n",
    "        'n_pos_diff',\n",
    "        'ME_var',\n",
    "        # 'ME_mean',\n",
    "        # 'yld',\n",
    "        # 'cum_yld',\n",
    "    ], axis=1)\n",
    "    .filter(regex='^((?!in_0).)*$')\n",
    "    .rename(columns = {\n",
    "        'dec_rate_multiplier': 'dec_rate',\n",
    "        'm_prop_multiplier': 'm_prop',\n",
    "        'm_scale_multiplier': 'm_scale',\n",
    "        'asymptote': 'asymp',\n",
    "    })\n",
    "    \n",
    "#     .drop('ME_mean', axis=1)\n",
    "#     .assign(a = lambda x: x.b*x.mu)\n",
    "#     .assign(nu = lambda x: (x.b)**(x.a) / (1 + x.b)**(x.a))\n",
    "#     .assign(ME_mean = lambda x: 1 - x.asymp + x.asymp * x.nu)\n",
    "    \n",
    "#     .drop(['a', 'nu'], axis=1)\n",
    ")\n",
    "\n",
    "# y = df_filt.loc[:, ['run', 'best_dose']]\n",
    "y = df.loc[:, ['run', 'best_dose']]\n",
    "\n",
    "X.head()"
   ]
  },
  {
   "cell_type": "code",
   "execution_count": 15,
   "id": "04c93ffd-805e-45fa-88de-7a736a58094d",
   "metadata": {},
   "outputs": [],
   "source": [
    "# reset index? Might help with Int64Index XGB warning\n",
    "X_cv = X.loc[lambda x: (x.run<8000)].drop('run', axis=1)\n",
    "y_cv = y.loc[lambda x: (x.run<8000)].drop('run', axis=1)\n",
    "\n",
    "X_test = X.loc[lambda x: (x.run>=8000)].drop('run', axis=1)\n",
    "y_test = np.array(y.loc[lambda x: (x.run>=8000)].drop('run', axis=1))"
   ]
  },
  {
   "cell_type": "code",
   "execution_count": 16,
   "id": "8a0f3c07-724c-4dd7-8e0d-bf2628f1dff0",
   "metadata": {},
   "outputs": [
    {
     "data": {
      "text/plain": [
       "{'max_depth': 10,\n",
       " 'n_estimators': 853,\n",
       " 'learning_rate': 0.0182387397607204,\n",
       " 'subsample': 0.721624617726085,\n",
       " 'colsample_bytree': 0.943486029986996,\n",
       " 'objective': 'reg:pseudohubererror'}"
      ]
     },
     "execution_count": 16,
     "metadata": {},
     "output_type": "execute_result"
    }
   ],
   "source": [
    "hyperparams = (\n",
    "    pd.read_csv('../outputs/best_XGB_hyperparams.csv')\n",
    "    .iloc[0]\n",
    "    .to_dict()\n",
    ")\n",
    "\n",
    "hyperparams['max_depth'] = int(hyperparams['max_depth'])\n",
    "hyperparams['n_estimators'] = int(hyperparams['n_estimators'])\n",
    "\n",
    "hyperparams['objective'] = 'reg:pseudohubererror'\n",
    "\n",
    "hyperparams"
   ]
  },
  {
   "cell_type": "code",
   "execution_count": 17,
   "id": "09377c94-2416-4bb4-a1a8-f3a62dd4a93c",
   "metadata": {},
   "outputs": [
    {
     "name": "stdout",
     "output_type": "stream",
     "text": [
      "ok? True\n"
     ]
    },
    {
     "name": "stderr",
     "output_type": "stream",
     "text": [
      "pandas.Int64Index is deprecated and will be removed from pandas in a future version. Use pandas.Index with the appropriate dtype instead.\n"
     ]
    },
    {
     "name": "stdout",
     "output_type": "stream",
     "text": [
      "ok? True\n"
     ]
    },
    {
     "name": "stderr",
     "output_type": "stream",
     "text": [
      "pandas.Int64Index is deprecated and will be removed from pandas in a future version. Use pandas.Index with the appropriate dtype instead.\n"
     ]
    },
    {
     "name": "stdout",
     "output_type": "stream",
     "text": [
      "ok? True\n"
     ]
    },
    {
     "name": "stderr",
     "output_type": "stream",
     "text": [
      "pandas.Int64Index is deprecated and will be removed from pandas in a future version. Use pandas.Index with the appropriate dtype instead.\n"
     ]
    },
    {
     "name": "stdout",
     "output_type": "stream",
     "text": [
      "ok? True\n"
     ]
    },
    {
     "name": "stderr",
     "output_type": "stream",
     "text": [
      "pandas.Int64Index is deprecated and will be removed from pandas in a future version. Use pandas.Index with the appropriate dtype instead.\n"
     ]
    },
    {
     "name": "stdout",
     "output_type": "stream",
     "text": [
      "ok? True\n"
     ]
    },
    {
     "name": "stderr",
     "output_type": "stream",
     "text": [
      "pandas.Int64Index is deprecated and will be removed from pandas in a future version. Use pandas.Index with the appropriate dtype instead.\n"
     ]
    },
    {
     "name": "stdout",
     "output_type": "stream",
     "text": [
      "ok? True\n"
     ]
    },
    {
     "name": "stderr",
     "output_type": "stream",
     "text": [
      "pandas.Int64Index is deprecated and will be removed from pandas in a future version. Use pandas.Index with the appropriate dtype instead.\n"
     ]
    },
    {
     "name": "stdout",
     "output_type": "stream",
     "text": [
      "ok? True\n"
     ]
    },
    {
     "name": "stderr",
     "output_type": "stream",
     "text": [
      "pandas.Int64Index is deprecated and will be removed from pandas in a future version. Use pandas.Index with the appropriate dtype instead.\n"
     ]
    },
    {
     "name": "stdout",
     "output_type": "stream",
     "text": [
      "ok? True\n"
     ]
    },
    {
     "name": "stderr",
     "output_type": "stream",
     "text": [
      "pandas.Int64Index is deprecated and will be removed from pandas in a future version. Use pandas.Index with the appropriate dtype instead.\n"
     ]
    },
    {
     "name": "stdout",
     "output_type": "stream",
     "text": [
      "ok? True\n"
     ]
    },
    {
     "name": "stderr",
     "output_type": "stream",
     "text": [
      "pandas.Int64Index is deprecated and will be removed from pandas in a future version. Use pandas.Index with the appropriate dtype instead.\n"
     ]
    },
    {
     "name": "stdout",
     "output_type": "stream",
     "text": [
      "ok? True\n"
     ]
    },
    {
     "name": "stderr",
     "output_type": "stream",
     "text": [
      "pandas.Int64Index is deprecated and will be removed from pandas in a future version. Use pandas.Index with the appropriate dtype instead.\n"
     ]
    },
    {
     "name": "stdout",
     "output_type": "stream",
     "text": [
      "Wall time: 16min 6s\n"
     ]
    },
    {
     "data": {
      "text/plain": [
       "0.10888194232377864"
      ]
     },
     "execution_count": 17,
     "metadata": {},
     "output_type": "execute_result"
    }
   ],
   "source": [
    "%%time\n",
    "\n",
    "rmse_list = []\n",
    "        \n",
    "kf = KFold(n_splits=10)\n",
    "\n",
    "for train_ind, val_ind in tqdm(kf.split(X_cv)):\n",
    "\n",
    "    X_tr = X_cv.iloc[train_ind]\n",
    "    y_tr = y_cv.iloc[train_ind]\n",
    "\n",
    "    X_v = X_cv.iloc[val_ind]\n",
    "    y_v = y_cv.iloc[val_ind]\n",
    "    \n",
    "    train_runs = X.iloc[train_ind].run\n",
    "    val_runs = X.iloc[val_ind].run\n",
    "\n",
    "    print(f'ok? {sum(train_runs.isin(val_runs))==0}')\n",
    "\n",
    "    y_tr = np.array(y_tr)\n",
    "    y_v = np.array(y_v)\n",
    "\n",
    "    model = XGBRegressor(\n",
    "        **hyperparams,\n",
    "    ).fit(X_tr, y_tr)\n",
    "\n",
    "    y_p = model.predict(X_v)\n",
    "\n",
    "    rmse = mean_squared_error(y_p, y_v, squared=False)\n",
    "\n",
    "    rmse_list.append(rmse)\n",
    "\n",
    "score = sum(rmse_list)/len(rmse_list)\n",
    "\n",
    "score"
   ]
  },
  {
   "cell_type": "markdown",
   "id": "47d8d7df-a6ff-4465-ba0e-3a7475820422",
   "metadata": {},
   "source": [
    "Aiming to beat `0.110` (squared error, keep non-exact `ME_mean`)\n",
    "\n",
    "- `0.1138`: using `reg:pseudohubererror` and dropping `ME_mean`.\n",
    "- `0.1089`: using `reg:pseudohubererror` and keeping `ME_mean`.\n",
    "- `XX`: using `reg:squarederror` and dropping `ME_mean`.\n",
    "- `XX`: using `reg:squarederror` and using exact `ME_mean`."
   ]
  },
  {
   "cell_type": "code",
   "execution_count": 30,
   "id": "5a449157-a485-4096-ad7a-06a10fd4e3d6",
   "metadata": {},
   "outputs": [
    {
     "data": {
      "text/plain": [
       "<AxesSubplot:>"
      ]
     },
     "execution_count": 30,
     "metadata": {},
     "output_type": "execute_result"
    },
    {
     "data": {
      "image/png": "[encoded data removed]",
      "text/plain": [
       "<Figure size 432x288 with 1 Axes>"
      ]
     },
     "metadata": {
      "needs_background": "light"
     },
     "output_type": "display_data"
    }
   ],
   "source": [
    "start = 2000\n",
    "show = 350\n",
    "\n",
    "(\n",
    "    pd.DataFrame(dict(model=y_p, data=y_v[:, 0]))\n",
    "    # .head(1000)\n",
    "    .iloc[start:start+show]\n",
    "    .plot()\n",
    ")"
   ]
  },
  {
   "cell_type": "code",
   "execution_count": 157,
   "id": "c2f7d072-fa7d-43b2-87e3-afb66c946473",
   "metadata": {},
   "outputs": [
    {
     "name": "stderr",
     "output_type": "stream",
     "text": [
      "pandas.Int64Index is deprecated and will be removed from pandas in a future version. Use pandas.Index with the appropriate dtype instead.\n"
     ]
    },
    {
     "name": "stdout",
     "output_type": "stream",
     "text": [
      "Wall time: 1min 30s\n"
     ]
    },
    {
     "data": {
      "text/plain": [
       "0.050031964040011964"
      ]
     },
     "execution_count": 157,
     "metadata": {},
     "output_type": "execute_result"
    }
   ],
   "source": [
    "%%time\n",
    "\n",
    "best_model = XGBRegressor(**hyperparams).fit(X_cv, y_cv)\n",
    "\n",
    "y_p = best_model.predict(X_test)\n",
    "\n",
    "rmse = mean_squared_error(y_p, y_test, squared=False)\n",
    "\n",
    "rmse"
   ]
  },
  {
   "cell_type": "code",
   "execution_count": 144,
   "id": "c65e9f11-a52e-479f-a430-b9b3119d4656",
   "metadata": {},
   "outputs": [],
   "source": [
    "best_model.save_model('xgb_scan_all_no_ME_mean.json')"
   ]
  },
  {
   "cell_type": "markdown",
   "id": "d810f56c-0fbf-43d5-b2c3-aa425c7d94d8",
   "metadata": {},
   "source": [
    "Shap vals took around `43.2s`"
   ]
  },
  {
   "cell_type": "code",
   "execution_count": 145,
   "id": "1ae0bdaf-1893-43d4-9c7c-7b7e632fe869",
   "metadata": {},
   "outputs": [
    {
     "name": "stdout",
     "output_type": "stream",
     "text": [
      "________________________________________________________________________________\n",
      "[Memory] Calling poly2.shap.get_shap_values_cumulative...\n",
      "get_shap_values_cumulative(      year         mu         b     asymp  dec_rate    m_prop   m_scale  \\\n",
      "0      1.0  17.879734  2.744068  0.602763  1.786355  0.703574  1.957890   \n",
      "1      2.0  17.879734  2.744068  0.602763  1.786355  0.703574  1.957890   \n",
      "2      3.0  17.879734  2.744068  0.602763  1.786355  0.703574  1.957890   \n",
      "3      4.0  17.879734  2.744068  0.602763  1.786355  0.703574  1.957890   \n",
      "4      5.0  17.879734  2.744068  0.602763  1.786355  0.703574  1.957890   \n",
      "...    ...        ...       ...       ...       ...       ...       ...   \n",
      "997   18.0   4.290742  3.649953  0.521037  0.478235  0.251185  0.108904   \n",
      "998   19.0   4.290742  3.649953  0.521037  0.478235  0.251185  0.108904   \n",
      "999   20.0   4.290742  3.649953  0.521037  0.478235  0.251185  0.108904   \n",
      "1000  21.0   4.290742  3.649953  0.521037  0.478235  0.251185  0.108904   \n",
      "1001  22.0   4.290742  3.649953  0.521037  0.478235  0.251185  0.108904   \n",
      "\n",
      "       ME_mean  \n",
      "0     0.397237  \n",
      "1     0.397237  \n",
      "2     0.397237  \n",
      "3     0.397237  \n",
      "4     0.397237  \n",
      "...        ...  \n",
      "997   0.490711  \n",
      "998   0.490711  \n",
      "999   0.490711  \n",
      "1000  0.490711  \n",
      "1001  0.490711  \n",
      "\n",
      "[1002 rows x 8 columns])\n",
      "start\n"
     ]
    },
    {
     "name": "stderr",
     "output_type": "stream",
     "text": [
      "ntree_limit is deprecated, use `iteration_range` or model slicing instead.\n"
     ]
    },
    {
     "name": "stdout",
     "output_type": "stream",
     "text": [
      "done\n",
      "______________________________________get_shap_values_cumulative - 42.8s, 0.7min\n",
      "Wall time: 42.9 s\n"
     ]
    }
   ],
   "source": [
    "# %%time\n",
    "\n",
    "# X_use = X_cv.head(1002)\n",
    "\n",
    "# shap_values = get_shap_values_cumulative(X_use)"
   ]
  },
  {
   "cell_type": "code",
   "execution_count": 146,
   "id": "067e179b-71be-43e8-8d07-1c56f07ed7fa",
   "metadata": {},
   "outputs": [],
   "source": [
    "fn = './shap_values_cumulative.pickle'\n",
    "\n",
    "if True:\n",
    "    object_dump(shap_values, fn)\n",
    "else:\n",
    "    shap_values = object_load(fn)"
   ]
  },
  {
   "cell_type": "markdown",
   "id": "0aa246bf-b629-46a1-a594-a46f3ac36850",
   "metadata": {},
   "source": [
    "# Fig"
   ]
  },
  {
   "cell_type": "code",
   "execution_count": 147,
   "id": "ace8ff64-f0e5-49ab-9c72-fc6b546d649b",
   "metadata": {},
   "outputs": [],
   "source": [
    "WIDTH = 8\n",
    "HEIGHT = 4"
   ]
  },
  {
   "cell_type": "markdown",
   "id": "645ca445-7e0f-4ea3-be85-43cb51943feb",
   "metadata": {},
   "source": [
    "## A"
   ]
  },
  {
   "cell_type": "code",
   "execution_count": 148,
   "id": "cd0e4613-1972-457c-9e40-cffa81aff24c",
   "metadata": {},
   "outputs": [
    {
     "data": {
      "text/plain": [
       "Text(0.05, 0.9, 'A')"
      ]
     },
     "execution_count": 148,
     "metadata": {},
     "output_type": "execute_result"
    },
    {
     "data": {
      "image/png": "[encoded data removed]",
      "text/plain": [
       "<Figure size 576x288 with 1 Axes>"
      ]
     },
     "metadata": {},
     "output_type": "display_data"
    }
   ],
   "source": [
    "plt.close('all')\n",
    "\n",
    "shap.plots.bar(shap_values, show=False)\n",
    "\n",
    "f = plt.gcf()\n",
    "\n",
    "ax = plt.gca()\n",
    "\n",
    "f.set_figwidth(WIDTH)\n",
    "f.set_figheight(HEIGHT)\n",
    "\n",
    "f.patch.set_facecolor('white')\n",
    "\n",
    "\n",
    "labels=[\n",
    "    r'$M_s$',\n",
    "    r'$M_d$',\n",
    "    r'$\\nu$',\n",
    "    r'$Y$',\n",
    "    r'$\\mu$',\n",
    "    r'$b$',\n",
    "    r'$\\omega$',\n",
    "    r'$M_p$',\n",
    "]*2\n",
    "\n",
    "# ax.set_yticklabels(labels)\n",
    "\n",
    "\n",
    "ax.spines['top'].set_visible(True)\n",
    "ax.spines['right'].set_visible(True)\n",
    "\n",
    "# ax.set_xlim([0, 0.15])\n",
    "\n",
    "f.tight_layout(rect=[0.028, 0, 0.9, 0.92])\n",
    "\n",
    "plt.annotate(\n",
    "    'A',\n",
    "    (0.05, 0.9),\n",
    "    xycoords='figure fraction',\n",
    "    color=(0.4, 0.4, 0.4),\n",
    "    size=20,\n",
    ")\n",
    "\n",
    "# f"
   ]
  },
  {
   "cell_type": "code",
   "execution_count": 149,
   "id": "55233a05-1755-4a77-ab34-902a9c070beb",
   "metadata": {},
   "outputs": [],
   "source": [
    "f.savefig('../figures/to_combine/appc_fig5_1.jpg', dpi=300)"
   ]
  },
  {
   "cell_type": "markdown",
   "id": "ea08abdf-bdcb-4e0b-ae68-8f9f33a60802",
   "metadata": {},
   "source": [
    "## B"
   ]
  },
  {
   "cell_type": "code",
   "execution_count": 150,
   "id": "022eb053-3249-4183-8de4-b120dd685224",
   "metadata": {},
   "outputs": [
    {
     "data": {
      "text/plain": [
       "Text(0.05, 0.9, 'B')"
      ]
     },
     "execution_count": 150,
     "metadata": {},
     "output_type": "execute_result"
    },
    {
     "data": {
      "image/png": "[encoded data removed]",
      "text/plain": [
       "<Figure size 576x288 with 2 Axes>"
      ]
     },
     "metadata": {},
     "output_type": "display_data"
    }
   ],
   "source": [
    "plt.close('all')\n",
    "\n",
    "shap.plots.beeswarm(shap_values, plot_size=(WIDTH,HEIGHT), show=False)\n",
    "\n",
    "f = plt.gcf()\n",
    "\n",
    "ax = plt.gca()\n",
    "\n",
    "f.patch.set_facecolor('white')\n",
    "\n",
    "\n",
    "ax.spines['top'].set_visible(True)\n",
    "ax.spines['right'].set_visible(True)\n",
    "ax.spines['bottom'].set_visible(True)\n",
    "ax.spines['left'].set_visible(True)\n",
    "\n",
    "labels=[\n",
    "    r'$M_p$',\n",
    "    r'$\\omega$',\n",
    "    r'$b$',\n",
    "    r'$\\mu$',\n",
    "    r'$Y$',\n",
    "    r'$\\nu$',\n",
    "    r'$M_d$',\n",
    "    r'$M_s$',\n",
    "]\n",
    "\n",
    "# ax.set_yticklabels(labels)\n",
    "\n",
    "f.tight_layout(rect=[0, 0, 1, 0.95])\n",
    "\n",
    "plt.annotate(\n",
    "    'B',\n",
    "    (0.05, 0.9),\n",
    "    xycoords='figure fraction',\n",
    "    color=(0.4, 0.4, 0.4),\n",
    "    size=20,\n",
    ")"
   ]
  },
  {
   "cell_type": "code",
   "execution_count": 151,
   "id": "e78611b8-791d-4bfe-bd63-6364b887d1c9",
   "metadata": {},
   "outputs": [],
   "source": [
    "f.savefig('../figures/to_combine/appc_fig5_2.jpg', dpi=300) # , bbox_inches=\"tight\""
   ]
  },
  {
   "cell_type": "markdown",
   "id": "3b0abb17-0663-4ebc-99ab-469c29cc6307",
   "metadata": {},
   "source": [
    "Run this in `cmd`:\n",
    "```\n",
    "cd Documents\\Python\\PhD\\poly2\\polygenic2\\figures\\to_combine\n",
    "magick montage appc_fig5_[1-2].jpg -tile x2 -geometry 1000x450+2+20 appc_fig3.jpg\n",
    "```"
   ]
  },
  {
   "cell_type": "code",
   "execution_count": null,
   "id": "de4d59c5-b0b7-4338-aa5c-de122c6643e6",
   "metadata": {},
   "outputs": [],
   "source": []
  }
 ],
 "metadata": {
  "kernelspec": {
   "display_name": "poly2_kernel",
   "language": "python",
   "name": "poly2_kernel"
  },
  "language_info": {
   "codemirror_mode": {
    "name": "ipython",
    "version": 3
   },
   "file_extension": ".py",
   "mimetype": "text/x-python",
   "name": "python",
   "nbconvert_exporter": "python",
   "pygments_lexer": "ipython3",
   "version": "3.8.12"
  }
 },
 "nbformat": 4,
 "nbformat_minor": 5
}
