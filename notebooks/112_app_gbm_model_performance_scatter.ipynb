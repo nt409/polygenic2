{
 "cells": [
  {
   "cell_type": "markdown",
   "id": "59d8512c-fd3a-4ab2-ae04-05bfe55bf48e",
   "metadata": {},
   "source": [
    "# XGB test"
   ]
  },
  {
   "cell_type": "code",
   "execution_count": 1,
   "id": "10a4e91c-2ac1-4c97-9800-7dea3cb6c2df",
   "metadata": {},
   "outputs": [],
   "source": [
    "%load_ext autoreload\n",
    "%autoreload 2\n",
    "\n",
    "# %matplotlib widget"
   ]
  },
  {
   "cell_type": "code",
   "execution_count": 2,
   "id": "f598092b-71c1-4fde-bb78-b6551f449484",
   "metadata": {},
   "outputs": [
    {
     "name": "stderr",
     "output_type": "stream",
     "text": [
      "C:\\Users\\user\\anaconda3\\envs\\poly2\\lib\\site-packages\\xgboost\\compat.py:36: FutureWarning: pandas.Int64Index is deprecated and will be removed from pandas in a future version. Use pandas.Index with the appropriate dtype instead.\n",
      "  from pandas import MultiIndex, Int64Index\n"
     ]
    }
   ],
   "source": [
    "import pandas as pd\n",
    "\n",
    "import seaborn as sns\n",
    "\n",
    "from math import log, floor\n",
    "\n",
    "import numpy as np\n",
    "import matplotlib.pyplot as plt\n",
    "\n",
    "from tqdm import tqdm\n",
    "\n",
    "from xgboost import XGBRegressor\n",
    "import shap\n",
    "\n",
    "\n",
    "from sklearn.metrics import mean_squared_error\n",
    "from sklearn.model_selection import KFold\n",
    "\n",
    "from plots2.fns import (\n",
    "    # standard_layout,\n",
    "    # corner_annotations_colwise,\n",
    "    # corner_annotations_rowwise,\n",
    "    # get_text_annotation,\n",
    "    get_corner_annotations,\n",
    "    get_corner_annotations_custom_labels,\n",
    "    # get_corner_annotations_explicit\n",
    ")\n",
    "\n",
    "from plots2.consts import (\n",
    "    SMALL_FONT,\n",
    "    MEDIUM_FONT,\n",
    "    BIGGER_FONT,\n",
    "    SHAP_BLUE\n",
    ")\n",
    "\n",
    "from poly2.utils import trait_vec, gamma_dist, object_dump, object_load\n",
    "# from poly2.shap import get_shap_values\n",
    "# from poly2.run import no_joblib_single_run, no_joblib_multiple_run\n",
    "from poly2.config import Config, ConfigMixture, get_asymptote_config\n",
    "# from poly2.simulator import SimulatorOneTrait, SimulatorAsymptote"
   ]
  },
  {
   "cell_type": "code",
   "execution_count": 3,
   "id": "7945930e-6360-4107-bb2b-25dff39146d3",
   "metadata": {},
   "outputs": [
    {
     "data": {
      "text/html": [
       "<div>\n",
       "<style scoped>\n",
       "    .dataframe tbody tr th:only-of-type {\n",
       "        vertical-align: middle;\n",
       "    }\n",
       "\n",
       "    .dataframe tbody tr th {\n",
       "        vertical-align: top;\n",
       "    }\n",
       "\n",
       "    .dataframe thead th {\n",
       "        text-align: right;\n",
       "    }\n",
       "</style>\n",
       "<table border=\"1\" class=\"dataframe\">\n",
       "  <thead>\n",
       "    <tr style=\"text-align: right;\">\n",
       "      <th></th>\n",
       "      <th>run</th>\n",
       "      <th>year</th>\n",
       "      <th>best_dose</th>\n",
       "      <th>n_pos_diff</th>\n",
       "      <th>in_0p0_0p1</th>\n",
       "      <th>in_0p1_0p2</th>\n",
       "      <th>in_0p2_0p3</th>\n",
       "      <th>in_0p3_0p4</th>\n",
       "      <th>in_0p4_0p5</th>\n",
       "      <th>in_0p5_0p6</th>\n",
       "      <th>...</th>\n",
       "      <th>in_0p8_0p9</th>\n",
       "      <th>in_0p9_1p0</th>\n",
       "      <th>mu</th>\n",
       "      <th>b</th>\n",
       "      <th>asymptote</th>\n",
       "      <th>dec_rate_multiplier</th>\n",
       "      <th>m_prop_multiplier</th>\n",
       "      <th>m_scale_multiplier</th>\n",
       "      <th>ME_var</th>\n",
       "      <th>ME_mean</th>\n",
       "    </tr>\n",
       "  </thead>\n",
       "  <tbody>\n",
       "    <tr>\n",
       "      <th>0</th>\n",
       "      <td>0</td>\n",
       "      <td>1</td>\n",
       "      <td>1.0</td>\n",
       "      <td>9</td>\n",
       "      <td>1.0</td>\n",
       "      <td>5.054079e-27</td>\n",
       "      <td>7.584700e-34</td>\n",
       "      <td>1.472094e-39</td>\n",
       "      <td>4.846678e-45</td>\n",
       "      <td>9.976588e-51</td>\n",
       "      <td>...</td>\n",
       "      <td>2.492945e-74</td>\n",
       "      <td>3.501367e-90</td>\n",
       "      <td>17.879734</td>\n",
       "      <td>2.744068</td>\n",
       "      <td>0.602763</td>\n",
       "      <td>1.786355</td>\n",
       "      <td>0.703574</td>\n",
       "      <td>1.95789</td>\n",
       "      <td>5.044122e-17</td>\n",
       "      <td>0.398241</td>\n",
       "    </tr>\n",
       "    <tr>\n",
       "      <th>1</th>\n",
       "      <td>0</td>\n",
       "      <td>2</td>\n",
       "      <td>1.0</td>\n",
       "      <td>9</td>\n",
       "      <td>1.0</td>\n",
       "      <td>5.054079e-27</td>\n",
       "      <td>7.584700e-34</td>\n",
       "      <td>1.472094e-39</td>\n",
       "      <td>4.846678e-45</td>\n",
       "      <td>9.976588e-51</td>\n",
       "      <td>...</td>\n",
       "      <td>2.492945e-74</td>\n",
       "      <td>3.501367e-90</td>\n",
       "      <td>17.879734</td>\n",
       "      <td>2.744068</td>\n",
       "      <td>0.602763</td>\n",
       "      <td>1.786355</td>\n",
       "      <td>0.703574</td>\n",
       "      <td>1.95789</td>\n",
       "      <td>5.044122e-17</td>\n",
       "      <td>0.398241</td>\n",
       "    </tr>\n",
       "    <tr>\n",
       "      <th>2</th>\n",
       "      <td>0</td>\n",
       "      <td>3</td>\n",
       "      <td>1.0</td>\n",
       "      <td>9</td>\n",
       "      <td>1.0</td>\n",
       "      <td>5.054079e-27</td>\n",
       "      <td>7.584700e-34</td>\n",
       "      <td>1.472094e-39</td>\n",
       "      <td>4.846678e-45</td>\n",
       "      <td>9.976588e-51</td>\n",
       "      <td>...</td>\n",
       "      <td>2.492945e-74</td>\n",
       "      <td>3.501367e-90</td>\n",
       "      <td>17.879734</td>\n",
       "      <td>2.744068</td>\n",
       "      <td>0.602763</td>\n",
       "      <td>1.786355</td>\n",
       "      <td>0.703574</td>\n",
       "      <td>1.95789</td>\n",
       "      <td>5.044122e-17</td>\n",
       "      <td>0.398241</td>\n",
       "    </tr>\n",
       "    <tr>\n",
       "      <th>3</th>\n",
       "      <td>0</td>\n",
       "      <td>4</td>\n",
       "      <td>1.0</td>\n",
       "      <td>9</td>\n",
       "      <td>1.0</td>\n",
       "      <td>5.054079e-27</td>\n",
       "      <td>7.584700e-34</td>\n",
       "      <td>1.472094e-39</td>\n",
       "      <td>4.846678e-45</td>\n",
       "      <td>9.976588e-51</td>\n",
       "      <td>...</td>\n",
       "      <td>2.492945e-74</td>\n",
       "      <td>3.501367e-90</td>\n",
       "      <td>17.879734</td>\n",
       "      <td>2.744068</td>\n",
       "      <td>0.602763</td>\n",
       "      <td>1.786355</td>\n",
       "      <td>0.703574</td>\n",
       "      <td>1.95789</td>\n",
       "      <td>5.044122e-17</td>\n",
       "      <td>0.398241</td>\n",
       "    </tr>\n",
       "    <tr>\n",
       "      <th>4</th>\n",
       "      <td>0</td>\n",
       "      <td>5</td>\n",
       "      <td>1.0</td>\n",
       "      <td>9</td>\n",
       "      <td>1.0</td>\n",
       "      <td>5.054079e-27</td>\n",
       "      <td>7.584700e-34</td>\n",
       "      <td>1.472094e-39</td>\n",
       "      <td>4.846678e-45</td>\n",
       "      <td>9.976588e-51</td>\n",
       "      <td>...</td>\n",
       "      <td>2.492945e-74</td>\n",
       "      <td>3.501367e-90</td>\n",
       "      <td>17.879734</td>\n",
       "      <td>2.744068</td>\n",
       "      <td>0.602763</td>\n",
       "      <td>1.786355</td>\n",
       "      <td>0.703574</td>\n",
       "      <td>1.95789</td>\n",
       "      <td>5.044122e-17</td>\n",
       "      <td>0.398241</td>\n",
       "    </tr>\n",
       "  </tbody>\n",
       "</table>\n",
       "<p>5 rows × 22 columns</p>\n",
       "</div>"
      ],
      "text/plain": [
       "   run  year  best_dose  n_pos_diff  in_0p0_0p1    in_0p1_0p2    in_0p2_0p3  \\\n",
       "0    0     1        1.0           9         1.0  5.054079e-27  7.584700e-34   \n",
       "1    0     2        1.0           9         1.0  5.054079e-27  7.584700e-34   \n",
       "2    0     3        1.0           9         1.0  5.054079e-27  7.584700e-34   \n",
       "3    0     4        1.0           9         1.0  5.054079e-27  7.584700e-34   \n",
       "4    0     5        1.0           9         1.0  5.054079e-27  7.584700e-34   \n",
       "\n",
       "     in_0p3_0p4    in_0p4_0p5    in_0p5_0p6  ...    in_0p8_0p9    in_0p9_1p0  \\\n",
       "0  1.472094e-39  4.846678e-45  9.976588e-51  ...  2.492945e-74  3.501367e-90   \n",
       "1  1.472094e-39  4.846678e-45  9.976588e-51  ...  2.492945e-74  3.501367e-90   \n",
       "2  1.472094e-39  4.846678e-45  9.976588e-51  ...  2.492945e-74  3.501367e-90   \n",
       "3  1.472094e-39  4.846678e-45  9.976588e-51  ...  2.492945e-74  3.501367e-90   \n",
       "4  1.472094e-39  4.846678e-45  9.976588e-51  ...  2.492945e-74  3.501367e-90   \n",
       "\n",
       "          mu         b  asymptote  dec_rate_multiplier  m_prop_multiplier  \\\n",
       "0  17.879734  2.744068   0.602763             1.786355           0.703574   \n",
       "1  17.879734  2.744068   0.602763             1.786355           0.703574   \n",
       "2  17.879734  2.744068   0.602763             1.786355           0.703574   \n",
       "3  17.879734  2.744068   0.602763             1.786355           0.703574   \n",
       "4  17.879734  2.744068   0.602763             1.786355           0.703574   \n",
       "\n",
       "   m_scale_multiplier        ME_var   ME_mean  \n",
       "0             1.95789  5.044122e-17  0.398241  \n",
       "1             1.95789  5.044122e-17  0.398241  \n",
       "2             1.95789  5.044122e-17  0.398241  \n",
       "3             1.95789  5.044122e-17  0.398241  \n",
       "4             1.95789  5.044122e-17  0.398241  \n",
       "\n",
       "[5 rows x 22 columns]"
      ]
     },
     "execution_count": 3,
     "metadata": {},
     "output_type": "execute_result"
    }
   ],
   "source": [
    "df = pd.read_csv('../outputs/combined/scan_all.csv')\n",
    "\n",
    "df.head()"
   ]
  },
  {
   "cell_type": "code",
   "execution_count": 4,
   "id": "9c316947-f565-4d6a-afb6-e2bf53e36a07",
   "metadata": {},
   "outputs": [
    {
     "data": {
      "text/html": [
       "<div>\n",
       "<style scoped>\n",
       "    .dataframe tbody tr th:only-of-type {\n",
       "        vertical-align: middle;\n",
       "    }\n",
       "\n",
       "    .dataframe tbody tr th {\n",
       "        vertical-align: top;\n",
       "    }\n",
       "\n",
       "    .dataframe thead th {\n",
       "        text-align: right;\n",
       "    }\n",
       "</style>\n",
       "<table border=\"1\" class=\"dataframe\">\n",
       "  <thead>\n",
       "    <tr style=\"text-align: right;\">\n",
       "      <th></th>\n",
       "      <th>run</th>\n",
       "      <th>year</th>\n",
       "      <th>mu</th>\n",
       "      <th>b</th>\n",
       "      <th>asymp</th>\n",
       "      <th>dec_rate</th>\n",
       "      <th>m_prop</th>\n",
       "      <th>m_scale</th>\n",
       "      <th>ME_mean</th>\n",
       "    </tr>\n",
       "  </thead>\n",
       "  <tbody>\n",
       "    <tr>\n",
       "      <th>0</th>\n",
       "      <td>0</td>\n",
       "      <td>1</td>\n",
       "      <td>17.879734</td>\n",
       "      <td>2.744068</td>\n",
       "      <td>0.602763</td>\n",
       "      <td>1.786355</td>\n",
       "      <td>0.703574</td>\n",
       "      <td>1.95789</td>\n",
       "      <td>0.398241</td>\n",
       "    </tr>\n",
       "    <tr>\n",
       "      <th>1</th>\n",
       "      <td>0</td>\n",
       "      <td>2</td>\n",
       "      <td>17.879734</td>\n",
       "      <td>2.744068</td>\n",
       "      <td>0.602763</td>\n",
       "      <td>1.786355</td>\n",
       "      <td>0.703574</td>\n",
       "      <td>1.95789</td>\n",
       "      <td>0.398241</td>\n",
       "    </tr>\n",
       "    <tr>\n",
       "      <th>2</th>\n",
       "      <td>0</td>\n",
       "      <td>3</td>\n",
       "      <td>17.879734</td>\n",
       "      <td>2.744068</td>\n",
       "      <td>0.602763</td>\n",
       "      <td>1.786355</td>\n",
       "      <td>0.703574</td>\n",
       "      <td>1.95789</td>\n",
       "      <td>0.398241</td>\n",
       "    </tr>\n",
       "    <tr>\n",
       "      <th>3</th>\n",
       "      <td>0</td>\n",
       "      <td>4</td>\n",
       "      <td>17.879734</td>\n",
       "      <td>2.744068</td>\n",
       "      <td>0.602763</td>\n",
       "      <td>1.786355</td>\n",
       "      <td>0.703574</td>\n",
       "      <td>1.95789</td>\n",
       "      <td>0.398241</td>\n",
       "    </tr>\n",
       "    <tr>\n",
       "      <th>4</th>\n",
       "      <td>0</td>\n",
       "      <td>5</td>\n",
       "      <td>17.879734</td>\n",
       "      <td>2.744068</td>\n",
       "      <td>0.602763</td>\n",
       "      <td>1.786355</td>\n",
       "      <td>0.703574</td>\n",
       "      <td>1.95789</td>\n",
       "      <td>0.398241</td>\n",
       "    </tr>\n",
       "  </tbody>\n",
       "</table>\n",
       "</div>"
      ],
      "text/plain": [
       "   run  year         mu         b     asymp  dec_rate    m_prop  m_scale  \\\n",
       "0    0     1  17.879734  2.744068  0.602763  1.786355  0.703574  1.95789   \n",
       "1    0     2  17.879734  2.744068  0.602763  1.786355  0.703574  1.95789   \n",
       "2    0     3  17.879734  2.744068  0.602763  1.786355  0.703574  1.95789   \n",
       "3    0     4  17.879734  2.744068  0.602763  1.786355  0.703574  1.95789   \n",
       "4    0     5  17.879734  2.744068  0.602763  1.786355  0.703574  1.95789   \n",
       "\n",
       "    ME_mean  \n",
       "0  0.398241  \n",
       "1  0.398241  \n",
       "2  0.398241  \n",
       "3  0.398241  \n",
       "4  0.398241  "
      ]
     },
     "execution_count": 4,
     "metadata": {},
     "output_type": "execute_result"
    }
   ],
   "source": [
    "X = (\n",
    "    # df_filt\n",
    "    df\n",
    "    .drop([\n",
    "        'best_dose',\n",
    "        'n_pos_diff',\n",
    "        'ME_var',\n",
    "        # 'ME_mean',\n",
    "        # 'yld',\n",
    "        # 'cum_yld',\n",
    "    ], axis=1)\n",
    "    .filter(regex='^((?!in_0).)*$')\n",
    "    .rename(columns = {\n",
    "        'dec_rate_multiplier': 'dec_rate',\n",
    "        'm_prop_multiplier': 'm_prop',\n",
    "        'm_scale_multiplier': 'm_scale',\n",
    "        'asymptote': 'asymp',\n",
    "    })\n",
    "    \n",
    "#     .drop('ME_mean', axis=1)\n",
    "#     .assign(a = lambda x: x.b*x.mu)\n",
    "#     .assign(nu = lambda x: (x.b)**(x.a) / (1 + x.b)**(x.a))\n",
    "#     .assign(ME_mean = lambda x: 1 - x.asymp + x.asymp * x.nu)\n",
    "    \n",
    "#     .drop(['a', 'nu'], axis=1)\n",
    ")\n",
    "\n",
    "# y = df_filt.loc[:, ['run', 'best_dose']]\n",
    "y = df.loc[:, ['run', 'best_dose']]\n",
    "\n",
    "X.head()"
   ]
  },
  {
   "cell_type": "code",
   "execution_count": 5,
   "id": "04c93ffd-805e-45fa-88de-7a736a58094d",
   "metadata": {},
   "outputs": [],
   "source": [
    "# reset index? Might help with Int64Index XGB warning\n",
    "X_cv = X.loc[lambda x: (x.run<8000)].drop('run', axis=1)\n",
    "y_cv = y.loc[lambda x: (x.run<8000)].drop('run', axis=1)\n",
    "\n",
    "X_test = X.loc[lambda x: (x.run>=8000)].drop('run', axis=1)\n",
    "y_test = np.array(y.loc[lambda x: (x.run>=8000)].drop('run', axis=1))"
   ]
  },
  {
   "cell_type": "markdown",
   "id": "c66f4e7a-828b-4cf5-85fa-922e6b2e83b5",
   "metadata": {},
   "source": [
    "## Squared error"
   ]
  },
  {
   "cell_type": "code",
   "execution_count": 6,
   "id": "8a0f3c07-724c-4dd7-8e0d-bf2628f1dff0",
   "metadata": {},
   "outputs": [
    {
     "name": "stdout",
     "output_type": "stream",
     "text": [
      "Wall time: 3.25 s\n"
     ]
    }
   ],
   "source": [
    "%%time\n",
    "\n",
    "xgb = XGBRegressor()\n",
    "\n",
    "xgb.load_model('xgb_scan_all_cumulative.json')"
   ]
  },
  {
   "cell_type": "code",
   "execution_count": 7,
   "id": "7336a6e9-0326-4a26-a217-f03e2e4fabf5",
   "metadata": {},
   "outputs": [
    {
     "name": "stderr",
     "output_type": "stream",
     "text": [
      "pandas.Int64Index is deprecated and will be removed from pandas in a future version. Use pandas.Index with the appropriate dtype instead.\n"
     ]
    },
    {
     "name": "stdout",
     "output_type": "stream",
     "text": [
      "Wall time: 2min 23s\n"
     ]
    }
   ],
   "source": [
    "%%time\n",
    "\n",
    "xgb.fit(X_cv, y_cv)\n",
    "\n",
    "y_p = xgb.predict(X_test)"
   ]
  },
  {
   "cell_type": "markdown",
   "id": "f7640dec-3c19-4b2f-8f41-b796c8e511ac",
   "metadata": {},
   "source": [
    "## Pseudo huber error"
   ]
  },
  {
   "cell_type": "code",
   "execution_count": 8,
   "id": "83541ba9-1c86-4a83-bdf6-cfddb3a5dacd",
   "metadata": {},
   "outputs": [
    {
     "data": {
      "text/plain": [
       "{'max_depth': 10,\n",
       " 'n_estimators': 853,\n",
       " 'learning_rate': 0.0182387397607204,\n",
       " 'subsample': 0.721624617726085,\n",
       " 'colsample_bytree': 0.943486029986996,\n",
       " 'objective': 'reg:pseudohubererror'}"
      ]
     },
     "execution_count": 8,
     "metadata": {},
     "output_type": "execute_result"
    }
   ],
   "source": [
    "hyperparams = (\n",
    "    pd.read_csv('../outputs/best_XGB_hyperparams.csv')\n",
    "    .iloc[0]\n",
    "    .to_dict()\n",
    ")\n",
    "\n",
    "hyperparams['max_depth'] = int(hyperparams['max_depth'])\n",
    "hyperparams['n_estimators'] = int(hyperparams['n_estimators'])\n",
    "\n",
    "hyperparams['objective'] = 'reg:pseudohubererror'\n",
    "\n",
    "hyperparams"
   ]
  },
  {
   "cell_type": "code",
   "execution_count": 9,
   "id": "3d4df981-dd49-44c5-a2d7-c555a83d7961",
   "metadata": {},
   "outputs": [
    {
     "name": "stderr",
     "output_type": "stream",
     "text": [
      "pandas.Int64Index is deprecated and will be removed from pandas in a future version. Use pandas.Index with the appropriate dtype instead.\n"
     ]
    },
    {
     "name": "stdout",
     "output_type": "stream",
     "text": [
      "Wall time: 2min 4s\n"
     ]
    },
    {
     "data": {
      "text/plain": [
       "XGBRegressor(base_score=0.5, booster='gbtree', colsample_bylevel=1,\n",
       "             colsample_bynode=1, colsample_bytree=0.943486029986996,\n",
       "             enable_categorical=False, gamma=0, gpu_id=-1, importance_type=None,\n",
       "             interaction_constraints='', learning_rate=0.0182387397607204,\n",
       "             max_delta_step=0, max_depth=10, min_child_weight=1, missing=nan,\n",
       "             monotone_constraints='()', n_estimators=853, n_jobs=8,\n",
       "             num_parallel_tree=1, objective='reg:pseudohubererror',\n",
       "             predictor='auto', random_state=0, reg_alpha=0, reg_lambda=1,\n",
       "             scale_pos_weight=1, subsample=0.721624617726085,\n",
       "             tree_method='exact', validate_parameters=1, verbosity=None)"
      ]
     },
     "execution_count": 9,
     "metadata": {},
     "output_type": "execute_result"
    }
   ],
   "source": [
    "%%time\n",
    "\n",
    "xgb2 = XGBRegressor(**hyperparams)\n",
    "\n",
    "xgb2.fit(X_cv, y_cv)"
   ]
  },
  {
   "cell_type": "code",
   "execution_count": 10,
   "id": "c2f7d072-fa7d-43b2-87e3-afb66c946473",
   "metadata": {},
   "outputs": [],
   "source": [
    "y_p2 = xgb2.predict(X_test)"
   ]
  },
  {
   "cell_type": "markdown",
   "id": "e77ccda3-b43b-4250-8146-22d0bf95ad6d",
   "metadata": {},
   "source": [
    "## Plot"
   ]
  },
  {
   "cell_type": "code",
   "execution_count": 11,
   "id": "fca2d90c-484c-4e14-ae2a-725eb757d1b1",
   "metadata": {},
   "outputs": [
    {
     "data": {
      "text/plain": [
       "0.1086953213543925"
      ]
     },
     "execution_count": 11,
     "metadata": {},
     "output_type": "execute_result"
    }
   ],
   "source": [
    "mean_squared_error(y_p, y_test[:, 0], squared=False)"
   ]
  },
  {
   "cell_type": "code",
   "execution_count": 12,
   "id": "03cf74c1-4c51-418c-ab87-9c2343b1373d",
   "metadata": {},
   "outputs": [
    {
     "data": {
      "text/plain": [
       "0.10868153916874275"
      ]
     },
     "execution_count": 12,
     "metadata": {},
     "output_type": "execute_result"
    }
   ],
   "source": [
    "mean_squared_error(y_p2, y_test[:, 0], squared=False)"
   ]
  },
  {
   "cell_type": "code",
   "execution_count": 13,
   "id": "0751b013-309f-4166-8c68-5769d1f5524a",
   "metadata": {},
   "outputs": [],
   "source": [
    "pdf = pd.DataFrame(dict(\n",
    "    Model=y_p,\n",
    "    Model2=y_p2,\n",
    "    Data=y_test[:, 0],\n",
    "))"
   ]
  },
  {
   "cell_type": "code",
   "execution_count": 14,
   "id": "d160075e-f6a9-474c-ab4a-d9c7f4980700",
   "metadata": {},
   "outputs": [
    {
     "data": {
      "text/html": [
       "<div>\n",
       "<style scoped>\n",
       "    .dataframe tbody tr th:only-of-type {\n",
       "        vertical-align: middle;\n",
       "    }\n",
       "\n",
       "    .dataframe tbody tr th {\n",
       "        vertical-align: top;\n",
       "    }\n",
       "\n",
       "    .dataframe thead th {\n",
       "        text-align: right;\n",
       "    }\n",
       "</style>\n",
       "<table border=\"1\" class=\"dataframe\">\n",
       "  <thead>\n",
       "    <tr style=\"text-align: right;\">\n",
       "      <th></th>\n",
       "      <th>Model</th>\n",
       "      <th>Model2</th>\n",
       "      <th>Data</th>\n",
       "    </tr>\n",
       "  </thead>\n",
       "  <tbody>\n",
       "    <tr>\n",
       "      <th>count</th>\n",
       "      <td>70000.000000</td>\n",
       "      <td>70000.000000</td>\n",
       "      <td>70000.000000</td>\n",
       "    </tr>\n",
       "    <tr>\n",
       "      <th>mean</th>\n",
       "      <td>0.809352</td>\n",
       "      <td>0.809475</td>\n",
       "      <td>0.809496</td>\n",
       "    </tr>\n",
       "    <tr>\n",
       "      <th>std</th>\n",
       "      <td>0.302988</td>\n",
       "      <td>0.303268</td>\n",
       "      <td>0.331834</td>\n",
       "    </tr>\n",
       "    <tr>\n",
       "      <th>min</th>\n",
       "      <td>0.009045</td>\n",
       "      <td>-0.002695</td>\n",
       "      <td>0.100000</td>\n",
       "    </tr>\n",
       "    <tr>\n",
       "      <th>25%</th>\n",
       "      <td>0.708889</td>\n",
       "      <td>0.707529</td>\n",
       "      <td>0.700000</td>\n",
       "    </tr>\n",
       "    <tr>\n",
       "      <th>50%</th>\n",
       "      <td>0.988913</td>\n",
       "      <td>0.988678</td>\n",
       "      <td>1.000000</td>\n",
       "    </tr>\n",
       "    <tr>\n",
       "      <th>75%</th>\n",
       "      <td>1.001223</td>\n",
       "      <td>1.001270</td>\n",
       "      <td>1.000000</td>\n",
       "    </tr>\n",
       "    <tr>\n",
       "      <th>max</th>\n",
       "      <td>1.113598</td>\n",
       "      <td>1.103588</td>\n",
       "      <td>1.000000</td>\n",
       "    </tr>\n",
       "  </tbody>\n",
       "</table>\n",
       "</div>"
      ],
      "text/plain": [
       "              Model        Model2          Data\n",
       "count  70000.000000  70000.000000  70000.000000\n",
       "mean       0.809352      0.809475      0.809496\n",
       "std        0.302988      0.303268      0.331834\n",
       "min        0.009045     -0.002695      0.100000\n",
       "25%        0.708889      0.707529      0.700000\n",
       "50%        0.988913      0.988678      1.000000\n",
       "75%        1.001223      1.001270      1.000000\n",
       "max        1.113598      1.103588      1.000000"
      ]
     },
     "execution_count": 14,
     "metadata": {},
     "output_type": "execute_result"
    }
   ],
   "source": [
    "pdf.describe()"
   ]
  },
  {
   "cell_type": "code",
   "execution_count": 15,
   "id": "08548434-43b5-4abf-8aaf-a2c5c0feb017",
   "metadata": {},
   "outputs": [
    {
     "data": {
      "text/plain": [
       "<matplotlib.legend.Legend at 0x21c0007c820>"
      ]
     },
     "execution_count": 15,
     "metadata": {},
     "output_type": "execute_result"
    },
    {
     "data": {
      "image/png": "[encoded data removed]",
      "text/plain": [
       "<Figure size 576x576 with 1 Axes>"
      ]
     },
     "metadata": {
      "needs_background": "light"
     },
     "output_type": "display_data"
    }
   ],
   "source": [
    "plt.rc('font', size=SMALL_FONT)          # controls default text sizes\n",
    "plt.rc('axes', titlesize=BIGGER_FONT)     # fontsize of the axes title\n",
    "plt.rc('axes', labelsize=MEDIUM_FONT)    # fontsize of the x and y labels\n",
    "plt.rc('xtick', labelsize=SMALL_FONT)    # fontsize of the tick labels\n",
    "plt.rc('ytick', labelsize=SMALL_FONT)    # fontsize of the tick labels\n",
    "plt.rc('legend', fontsize=SMALL_FONT)    # legend fontsize\n",
    "plt.rc('figure', titlesize=BIGGER_FONT)  # fontsize of the figure title\n",
    "\n",
    "# rows = 7\n",
    "# cols = 7\n",
    "\n",
    "f, ax = plt.subplots(figsize=(8,8))\n",
    "\n",
    "(\n",
    "    pdf\n",
    "    .assign(jittered = lambda x: x.Data + np.random.normal(0, 0.01, x.shape[0]))\n",
    "    .plot\n",
    "    .scatter(\n",
    "        x='jittered',\n",
    "        y='Model',\n",
    "        alpha=0.015,\n",
    "        # alpha=0.05,\n",
    "        ax=ax,\n",
    "    )\n",
    ")\n",
    "\n",
    "\n",
    "ax.scatter(np.arange(0.1, 1.1, 0.1), np.arange(0.1, 1.1, 0.1), c='r', s=40, label='Correct predictions')\n",
    "        \n",
    "ax.set_xlim([0, 1.05])\n",
    "ax.set_ylim([-0.05, 1.15])\n",
    "\n",
    "ax.set_xlabel('Data')\n",
    "ax.set_ylabel('Model')\n",
    "\n",
    "# plt.tight_layout(rect=[0,0,1,0.95])\n",
    "\n",
    "ax.legend(\n",
    "    loc='upper left',\n",
    "    # bbox_to_anchor=(2.1, 1.2),\n",
    "    # ncol=2,\n",
    "    framealpha=0,\n",
    ")"
   ]
  },
  {
   "cell_type": "code",
   "execution_count": 16,
   "id": "e3bfd501-6623-430a-8047-accb433a3930",
   "metadata": {},
   "outputs": [
    {
     "data": {
      "text/html": [
       "<div>\n",
       "<style scoped>\n",
       "    .dataframe tbody tr th:only-of-type {\n",
       "        vertical-align: middle;\n",
       "    }\n",
       "\n",
       "    .dataframe tbody tr th {\n",
       "        vertical-align: top;\n",
       "    }\n",
       "\n",
       "    .dataframe thead th {\n",
       "        text-align: right;\n",
       "    }\n",
       "</style>\n",
       "<table border=\"1\" class=\"dataframe\">\n",
       "  <thead>\n",
       "    <tr style=\"text-align: right;\">\n",
       "      <th></th>\n",
       "      <th>Model</th>\n",
       "      <th>Model2</th>\n",
       "      <th>Data</th>\n",
       "    </tr>\n",
       "  </thead>\n",
       "  <tbody>\n",
       "    <tr>\n",
       "      <th>Model</th>\n",
       "      <td>1.000000</td>\n",
       "      <td>0.999033</td>\n",
       "      <td>0.945382</td>\n",
       "    </tr>\n",
       "    <tr>\n",
       "      <th>Model2</th>\n",
       "      <td>0.999033</td>\n",
       "      <td>1.000000</td>\n",
       "      <td>0.945368</td>\n",
       "    </tr>\n",
       "    <tr>\n",
       "      <th>Data</th>\n",
       "      <td>0.945382</td>\n",
       "      <td>0.945368</td>\n",
       "      <td>1.000000</td>\n",
       "    </tr>\n",
       "  </tbody>\n",
       "</table>\n",
       "</div>"
      ],
      "text/plain": [
       "           Model    Model2      Data\n",
       "Model   1.000000  0.999033  0.945382\n",
       "Model2  0.999033  1.000000  0.945368\n",
       "Data    0.945382  0.945368  1.000000"
      ]
     },
     "execution_count": 16,
     "metadata": {},
     "output_type": "execute_result"
    }
   ],
   "source": [
    "pdf.corr()"
   ]
  },
  {
   "cell_type": "markdown",
   "id": "e14244ea-e8c2-4241-8840-9b4bb343c580",
   "metadata": {},
   "source": [
    "# Save"
   ]
  },
  {
   "cell_type": "code",
   "execution_count": 17,
   "id": "dbfee2af-b21c-4bfe-9fbe-ecac3a233b15",
   "metadata": {},
   "outputs": [],
   "source": [
    "f.savefig('../figures/paper/appm_fig2.jpg', dpi=300, bbox_inches=\"tight\")"
   ]
  },
  {
   "cell_type": "code",
   "execution_count": 18,
   "id": "009824af-9309-4407-b603-447874a0515f",
   "metadata": {},
   "outputs": [],
   "source": [
    "from scipy.stats import linregress"
   ]
  },
  {
   "cell_type": "code",
   "execution_count": 19,
   "id": "e6e553fa-de12-4714-addd-b5a3c8c7ed9b",
   "metadata": {},
   "outputs": [
    {
     "data": {
      "text/plain": [
       "0.8937480104146672"
      ]
     },
     "execution_count": 19,
     "metadata": {},
     "output_type": "execute_result"
    }
   ],
   "source": [
    "# slope, intercept, r_value, p_value, std_err = scipy.stats.linregress(x, y)\n",
    "slope, intercept, r_value, p_value, std_err = linregress(pdf.Data, pdf.Model)\n",
    "\n",
    "r_value**2"
   ]
  },
  {
   "cell_type": "code",
   "execution_count": 20,
   "id": "d534fd35-ef7f-40d2-b079-ba51c53c3b8b",
   "metadata": {},
   "outputs": [
    {
     "data": {
      "text/plain": [
       "LinregressResult(slope=0.8639881035601774, intercept=0.11007902634501376, rvalue=0.9453676435471405, pvalue=0.0, stderr=0.0011261338779527967, intercept_stderr=0.0009852196775831353)"
      ]
     },
     "execution_count": 20,
     "metadata": {},
     "output_type": "execute_result"
    }
   ],
   "source": [
    "linregress(pdf.Data, pdf.Model2)"
   ]
  },
  {
   "cell_type": "code",
   "execution_count": null,
   "id": "82760b55-0719-4fe5-8dda-3b34b1b8ce82",
   "metadata": {},
   "outputs": [],
   "source": []
  }
 ],
 "metadata": {
  "kernelspec": {
   "display_name": "poly2_kernel",
   "language": "python",
   "name": "poly2_kernel"
  },
  "language_info": {
   "codemirror_mode": {
    "name": "ipython",
    "version": 3
   },
   "file_extension": ".py",
   "mimetype": "text/x-python",
   "name": "python",
   "nbconvert_exporter": "python",
   "pygments_lexer": "ipython3",
   "version": "3.8.12"
  }
 },
 "nbformat": 4,
 "nbformat_minor": 5
}
