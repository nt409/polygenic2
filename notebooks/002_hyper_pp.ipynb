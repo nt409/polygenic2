{
 "cells": [
  {
   "cell_type": "markdown",
   "id": "59d8512c-fd3a-4ab2-ae04-05bfe55bf48e",
   "metadata": {},
   "source": [
    "# XGB test\n"
   ]
  },
  {
   "cell_type": "code",
   "execution_count": 218,
   "id": "10a4e91c-2ac1-4c97-9800-7dea3cb6c2df",
   "metadata": {},
   "outputs": [
    {
     "name": "stdout",
     "output_type": "stream",
     "text": [
      "The autoreload extension is already loaded. To reload it, use:\n",
      "  %reload_ext autoreload\n"
     ]
    }
   ],
   "source": [
    "%load_ext autoreload\n",
    "%autoreload 2\n",
    "\n",
    "# %matplotlib widget"
   ]
  },
  {
   "cell_type": "code",
   "execution_count": 219,
   "id": "f598092b-71c1-4fde-bb78-b6551f449484",
   "metadata": {},
   "outputs": [],
   "source": [
    "import pandas as pd\n",
    "\n",
    "import seaborn as sns\n",
    "\n",
    "from math import log\n",
    "\n",
    "import numpy as np\n",
    "import matplotlib.pyplot as plt\n",
    "\n",
    "from tqdm import tqdm\n",
    "\n",
    "from xgboost import XGBRegressor\n",
    "# import shap\n",
    "\n",
    "\n",
    "from sklearn.metrics import mean_squared_error\n",
    "from sklearn.model_selection import KFold\n",
    "\n",
    "from plots2.fns import (\n",
    "    get_corner_annotations,\n",
    "    get_corner_annotations_custom_labels,\n",
    ")\n",
    "\n",
    "from poly2.utils import trait_vec, gamma_dist, object_dump, object_load\n",
    "from poly2.config import Config"
   ]
  },
  {
   "cell_type": "code",
   "execution_count": 220,
   "id": "fe242fd7-08d4-428b-9e0b-f4ca2709c672",
   "metadata": {},
   "outputs": [],
   "source": [
    "from poly2.utils import load_train_test_data, HyperparamsObj\n",
    "import optuna\n",
    "from optuna.samplers import TPESampler"
   ]
  },
  {
   "cell_type": "markdown",
   "id": "d3272ecc-51ea-417a-a27d-f3926abbd7a9",
   "metadata": {},
   "source": [
    "# combine hyperparam dfs"
   ]
  },
  {
   "cell_type": "code",
   "execution_count": 249,
   "id": "55065558-69a0-4d17-873b-9f0166076bab",
   "metadata": {},
   "outputs": [],
   "source": [
    "def combine_hyperparam_dfs(model):\n",
    "    df = (\n",
    "        pd.read_csv(f'../outputs/hyperparams/{model}.csv')\n",
    "        .sort_values('best_cv_score')\n",
    "    )\n",
    "    \n",
    "    if True:\n",
    "        fn = f'../outputs/hyperparams/best/{model}.csv'\n",
    "        print(f'saving to {fn}')\n",
    "        df.head(1).to_csv(fn, index=False)\n",
    "    return df"
   ]
  },
  {
   "cell_type": "code",
   "execution_count": 296,
   "id": "ca7233ee-d9df-44b5-bb2e-919e8cd23e7f",
   "metadata": {},
   "outputs": [],
   "source": [
    "MODEL = 'cumulative'"
   ]
  },
  {
   "cell_type": "code",
   "execution_count": 297,
   "id": "207329a5-5c91-4f0f-bede-471262d7f3cb",
   "metadata": {},
   "outputs": [
    {
     "name": "stdout",
     "output_type": "stream",
     "text": [
      "saving to ../outputs/hyperparams/best/cumulative.csv\n"
     ]
    }
   ],
   "source": [
    "df = combine_hyperparam_dfs(MODEL)"
   ]
  },
  {
   "cell_type": "code",
   "execution_count": 298,
   "id": "e3a3f4d4-b480-42f8-bf7f-90c7e9e742f1",
   "metadata": {},
   "outputs": [
    {
     "data": {
      "text/html": [
       "<div>\n",
       "<style scoped>\n",
       "    .dataframe tbody tr th:only-of-type {\n",
       "        vertical-align: middle;\n",
       "    }\n",
       "\n",
       "    .dataframe tbody tr th {\n",
       "        vertical-align: top;\n",
       "    }\n",
       "\n",
       "    .dataframe thead th {\n",
       "        text-align: right;\n",
       "    }\n",
       "</style>\n",
       "<table border=\"1\" class=\"dataframe\">\n",
       "  <thead>\n",
       "    <tr style=\"text-align: right;\">\n",
       "      <th></th>\n",
       "      <th>max_depth</th>\n",
       "      <th>n_estimators</th>\n",
       "      <th>learning_rate</th>\n",
       "      <th>subsample</th>\n",
       "      <th>colsample_bytree</th>\n",
       "      <th>tree_method</th>\n",
       "      <th>model</th>\n",
       "      <th>default_cv_score</th>\n",
       "      <th>best_cv_score</th>\n",
       "      <th>rmse_test</th>\n",
       "      <th>rmse_train</th>\n",
       "      <th>rmse_test_def</th>\n",
       "      <th>number</th>\n",
       "    </tr>\n",
       "  </thead>\n",
       "  <tbody>\n",
       "    <tr>\n",
       "      <th>104</th>\n",
       "      <td>8</td>\n",
       "      <td>824</td>\n",
       "      <td>0.038247</td>\n",
       "      <td>0.815209</td>\n",
       "      <td>0.973270</td>\n",
       "      <td>hist</td>\n",
       "      <td>cumulative</td>\n",
       "      <td>0.061718</td>\n",
       "      <td>0.049272</td>\n",
       "      <td>0.043690</td>\n",
       "      <td>0.016437</td>\n",
       "      <td>0.05694</td>\n",
       "      <td>30</td>\n",
       "    </tr>\n",
       "    <tr>\n",
       "      <th>110</th>\n",
       "      <td>8</td>\n",
       "      <td>1127</td>\n",
       "      <td>0.016080</td>\n",
       "      <td>0.745699</td>\n",
       "      <td>0.943711</td>\n",
       "      <td>hist</td>\n",
       "      <td>cumulative</td>\n",
       "      <td>0.061718</td>\n",
       "      <td>0.049417</td>\n",
       "      <td>0.044358</td>\n",
       "      <td>0.019745</td>\n",
       "      <td>0.05694</td>\n",
       "      <td>11</td>\n",
       "    </tr>\n",
       "    <tr>\n",
       "      <th>55</th>\n",
       "      <td>8</td>\n",
       "      <td>874</td>\n",
       "      <td>0.037557</td>\n",
       "      <td>0.807692</td>\n",
       "      <td>0.884989</td>\n",
       "      <td>hist</td>\n",
       "      <td>cumulative</td>\n",
       "      <td>0.061718</td>\n",
       "      <td>0.049428</td>\n",
       "      <td>0.043610</td>\n",
       "      <td>0.016215</td>\n",
       "      <td>0.05694</td>\n",
       "      <td>9</td>\n",
       "    </tr>\n",
       "    <tr>\n",
       "      <th>168</th>\n",
       "      <td>8</td>\n",
       "      <td>1290</td>\n",
       "      <td>0.061905</td>\n",
       "      <td>0.824162</td>\n",
       "      <td>0.940336</td>\n",
       "      <td>hist</td>\n",
       "      <td>cumulative</td>\n",
       "      <td>0.061718</td>\n",
       "      <td>0.049508</td>\n",
       "      <td>0.044191</td>\n",
       "      <td>0.011116</td>\n",
       "      <td>0.05694</td>\n",
       "      <td>38</td>\n",
       "    </tr>\n",
       "    <tr>\n",
       "      <th>99</th>\n",
       "      <td>8</td>\n",
       "      <td>1557</td>\n",
       "      <td>0.011411</td>\n",
       "      <td>0.708540</td>\n",
       "      <td>0.922726</td>\n",
       "      <td>hist</td>\n",
       "      <td>cumulative</td>\n",
       "      <td>0.061718</td>\n",
       "      <td>0.049591</td>\n",
       "      <td>0.044374</td>\n",
       "      <td>0.019822</td>\n",
       "      <td>0.05694</td>\n",
       "      <td>43</td>\n",
       "    </tr>\n",
       "  </tbody>\n",
       "</table>\n",
       "</div>"
      ],
      "text/plain": [
       "     max_depth  n_estimators  learning_rate  subsample  colsample_bytree  \\\n",
       "104          8           824       0.038247   0.815209          0.973270   \n",
       "110          8          1127       0.016080   0.745699          0.943711   \n",
       "55           8           874       0.037557   0.807692          0.884989   \n",
       "168          8          1290       0.061905   0.824162          0.940336   \n",
       "99           8          1557       0.011411   0.708540          0.922726   \n",
       "\n",
       "    tree_method       model  default_cv_score  best_cv_score  rmse_test  \\\n",
       "104        hist  cumulative          0.061718       0.049272   0.043690   \n",
       "110        hist  cumulative          0.061718       0.049417   0.044358   \n",
       "55         hist  cumulative          0.061718       0.049428   0.043610   \n",
       "168        hist  cumulative          0.061718       0.049508   0.044191   \n",
       "99         hist  cumulative          0.061718       0.049591   0.044374   \n",
       "\n",
       "     rmse_train  rmse_test_def  number  \n",
       "104    0.016437        0.05694      30  \n",
       "110    0.019745        0.05694      11  \n",
       "55     0.016215        0.05694       9  \n",
       "168    0.011116        0.05694      38  \n",
       "99     0.019822        0.05694      43  "
      ]
     },
     "execution_count": 298,
     "metadata": {},
     "output_type": "execute_result"
    }
   ],
   "source": [
    "df.head()"
   ]
  },
  {
   "cell_type": "markdown",
   "id": "197cd066-b42d-479b-8463-412ea74143a1",
   "metadata": {},
   "source": [
    "Visualise the dataset of the best result from each of the 200 runs of 50"
   ]
  },
  {
   "cell_type": "code",
   "execution_count": 299,
   "id": "e80b2290-1093-4147-b9a1-667ba0dfbd54",
   "metadata": {},
   "outputs": [
    {
     "data": {
      "text/plain": [
       "<seaborn.axisgrid.PairGrid at 0x1c9ad378cd0>"
      ]
     },
     "execution_count": 299,
     "metadata": {},
     "output_type": "execute_result"
    },
    {
     "data": {
      "image/png": "[encoded data removed]",
      "text/plain": [
       "<Figure size 1080x180 with 7 Axes>"
      ]
     },
     "metadata": {
      "needs_background": "light"
     },
     "output_type": "display_data"
    }
   ],
   "source": [
    "sns.pairplot(\n",
    "    df.loc[:, [\n",
    "        'best_cv_score', \n",
    "        'max_depth',\n",
    "        'n_estimators',\n",
    "        'learning_rate',\n",
    "        'subsample',\n",
    "        'colsample_bytree',\n",
    "    ]],\n",
    "    # corner=True,\n",
    "    y_vars=['best_cv_score'],\n",
    "    # hue='best_cv_score',\n",
    "    # palette='rocket',\n",
    ")"
   ]
  },
  {
   "cell_type": "markdown",
   "id": "c29106ca-e77d-4788-b287-814abe0ca663",
   "metadata": {},
   "source": [
    "# Can we replicate?\n",
    "\n",
    "Might have to be satisfied if agree to XX s.f. because of floating point errors / inexact saving"
   ]
  },
  {
   "cell_type": "code",
   "execution_count": 300,
   "id": "864097fa-f19a-4cca-8d63-0ff4d768f1f5",
   "metadata": {},
   "outputs": [],
   "source": [
    "best_pars = (\n",
    "    df\n",
    "    .head(1)\n",
    "    .loc[:, [\n",
    "        'max_depth',\n",
    "        'n_estimators',\n",
    "        'learning_rate',\n",
    "        'subsample',\n",
    "        'colsample_bytree',\n",
    "        'tree_method',\n",
    "    ]]\n",
    "    .iloc[0]\n",
    "    .to_dict()\n",
    ")"
   ]
  },
  {
   "cell_type": "code",
   "execution_count": 301,
   "id": "a5c4db94-9aef-42c9-aa57-4739e6274d70",
   "metadata": {},
   "outputs": [],
   "source": [
    "X_train, y_train, X_test, y_test = load_train_test_data(MODEL)"
   ]
  },
  {
   "cell_type": "code",
   "execution_count": 302,
   "id": "248ff73d-90f5-4acd-a966-420595f39c24",
   "metadata": {},
   "outputs": [
    {
     "name": "stderr",
     "output_type": "stream",
     "text": [
      "pandas.Int64Index is deprecated and will be removed from pandas in a future version. Use pandas.Index with the appropriate dtype instead.\n"
     ]
    }
   ],
   "source": [
    "best_model = XGBRegressor(**best_pars).fit(X_train, y_train)"
   ]
  },
  {
   "cell_type": "code",
   "execution_count": 303,
   "id": "ac5969be-a937-4a01-ae8d-1d7f628b2d37",
   "metadata": {},
   "outputs": [],
   "source": [
    "yp_train = best_model.predict(X_train)\n",
    "yp_test = best_model.predict(X_test)"
   ]
  },
  {
   "cell_type": "code",
   "execution_count": 304,
   "id": "42326d68-713e-481c-84f1-a9c8a10fae34",
   "metadata": {},
   "outputs": [],
   "source": [
    "rmse_train = mean_squared_error(yp_train, y_train, squared=False)\n",
    "rmse_test = mean_squared_error(yp_test, y_test, squared=False)"
   ]
  },
  {
   "cell_type": "code",
   "execution_count": 305,
   "id": "5a20f5e0-b0f9-4d35-b93e-438827502b14",
   "metadata": {},
   "outputs": [
    {
     "data": {
      "text/plain": [
       "(0.044345, 0.016473)"
      ]
     },
     "execution_count": 305,
     "metadata": {},
     "output_type": "execute_result"
    }
   ],
   "source": [
    "rmse_test.round(6), rmse_train.round(6)"
   ]
  },
  {
   "cell_type": "code",
   "execution_count": 306,
   "id": "6c477ffb-053d-40b5-ab41-bd3500054e85",
   "metadata": {},
   "outputs": [
    {
     "data": {
      "text/html": [
       "<div>\n",
       "<style scoped>\n",
       "    .dataframe tbody tr th:only-of-type {\n",
       "        vertical-align: middle;\n",
       "    }\n",
       "\n",
       "    .dataframe tbody tr th {\n",
       "        vertical-align: top;\n",
       "    }\n",
       "\n",
       "    .dataframe thead th {\n",
       "        text-align: right;\n",
       "    }\n",
       "</style>\n",
       "<table border=\"1\" class=\"dataframe\">\n",
       "  <thead>\n",
       "    <tr style=\"text-align: right;\">\n",
       "      <th></th>\n",
       "      <th>rmse_test</th>\n",
       "      <th>rmse_train</th>\n",
       "    </tr>\n",
       "  </thead>\n",
       "  <tbody>\n",
       "    <tr>\n",
       "      <th>104</th>\n",
       "      <td>0.04369</td>\n",
       "      <td>0.016437</td>\n",
       "    </tr>\n",
       "  </tbody>\n",
       "</table>\n",
       "</div>"
      ],
      "text/plain": [
       "     rmse_test  rmse_train\n",
       "104    0.04369    0.016437"
      ]
     },
     "execution_count": 306,
     "metadata": {},
     "output_type": "execute_result"
    }
   ],
   "source": [
    "df.filter(like='rmse_').head(1).drop(['rmse_test_def'], axis=1)"
   ]
  },
  {
   "cell_type": "code",
   "execution_count": null,
   "id": "0c31463a-b6c9-4ed6-84ba-b44d6d0e5bbd",
   "metadata": {},
   "outputs": [],
   "source": []
  }
 ],
 "metadata": {
  "kernelspec": {
   "display_name": "poly2_kernel",
   "language": "python",
   "name": "poly2_kernel"
  },
  "language_info": {
   "codemirror_mode": {
    "name": "ipython",
    "version": 3
   },
   "file_extension": ".py",
   "mimetype": "text/x-python",
   "name": "python",
   "nbconvert_exporter": "python",
   "pygments_lexer": "ipython3",
   "version": "3.8.12"
  }
 },
 "nbformat": 4,
 "nbformat_minor": 5
}
