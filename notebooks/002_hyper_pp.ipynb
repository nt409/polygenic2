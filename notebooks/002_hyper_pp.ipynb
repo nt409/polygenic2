{
 "cells": [
  {
   "cell_type": "markdown",
   "id": "59d8512c-fd3a-4ab2-ae04-05bfe55bf48e",
   "metadata": {},
   "source": [
    "# XGB test\n"
   ]
  },
  {
   "cell_type": "code",
   "execution_count": 1,
   "id": "10a4e91c-2ac1-4c97-9800-7dea3cb6c2df",
   "metadata": {},
   "outputs": [],
   "source": [
    "%load_ext autoreload\n",
    "%autoreload 2\n",
    "\n",
    "# %matplotlib widget"
   ]
  },
  {
   "cell_type": "code",
   "execution_count": 2,
   "id": "f598092b-71c1-4fde-bb78-b6551f449484",
   "metadata": {},
   "outputs": [
    {
     "name": "stderr",
     "output_type": "stream",
     "text": [
      "C:\\Users\\user\\anaconda3\\envs\\poly2\\lib\\site-packages\\xgboost\\compat.py:36: FutureWarning: pandas.Int64Index is deprecated and will be removed from pandas in a future version. Use pandas.Index with the appropriate dtype instead.\n",
      "  from pandas import MultiIndex, Int64Index\n"
     ]
    }
   ],
   "source": [
    "import pandas as pd\n",
    "\n",
    "import seaborn as sns\n",
    "\n",
    "from math import log\n",
    "\n",
    "import numpy as np\n",
    "import matplotlib.pyplot as plt\n",
    "\n",
    "from tqdm import tqdm\n",
    "\n",
    "from xgboost import XGBRegressor\n",
    "# import shap\n",
    "\n",
    "\n",
    "from sklearn.metrics import mean_squared_error\n",
    "from sklearn.model_selection import KFold\n",
    "\n",
    "from plots2.fns import (\n",
    "    get_corner_annotations,\n",
    "    get_corner_annotations_custom_labels,\n",
    ")\n",
    "\n",
    "from poly2.utils import trait_vec, gamma_dist, object_dump, object_load\n",
    "from poly2.config import Config"
   ]
  },
  {
   "cell_type": "code",
   "execution_count": 3,
   "id": "fe242fd7-08d4-428b-9e0b-f4ca2709c672",
   "metadata": {},
   "outputs": [],
   "source": [
    "from poly2.utils import load_train_test_data, HyperparamsObj\n",
    "import optuna\n",
    "from optuna.samplers import TPESampler"
   ]
  },
  {
   "cell_type": "markdown",
   "id": "d3272ecc-51ea-417a-a27d-f3926abbd7a9",
   "metadata": {},
   "source": [
    "# combine hyperparam dfs"
   ]
  },
  {
   "cell_type": "code",
   "execution_count": 4,
   "id": "55065558-69a0-4d17-873b-9f0166076bab",
   "metadata": {},
   "outputs": [],
   "source": [
    "def combine_hyperparam_dfs(model):\n",
    "    df = (\n",
    "        pd.read_csv(f'../outputs/hyperparams/{model}.csv')\n",
    "        .sort_values('best_cv_score')\n",
    "    )\n",
    "    \n",
    "    if True:\n",
    "        fn = f'../outputs/hyperparams/best/{model}.csv'\n",
    "        print(f'saving to {fn}')\n",
    "        df.head(1).to_csv(fn, index=False)\n",
    "    return df"
   ]
  },
  {
   "cell_type": "code",
   "execution_count": 13,
   "id": "ca7233ee-d9df-44b5-bb2e-919e8cd23e7f",
   "metadata": {},
   "outputs": [],
   "source": [
    "MODEL = 'asymp'"
   ]
  },
  {
   "cell_type": "code",
   "execution_count": 14,
   "id": "207329a5-5c91-4f0f-bede-471262d7f3cb",
   "metadata": {},
   "outputs": [
    {
     "name": "stdout",
     "output_type": "stream",
     "text": [
      "saving to ../outputs/hyperparams/best/asymp.csv\n"
     ]
    }
   ],
   "source": [
    "df = combine_hyperparam_dfs(MODEL)"
   ]
  },
  {
   "cell_type": "code",
   "execution_count": 15,
   "id": "e3a3f4d4-b480-42f8-bf7f-90c7e9e742f1",
   "metadata": {},
   "outputs": [
    {
     "data": {
      "text/html": [
       "<div>\n",
       "<style scoped>\n",
       "    .dataframe tbody tr th:only-of-type {\n",
       "        vertical-align: middle;\n",
       "    }\n",
       "\n",
       "    .dataframe tbody tr th {\n",
       "        vertical-align: top;\n",
       "    }\n",
       "\n",
       "    .dataframe thead th {\n",
       "        text-align: right;\n",
       "    }\n",
       "</style>\n",
       "<table border=\"1\" class=\"dataframe\">\n",
       "  <thead>\n",
       "    <tr style=\"text-align: right;\">\n",
       "      <th></th>\n",
       "      <th>max_depth</th>\n",
       "      <th>n_estimators</th>\n",
       "      <th>learning_rate</th>\n",
       "      <th>subsample</th>\n",
       "      <th>colsample_bytree</th>\n",
       "      <th>tree_method</th>\n",
       "      <th>model</th>\n",
       "      <th>default_cv_score</th>\n",
       "      <th>best_cv_score</th>\n",
       "      <th>rmse_test</th>\n",
       "      <th>rmse_train</th>\n",
       "      <th>rmse_test_def</th>\n",
       "      <th>number</th>\n",
       "    </tr>\n",
       "  </thead>\n",
       "  <tbody>\n",
       "    <tr>\n",
       "      <th>99</th>\n",
       "      <td>10</td>\n",
       "      <td>1740</td>\n",
       "      <td>0.019909</td>\n",
       "      <td>0.546807</td>\n",
       "      <td>0.887985</td>\n",
       "      <td>hist</td>\n",
       "      <td>asymp</td>\n",
       "      <td>0.149522</td>\n",
       "      <td>0.117331</td>\n",
       "      <td>0.116259</td>\n",
       "      <td>0.039730</td>\n",
       "      <td>0.15013</td>\n",
       "      <td>3</td>\n",
       "    </tr>\n",
       "    <tr>\n",
       "      <th>92</th>\n",
       "      <td>11</td>\n",
       "      <td>1312</td>\n",
       "      <td>0.026453</td>\n",
       "      <td>0.504260</td>\n",
       "      <td>0.942453</td>\n",
       "      <td>hist</td>\n",
       "      <td>asymp</td>\n",
       "      <td>0.149522</td>\n",
       "      <td>0.118195</td>\n",
       "      <td>0.117108</td>\n",
       "      <td>0.029533</td>\n",
       "      <td>0.15013</td>\n",
       "      <td>21</td>\n",
       "    </tr>\n",
       "    <tr>\n",
       "      <th>2</th>\n",
       "      <td>10</td>\n",
       "      <td>1426</td>\n",
       "      <td>0.039033</td>\n",
       "      <td>0.693450</td>\n",
       "      <td>0.913072</td>\n",
       "      <td>hist</td>\n",
       "      <td>asymp</td>\n",
       "      <td>0.149522</td>\n",
       "      <td>0.118315</td>\n",
       "      <td>0.117620</td>\n",
       "      <td>0.029628</td>\n",
       "      <td>0.15013</td>\n",
       "      <td>47</td>\n",
       "    </tr>\n",
       "    <tr>\n",
       "      <th>180</th>\n",
       "      <td>11</td>\n",
       "      <td>1033</td>\n",
       "      <td>0.017964</td>\n",
       "      <td>0.762333</td>\n",
       "      <td>0.955785</td>\n",
       "      <td>hist</td>\n",
       "      <td>asymp</td>\n",
       "      <td>0.149522</td>\n",
       "      <td>0.118479</td>\n",
       "      <td>0.117928</td>\n",
       "      <td>0.035552</td>\n",
       "      <td>0.15013</td>\n",
       "      <td>40</td>\n",
       "    </tr>\n",
       "    <tr>\n",
       "      <th>135</th>\n",
       "      <td>9</td>\n",
       "      <td>1409</td>\n",
       "      <td>0.025953</td>\n",
       "      <td>0.943912</td>\n",
       "      <td>0.887952</td>\n",
       "      <td>hist</td>\n",
       "      <td>asymp</td>\n",
       "      <td>0.149522</td>\n",
       "      <td>0.118626</td>\n",
       "      <td>0.117846</td>\n",
       "      <td>0.049861</td>\n",
       "      <td>0.15013</td>\n",
       "      <td>7</td>\n",
       "    </tr>\n",
       "  </tbody>\n",
       "</table>\n",
       "</div>"
      ],
      "text/plain": [
       "     max_depth  n_estimators  learning_rate  subsample  colsample_bytree  \\\n",
       "99          10          1740       0.019909   0.546807          0.887985   \n",
       "92          11          1312       0.026453   0.504260          0.942453   \n",
       "2           10          1426       0.039033   0.693450          0.913072   \n",
       "180         11          1033       0.017964   0.762333          0.955785   \n",
       "135          9          1409       0.025953   0.943912          0.887952   \n",
       "\n",
       "    tree_method  model  default_cv_score  best_cv_score  rmse_test  \\\n",
       "99         hist  asymp          0.149522       0.117331   0.116259   \n",
       "92         hist  asymp          0.149522       0.118195   0.117108   \n",
       "2          hist  asymp          0.149522       0.118315   0.117620   \n",
       "180        hist  asymp          0.149522       0.118479   0.117928   \n",
       "135        hist  asymp          0.149522       0.118626   0.117846   \n",
       "\n",
       "     rmse_train  rmse_test_def  number  \n",
       "99     0.039730        0.15013       3  \n",
       "92     0.029533        0.15013      21  \n",
       "2      0.029628        0.15013      47  \n",
       "180    0.035552        0.15013      40  \n",
       "135    0.049861        0.15013       7  "
      ]
     },
     "execution_count": 15,
     "metadata": {},
     "output_type": "execute_result"
    }
   ],
   "source": [
    "df.head()"
   ]
  },
  {
   "cell_type": "markdown",
   "id": "197cd066-b42d-479b-8463-412ea74143a1",
   "metadata": {},
   "source": [
    "Visualise the dataset of the best result from each of the 200 runs of 50"
   ]
  },
  {
   "cell_type": "code",
   "execution_count": 16,
   "id": "e80b2290-1093-4147-b9a1-667ba0dfbd54",
   "metadata": {},
   "outputs": [
    {
     "data": {
      "text/plain": [
       "<seaborn.axisgrid.PairGrid at 0x1e43249e190>"
      ]
     },
     "execution_count": 16,
     "metadata": {},
     "output_type": "execute_result"
    },
    {
     "data": {
      "image/png": "[encoded data removed]",
      "text/plain": [
       "<Figure size 1080x180 with 7 Axes>"
      ]
     },
     "metadata": {
      "needs_background": "light"
     },
     "output_type": "display_data"
    }
   ],
   "source": [
    "sns.pairplot(\n",
    "    df.loc[:, [\n",
    "        'best_cv_score', \n",
    "        'max_depth',\n",
    "        'n_estimators',\n",
    "        'learning_rate',\n",
    "        'subsample',\n",
    "        'colsample_bytree',\n",
    "    ]],\n",
    "    # corner=True,\n",
    "    y_vars=['best_cv_score'],\n",
    "    # hue='best_cv_score',\n",
    "    # palette='rocket',\n",
    ")"
   ]
  },
  {
   "cell_type": "markdown",
   "id": "c29106ca-e77d-4788-b287-814abe0ca663",
   "metadata": {},
   "source": [
    "# Can we replicate?\n",
    "\n",
    "Might have to be satisfied if agree to XX s.f. because of floating point errors / inexact saving"
   ]
  },
  {
   "cell_type": "code",
   "execution_count": 17,
   "id": "864097fa-f19a-4cca-8d63-0ff4d768f1f5",
   "metadata": {},
   "outputs": [],
   "source": [
    "best_pars = (\n",
    "    df\n",
    "    .head(1)\n",
    "    .loc[:, [\n",
    "        'max_depth',\n",
    "        'n_estimators',\n",
    "        'learning_rate',\n",
    "        'subsample',\n",
    "        'colsample_bytree',\n",
    "        'tree_method',\n",
    "    ]]\n",
    "    .iloc[0]\n",
    "    .to_dict()\n",
    ")"
   ]
  },
  {
   "cell_type": "code",
   "execution_count": 18,
   "id": "5b4355fe-be7d-48a0-a0f5-fea7d797eb6c",
   "metadata": {},
   "outputs": [
    {
     "data": {
      "text/plain": [
       "{'max_depth': 10,\n",
       " 'n_estimators': 1740,\n",
       " 'learning_rate': 0.0199085136730978,\n",
       " 'subsample': 0.5468065466488763,\n",
       " 'colsample_bytree': 0.8879850476692774,\n",
       " 'tree_method': 'hist'}"
      ]
     },
     "execution_count": 18,
     "metadata": {},
     "output_type": "execute_result"
    }
   ],
   "source": [
    "best_pars"
   ]
  },
  {
   "cell_type": "code",
   "execution_count": 301,
   "id": "a5c4db94-9aef-42c9-aa57-4739e6274d70",
   "metadata": {},
   "outputs": [],
   "source": [
    "X_train, y_train, X_test, y_test = load_train_test_data(MODEL)"
   ]
  },
  {
   "cell_type": "code",
   "execution_count": 302,
   "id": "248ff73d-90f5-4acd-a966-420595f39c24",
   "metadata": {},
   "outputs": [
    {
     "name": "stderr",
     "output_type": "stream",
     "text": [
      "pandas.Int64Index is deprecated and will be removed from pandas in a future version. Use pandas.Index with the appropriate dtype instead.\n"
     ]
    }
   ],
   "source": [
    "best_model = XGBRegressor(**best_pars).fit(X_train, y_train)"
   ]
  },
  {
   "cell_type": "code",
   "execution_count": 303,
   "id": "ac5969be-a937-4a01-ae8d-1d7f628b2d37",
   "metadata": {},
   "outputs": [],
   "source": [
    "yp_train = best_model.predict(X_train)\n",
    "yp_test = best_model.predict(X_test)"
   ]
  },
  {
   "cell_type": "code",
   "execution_count": 304,
   "id": "42326d68-713e-481c-84f1-a9c8a10fae34",
   "metadata": {},
   "outputs": [],
   "source": [
    "rmse_train = mean_squared_error(yp_train, y_train, squared=False)\n",
    "rmse_test = mean_squared_error(yp_test, y_test, squared=False)"
   ]
  },
  {
   "cell_type": "code",
   "execution_count": 305,
   "id": "5a20f5e0-b0f9-4d35-b93e-438827502b14",
   "metadata": {},
   "outputs": [
    {
     "data": {
      "text/plain": [
       "(0.044345, 0.016473)"
      ]
     },
     "execution_count": 305,
     "metadata": {},
     "output_type": "execute_result"
    }
   ],
   "source": [
    "rmse_test.round(6), rmse_train.round(6)"
   ]
  },
  {
   "cell_type": "code",
   "execution_count": 19,
   "id": "6c477ffb-053d-40b5-ab41-bd3500054e85",
   "metadata": {},
   "outputs": [
    {
     "data": {
      "text/html": [
       "<div>\n",
       "<style scoped>\n",
       "    .dataframe tbody tr th:only-of-type {\n",
       "        vertical-align: middle;\n",
       "    }\n",
       "\n",
       "    .dataframe tbody tr th {\n",
       "        vertical-align: top;\n",
       "    }\n",
       "\n",
       "    .dataframe thead th {\n",
       "        text-align: right;\n",
       "    }\n",
       "</style>\n",
       "<table border=\"1\" class=\"dataframe\">\n",
       "  <thead>\n",
       "    <tr style=\"text-align: right;\">\n",
       "      <th></th>\n",
       "      <th>rmse_test</th>\n",
       "      <th>rmse_train</th>\n",
       "    </tr>\n",
       "  </thead>\n",
       "  <tbody>\n",
       "    <tr>\n",
       "      <th>99</th>\n",
       "      <td>0.116259</td>\n",
       "      <td>0.03973</td>\n",
       "    </tr>\n",
       "  </tbody>\n",
       "</table>\n",
       "</div>"
      ],
      "text/plain": [
       "    rmse_test  rmse_train\n",
       "99   0.116259     0.03973"
      ]
     },
     "execution_count": 19,
     "metadata": {},
     "output_type": "execute_result"
    }
   ],
   "source": [
    "df.filter(like='rmse_').head(1).drop(['rmse_test_def'], axis=1)"
   ]
  },
  {
   "cell_type": "code",
   "execution_count": 23,
   "id": "8ec32f4f-59a6-421f-9fc3-5be839b3613e",
   "metadata": {},
   "outputs": [
    {
     "data": {
      "text/plain": [
       "{'max_depth': 10,\n",
       " 'n_estimators': 1740,\n",
       " 'learning_rate': 0.01991,\n",
       " 'subsample': 0.54681,\n",
       " 'colsample_bytree': 0.88799,\n",
       " 'tree_method': 'hist',\n",
       " 'model': 'asymp',\n",
       " 'default_cv_score': 0.14952,\n",
       " 'best_cv_score': 0.11733,\n",
       " 'rmse_test': 0.11626,\n",
       " 'rmse_train': 0.03973,\n",
       " 'rmse_test_def': 0.15013,\n",
       " 'number': 3}"
      ]
     },
     "execution_count": 23,
     "metadata": {},
     "output_type": "execute_result"
    }
   ],
   "source": [
    "(\n",
    "    df\n",
    "    .head(1)\n",
    "    # .loc[:,\n",
    "    #      ['\n",
    "    .round(5)\n",
    "    .iloc[0]\n",
    "    .to_dict()\n",
    ")"
   ]
  },
  {
   "cell_type": "code",
   "execution_count": null,
   "id": "2c2aaddb-48de-4f3c-a373-5ed2f371d3d3",
   "metadata": {},
   "outputs": [],
   "source": []
  }
 ],
 "metadata": {
  "kernelspec": {
   "display_name": "poly2_kernel",
   "language": "python",
   "name": "poly2_kernel"
  },
  "language_info": {
   "codemirror_mode": {
    "name": "ipython",
    "version": 3
   },
   "file_extension": ".py",
   "mimetype": "text/x-python",
   "name": "python",
   "nbconvert_exporter": "python",
   "pygments_lexer": "ipython3",
   "version": "3.8.12"
  }
 },
 "nbformat": 4,
 "nbformat_minor": 5
}
