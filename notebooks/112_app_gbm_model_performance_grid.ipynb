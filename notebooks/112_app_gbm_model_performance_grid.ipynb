{
 "cells": [
  {
   "cell_type": "markdown",
   "id": "59d8512c-fd3a-4ab2-ae04-05bfe55bf48e",
   "metadata": {},
   "source": [
    "# XGB test"
   ]
  },
  {
   "cell_type": "code",
   "execution_count": 1,
   "id": "10a4e91c-2ac1-4c97-9800-7dea3cb6c2df",
   "metadata": {},
   "outputs": [],
   "source": [
    "%load_ext autoreload\n",
    "%autoreload 2\n",
    "\n",
    "# %matplotlib widget"
   ]
  },
  {
   "cell_type": "code",
   "execution_count": 3,
   "id": "f598092b-71c1-4fde-bb78-b6551f449484",
   "metadata": {},
   "outputs": [],
   "source": [
    "import pandas as pd\n",
    "\n",
    "import seaborn as sns\n",
    "\n",
    "from math import log, floor\n",
    "\n",
    "import numpy as np\n",
    "import matplotlib.pyplot as plt\n",
    "\n",
    "from tqdm import tqdm\n",
    "\n",
    "from xgboost import XGBRegressor\n",
    "import shap\n",
    "\n",
    "\n",
    "from sklearn.metrics import mean_squared_error\n",
    "from sklearn.model_selection import KFold\n",
    "\n",
    "from plots2.fns import (\n",
    "    # standard_layout,\n",
    "    # corner_annotations_colwise,\n",
    "    # corner_annotations_rowwise,\n",
    "    # get_text_annotation,\n",
    "    get_corner_annotations,\n",
    "    get_corner_annotations_custom_labels,\n",
    "    # get_corner_annotations_explicit\n",
    ")\n",
    "\n",
    "from plots2.consts import (\n",
    "    SMALL_FONT,\n",
    "    MEDIUM_FONT,\n",
    "    BIGGER_FONT,\n",
    "    SHAP_BLUE\n",
    ")\n",
    "\n",
    "from poly2.utils import trait_vec, gamma_dist, object_dump, object_load, load_train_test_data\n",
    "from poly2.config import Config, ConfigMixture, get_asymptote_config"
   ]
  },
  {
   "cell_type": "code",
   "execution_count": 4,
   "id": "9c316947-f565-4d6a-afb6-e2bf53e36a07",
   "metadata": {},
   "outputs": [],
   "source": [
    "X_cv, y_cv, X_test, y_test = load_train_test_data('all')"
   ]
  },
  {
   "cell_type": "markdown",
   "id": "c66f4e7a-828b-4cf5-85fa-922e6b2e83b5",
   "metadata": {},
   "source": [
    "## Squared error"
   ]
  },
  {
   "cell_type": "code",
   "execution_count": 6,
   "id": "8a0f3c07-724c-4dd7-8e0d-bf2628f1dff0",
   "metadata": {},
   "outputs": [
    {
     "name": "stdout",
     "output_type": "stream",
     "text": [
      "Wall time: 1.67 s\n"
     ]
    }
   ],
   "source": [
    "%%time\n",
    "\n",
    "xgb = XGBRegressor()\n",
    "\n",
    "xgb.load_model('../outputs/xgb/all.json')"
   ]
  },
  {
   "cell_type": "code",
   "execution_count": 7,
   "id": "7336a6e9-0326-4a26-a217-f03e2e4fabf5",
   "metadata": {},
   "outputs": [
    {
     "name": "stderr",
     "output_type": "stream",
     "text": [
      "pandas.Int64Index is deprecated and will be removed from pandas in a future version. Use pandas.Index with the appropriate dtype instead.\n"
     ]
    },
    {
     "name": "stdout",
     "output_type": "stream",
     "text": [
      "Wall time: 2min 9s\n"
     ]
    }
   ],
   "source": [
    "%%time\n",
    "\n",
    "xgb.fit(X_cv, y_cv)\n",
    "\n",
    "y_p = xgb.predict(X_test)"
   ]
  },
  {
   "cell_type": "markdown",
   "id": "f7640dec-3c19-4b2f-8f41-b796c8e511ac",
   "metadata": {},
   "source": [
    "## Compare with Pseudo huber error"
   ]
  },
  {
   "cell_type": "code",
   "execution_count": 5,
   "id": "83541ba9-1c86-4a83-bdf6-cfddb3a5dacd",
   "metadata": {},
   "outputs": [
    {
     "data": {
      "text/plain": [
       "{'max_depth': 16,\n",
       " 'n_estimators': 10,\n",
       " 'learning_rate': 0.0371213285319188,\n",
       " 'subsample': 0.8744019412693059,\n",
       " 'colsample_bytree': 0.6991042073815543,\n",
       " 'objective': 'reg:pseudohubererror'}"
      ]
     },
     "execution_count": 5,
     "metadata": {},
     "output_type": "execute_result"
    }
   ],
   "source": [
    "hyperparams = (\n",
    "    pd.read_csv('../outputs/hyperparams/all.csv')\n",
    "    .iloc[0]\n",
    "    .to_dict()\n",
    ")\n",
    "\n",
    "hyperparams['max_depth'] = int(hyperparams['max_depth'])\n",
    "hyperparams['n_estimators'] = int(hyperparams['n_estimators'])\n",
    "\n",
    "hyperparams['objective'] = 'reg:pseudohubererror'\n",
    "\n",
    "hyperparams"
   ]
  },
  {
   "cell_type": "code",
   "execution_count": 9,
   "id": "3d4df981-dd49-44c5-a2d7-c555a83d7961",
   "metadata": {},
   "outputs": [
    {
     "name": "stderr",
     "output_type": "stream",
     "text": [
      "pandas.Int64Index is deprecated and will be removed from pandas in a future version. Use pandas.Index with the appropriate dtype instead.\n"
     ]
    },
    {
     "name": "stdout",
     "output_type": "stream",
     "text": [
      "Wall time: 2min 21s\n"
     ]
    },
    {
     "data": {
      "text/plain": [
       "XGBRegressor(base_score=0.5, booster='gbtree', colsample_bylevel=1,\n",
       "             colsample_bynode=1, colsample_bytree=0.943486029986996,\n",
       "             enable_categorical=False, gamma=0, gpu_id=-1, importance_type=None,\n",
       "             interaction_constraints='', learning_rate=0.0182387397607204,\n",
       "             max_delta_step=0, max_depth=10, min_child_weight=1, missing=nan,\n",
       "             monotone_constraints='()', n_estimators=853, n_jobs=8,\n",
       "             num_parallel_tree=1, objective='reg:pseudohubererror',\n",
       "             predictor='auto', random_state=0, reg_alpha=0, reg_lambda=1,\n",
       "             scale_pos_weight=1, subsample=0.721624617726085,\n",
       "             tree_method='exact', validate_parameters=1, verbosity=None)"
      ]
     },
     "execution_count": 9,
     "metadata": {},
     "output_type": "execute_result"
    }
   ],
   "source": [
    "%%time\n",
    "\n",
    "xgb2 = XGBRegressor(**hyperparams)\n",
    "\n",
    "xgb2.fit(X_cv, y_cv)"
   ]
  },
  {
   "cell_type": "code",
   "execution_count": 10,
   "id": "c2f7d072-fa7d-43b2-87e3-afb66c946473",
   "metadata": {},
   "outputs": [],
   "source": [
    "y_p2 = xgb2.predict(X_test)"
   ]
  },
  {
   "cell_type": "markdown",
   "id": "e77ccda3-b43b-4250-8146-22d0bf95ad6d",
   "metadata": {},
   "source": [
    "## Plot"
   ]
  },
  {
   "cell_type": "code",
   "execution_count": 11,
   "id": "fca2d90c-484c-4e14-ae2a-725eb757d1b1",
   "metadata": {},
   "outputs": [
    {
     "data": {
      "text/plain": [
       "0.1086953213543925"
      ]
     },
     "execution_count": 11,
     "metadata": {},
     "output_type": "execute_result"
    }
   ],
   "source": [
    "mean_squared_error(y_p, y_test[:, 0], squared=False)"
   ]
  },
  {
   "cell_type": "code",
   "execution_count": 12,
   "id": "03cf74c1-4c51-418c-ab87-9c2343b1373d",
   "metadata": {},
   "outputs": [
    {
     "data": {
      "text/plain": [
       "0.10868153916874275"
      ]
     },
     "execution_count": 12,
     "metadata": {},
     "output_type": "execute_result"
    }
   ],
   "source": [
    "mean_squared_error(y_p2, y_test[:, 0], squared=False)"
   ]
  },
  {
   "cell_type": "code",
   "execution_count": 13,
   "id": "0751b013-309f-4166-8c68-5769d1f5524a",
   "metadata": {},
   "outputs": [],
   "source": [
    "pdf = pd.DataFrame(dict(\n",
    "    Model=y_p,\n",
    "    Model2=y_p2,\n",
    "    Data=y_test[:, 0],\n",
    "))"
   ]
  },
  {
   "cell_type": "code",
   "execution_count": 14,
   "id": "08548434-43b5-4abf-8aaf-a2c5c0feb017",
   "metadata": {},
   "outputs": [
    {
     "data": {
      "text/plain": [
       "<matplotlib.legend.Legend at 0x1f10efd7490>"
      ]
     },
     "execution_count": 14,
     "metadata": {},
     "output_type": "execute_result"
    },
    {
     "data": {
      "image/png": "[encoded data removed]",
      "text/plain": [
       "<Figure size 576x576 with 49 Axes>"
      ]
     },
     "metadata": {
      "needs_background": "light"
     },
     "output_type": "display_data"
    }
   ],
   "source": [
    "plt.rc('font', size=SMALL_FONT)          # controls default text sizes\n",
    "plt.rc('axes', titlesize=BIGGER_FONT)     # fontsize of the axes title\n",
    "plt.rc('axes', labelsize=MEDIUM_FONT)    # fontsize of the x and y labels\n",
    "plt.rc('xtick', labelsize=SMALL_FONT)    # fontsize of the tick labels\n",
    "plt.rc('ytick', labelsize=SMALL_FONT)    # fontsize of the tick labels\n",
    "plt.rc('legend', fontsize=SMALL_FONT)    # legend fontsize\n",
    "plt.rc('figure', titlesize=BIGGER_FONT)  # fontsize of the figure title\n",
    "\n",
    "rows = 7\n",
    "cols = 7\n",
    "\n",
    "f, ax = plt.subplots(rows, cols, figsize=(8,8))\n",
    "\n",
    "for ii in range(rows*cols):\n",
    "    data = pdf.iloc[35*ii:35*(ii+1)].assign(year = np.arange(1,36))\n",
    "    \n",
    "    rr = floor(ii/rows)\n",
    "    cc = ii%cols\n",
    "\n",
    "    ax[rr][cc].plot(data.year, data.Data, c='k', lw=2, label='Data')\n",
    "    ax[rr][cc].plot(data.year, data.Model, c='r', ls='--', lw=2, label='Gradient boosted tree model')\n",
    "    # ax[rr][cc].plot(data.year, data.Model2, c='b', ls='--', lw=2)\n",
    "    \n",
    "    ax[rr][cc].set_ylim([-0.02, 1.1])\n",
    "    \n",
    "    if rr<rows-1:\n",
    "        ax[rr][cc].set_xticks([])\n",
    "    \n",
    "    if cc>0:\n",
    "        ax[rr][cc].set_yticks([])\n",
    "    \n",
    "    if rr==3 and cc==0:\n",
    "        ax[rr][cc].set_ylabel('Dose')\n",
    "\n",
    "    if cc==3 and rr==rows-1:\n",
    "        ax[rr][cc].set_xlabel('Year')\n",
    "        \n",
    "        \n",
    "\n",
    "plt.tight_layout(rect=[0,0,1,0.95])\n",
    "\n",
    "ax[0][0].legend(\n",
    "    loc='lower left',\n",
    "    bbox_to_anchor=(2.1, 1.2),\n",
    "    ncol=2,\n",
    "    framealpha=0,\n",
    ")"
   ]
  },
  {
   "cell_type": "markdown",
   "id": "e14244ea-e8c2-4241-8840-9b4bb343c580",
   "metadata": {},
   "source": [
    "# Save"
   ]
  },
  {
   "cell_type": "code",
   "execution_count": 15,
   "id": "dbfee2af-b21c-4bfe-9fbe-ecac3a233b15",
   "metadata": {},
   "outputs": [],
   "source": [
    "f.savefig('../figures/paper/appm_fig1.jpg', dpi=300, bbox_inches=\"tight\")"
   ]
  },
  {
   "cell_type": "code",
   "execution_count": null,
   "id": "e6e553fa-de12-4714-addd-b5a3c8c7ed9b",
   "metadata": {},
   "outputs": [],
   "source": []
  }
 ],
 "metadata": {
  "kernelspec": {
   "display_name": "poly2_kernel",
   "language": "python",
   "name": "poly2_kernel"
  },
  "language_info": {
   "codemirror_mode": {
    "name": "ipython",
    "version": 3
   },
   "file_extension": ".py",
   "mimetype": "text/x-python",
   "name": "python",
   "nbconvert_exporter": "python",
   "pygments_lexer": "ipython3",
   "version": "3.8.12"
  }
 },
 "nbformat": 4,
 "nbformat_minor": 5
}
