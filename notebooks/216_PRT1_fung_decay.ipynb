{
 "cells": [
  {
   "cell_type": "markdown",
   "id": "59d8512c-fd3a-4ab2-ae04-05bfe55bf48e",
   "metadata": {},
   "source": [
    "# Asymp app version of fig 3\n",
    "\n",
    "Asymp"
   ]
  },
  {
   "cell_type": "code",
   "execution_count": 1,
   "id": "10a4e91c-2ac1-4c97-9800-7dea3cb6c2df",
   "metadata": {},
   "outputs": [],
   "source": [
    "%load_ext autoreload\n",
    "%autoreload 2\n",
    "\n",
    "# %matplotlib widget"
   ]
  },
  {
   "cell_type": "code",
   "execution_count": 2,
   "id": "f598092b-71c1-4fde-bb78-b6551f449484",
   "metadata": {},
   "outputs": [
    {
     "name": "stderr",
     "output_type": "stream",
     "text": [
      "C:\\Users\\user\\anaconda3\\envs\\poly2\\lib\\site-packages\\xgboost\\compat.py:36: FutureWarning: pandas.Int64Index is deprecated and will be removed from pandas in a future version. Use pandas.Index with the appropriate dtype instead.\n",
      "  from pandas import MultiIndex, Int64Index\n"
     ]
    }
   ],
   "source": [
    "import pandas as pd\n",
    "\n",
    "import seaborn as sns\n",
    "\n",
    "from math import log, floor\n",
    "\n",
    "from tqdm import tqdm\n",
    "\n",
    "import numpy as np\n",
    "import matplotlib.pyplot as plt\n",
    "\n",
    "from plots2.fns import (\n",
    "    get_corner_annotations,\n",
    "    get_corner_annotations_custom_labels,\n",
    "    get_dose_colors\n",
    ")\n",
    "\n",
    "from plots2.consts import (\n",
    "    SMALL_FONT,\n",
    "    MEDIUM_FONT,\n",
    "    BIGGER_FONT,\n",
    "    SHAP_BLUE\n",
    ")\n",
    "\n",
    "from poly2.utils import trait_vec, gamma_dist, get_dist_mean, get_best_dose_for_cb\n",
    "from poly2.config import Config,  get_asymptote_config\n",
    "from poly2.simulator import SimulatorOneTrait, SimulatorAsymptote\n",
    "from poly2.consts import FUNG_DECAY_RATE, MUTATION_PROP, MUTATION_SCALE"
   ]
  },
  {
   "cell_type": "markdown",
   "id": "e1bcb937-4226-42f1-8ac2-8138d8dcfa74",
   "metadata": {},
   "source": [
    "Need to show why high mutation scale could incentivise lower dose"
   ]
  },
  {
   "cell_type": "code",
   "execution_count": 3,
   "id": "6f4c5fb4-eeb4-4dc5-8f25-06098767a9ee",
   "metadata": {},
   "outputs": [],
   "source": [
    "plt.rc('font', size=SMALL_FONT)          # controls default text sizes\n",
    "plt.rc('axes', titlesize=SMALL_FONT)     # fontsize of the axes title\n",
    "plt.rc('axes', labelsize=MEDIUM_FONT)    # fontsize of the x and y labels\n",
    "plt.rc('xtick', labelsize=SMALL_FONT)    # fontsize of the tick labels\n",
    "plt.rc('ytick', labelsize=SMALL_FONT)    # fontsize of the tick labels\n",
    "plt.rc('legend', fontsize=SMALL_FONT)    # legend fontsize"
   ]
  },
  {
   "cell_type": "code",
   "execution_count": 18,
   "id": "3fdae1e0-57c0-4b0d-be57-9c74068192ea",
   "metadata": {},
   "outputs": [
    {
     "data": {
      "text/html": [
       "<div>\n",
       "<style scoped>\n",
       "    .dataframe tbody tr th:only-of-type {\n",
       "        vertical-align: middle;\n",
       "    }\n",
       "\n",
       "    .dataframe tbody tr th {\n",
       "        vertical-align: top;\n",
       "    }\n",
       "\n",
       "    .dataframe thead th {\n",
       "        text-align: right;\n",
       "    }\n",
       "</style>\n",
       "<table border=\"1\" class=\"dataframe\">\n",
       "  <thead>\n",
       "    <tr style=\"text-align: right;\">\n",
       "      <th></th>\n",
       "      <th>asymp_mu</th>\n",
       "      <th>asymp_b</th>\n",
       "      <th>curv</th>\n",
       "      <th>dec_rate</th>\n",
       "      <th>m_prop</th>\n",
       "      <th>m_scale</th>\n",
       "    </tr>\n",
       "  </thead>\n",
       "  <tbody>\n",
       "    <tr>\n",
       "      <th>0</th>\n",
       "      <td>0.6</td>\n",
       "      <td>10</td>\n",
       "      <td>10</td>\n",
       "      <td>0.33</td>\n",
       "      <td>1</td>\n",
       "      <td>1</td>\n",
       "    </tr>\n",
       "  </tbody>\n",
       "</table>\n",
       "</div>"
      ],
      "text/plain": [
       "   asymp_mu  asymp_b  curv  dec_rate  m_prop  m_scale\n",
       "0       0.6       10    10      0.33       1        1"
      ]
     },
     "execution_count": 18,
     "metadata": {},
     "output_type": "execute_result"
    }
   ],
   "source": [
    "pars = pd.DataFrame({\n",
    "    'asymp_mu': 0.6,\n",
    "    'asymp_b': 10,\n",
    "    'curv': 10,\n",
    "    'dec_rate': 0.33,\n",
    "    'm_prop': 1,\n",
    "    'm_scale': 1,\n",
    "}, index=[0])\n",
    "\n",
    "pars"
   ]
  },
  {
   "cell_type": "code",
   "execution_count": 19,
   "id": "6b797670-0fc3-43ed-bda5-eb4fd6068de4",
   "metadata": {},
   "outputs": [
    {
     "data": {
      "text/plain": [
       "{'asymp_mu': 0.6,\n",
       " 'asymp_b': 10.0,\n",
       " 'curv': 10.0,\n",
       " 'dec_rate': 0.33,\n",
       " 'm_prop': 1.0,\n",
       " 'm_scale': 1.0}"
      ]
     },
     "execution_count": 19,
     "metadata": {},
     "output_type": "execute_result"
    }
   ],
   "source": [
    "pars.iloc[0].to_dict()"
   ]
  },
  {
   "cell_type": "code",
   "execution_count": 20,
   "id": "e4d03f75-591b-47af-98d2-cf59b6679d6a",
   "metadata": {},
   "outputs": [],
   "source": [
    "from poly2.config import get_asymptote_config\n",
    "from poly2.simulator import SimulatorAsymptote"
   ]
  },
  {
   "cell_type": "code",
   "execution_count": 21,
   "id": "99b15ae4-5d25-4fce-a7e9-7b93092711bf",
   "metadata": {},
   "outputs": [],
   "source": [
    "cf = get_asymptote_config(n_years=35, n_k=300, verbose=False)"
   ]
  },
  {
   "cell_type": "code",
   "execution_count": 22,
   "id": "11eb1fba-e42a-4229-9543-89173a76d4fa",
   "metadata": {},
   "outputs": [],
   "source": [
    "cf.k_mu = pars.asymp_mu.values[0]\n",
    "cf.k_b = pars.asymp_b.values[0]\n",
    "cf.curvature = pars.curv.values[0]\n",
    "cf.decay_rate = FUNG_DECAY_RATE * pars.dec_rate.values[0]\n",
    "cf.mutation_proportion = MUTATION_PROP * pars.m_prop.values[0]\n",
    "cf.mutation_scale_fung = MUTATION_SCALE * pars.m_scale.values[0]"
   ]
  },
  {
   "cell_type": "code",
   "execution_count": 23,
   "id": "73af8482-38a7-4573-9cf8-6eeb58c45c19",
   "metadata": {},
   "outputs": [
    {
     "name": "stdout",
     "output_type": "stream",
     "text": [
      "CONFIG\n",
      "------\n",
      "I0s = [0.00985703, 0.00985703, 0.00985703, 0.00985 ...\n",
      "asymptote = None\n",
      "betas = [0.00786542, 0.00786542, 0.00786542, 0.007 ...\n",
      "curvature = 10\n",
      "decay_rate = 0.0029716500000000006\n",
      "doses = [1., 1., 1., 1., 1., 1., 1., 1., 1., 1., 1 ...\n",
      "fungicide_mixture = False\n",
      "k_b = 10\n",
      "k_mu = 0.6\n",
      "mutation_proportion = 1.234375e-05\n",
      "mutation_scale_fung = 0.0198361584016981\n",
      "n_k = 300\n",
      "n_years = 35\n",
      "sprays = None\n",
      "\n"
     ]
    }
   ],
   "source": [
    "cf.print_repr()"
   ]
  },
  {
   "cell_type": "code",
   "execution_count": 24,
   "id": "aa8f1692-5839-419e-be6d-a11755011ae0",
   "metadata": {},
   "outputs": [
    {
     "name": "stderr",
     "output_type": "stream",
     "text": [
      "100%|█████████████████████████████████████████████████████████████████████████████████████████████████████████████████████████████████████████████████████████████████████████████████████████████████████████| 2/2 [01:24<00:00, 42.13s/it]"
     ]
    },
    {
     "name": "stdout",
     "output_type": "stream",
     "text": [
      "Wall time: 1min 24s\n"
     ]
    },
    {
     "name": "stderr",
     "output_type": "stream",
     "text": [
      "\n"
     ]
    }
   ],
   "source": [
    "%%time\n",
    "\n",
    "datas = []\n",
    "\n",
    "for dose in tqdm(np.linspace(0.1, 1, 2)):\n",
    "\n",
    "    cf.doses = dose*np.ones(cf.n_years)\n",
    "\n",
    "    data = SimulatorAsymptote(cf).run_model()\n",
    "    \n",
    "    datas.append(data)\n",
    "    \n",
    "# datas"
   ]
  },
  {
   "cell_type": "code",
   "execution_count": 25,
   "id": "89fb108f-2c8a-4d74-8732-3b79c1e0a27f",
   "metadata": {},
   "outputs": [],
   "source": [
    "doses = [0.1, 1]"
   ]
  },
  {
   "cell_type": "code",
   "execution_count": 26,
   "id": "76703088-4b8f-4378-af43-ab8d62e64c7b",
   "metadata": {},
   "outputs": [],
   "source": [
    "line_df = pd.concat([\n",
    "    pd.DataFrame(dict(\n",
    "        year = np.arange(1,36),\n",
    "        yld = datas[ii]['yield_vec'],\n",
    "        dose = doses[ii]\n",
    "    ))\n",
    "    for ii in range(2)\n",
    "]\n",
    ")"
   ]
  },
  {
   "cell_type": "code",
   "execution_count": 27,
   "id": "8363eab3-459e-416a-9adc-4b42fecd77a7",
   "metadata": {},
   "outputs": [
    {
     "data": {
      "text/html": [
       "<div>\n",
       "<style scoped>\n",
       "    .dataframe tbody tr th:only-of-type {\n",
       "        vertical-align: middle;\n",
       "    }\n",
       "\n",
       "    .dataframe tbody tr th {\n",
       "        vertical-align: top;\n",
       "    }\n",
       "\n",
       "    .dataframe thead th {\n",
       "        text-align: right;\n",
       "    }\n",
       "</style>\n",
       "<table border=\"1\" class=\"dataframe\">\n",
       "  <thead>\n",
       "    <tr style=\"text-align: right;\">\n",
       "      <th></th>\n",
       "      <th>year</th>\n",
       "      <th>yld</th>\n",
       "      <th>dose</th>\n",
       "    </tr>\n",
       "  </thead>\n",
       "  <tbody>\n",
       "    <tr>\n",
       "      <th>0</th>\n",
       "      <td>1</td>\n",
       "      <td>10.166882</td>\n",
       "      <td>0.1</td>\n",
       "    </tr>\n",
       "    <tr>\n",
       "      <th>1</th>\n",
       "      <td>2</td>\n",
       "      <td>10.134428</td>\n",
       "      <td>0.1</td>\n",
       "    </tr>\n",
       "    <tr>\n",
       "      <th>2</th>\n",
       "      <td>3</td>\n",
       "      <td>10.098929</td>\n",
       "      <td>0.1</td>\n",
       "    </tr>\n",
       "    <tr>\n",
       "      <th>3</th>\n",
       "      <td>4</td>\n",
       "      <td>10.060791</td>\n",
       "      <td>0.1</td>\n",
       "    </tr>\n",
       "    <tr>\n",
       "      <th>4</th>\n",
       "      <td>5</td>\n",
       "      <td>10.020576</td>\n",
       "      <td>0.1</td>\n",
       "    </tr>\n",
       "    <tr>\n",
       "      <th>...</th>\n",
       "      <td>...</td>\n",
       "      <td>...</td>\n",
       "      <td>...</td>\n",
       "    </tr>\n",
       "    <tr>\n",
       "      <th>30</th>\n",
       "      <td>31</td>\n",
       "      <td>8.828338</td>\n",
       "      <td>1.0</td>\n",
       "    </tr>\n",
       "    <tr>\n",
       "      <th>31</th>\n",
       "      <td>32</td>\n",
       "      <td>8.827978</td>\n",
       "      <td>1.0</td>\n",
       "    </tr>\n",
       "    <tr>\n",
       "      <th>32</th>\n",
       "      <td>33</td>\n",
       "      <td>8.827653</td>\n",
       "      <td>1.0</td>\n",
       "    </tr>\n",
       "    <tr>\n",
       "      <th>33</th>\n",
       "      <td>34</td>\n",
       "      <td>8.827358</td>\n",
       "      <td>1.0</td>\n",
       "    </tr>\n",
       "    <tr>\n",
       "      <th>34</th>\n",
       "      <td>35</td>\n",
       "      <td>8.827089</td>\n",
       "      <td>1.0</td>\n",
       "    </tr>\n",
       "  </tbody>\n",
       "</table>\n",
       "<p>70 rows × 3 columns</p>\n",
       "</div>"
      ],
      "text/plain": [
       "    year        yld  dose\n",
       "0      1  10.166882   0.1\n",
       "1      2  10.134428   0.1\n",
       "2      3  10.098929   0.1\n",
       "3      4  10.060791   0.1\n",
       "4      5  10.020576   0.1\n",
       "..   ...        ...   ...\n",
       "30    31   8.828338   1.0\n",
       "31    32   8.827978   1.0\n",
       "32    33   8.827653   1.0\n",
       "33    34   8.827358   1.0\n",
       "34    35   8.827089   1.0\n",
       "\n",
       "[70 rows x 3 columns]"
      ]
     },
     "execution_count": 27,
     "metadata": {},
     "output_type": "execute_result"
    }
   ],
   "source": [
    "line_df"
   ]
  },
  {
   "cell_type": "code",
   "execution_count": 32,
   "id": "46a6dca2-cd25-4514-874a-fda07cf0fee0",
   "metadata": {},
   "outputs": [],
   "source": [
    "bd = get_best_dose_for_cb(line_df, 10.55, eps=0.2)"
   ]
  },
  {
   "cell_type": "code",
   "execution_count": 33,
   "id": "3e5461fc-061a-4281-b466-1e60767cd4e0",
   "metadata": {},
   "outputs": [
    {
     "data": {
      "text/html": [
       "<div>\n",
       "<style scoped>\n",
       "    .dataframe tbody tr th:only-of-type {\n",
       "        vertical-align: middle;\n",
       "    }\n",
       "\n",
       "    .dataframe tbody tr th {\n",
       "        vertical-align: top;\n",
       "    }\n",
       "\n",
       "    .dataframe thead th {\n",
       "        text-align: right;\n",
       "    }\n",
       "</style>\n",
       "<table border=\"1\" class=\"dataframe\">\n",
       "  <thead>\n",
       "    <tr style=\"text-align: right;\">\n",
       "      <th></th>\n",
       "      <th>dose</th>\n",
       "      <th>year</th>\n",
       "      <th>yy</th>\n",
       "    </tr>\n",
       "  </thead>\n",
       "  <tbody>\n",
       "    <tr>\n",
       "      <th>count</th>\n",
       "      <td>70.000000</td>\n",
       "      <td>70.000000</td>\n",
       "      <td>7.000000e+01</td>\n",
       "    </tr>\n",
       "    <tr>\n",
       "      <th>mean</th>\n",
       "      <td>0.331429</td>\n",
       "      <td>18.000000</td>\n",
       "      <td>1.055000e+01</td>\n",
       "    </tr>\n",
       "    <tr>\n",
       "      <th>std</th>\n",
       "      <td>0.396193</td>\n",
       "      <td>10.174421</td>\n",
       "      <td>8.945913e-15</td>\n",
       "    </tr>\n",
       "    <tr>\n",
       "      <th>min</th>\n",
       "      <td>0.100000</td>\n",
       "      <td>0.800000</td>\n",
       "      <td>1.055000e+01</td>\n",
       "    </tr>\n",
       "    <tr>\n",
       "      <th>25%</th>\n",
       "      <td>0.100000</td>\n",
       "      <td>9.350000</td>\n",
       "      <td>1.055000e+01</td>\n",
       "    </tr>\n",
       "    <tr>\n",
       "      <th>50%</th>\n",
       "      <td>0.100000</td>\n",
       "      <td>18.000000</td>\n",
       "      <td>1.055000e+01</td>\n",
       "    </tr>\n",
       "    <tr>\n",
       "      <th>75%</th>\n",
       "      <td>0.775000</td>\n",
       "      <td>26.650000</td>\n",
       "      <td>1.055000e+01</td>\n",
       "    </tr>\n",
       "    <tr>\n",
       "      <th>max</th>\n",
       "      <td>1.000000</td>\n",
       "      <td>35.200000</td>\n",
       "      <td>1.055000e+01</td>\n",
       "    </tr>\n",
       "  </tbody>\n",
       "</table>\n",
       "</div>"
      ],
      "text/plain": [
       "            dose       year            yy\n",
       "count  70.000000  70.000000  7.000000e+01\n",
       "mean    0.331429  18.000000  1.055000e+01\n",
       "std     0.396193  10.174421  8.945913e-15\n",
       "min     0.100000   0.800000  1.055000e+01\n",
       "25%     0.100000   9.350000  1.055000e+01\n",
       "50%     0.100000  18.000000  1.055000e+01\n",
       "75%     0.775000  26.650000  1.055000e+01\n",
       "max     1.000000  35.200000  1.055000e+01"
      ]
     },
     "execution_count": 33,
     "metadata": {},
     "output_type": "execute_result"
    }
   ],
   "source": [
    "bd.describe()"
   ]
  },
  {
   "cell_type": "code",
   "execution_count": 34,
   "id": "b294eb0a-4fa2-4a9e-84eb-fe21722844ee",
   "metadata": {},
   "outputs": [
    {
     "data": {
      "image/png": "[encoded data removed]",
      "text/plain": [
       "<Figure size 576x720 with 2 Axes>"
      ]
     },
     "metadata": {
      "needs_background": "light"
     },
     "output_type": "display_data"
    }
   ],
   "source": [
    "f, ax = plt.subplots(2, 1, figsize=(8,10))\n",
    "\n",
    "colrs = get_dose_colors(20)\n",
    "cols = [colrs[1], colrs[-1]]\n",
    "# cols = get_dose_colors(2)\n",
    "\n",
    "labels = ['Dose=0.1', 'Dose=1']\n",
    "\n",
    "for ii in range(2):\n",
    "    ax[1].plot(\n",
    "        np.arange(1, 36),\n",
    "        datas[ii]['yield_vec'],\n",
    "        c=cols[ii],\n",
    "    )\n",
    "    \n",
    "    ax[1].plot(\n",
    "        bd.loc[lambda x: x.dose==doses[1-ii]].year,\n",
    "        bd.loc[lambda x: x.dose==doses[1-ii]].yy,\n",
    "        c=cols[1-ii],\n",
    "        lw=6\n",
    "    )\n",
    "    \n",
    "    for yy in range(0, 35, 5):\n",
    "\n",
    "        if yy==0:\n",
    "            label=labels[ii]\n",
    "        else:\n",
    "            label=None\n",
    "\n",
    "        ax[0].fill_betweenx(\n",
    "            datas[ii]['k_vec'],\n",
    "            np.repeat(1+yy, 300),\n",
    "            np.repeat(1+yy, 300) + 300*datas[ii]['fung_dists'][:, yy],\n",
    "            color=cols[ii],\n",
    "            alpha=0.7,\n",
    "            label=label,\n",
    "        )\n",
    "\n",
    "ax[0].set_xlim([-1, 39])\n",
    "ax[1].set_xlim([-1, 39])\n",
    "\n",
    "ax[0].set_ylabel('Trait value')\n",
    "\n",
    "ax[1].set_xlabel('Year')\n",
    "ax[1].set_ylabel('Yield')\n",
    "\n",
    "plt.tight_layout(rect=[0,0,1,0.92], h_pad=3)\n",
    "\n",
    "f.legend(\n",
    "    loc=1,\n",
    "    bbox_to_anchor=(1,0.98),\n",
    "    frameon=False\n",
    ")\n",
    "\n",
    "get_corner_annotations(1, 2, 0.075, 0.92, 0.1, 0.46, plt)"
   ]
  },
  {
   "cell_type": "code",
   "execution_count": 35,
   "id": "64dce617-72af-43ac-b3bc-3f638c5019d2",
   "metadata": {},
   "outputs": [],
   "source": [
    "f.savefig('../figures/paper/thesis_fig12.jpg', dpi=600, bbox_inches=\"tight\")"
   ]
  },
  {
   "cell_type": "code",
   "execution_count": null,
   "id": "6a32056a-be56-498b-89a8-dcbf747f5e12",
   "metadata": {},
   "outputs": [],
   "source": []
  }
 ],
 "metadata": {
  "kernelspec": {
   "display_name": "poly2_kernel",
   "language": "python",
   "name": "poly2_kernel"
  },
  "language_info": {
   "codemirror_mode": {
    "name": "ipython",
    "version": 3
   },
   "file_extension": ".py",
   "mimetype": "text/x-python",
   "name": "python",
   "nbconvert_exporter": "python",
   "pygments_lexer": "ipython3",
   "version": "3.8.12"
  }
 },
 "nbformat": 4,
 "nbformat_minor": 5
}
