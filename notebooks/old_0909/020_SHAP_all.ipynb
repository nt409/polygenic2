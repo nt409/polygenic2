{
 "cells": [
  {
   "cell_type": "markdown",
   "id": "9c28a391-71c7-4a13-b083-87e880010897",
   "metadata": {},
   "source": [
    "# Scan analysis - shap\n",
    "\n",
    "Calculates shap values."
   ]
  },
  {
   "cell_type": "code",
   "execution_count": 1,
   "id": "62bd3e02-eaa3-4096-98d8-085aa6d8621f",
   "metadata": {},
   "outputs": [],
   "source": [
    "%load_ext autoreload\n",
    "%autoreload 2\n",
    "\n",
    "# %matplotlib widget"
   ]
  },
  {
   "cell_type": "code",
   "execution_count": 2,
   "id": "ad0f2ad3-8828-4875-85c9-95bcd0be6489",
   "metadata": {},
   "outputs": [
    {
     "name": "stderr",
     "output_type": "stream",
     "text": [
      "pandas.Int64Index is deprecated and will be removed from pandas in a future version. Use pandas.Index with the appropriate dtype instead.\n"
     ]
    }
   ],
   "source": [
    "import pandas as pd\n",
    "\n",
    "from poly2.shap import get_shap_values"
   ]
  },
  {
   "cell_type": "markdown",
   "id": "e1c7b5c2-0822-4781-b2cb-529d82687404",
   "metadata": {},
   "source": [
    "# Load data"
   ]
  },
  {
   "cell_type": "code",
   "execution_count": 18,
   "id": "44b6b976-23de-4b2d-b5ac-d8032a206a7d",
   "metadata": {},
   "outputs": [
    {
     "data": {
      "text/html": [
       "<div>\n",
       "<style scoped>\n",
       "    .dataframe tbody tr th:only-of-type {\n",
       "        vertical-align: middle;\n",
       "    }\n",
       "\n",
       "    .dataframe tbody tr th {\n",
       "        vertical-align: top;\n",
       "    }\n",
       "\n",
       "    .dataframe thead th {\n",
       "        text-align: right;\n",
       "    }\n",
       "</style>\n",
       "<table border=\"1\" class=\"dataframe\">\n",
       "  <thead>\n",
       "    <tr style=\"text-align: right;\">\n",
       "      <th></th>\n",
       "      <th>year</th>\n",
       "      <th>mu</th>\n",
       "      <th>b</th>\n",
       "      <th>asymp</th>\n",
       "      <th>dec_rate</th>\n",
       "      <th>m_prop</th>\n",
       "      <th>m_scale</th>\n",
       "      <th>ME_mean</th>\n",
       "    </tr>\n",
       "  </thead>\n",
       "  <tbody>\n",
       "    <tr>\n",
       "      <th>0</th>\n",
       "      <td>1</td>\n",
       "      <td>17.879734</td>\n",
       "      <td>2.744068</td>\n",
       "      <td>0.602763</td>\n",
       "      <td>1.786355</td>\n",
       "      <td>0.703574</td>\n",
       "      <td>1.95789</td>\n",
       "      <td>0.397237</td>\n",
       "    </tr>\n",
       "    <tr>\n",
       "      <th>1</th>\n",
       "      <td>2</td>\n",
       "      <td>17.879734</td>\n",
       "      <td>2.744068</td>\n",
       "      <td>0.602763</td>\n",
       "      <td>1.786355</td>\n",
       "      <td>0.703574</td>\n",
       "      <td>1.95789</td>\n",
       "      <td>0.397237</td>\n",
       "    </tr>\n",
       "    <tr>\n",
       "      <th>2</th>\n",
       "      <td>3</td>\n",
       "      <td>17.879734</td>\n",
       "      <td>2.744068</td>\n",
       "      <td>0.602763</td>\n",
       "      <td>1.786355</td>\n",
       "      <td>0.703574</td>\n",
       "      <td>1.95789</td>\n",
       "      <td>0.397237</td>\n",
       "    </tr>\n",
       "    <tr>\n",
       "      <th>3</th>\n",
       "      <td>4</td>\n",
       "      <td>17.879734</td>\n",
       "      <td>2.744068</td>\n",
       "      <td>0.602763</td>\n",
       "      <td>1.786355</td>\n",
       "      <td>0.703574</td>\n",
       "      <td>1.95789</td>\n",
       "      <td>0.397237</td>\n",
       "    </tr>\n",
       "    <tr>\n",
       "      <th>4</th>\n",
       "      <td>5</td>\n",
       "      <td>17.879734</td>\n",
       "      <td>2.744068</td>\n",
       "      <td>0.602763</td>\n",
       "      <td>1.786355</td>\n",
       "      <td>0.703574</td>\n",
       "      <td>1.95789</td>\n",
       "      <td>0.397237</td>\n",
       "    </tr>\n",
       "  </tbody>\n",
       "</table>\n",
       "</div>"
      ],
      "text/plain": [
       "   year         mu         b     asymp  dec_rate    m_prop  m_scale   ME_mean\n",
       "0     1  17.879734  2.744068  0.602763  1.786355  0.703574  1.95789  0.397237\n",
       "1     2  17.879734  2.744068  0.602763  1.786355  0.703574  1.95789  0.397237\n",
       "2     3  17.879734  2.744068  0.602763  1.786355  0.703574  1.95789  0.397237\n",
       "3     4  17.879734  2.744068  0.602763  1.786355  0.703574  1.95789  0.397237\n",
       "4     5  17.879734  2.744068  0.602763  1.786355  0.703574  1.95789  0.397237"
      ]
     },
     "execution_count": 18,
     "metadata": {},
     "output_type": "execute_result"
    }
   ],
   "source": [
    "df = pd.read_csv('../outputs/combined/processed_scan_all.csv')\n",
    "    \n",
    "X = df.drop(['run', 'best_dose'], axis=1)\n",
    "y = np.array(df.loc[:, 'best_dose'])\n",
    "\n",
    "X.head()"
   ]
  },
  {
   "cell_type": "markdown",
   "id": "c462c4e3-9289-4d0e-a560-7b211b90d395",
   "metadata": {},
   "source": [
    "# Find SHAP values"
   ]
  },
  {
   "cell_type": "markdown",
   "id": "aed20bbc-0118-4145-8151-726d5530ae76",
   "metadata": {},
   "source": [
    "Takes around 2 hours 15 mins"
   ]
  },
  {
   "cell_type": "code",
   "execution_count": 6,
   "id": "af96c710-2d9f-4918-9ebb-cd130f491c04",
   "metadata": {},
   "outputs": [
    {
     "name": "stdout",
     "output_type": "stream",
     "text": [
      "________________________________________________________________________________\n",
      "[Memory] Calling poly2.shap.get_shap_values...\n",
      "get_shap_values(        year         mu         b     asymp  dec_rate    m_prop  m_scale  \\\n",
      "0          1  17.879734  2.744068  0.602763  1.786355  0.703574  1.95789   \n",
      "1          2  17.879734  2.744068  0.602763  1.786355  0.703574  1.95789   \n",
      "2          3  17.879734  2.744068  0.602763  1.786355  0.703574  1.95789   \n",
      "3          4  17.879734  2.744068  0.602763  1.786355  0.703574  1.95789   \n",
      "4          5  17.879734  2.744068  0.602763  1.786355  0.703574  1.95789   \n",
      "...      ...        ...       ...       ...       ...       ...      ...   \n",
      "279995    31  13.910574  4.382059  0.355204  1.081167  0.120044  6.09271   \n",
      "279996    32  13.910574  4.382059  0.355204  1.081167  0.120044  6.09271   \n",
      "279997    33  13.910574  4.382059  0.355204  1.081167  0.120044  6.09271   \n",
      "279998    34  13.910574  4.382059  0.355204  1.081167  0.120044  6.09271   \n",
      "279999    35  13.910574  4.382059  0.355204  1.081167  0.120044  6.09271   \n",
      "\n",
      "         ME_mean  \n",
      "0       0.398241  \n",
      "1       0.398241  \n",
      "2       0.398241  \n",
      "3       0.398241  \n",
      "4       0.398241  \n",
      "...          ...  \n",
      "279995  0.645388  \n",
      "279996  0.645388  \n",
      "279997  0.645388  \n",
      "279998  0.645388  \n",
      "279999  0.645388  \n",
      "\n",
      "[280000 rows x 8 columns], \n",
      "array([1. , ..., 0.1]))\n",
      "start\n"
     ]
    },
    {
     "name": "stderr",
     "output_type": "stream",
     "text": [
      "pandas.Int64Index is deprecated and will be removed from pandas in a future version. Use pandas.Index with the appropriate dtype instead.\n",
      "ntree_limit is deprecated, use `iteration_range` or model slicing instead.\n"
     ]
    },
    {
     "name": "stdout",
     "output_type": "stream",
     "text": [
      "done\n",
      "_____________________________________________get_shap_values - 7909.5s, 131.8min\n",
      "Wall time: 2h 11min 49s\n"
     ]
    }
   ],
   "source": [
    "%%time\n",
    "\n",
    "X_use = X\n",
    "y_use = y\n",
    "\n",
    "shap_values = get_shap_values(X_use, y_use, 'xgb_all.json')"
   ]
  },
  {
   "cell_type": "code",
   "execution_count": 7,
   "id": "540370e7-11c8-4379-890b-0e3d24c6fd4d",
   "metadata": {},
   "outputs": [],
   "source": [
    "fn = './SHAP_all.pickle'\n",
    "\n",
    "object_dump(shap_values, fn)"
   ]
  },
  {
   "cell_type": "markdown",
   "id": "2b8e4f75-8880-45ba-84ae-01bbf485187b",
   "metadata": {},
   "source": [
    "# OLD (data processing)"
   ]
  },
  {
   "cell_type": "code",
   "execution_count": null,
   "id": "c33420e1-8fc8-4336-ada7-6239c95a339c",
   "metadata": {},
   "outputs": [],
   "source": [
    "# processed = (\n",
    "#     pd.read_csv('../outputs/combined/scan_all.csv')\n",
    "#     .drop([\n",
    "#         # 'best_dose',\n",
    "#         'n_pos_diff',\n",
    "#         'ME_var',\n",
    "#         # 'run',\n",
    "#     ], axis=1)\n",
    "#     .filter(regex='^((?!in_0).)*$')\n",
    "#     .rename(columns = {\n",
    "#         'dec_rate_multiplier': 'dec_rate',\n",
    "#         'm_prop_multiplier': 'm_prop',\n",
    "#         'm_scale_multiplier': 'm_scale',\n",
    "#         'asymptote': 'asymp',\n",
    "#     })\n",
    "# )\n",
    "\n",
    "# processed.head()"
   ]
  },
  {
   "cell_type": "code",
   "execution_count": null,
   "id": "fe03d239-4b48-48f7-8a54-12324a53530d",
   "metadata": {},
   "outputs": [],
   "source": [
    "# processed.to_csv('../outputs/combined/scan_all_processed.csv', index=False)"
   ]
  }
 ],
 "metadata": {
  "kernelspec": {
   "display_name": "poly2_kernel",
   "language": "python",
   "name": "poly2_kernel"
  },
  "language_info": {
   "codemirror_mode": {
    "name": "ipython",
    "version": 3
   },
   "file_extension": ".py",
   "mimetype": "text/x-python",
   "name": "python",
   "nbconvert_exporter": "python",
   "pygments_lexer": "ipython3",
   "version": "3.8.12"
  }
 },
 "nbformat": 4,
 "nbformat_minor": 5
}
