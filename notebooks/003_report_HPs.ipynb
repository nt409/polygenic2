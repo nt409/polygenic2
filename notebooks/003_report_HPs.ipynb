{
 "cells": [
  {
   "cell_type": "markdown",
   "id": "59d8512c-fd3a-4ab2-ae04-05bfe55bf48e",
   "metadata": {},
   "source": [
    "# Hyperparams"
   ]
  },
  {
   "cell_type": "code",
   "execution_count": 2,
   "id": "10a4e91c-2ac1-4c97-9800-7dea3cb6c2df",
   "metadata": {},
   "outputs": [],
   "source": [
    "%load_ext autoreload\n",
    "%autoreload 2\n",
    "\n",
    "# %matplotlib widget"
   ]
  },
  {
   "cell_type": "code",
   "execution_count": 3,
   "id": "f598092b-71c1-4fde-bb78-b6551f449484",
   "metadata": {},
   "outputs": [
    {
     "name": "stderr",
     "output_type": "stream",
     "text": [
      "C:\\Users\\user\\anaconda3\\envs\\poly2\\lib\\site-packages\\xgboost\\compat.py:36: FutureWarning: pandas.Int64Index is deprecated and will be removed from pandas in a future version. Use pandas.Index with the appropriate dtype instead.\n",
      "  from pandas import MultiIndex, Int64Index\n"
     ]
    }
   ],
   "source": [
    "import pandas as pd\n",
    "\n",
    "import seaborn as sns\n",
    "\n",
    "from math import log\n",
    "\n",
    "import numpy as np\n",
    "import matplotlib.pyplot as plt\n",
    "\n",
    "from tqdm import tqdm\n",
    "\n",
    "from xgboost import XGBRegressor\n",
    "# import shap\n",
    "\n",
    "\n",
    "from sklearn.metrics import mean_squared_error\n",
    "from sklearn.model_selection import KFold\n",
    "\n",
    "from plots2.fns import (\n",
    "    get_corner_annotations,\n",
    "    get_corner_annotations_custom_labels,\n",
    ")\n",
    "\n",
    "from poly2.utils import trait_vec, gamma_dist, object_dump, object_load, get_best_params\n",
    "from poly2.config import Config"
   ]
  },
  {
   "cell_type": "code",
   "execution_count": 4,
   "id": "d400e04e-a665-4634-8f4b-c126030c2232",
   "metadata": {},
   "outputs": [],
   "source": [
    "MODEL = 'asymp'"
   ]
  },
  {
   "cell_type": "code",
   "execution_count": 5,
   "id": "51996474-cf76-4790-b8e1-b2e5a4327cac",
   "metadata": {},
   "outputs": [
    {
     "data": {
      "text/plain": [
       "default_cv_score    0.14952\n",
       "best_cv_score       0.11733\n",
       "rmse_train          0.03973\n",
       "rmse_test           0.11626\n",
       "Name: 0, dtype: float64"
      ]
     },
     "execution_count": 5,
     "metadata": {},
     "output_type": "execute_result"
    }
   ],
   "source": [
    "(\n",
    "    pd.read_csv(f'../outputs/hyperparams/best/{MODEL}.csv')\n",
    "    .round(5)\n",
    "    .loc[:, [\n",
    "        'default_cv_score',\n",
    "        'best_cv_score',\n",
    "        'rmse_train',\n",
    "        'rmse_test',\n",
    "        # 'rmse_test_def',\n",
    "    ]]\n",
    "    .iloc[0]\n",
    ")"
   ]
  },
  {
   "cell_type": "code",
   "execution_count": 6,
   "id": "0c31463a-b6c9-4ed6-84ba-b44d6d0e5bbd",
   "metadata": {},
   "outputs": [
    {
     "data": {
      "text/plain": [
       "max_depth             10.00000\n",
       "n_estimators        1740.00000\n",
       "learning_rate          0.01991\n",
       "subsample              0.54681\n",
       "colsample_bytree       0.88799\n",
       "Name: 0, dtype: float64"
      ]
     },
     "execution_count": 6,
     "metadata": {},
     "output_type": "execute_result"
    }
   ],
   "source": [
    "(\n",
    "    pd.read_csv(f'../outputs/hyperparams/best/{MODEL}.csv')\n",
    "    .round(5)\n",
    "    .loc[:, [\n",
    "        'max_depth',\n",
    "        'n_estimators',\n",
    "        'learning_rate',\n",
    "        'subsample',\n",
    "        'colsample_bytree',\n",
    "    ]]\n",
    "    .iloc[0]\n",
    ")"
   ]
  },
  {
   "cell_type": "code",
   "execution_count": null,
   "id": "1cb85f97-5df0-4078-8b52-a2ac051f301a",
   "metadata": {},
   "outputs": [],
   "source": []
  },
  {
   "cell_type": "code",
   "execution_count": null,
   "id": "6ac36b3c-2c83-488b-a242-3b1271f8e83a",
   "metadata": {},
   "outputs": [],
   "source": []
  }
 ],
 "metadata": {
  "kernelspec": {
   "display_name": "poly2_kernel",
   "language": "python",
   "name": "poly2_kernel"
  },
  "language_info": {
   "codemirror_mode": {
    "name": "ipython",
    "version": 3
   },
   "file_extension": ".py",
   "mimetype": "text/x-python",
   "name": "python",
   "nbconvert_exporter": "python",
   "pygments_lexer": "ipython3",
   "version": "3.8.12"
  }
 },
 "nbformat": 4,
 "nbformat_minor": 5
}
