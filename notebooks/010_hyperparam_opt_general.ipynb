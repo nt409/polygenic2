{
 "cells": [
  {
   "cell_type": "markdown",
   "id": "3b2d9bb1-b006-465c-9f4b-de6474891438",
   "metadata": {},
   "source": [
    "# Hyperparam optimisation"
   ]
  },
  {
   "cell_type": "code",
   "execution_count": 1,
   "id": "52a58e05-1803-48b2-aa54-4fc8afaa4358",
   "metadata": {},
   "outputs": [],
   "source": [
    "%load_ext autoreload\n",
    "%autoreload 2\n",
    "\n",
    "# %matplotlib widget"
   ]
  },
  {
   "cell_type": "code",
   "execution_count": 2,
   "id": "0044f611-16c0-4b8f-858d-6862d2c1008a",
   "metadata": {},
   "outputs": [
    {
     "name": "stderr",
     "output_type": "stream",
     "text": [
      "C:\\Users\\user\\anaconda3\\envs\\poly2\\lib\\site-packages\\xgboost\\compat.py:36: FutureWarning: pandas.Int64Index is deprecated and will be removed from pandas in a future version. Use pandas.Index with the appropriate dtype instead.\n",
      "  from pandas import MultiIndex, Int64Index\n"
     ]
    }
   ],
   "source": [
    "import pandas as pd\n",
    "import warnings\n",
    "import seaborn as sns\n",
    "\n",
    "import optuna\n",
    "from optuna.samplers import TPESampler\n",
    "from optuna.visualization import (\n",
    "    plot_optimization_history,\n",
    "    plot_contour,\n",
    ")\n",
    "\n",
    "import numpy as np\n",
    "import matplotlib.pyplot as plt\n",
    "\n",
    "from xgboost import XGBRegressor\n",
    "\n",
    "from sklearn.metrics import mean_squared_error\n",
    "\n",
    "from poly2.xgb import HyperparamsObj, check_default_model"
   ]
  },
  {
   "cell_type": "code",
   "execution_count": 3,
   "id": "02021eae-1a2c-472e-8332-a6b17624aaad",
   "metadata": {},
   "outputs": [],
   "source": [
    "MODEL = 'all'\n",
    "# MODEL = 'Y10'\n",
    "# MODEL = 'cumulative'\n",
    "# MODEL = 'asymp'"
   ]
  },
  {
   "cell_type": "markdown",
   "id": "98d1cfdb-fe46-436a-869f-4542e4bb3d54",
   "metadata": {},
   "source": [
    "# Load data"
   ]
  },
  {
   "cell_type": "code",
   "execution_count": 4,
   "id": "4d10f2d9-14c7-45fe-a827-2fc6264f1c7b",
   "metadata": {},
   "outputs": [
    {
     "data": {
      "text/html": [
       "<div>\n",
       "<style scoped>\n",
       "    .dataframe tbody tr th:only-of-type {\n",
       "        vertical-align: middle;\n",
       "    }\n",
       "\n",
       "    .dataframe tbody tr th {\n",
       "        vertical-align: top;\n",
       "    }\n",
       "\n",
       "    .dataframe thead th {\n",
       "        text-align: right;\n",
       "    }\n",
       "</style>\n",
       "<table border=\"1\" class=\"dataframe\">\n",
       "  <thead>\n",
       "    <tr style=\"text-align: right;\">\n",
       "      <th></th>\n",
       "      <th>run</th>\n",
       "      <th>year</th>\n",
       "      <th>best_dose</th>\n",
       "      <th>mu</th>\n",
       "      <th>b</th>\n",
       "      <th>asymp</th>\n",
       "      <th>dec_rate</th>\n",
       "      <th>m_prop</th>\n",
       "      <th>m_scale</th>\n",
       "      <th>ME_mean</th>\n",
       "    </tr>\n",
       "  </thead>\n",
       "  <tbody>\n",
       "    <tr>\n",
       "      <th>0</th>\n",
       "      <td>0</td>\n",
       "      <td>1</td>\n",
       "      <td>1.0</td>\n",
       "      <td>17.879734</td>\n",
       "      <td>2.744068</td>\n",
       "      <td>0.602763</td>\n",
       "      <td>1.786355</td>\n",
       "      <td>0.703574</td>\n",
       "      <td>1.95789</td>\n",
       "      <td>0.397237</td>\n",
       "    </tr>\n",
       "    <tr>\n",
       "      <th>1</th>\n",
       "      <td>0</td>\n",
       "      <td>2</td>\n",
       "      <td>1.0</td>\n",
       "      <td>17.879734</td>\n",
       "      <td>2.744068</td>\n",
       "      <td>0.602763</td>\n",
       "      <td>1.786355</td>\n",
       "      <td>0.703574</td>\n",
       "      <td>1.95789</td>\n",
       "      <td>0.397237</td>\n",
       "    </tr>\n",
       "  </tbody>\n",
       "</table>\n",
       "</div>"
      ],
      "text/plain": [
       "   run  year  best_dose         mu         b     asymp  dec_rate    m_prop  \\\n",
       "0    0     1        1.0  17.879734  2.744068  0.602763  1.786355  0.703574   \n",
       "1    0     2        1.0  17.879734  2.744068  0.602763  1.786355  0.703574   \n",
       "\n",
       "   m_scale   ME_mean  \n",
       "0  1.95789  0.397237  \n",
       "1  1.95789  0.397237  "
      ]
     },
     "execution_count": 4,
     "metadata": {},
     "output_type": "execute_result"
    }
   ],
   "source": [
    "if MODEL=='Y10':\n",
    "    df = (\n",
    "        pd.read_csv('../outputs/combined/processed_scan_all.csv')\n",
    "        .loc[lambda x: x.year==10]\n",
    "        .reset_index(drop=True)\n",
    "    )\n",
    "    X = df.drop(['year', 'best_dose'], axis=1)\n",
    "    \n",
    "else:\n",
    "    df = pd.read_csv(f'../outputs/combined/processed_scan_{MODEL}.csv')\n",
    "    X = df.drop(['best_dose'], axis=1)\n",
    "\n",
    "y = df.loc[:, ['run', 'best_dose']]\n",
    "\n",
    "df.head(2)"
   ]
  },
  {
   "cell_type": "markdown",
   "id": "b5558967-e74b-436d-ac98-240662ae99fb",
   "metadata": {},
   "source": [
    "Get data (by run)"
   ]
  },
  {
   "cell_type": "code",
   "execution_count": 5,
   "id": "310e585d-9932-4491-9a58-156586ebf2c3",
   "metadata": {},
   "outputs": [
    {
     "data": {
      "text/html": [
       "<div>\n",
       "<style scoped>\n",
       "    .dataframe tbody tr th:only-of-type {\n",
       "        vertical-align: middle;\n",
       "    }\n",
       "\n",
       "    .dataframe tbody tr th {\n",
       "        vertical-align: top;\n",
       "    }\n",
       "\n",
       "    .dataframe thead th {\n",
       "        text-align: right;\n",
       "    }\n",
       "</style>\n",
       "<table border=\"1\" class=\"dataframe\">\n",
       "  <thead>\n",
       "    <tr style=\"text-align: right;\">\n",
       "      <th></th>\n",
       "      <th>year</th>\n",
       "      <th>mu</th>\n",
       "      <th>b</th>\n",
       "      <th>asymp</th>\n",
       "      <th>dec_rate</th>\n",
       "      <th>m_prop</th>\n",
       "      <th>m_scale</th>\n",
       "      <th>ME_mean</th>\n",
       "    </tr>\n",
       "  </thead>\n",
       "  <tbody>\n",
       "    <tr>\n",
       "      <th>0</th>\n",
       "      <td>1</td>\n",
       "      <td>17.879734</td>\n",
       "      <td>2.744068</td>\n",
       "      <td>0.602763</td>\n",
       "      <td>1.786355</td>\n",
       "      <td>0.703574</td>\n",
       "      <td>1.95789</td>\n",
       "      <td>0.397237</td>\n",
       "    </tr>\n",
       "    <tr>\n",
       "      <th>1</th>\n",
       "      <td>2</td>\n",
       "      <td>17.879734</td>\n",
       "      <td>2.744068</td>\n",
       "      <td>0.602763</td>\n",
       "      <td>1.786355</td>\n",
       "      <td>0.703574</td>\n",
       "      <td>1.95789</td>\n",
       "      <td>0.397237</td>\n",
       "    </tr>\n",
       "  </tbody>\n",
       "</table>\n",
       "</div>"
      ],
      "text/plain": [
       "   year         mu         b     asymp  dec_rate    m_prop  m_scale   ME_mean\n",
       "0     1  17.879734  2.744068  0.602763  1.786355  0.703574  1.95789  0.397237\n",
       "1     2  17.879734  2.744068  0.602763  1.786355  0.703574  1.95789  0.397237"
      ]
     },
     "execution_count": 5,
     "metadata": {},
     "output_type": "execute_result"
    }
   ],
   "source": [
    "X_cv = X.loc[lambda x: (x.run<8000)].drop('run', axis=1)\n",
    "y_cv = y.loc[lambda x: (x.run<8000)].drop('run', axis=1)\n",
    "\n",
    "X_test = X.loc[lambda x: (x.run>=8000)].drop('run', axis=1)\n",
    "y_test = np.array(y.loc[lambda x: (x.run>=8000)].drop('run', axis=1))\n",
    "\n",
    "X_cv.head(2)"
   ]
  },
  {
   "cell_type": "markdown",
   "id": "3af27c24-9c08-460a-b18a-2e7db312febf",
   "metadata": {},
   "source": [
    "# Find optimal hyperparams"
   ]
  },
  {
   "cell_type": "code",
   "execution_count": 6,
   "id": "19cfbe39-a5e4-4008-9619-33e63076e8b4",
   "metadata": {},
   "outputs": [],
   "source": [
    "np.random.seed(0)\n",
    "\n",
    "optuna.logging.set_verbosity(0)\n",
    "\n",
    "# ignore warning about Int64Index\n",
    "warnings.simplefilter(action='ignore', category=FutureWarning)"
   ]
  },
  {
   "cell_type": "markdown",
   "id": "b5d9e75f-a32b-4461-8ff0-08cdff82c864",
   "metadata": {},
   "source": [
    "How do the default params do?"
   ]
  },
  {
   "cell_type": "code",
   "execution_count": null,
   "id": "1d56a247-3707-439c-a209-715f658e7b6e",
   "metadata": {},
   "outputs": [
    {
     "name": "stderr",
     "output_type": "stream",
     "text": [
      "2it [00:07,  3.71s/it]"
     ]
    }
   ],
   "source": [
    "%%time\n",
    "score = check_default_model(X_cv, y_cv)\n",
    "score"
   ]
  },
  {
   "cell_type": "markdown",
   "id": "4f4aa351-c757-4893-ad9b-a5192ff354c3",
   "metadata": {},
   "source": [
    "Score obtained: \n",
    "\n",
    "- all: `XX`\n",
    "- Y10: `XX`\n",
    "- asymp: `XX`\n",
    "- cumulative: `XX`"
   ]
  },
  {
   "cell_type": "markdown",
   "id": "c42fe9da-e401-4d18-920d-ed176b548860",
   "metadata": {},
   "source": [
    "## Hyperparam opt"
   ]
  },
  {
   "cell_type": "code",
   "execution_count": null,
   "id": "2d2e0044-c5b7-402d-8e5e-e0a9b4a0bd94",
   "metadata": {},
   "outputs": [],
   "source": [
    "obj = HyperparamsObj(X_cv, y_cv)\n",
    "\n",
    "sampler = TPESampler(seed=10)\n",
    "study = optuna.create_study(sampler=sampler)"
   ]
  },
  {
   "cell_type": "markdown",
   "id": "92abbdd0-f700-4069-b10e-7a4182a87f13",
   "metadata": {},
   "source": [
    "NB takes about 17 hours"
   ]
  },
  {
   "cell_type": "code",
   "execution_count": null,
   "id": "4ba192f9-e8b4-4f08-8675-f9918bfd4860",
   "metadata": {},
   "outputs": [],
   "source": [
    "%%time\n",
    "study.optimize(obj, n_trials=10)\n",
    "study.best_value"
   ]
  },
  {
   "cell_type": "code",
   "execution_count": null,
   "id": "effccebf-22c1-4bd3-b45c-a1f335299ed6",
   "metadata": {},
   "outputs": [],
   "source": [
    "%%time\n",
    "study.optimize(obj, n_trials=90)\n",
    "study.best_value"
   ]
  },
  {
   "cell_type": "code",
   "execution_count": null,
   "id": "d9a61f57-615a-4f74-a428-ad8d7297a66e",
   "metadata": {},
   "outputs": [],
   "source": [
    "%%time\n",
    "study.optimize(obj, n_trials=100)\n",
    "study.best_value"
   ]
  },
  {
   "cell_type": "code",
   "execution_count": null,
   "id": "4bdb8a8c-f1b4-4514-b02e-fc0a23e807a4",
   "metadata": {},
   "outputs": [],
   "source": [
    "%%time\n",
    "study.optimize(obj, n_trials=100)\n",
    "study.best_value"
   ]
  },
  {
   "cell_type": "markdown",
   "id": "1ff1b2e4-8662-4028-a1bb-e7b70632ba7f",
   "metadata": {},
   "source": [
    "Score obtained: \n",
    "\n",
    "- all: `XX`\n",
    "- Y10: `XX`\n",
    "- asymp: `XX`\n",
    "- cumulative: `XX`"
   ]
  },
  {
   "cell_type": "markdown",
   "id": "37c4b73c-1fe3-47f8-a4f3-24c176cf5f74",
   "metadata": {},
   "source": [
    "## Optimisation plots"
   ]
  },
  {
   "cell_type": "code",
   "execution_count": null,
   "id": "11b9daf6-1e98-4c58-ab1f-a58cbe95878a",
   "metadata": {},
   "outputs": [],
   "source": [
    "f = plot_optimization_history(study)\n",
    "f.update_layout(height=500)"
   ]
  },
  {
   "cell_type": "code",
   "execution_count": null,
   "id": "bde4156e-081d-4c86-b35e-9fda83e9cfd3",
   "metadata": {},
   "outputs": [],
   "source": [
    "f = plot_contour(study)\n",
    "f.update_layout(height=800)"
   ]
  },
  {
   "cell_type": "markdown",
   "id": "44e625ec-2e8b-4037-b89a-ade73b11d33c",
   "metadata": {},
   "source": [
    "## Check performance of best model"
   ]
  },
  {
   "cell_type": "markdown",
   "id": "a06e2a14-4bdd-4494-98f3-3134aa9fd23a",
   "metadata": {},
   "source": [
    "Check model doesn't drastically degrade on completely unseen data\n",
    "\n",
    "#### Train set:\n",
    "- all: `XX`\n",
    "- Y10: `XX`\n",
    "- asymp: `XX`\n",
    "- cumulative: `XX`\n",
    "\n",
    "#### Test set:\n",
    "- all: `XX`\n",
    "- Y10: `XX`\n",
    "- asymp: `XX`\n",
    "- cumulative: `XX`"
   ]
  },
  {
   "cell_type": "code",
   "execution_count": null,
   "id": "687fa4dc-5597-4563-a958-ab4196ca667f",
   "metadata": {},
   "outputs": [],
   "source": [
    "best_pars = study.best_params\n",
    "best_pars"
   ]
  },
  {
   "cell_type": "code",
   "execution_count": null,
   "id": "7758231e-a976-40b3-b22a-2de59c94c77c",
   "metadata": {},
   "outputs": [],
   "source": [
    "load_best_pars = False\n",
    "\n",
    "if load_best_pars:\n",
    "    best_pars = pd.read_csv(f'../outputs/best_XGB_hyperparams_{MODEL}.csv').iloc[0].to_dict()\n",
    "    \n",
    "    best_pars['max_depth'] = int(best_pars['max_depth'])\n",
    "    best_pars['n_estimators'] = int(best_pars['n_estimators'])\n",
    "    # best_pars['objective'] = 'reg:pseudohubererror'\n",
    "    \n",
    "else:\n",
    "    # save\n",
    "    pd.DataFrame(best_pars, index=[0]).to_csv(f'../outputs/best_XGB_hyperparams_{MODEL}.csv', index=False)"
   ]
  },
  {
   "cell_type": "markdown",
   "id": "7690f78d-063c-4030-b064-eae808ffd586",
   "metadata": {},
   "source": [
    "### Performance on test set:"
   ]
  },
  {
   "cell_type": "code",
   "execution_count": null,
   "id": "2cc0d537-e378-4bbe-b9a2-44ad4efcce34",
   "metadata": {},
   "outputs": [],
   "source": [
    "%%time\n",
    "\n",
    "best_model = XGBRegressor(**best_pars).fit(X_cv, y_cv)\n",
    "\n",
    "y_p = best_model.predict(X_test)\n",
    "\n",
    "rmse = mean_squared_error(y_p, y_test, squared=False)\n",
    "\n",
    "rmse"
   ]
  },
  {
   "cell_type": "markdown",
   "id": "8c73095b-ea67-413b-9f35-0f0929e314b9",
   "metadata": {},
   "source": [
    "### Performance on training set:"
   ]
  },
  {
   "cell_type": "code",
   "execution_count": null,
   "id": "f1671ffd-f471-4e1a-9861-2eb9fea0ced5",
   "metadata": {},
   "outputs": [],
   "source": [
    "y_pt = best_model.predict(X_cv)\n",
    "\n",
    "rmse = mean_squared_error(y_pt, y_cv, squared=False)\n",
    "\n",
    "rmse"
   ]
  },
  {
   "cell_type": "markdown",
   "id": "c2287d0e-b8b5-4053-bd39-ad570b11760c",
   "metadata": {},
   "source": [
    "### Plot performance (rough)"
   ]
  },
  {
   "cell_type": "code",
   "execution_count": null,
   "id": "7d132212-8ed2-49c1-b567-b264a950bdb2",
   "metadata": {},
   "outputs": [],
   "source": [
    "f, ax = plt.subplots()\n",
    "\n",
    "(\n",
    "    pd.DataFrame()\n",
    "    .assign(\n",
    "        model = y_p,\n",
    "        data = y_test,\n",
    "    )\n",
    "    .sort_values('model')\n",
    "    .assign(data = lambda x: x.data + np.random.normal(0, 0.01, x.shape[0]))\n",
    "    .plot\n",
    "    .scatter(\n",
    "        x='data',\n",
    "        y='model',\n",
    "        alpha=0.1,\n",
    "        ax=ax\n",
    "    )\n",
    ")\n",
    "\n",
    "ax.scatter(np.arange(0.1, 1.1, 0.1), np.arange(0.1, 1.1, 0.1), c='r')\n",
    "\n",
    "ax.set_xlim([0,1.08])\n",
    "ax.set_ylim([-0.2, 1.3])"
   ]
  },
  {
   "cell_type": "markdown",
   "id": "2bcb8985-ffea-4ff2-b3c2-5b0c8ca27f24",
   "metadata": {},
   "source": [
    "### Performance of default model on test set:"
   ]
  },
  {
   "cell_type": "code",
   "execution_count": null,
   "id": "2bdf804a-e927-42a3-a03c-9086743ee53a",
   "metadata": {},
   "outputs": [],
   "source": [
    "# model = XGBRegressor().fit(X_train_val, y_train_val)\n",
    "model = XGBRegressor().fit(X_cv, y_cv)\n",
    "\n",
    "y_pdm = model.predict(X_test)\n",
    "\n",
    "rmse = mean_squared_error(y_pdm, y_test, squared=False)\n",
    "\n",
    "rmse"
   ]
  },
  {
   "cell_type": "markdown",
   "id": "53d053bb-554d-4a8c-bba8-3414d5e40753",
   "metadata": {},
   "source": [
    "## Save best model"
   ]
  },
  {
   "cell_type": "code",
   "execution_count": null,
   "id": "46ffb622-eece-4298-bfe6-8a5b3155fcce",
   "metadata": {},
   "outputs": [],
   "source": [
    "best_model.save_model(f'xgb_{MODEL}.json')"
   ]
  },
  {
   "cell_type": "code",
   "execution_count": null,
   "id": "acbc3bd0-e620-4e15-8bd7-2f8e04fcfe3c",
   "metadata": {},
   "outputs": [],
   "source": []
  }
 ],
 "metadata": {
  "kernelspec": {
   "display_name": "poly2_kernel",
   "language": "python",
   "name": "poly2_kernel"
  },
  "language_info": {
   "codemirror_mode": {
    "name": "ipython",
    "version": 3
   },
   "file_extension": ".py",
   "mimetype": "text/x-python",
   "name": "python",
   "nbconvert_exporter": "python",
   "pygments_lexer": "ipython3",
   "version": "3.8.12"
  }
 },
 "nbformat": 4,
 "nbformat_minor": 5
}
