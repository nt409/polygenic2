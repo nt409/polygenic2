{
 "cells": [
  {
   "cell_type": "markdown",
   "id": "9c28a391-71c7-4a13-b083-87e880010897",
   "metadata": {},
   "source": [
    "# Fig 1 - resistance in terms of mean and variance"
   ]
  },
  {
   "cell_type": "markdown",
   "id": "ef2f42c0-2f82-4399-849e-b548a295baed",
   "metadata": {},
   "source": [
    "## Overview:"
   ]
  },
  {
   "cell_type": "markdown",
   "id": "28df9a12-a96c-4716-a266-65c285cdc180",
   "metadata": {},
   "source": [
    "N sprays most important thing for resistance\n",
    "\n",
    "Effect of changes to initial distributions - variance and mean\n",
    "\n",
    "(maths in appendix proves it)\n",
    "\n",
    "And resistance increases with dose\n",
    "\n",
    "Then can say simple things about resistance management, but yield and econ more complex (figs 2 onwards address)\n",
    "\n",
    "FIG:\n",
    "1. Mean of dist vs severity in diff cases (doses / sprays)\n",
    "2. Mean of dist vs n sprays/dose\n",
    "3. Variance vs change in following year or vs mean in year X"
   ]
  },
  {
   "cell_type": "markdown",
   "id": "b16965ea-e90c-4b6b-96eb-3030bc7c0ec3",
   "metadata": {},
   "source": [
    "## Required data:"
   ]
  },
  {
   "cell_type": "markdown",
   "id": "8b7a9471-10e5-446d-a538-da2ef45eea1b",
   "metadata": {},
   "source": [
    "Uses `local/fig1_data.py`."
   ]
  },
  {
   "cell_type": "code",
   "execution_count": 1,
   "id": "62bd3e02-eaa3-4096-98d8-085aa6d8621f",
   "metadata": {},
   "outputs": [],
   "source": [
    "%load_ext autoreload\n",
    "%autoreload 2\n",
    "\n",
    "%matplotlib widget"
   ]
  },
  {
   "cell_type": "code",
   "execution_count": 2,
   "id": "ad0f2ad3-8828-4875-85c9-95bcd0be6489",
   "metadata": {},
   "outputs": [],
   "source": [
    "import pandas as pd\n",
    "from scipy.stats import norm\n",
    "from scipy import signal\n",
    "\n",
    "import seaborn as sns\n",
    "from math import floor\n",
    "\n",
    "import numpy as np\n",
    "import matplotlib.pyplot as plt\n",
    "\n",
    "import plotly.graph_objects as go\n",
    "from plotly.subplots import make_subplots\n",
    "import plotly.express as px\n",
    "\n",
    "import copy\n",
    "\n",
    "from plots2.fns import (\n",
    "    standard_layout,\n",
    "    corner_annotations_colwise,\n",
    "    corner_annotations_rowwise,\n",
    ")\n",
    "\n",
    "from poly2.utils import get_dist_mean, edge_values\n",
    "\n",
    "from poly2.run import simulations_run, no_joblib_simulations_run\n",
    "from poly2.config import Config"
   ]
  },
  {
   "cell_type": "code",
   "execution_count": 3,
   "id": "411775f2-6910-45d4-8c2a-d16e77c87f1e",
   "metadata": {},
   "outputs": [],
   "source": [
    "COLZ = sns.color_palette('muted').as_hex()"
   ]
  },
  {
   "cell_type": "markdown",
   "id": "cb07166f-aedd-41b8-bf40-a72bcbed4249",
   "metadata": {},
   "source": [
    "# Plot"
   ]
  },
  {
   "cell_type": "markdown",
   "id": "b8572e8b-b261-49b2-9523-371695231075",
   "metadata": {},
   "source": [
    "## Data"
   ]
  },
  {
   "cell_type": "code",
   "execution_count": 276,
   "id": "a11d9ba0-515b-4de2-98dc-86f1188d0854",
   "metadata": {},
   "outputs": [
    {
     "data": {
      "text/html": [
       "<div>\n",
       "<style scoped>\n",
       "    .dataframe tbody tr th:only-of-type {\n",
       "        vertical-align: middle;\n",
       "    }\n",
       "\n",
       "    .dataframe tbody tr th {\n",
       "        vertical-align: top;\n",
       "    }\n",
       "\n",
       "    .dataframe thead th {\n",
       "        text-align: right;\n",
       "    }\n",
       "</style>\n",
       "<table border=\"1\" class=\"dataframe\">\n",
       "  <thead>\n",
       "    <tr style=\"text-align: right;\">\n",
       "      <th></th>\n",
       "      <th>sprays</th>\n",
       "      <th>dose</th>\n",
       "      <th>year</th>\n",
       "      <th>sev</th>\n",
       "      <th>fung_mean</th>\n",
       "      <th>fung_var</th>\n",
       "      <th>total_sprays</th>\n",
       "    </tr>\n",
       "  </thead>\n",
       "  <tbody>\n",
       "    <tr>\n",
       "      <th>0</th>\n",
       "      <td>1</td>\n",
       "      <td>1</td>\n",
       "      <td>0</td>\n",
       "      <td>NaN</td>\n",
       "      <td>0.002553</td>\n",
       "      <td>0.000056</td>\n",
       "      <td>0</td>\n",
       "    </tr>\n",
       "    <tr>\n",
       "      <th>1</th>\n",
       "      <td>1</td>\n",
       "      <td>1</td>\n",
       "      <td>1</td>\n",
       "      <td>3.012310</td>\n",
       "      <td>0.003615</td>\n",
       "      <td>0.000125</td>\n",
       "      <td>1</td>\n",
       "    </tr>\n",
       "    <tr>\n",
       "      <th>2</th>\n",
       "      <td>1</td>\n",
       "      <td>1</td>\n",
       "      <td>2</td>\n",
       "      <td>3.086163</td>\n",
       "      <td>0.005642</td>\n",
       "      <td>0.000292</td>\n",
       "      <td>2</td>\n",
       "    </tr>\n",
       "  </tbody>\n",
       "</table>\n",
       "</div>"
      ],
      "text/plain": [
       "   sprays  dose  year       sev  fung_mean  fung_var  total_sprays\n",
       "0       1     1     0       NaN   0.002553  0.000056             0\n",
       "1       1     1     1  3.012310   0.003615  0.000125             1\n",
       "2       1     1     2  3.086163   0.005642  0.000292             2"
      ]
     },
     "execution_count": 276,
     "metadata": {},
     "output_type": "execute_result"
    }
   ],
   "source": [
    "df_in = (\n",
    "    # pd.read_csv('../outputs/combined/fig1_no_dec_hg2.csv')\n",
    "    # pd.read_csv('../outputs/combined/fig1_d240_hg95.csv')\n",
    "    # pd.read_csv('../outputs/combined/fig1_dhg.csv')\n",
    "    # pd.read_csv('../outputs/combined/fig1_no_dd_hg_dc.csv')\n",
    "    # pd.read_csv('../outputs/combined/fig1_mutation_zero.csv')\n",
    "    pd.read_csv('../outputs/combined/fig1_500_50.csv')\n",
    "    .assign(total_sprays = lambda df: df.sprays * df.year)\n",
    ")\n",
    "\n",
    "df_in.head(3)"
   ]
  },
  {
   "cell_type": "code",
   "execution_count": 277,
   "id": "81f08526-1c0a-4c2c-83ed-7ab51e5ecf21",
   "metadata": {},
   "outputs": [
    {
     "data": {
      "text/html": [
       "<div>\n",
       "<style scoped>\n",
       "    .dataframe tbody tr th:only-of-type {\n",
       "        vertical-align: middle;\n",
       "    }\n",
       "\n",
       "    .dataframe tbody tr th {\n",
       "        vertical-align: top;\n",
       "    }\n",
       "\n",
       "    .dataframe thead th {\n",
       "        text-align: right;\n",
       "    }\n",
       "</style>\n",
       "<table border=\"1\" class=\"dataframe\">\n",
       "  <thead>\n",
       "    <tr style=\"text-align: right;\">\n",
       "      <th></th>\n",
       "      <th>sprays</th>\n",
       "      <th>dose</th>\n",
       "      <th>year</th>\n",
       "      <th>sev</th>\n",
       "      <th>fung_mean</th>\n",
       "      <th>fung_var</th>\n",
       "      <th>total_sprays</th>\n",
       "      <th>mean_diff</th>\n",
       "    </tr>\n",
       "  </thead>\n",
       "  <tbody>\n",
       "    <tr>\n",
       "      <th>0</th>\n",
       "      <td>1</td>\n",
       "      <td>1</td>\n",
       "      <td>0</td>\n",
       "      <td>NaN</td>\n",
       "      <td>0.002553</td>\n",
       "      <td>0.000056</td>\n",
       "      <td>0</td>\n",
       "      <td>0.001062</td>\n",
       "    </tr>\n",
       "    <tr>\n",
       "      <th>1</th>\n",
       "      <td>1</td>\n",
       "      <td>1</td>\n",
       "      <td>1</td>\n",
       "      <td>3.012310</td>\n",
       "      <td>0.003615</td>\n",
       "      <td>0.000125</td>\n",
       "      <td>1</td>\n",
       "      <td>0.002028</td>\n",
       "    </tr>\n",
       "    <tr>\n",
       "      <th>2</th>\n",
       "      <td>1</td>\n",
       "      <td>1</td>\n",
       "      <td>2</td>\n",
       "      <td>3.086163</td>\n",
       "      <td>0.005642</td>\n",
       "      <td>0.000292</td>\n",
       "      <td>2</td>\n",
       "      <td>0.004005</td>\n",
       "    </tr>\n",
       "    <tr>\n",
       "      <th>3</th>\n",
       "      <td>1</td>\n",
       "      <td>1</td>\n",
       "      <td>3</td>\n",
       "      <td>3.208225</td>\n",
       "      <td>0.009648</td>\n",
       "      <td>0.000702</td>\n",
       "      <td>3</td>\n",
       "      <td>0.007965</td>\n",
       "    </tr>\n",
       "    <tr>\n",
       "      <th>4</th>\n",
       "      <td>1</td>\n",
       "      <td>1</td>\n",
       "      <td>4</td>\n",
       "      <td>3.414885</td>\n",
       "      <td>0.017613</td>\n",
       "      <td>0.001674</td>\n",
       "      <td>4</td>\n",
       "      <td>0.015234</td>\n",
       "    </tr>\n",
       "    <tr>\n",
       "      <th>5</th>\n",
       "      <td>1</td>\n",
       "      <td>1</td>\n",
       "      <td>5</td>\n",
       "      <td>3.765756</td>\n",
       "      <td>0.032847</td>\n",
       "      <td>0.003758</td>\n",
       "      <td>5</td>\n",
       "      <td>0.026333</td>\n",
       "    </tr>\n",
       "    <tr>\n",
       "      <th>6</th>\n",
       "      <td>1</td>\n",
       "      <td>1</td>\n",
       "      <td>6</td>\n",
       "      <td>4.338660</td>\n",
       "      <td>0.059180</td>\n",
       "      <td>0.007450</td>\n",
       "      <td>6</td>\n",
       "      <td>0.038836</td>\n",
       "    </tr>\n",
       "    <tr>\n",
       "      <th>7</th>\n",
       "      <td>1</td>\n",
       "      <td>1</td>\n",
       "      <td>7</td>\n",
       "      <td>5.184212</td>\n",
       "      <td>0.098016</td>\n",
       "      <td>0.012424</td>\n",
       "      <td>7</td>\n",
       "      <td>0.047985</td>\n",
       "    </tr>\n",
       "    <tr>\n",
       "      <th>8</th>\n",
       "      <td>1</td>\n",
       "      <td>1</td>\n",
       "      <td>8</td>\n",
       "      <td>6.251886</td>\n",
       "      <td>0.146000</td>\n",
       "      <td>0.017376</td>\n",
       "      <td>8</td>\n",
       "      <td>0.051388</td>\n",
       "    </tr>\n",
       "    <tr>\n",
       "      <th>9</th>\n",
       "      <td>1</td>\n",
       "      <td>1</td>\n",
       "      <td>9</td>\n",
       "      <td>7.389811</td>\n",
       "      <td>0.197389</td>\n",
       "      <td>0.021163</td>\n",
       "      <td>9</td>\n",
       "      <td>0.050492</td>\n",
       "    </tr>\n",
       "    <tr>\n",
       "      <th>10</th>\n",
       "      <td>1</td>\n",
       "      <td>1</td>\n",
       "      <td>10</td>\n",
       "      <td>8.459014</td>\n",
       "      <td>0.247881</td>\n",
       "      <td>0.023492</td>\n",
       "      <td>10</td>\n",
       "      <td>0.047552</td>\n",
       "    </tr>\n",
       "    <tr>\n",
       "      <th>11</th>\n",
       "      <td>1</td>\n",
       "      <td>1</td>\n",
       "      <td>11</td>\n",
       "      <td>9.404936</td>\n",
       "      <td>0.295433</td>\n",
       "      <td>0.024564</td>\n",
       "      <td>11</td>\n",
       "      <td>0.043880</td>\n",
       "    </tr>\n",
       "    <tr>\n",
       "      <th>12</th>\n",
       "      <td>1</td>\n",
       "      <td>1</td>\n",
       "      <td>12</td>\n",
       "      <td>10.229592</td>\n",
       "      <td>0.339312</td>\n",
       "      <td>0.024698</td>\n",
       "      <td>12</td>\n",
       "      <td>0.040055</td>\n",
       "    </tr>\n",
       "    <tr>\n",
       "      <th>13</th>\n",
       "      <td>1</td>\n",
       "      <td>1</td>\n",
       "      <td>13</td>\n",
       "      <td>10.950216</td>\n",
       "      <td>0.379367</td>\n",
       "      <td>0.024190</td>\n",
       "      <td>13</td>\n",
       "      <td>0.036351</td>\n",
       "    </tr>\n",
       "    <tr>\n",
       "      <th>14</th>\n",
       "      <td>1</td>\n",
       "      <td>1</td>\n",
       "      <td>14</td>\n",
       "      <td>11.583186</td>\n",
       "      <td>0.415718</td>\n",
       "      <td>0.023283</td>\n",
       "      <td>14</td>\n",
       "      <td>0.032905</td>\n",
       "    </tr>\n",
       "    <tr>\n",
       "      <th>15</th>\n",
       "      <td>1</td>\n",
       "      <td>1</td>\n",
       "      <td>15</td>\n",
       "      <td>12.142028</td>\n",
       "      <td>0.448623</td>\n",
       "      <td>0.022155</td>\n",
       "      <td>15</td>\n",
       "      <td>NaN</td>\n",
       "    </tr>\n",
       "    <tr>\n",
       "      <th>16</th>\n",
       "      <td>2</td>\n",
       "      <td>1</td>\n",
       "      <td>0</td>\n",
       "      <td>NaN</td>\n",
       "      <td>0.002553</td>\n",
       "      <td>0.000056</td>\n",
       "      <td>0</td>\n",
       "      <td>0.002405</td>\n",
       "    </tr>\n",
       "    <tr>\n",
       "      <th>17</th>\n",
       "      <td>2</td>\n",
       "      <td>1</td>\n",
       "      <td>1</td>\n",
       "      <td>0.522100</td>\n",
       "      <td>0.004958</td>\n",
       "      <td>0.000238</td>\n",
       "      <td>2</td>\n",
       "      <td>0.008077</td>\n",
       "    </tr>\n",
       "  </tbody>\n",
       "</table>\n",
       "</div>"
      ],
      "text/plain": [
       "    sprays  dose  year        sev  fung_mean  fung_var  total_sprays  \\\n",
       "0        1     1     0        NaN   0.002553  0.000056             0   \n",
       "1        1     1     1   3.012310   0.003615  0.000125             1   \n",
       "2        1     1     2   3.086163   0.005642  0.000292             2   \n",
       "3        1     1     3   3.208225   0.009648  0.000702             3   \n",
       "4        1     1     4   3.414885   0.017613  0.001674             4   \n",
       "5        1     1     5   3.765756   0.032847  0.003758             5   \n",
       "6        1     1     6   4.338660   0.059180  0.007450             6   \n",
       "7        1     1     7   5.184212   0.098016  0.012424             7   \n",
       "8        1     1     8   6.251886   0.146000  0.017376             8   \n",
       "9        1     1     9   7.389811   0.197389  0.021163             9   \n",
       "10       1     1    10   8.459014   0.247881  0.023492            10   \n",
       "11       1     1    11   9.404936   0.295433  0.024564            11   \n",
       "12       1     1    12  10.229592   0.339312  0.024698            12   \n",
       "13       1     1    13  10.950216   0.379367  0.024190            13   \n",
       "14       1     1    14  11.583186   0.415718  0.023283            14   \n",
       "15       1     1    15  12.142028   0.448623  0.022155            15   \n",
       "16       2     1     0        NaN   0.002553  0.000056             0   \n",
       "17       2     1     1   0.522100   0.004958  0.000238             2   \n",
       "\n",
       "    mean_diff  \n",
       "0    0.001062  \n",
       "1    0.002028  \n",
       "2    0.004005  \n",
       "3    0.007965  \n",
       "4    0.015234  \n",
       "5    0.026333  \n",
       "6    0.038836  \n",
       "7    0.047985  \n",
       "8    0.051388  \n",
       "9    0.050492  \n",
       "10   0.047552  \n",
       "11   0.043880  \n",
       "12   0.040055  \n",
       "13   0.036351  \n",
       "14   0.032905  \n",
       "15        NaN  \n",
       "16   0.002405  \n",
       "17   0.008077  "
      ]
     },
     "execution_count": 277,
     "metadata": {},
     "output_type": "execute_result"
    }
   ],
   "source": [
    "df_use = (\n",
    "    df_in\n",
    "    .join(\n",
    "    (\n",
    "        df_in\n",
    "        .groupby(['sprays', 'dose'])\n",
    "        .diff()\n",
    "        .loc[:, ['fung_mean']]\n",
    "        .shift(-1)\n",
    "        .rename(columns = {'fung_mean': 'mean_diff'})\n",
    "    )\n",
    "    )\n",
    ")\n",
    "\n",
    "df_use.head(18)"
   ]
  },
  {
   "cell_type": "markdown",
   "id": "527a8aa8-278f-4a82-b2cc-3ba223f0602c",
   "metadata": {},
   "source": [
    "## Fig fn"
   ]
  },
  {
   "cell_type": "code",
   "execution_count": 284,
   "id": "8274786f-3997-4f01-a361-c35fa5d86a4f",
   "metadata": {},
   "outputs": [],
   "source": [
    "def fig1(df):\n",
    "    \n",
    "    fig = make_subplots(\n",
    "        rows=3,\n",
    "        cols=1,\n",
    "        # shared_xaxes=True,\n",
    "        # horizontal_spacing=0.33,\n",
    "        vertical_spacing=0.15,\n",
    "    )\n",
    "    \n",
    "    # len 10\n",
    "    # colors1 = px.colors.sequential.Viridis\n",
    "    # colors2 = px.colors.sequential.Agsunset\n",
    "    # colors3 = px.colors.sequential.Cividis\n",
    "    \n",
    "    # cols = {1: colors1, 2: colors2, 3: colors3}\n",
    "    \n",
    "    cols = ['red', 'blue', 'black']\n",
    "    # dashes = ['dot', 'solid']\n",
    "    \n",
    "    for spray, color in zip([1,2,3], cols):\n",
    "        by_spray = df.loc[df.sprays==spray]\n",
    "        \n",
    "        # for dose, dash in zip(by_spray.dose.unique(), dashes):\n",
    "        for dose in by_spray.dose.unique():\n",
    "            \n",
    "            dash = 'solid'\n",
    "            \n",
    "            by_spray_and_dose = by_spray.loc[lambda dd: dd.dose==dose]\n",
    "            \n",
    "            plural = 's' if spray!=1 else ''\n",
    "            \n",
    "            name_this_dose = f'{spray} spray{plural}'\n",
    "            \n",
    "            \n",
    "            if spray==2:\n",
    "                t_3 = go.Scatter(\n",
    "                    x=by_spray_and_dose.total_sprays,\n",
    "                    y=by_spray_and_dose.fung_mean,\n",
    "                    mode='lines+markers',\n",
    "                    name=name_this_dose,\n",
    "                    marker=dict(color=color, size=4),\n",
    "                    line=dict(color=color, dash=dash),\n",
    "                    # opacity=0.5,\n",
    "                    showlegend=False\n",
    "                )\n",
    "\n",
    "                fig.add_trace(t_3, row=3, col=1)\n",
    "            \n",
    "            \n",
    "            \n",
    "            \n",
    "            if dose!=1:\n",
    "                continue\n",
    "            \n",
    "            \n",
    "            t_1 = go.Scatter(\n",
    "                    x=by_spray_and_dose.fung_mean,\n",
    "                    y=by_spray_and_dose.sev,\n",
    "                    mode='lines+markers',\n",
    "                    name=name_this_dose,\n",
    "                    marker=dict(color=color, size=4),\n",
    "                    line=dict(color=color, dash=dash),\n",
    "                )\n",
    "\n",
    "            fig.add_trace(t_1, row=1, col=1)\n",
    "            \n",
    "            \n",
    "            \n",
    "            t_2 = go.Scatter(\n",
    "                x=by_spray_and_dose.total_sprays,\n",
    "                y=by_spray_and_dose.fung_mean,\n",
    "                mode='lines+markers',\n",
    "                name=name_this_dose,\n",
    "                marker=dict(color=color, size=4),\n",
    "                line=dict(color=color, dash=dash),\n",
    "                # opacity=0.5,\n",
    "                showlegend=False\n",
    "            )\n",
    "    \n",
    "            fig.add_trace(t_2, row=2, col=1)\n",
    "        \n",
    "#             t_3 = go.Scatter(\n",
    "#                 x=by_spray_and_dose.fung_var,\n",
    "#                 y=by_spray_and_dose.mean_diff,\n",
    "#                 mode='lines+markers',\n",
    "#                 name=name_this_dose,\n",
    "#                 marker=dict(color=color, size=4),\n",
    "#                 line=dict(color=color, dash=dash),\n",
    "#                 opacity=0.5,\n",
    "#                 showlegend=False\n",
    "#             )\n",
    "    \n",
    "#             fig.add_trace(t_3, row=3, col=1)\n",
    "            \n",
    "            \n",
    "    \n",
    "    \n",
    "    \n",
    "    \n",
    "    \n",
    "    fig.update_layout(standard_layout(True, height=800))\n",
    "    \n",
    "    fig.update_layout(legend=dict(x=0, y=1.18, orientation='h', font=dict(size=12)))\n",
    "    \n",
    "    corners = corner_annotations_colwise(\n",
    "        3, 1,\n",
    "        1.05, 0,\n",
    "        0.38, 0\n",
    "    )\n",
    "    \n",
    "    fig.update_layout(annotations=corners)\n",
    "    \n",
    "    # X axis    \n",
    "    \n",
    "    # xrange = [0,15]\n",
    "    \n",
    "    fig.update_xaxes(title_text='Trait mean',\n",
    "                     row=1, col=1,\n",
    "                     # rangemode='tozero',\n",
    "                     # range=[-0.01, 1.01],\n",
    "                     showgrid=False)\n",
    "    \n",
    "    fig.update_xaxes(title_text='Number of applications',\n",
    "                     row=2, col=1,\n",
    "                     # range=xrange,\n",
    "                     showgrid=False)\n",
    "    \n",
    "    fig.update_xaxes(title_text='Number of applications',\n",
    "                     row=3, col=1,\n",
    "                     # range=xrange,\n",
    "                     showgrid=False)\n",
    "    \n",
    "    # fig.update_xaxes(title_text='Trait variance',\n",
    "    #                  row=3, col=1,\n",
    "    #                  # range=xrange,\n",
    "    #                  showgrid=False)\n",
    "    \n",
    "    \n",
    "    # Y axis    \n",
    "    fig.update_yaxes(title_text='Disease severity (%)',\n",
    "                     # type='log',\n",
    "                     row=1, col=1,\n",
    "                     showgrid=False)\n",
    "    \n",
    "    fig.update_yaxes(title_text='Trait mean',\n",
    "                         row=2, col=1,\n",
    "                         showgrid=False)\n",
    "    \n",
    "    fig.update_yaxes(title_text='Trait mean',\n",
    "                         row=3, col=1,\n",
    "                         showgrid=False)\n",
    "    \n",
    "    # fig.update_yaxes(title_text='Change in trait mean',\n",
    "    #                      row=3, col=1,\n",
    "    #                      showgrid=False)\n",
    "\n",
    "    return fig"
   ]
  },
  {
   "cell_type": "markdown",
   "id": "6ab3b341-b183-4d42-8443-31210df59a28",
   "metadata": {},
   "source": [
    "## FIG"
   ]
  },
  {
   "cell_type": "code",
   "execution_count": 285,
   "id": "c87c3e30-1a83-4c5f-a7c0-b59d6437125c",
   "metadata": {},
   "outputs": [
    {
     "data": {
      "application/vnd.plotly.v1+json": {
       "config": {
        "plotlyServerURL": "https://plot.ly"
       },
       "data": [
        {
         "line": {
          "color": "red",
          "dash": "solid"
         },
         "marker": {
          "color": "red",
          "size": 4
         },
         "mode": "lines+markers",
         "name": "1 spray",
         "type": "scatter",
         "x": [
          0.0025528415617962,
          0.0036145368953543,
          0.0056424976050313,
          0.0096477319610338,
          0.0176125970665966,
          0.0328469763335557,
          0.0591801049196993,
          0.0980156240345531,
          0.1460003037923055,
          0.1973887289307164,
          0.2478809918703624,
          0.2954327829351857,
          0.3393124071465712,
          0.3793674776321389,
          0.4157181602786255,
          0.4486234202857964
         ],
         "xaxis": "x",
         "y": [
          null,
          3.012309635122663,
          3.08616306615229,
          3.208225042316537,
          3.414884508013085,
          3.765756183121276,
          4.338659887908025,
          5.18421207788034,
          6.251886232578184,
          7.389810566309507,
          8.459013531983842,
          9.404935589540456,
          10.229592487149825,
          10.950216366819864,
          11.583186088396744,
          12.142027573077955
         ],
         "yaxis": "y"
        },
        {
         "line": {
          "color": "red",
          "dash": "solid"
         },
         "marker": {
          "color": "red",
          "size": 4
         },
         "mode": "lines+markers",
         "name": "1 spray",
         "showlegend": false,
         "type": "scatter",
         "x": [
          0,
          1,
          2,
          3,
          4,
          5,
          6,
          7,
          8,
          9,
          10,
          11,
          12,
          13,
          14,
          15
         ],
         "xaxis": "x2",
         "y": [
          0.0025528415617962,
          0.0036145368953543,
          0.0056424976050313,
          0.0096477319610338,
          0.0176125970665966,
          0.0328469763335557,
          0.0591801049196993,
          0.0980156240345531,
          0.1460003037923055,
          0.1973887289307164,
          0.2478809918703624,
          0.2954327829351857,
          0.3393124071465712,
          0.3793674776321389,
          0.4157181602786255,
          0.4486234202857964
         ],
         "yaxis": "y2"
        },
        {
         "line": {
          "color": "blue",
          "dash": "solid"
         },
         "marker": {
          "color": "blue",
          "size": 4
         },
         "mode": "lines+markers",
         "name": "2 sprays",
         "showlegend": false,
         "type": "scatter",
         "x": [
          0,
          2,
          4,
          6,
          8,
          10,
          12,
          14,
          16,
          18,
          20,
          22,
          24,
          26,
          28,
          30
         ],
         "xaxis": "x3",
         "y": [
          0.0025528415617962,
          0.0049581998860329,
          0.0130347377786901,
          0.0406588719843574,
          0.1109171531004334,
          0.2132021805154371,
          0.3112123805749845,
          0.3930603542203148,
          0.4597896384809896,
          0.514290643172191,
          0.5592585815654236,
          0.5968332413816321,
          0.6286268896936064,
          0.6558442151349202,
          0.6793888976147585,
          0.6999475324547167
         ],
         "yaxis": "y3"
        },
        {
         "line": {
          "color": "blue",
          "dash": "solid"
         },
         "marker": {
          "color": "blue",
          "size": 4
         },
         "mode": "lines+markers",
         "name": "2 sprays",
         "type": "scatter",
         "x": [
          0.0025528415617962,
          0.0049581998860329,
          0.0130347377786901,
          0.0406588719843574,
          0.1109171531004334,
          0.2132021805154371,
          0.3112123805749845,
          0.3930603542203148,
          0.4597896384809896,
          0.514290643172191,
          0.5592585815654236,
          0.5968332413816321,
          0.6286268896936064,
          0.6558442151349202,
          0.6793888976147585,
          0.6999475324547167
         ],
         "xaxis": "x",
         "y": [
          null,
          0.5220998154918841,
          0.5810050517128821,
          0.7489485428419551,
          1.2520543748466133,
          2.4240580661510496,
          4.06124025400799,
          5.64353714244433,
          7.020426643742435,
          8.198931398499768,
          9.205959896925238,
          10.070263191056782,
          10.81740148043336,
          11.46774833736556,
          12.038258454045984,
          12.54226536312122
         ],
         "yaxis": "y"
        },
        {
         "line": {
          "color": "blue",
          "dash": "solid"
         },
         "marker": {
          "color": "blue",
          "size": 4
         },
         "mode": "lines+markers",
         "name": "2 sprays",
         "showlegend": false,
         "type": "scatter",
         "x": [
          0,
          2,
          4,
          6,
          8,
          10,
          12,
          14,
          16,
          18,
          20,
          22,
          24,
          26,
          28,
          30
         ],
         "xaxis": "x2",
         "y": [
          0.0025528415617962,
          0.0049581998860329,
          0.0130347377786901,
          0.0406588719843574,
          0.1109171531004334,
          0.2132021805154371,
          0.3112123805749845,
          0.3930603542203148,
          0.4597896384809896,
          0.514290643172191,
          0.5592585815654236,
          0.5968332413816321,
          0.6286268896936064,
          0.6558442151349202,
          0.6793888976147585,
          0.6999475324547167
         ],
         "yaxis": "y2"
        },
        {
         "line": {
          "color": "black",
          "dash": "solid"
         },
         "marker": {
          "color": "black",
          "size": 4
         },
         "mode": "lines+markers",
         "name": "3 sprays",
         "type": "scatter",
         "x": [
          0.0025528415617962,
          0.0062750284233083,
          0.0245265517140747,
          0.0984565953820602,
          0.2318117658393066,
          0.3537881909164067,
          0.4478146778666468,
          0.5197895343151866,
          0.575843091640954,
          0.6204620052946171,
          0.656721853265666,
          0.686728292445306,
          0.7119519378594605,
          0.733442556691275,
          0.7519677480461213,
          0.7680996653103179
         ],
         "xaxis": "x",
         "y": [
          null,
          0.1724343208524227,
          0.2166400032622553,
          0.4156125575497766,
          1.2269318889609704,
          2.825780459174021,
          4.524283881429106,
          6.045795248082114,
          7.359813426675096,
          8.483478359295765,
          9.445560158620218,
          10.274097403206609,
          10.992384585977536,
          11.619883226373338,
          12.17181509153902,
          12.66081479391295
         ],
         "yaxis": "y"
        },
        {
         "line": {
          "color": "black",
          "dash": "solid"
         },
         "marker": {
          "color": "black",
          "size": 4
         },
         "mode": "lines+markers",
         "name": "3 sprays",
         "showlegend": false,
         "type": "scatter",
         "x": [
          0,
          3,
          6,
          9,
          12,
          15,
          18,
          21,
          24,
          27,
          30,
          33,
          36,
          39,
          42,
          45
         ],
         "xaxis": "x2",
         "y": [
          0.0025528415617962,
          0.0062750284233083,
          0.0245265517140747,
          0.0984565953820602,
          0.2318117658393066,
          0.3537881909164067,
          0.4478146778666468,
          0.5197895343151866,
          0.575843091640954,
          0.6204620052946171,
          0.656721853265666,
          0.686728292445306,
          0.7119519378594605,
          0.733442556691275,
          0.7519677480461213,
          0.7680996653103179
         ],
         "yaxis": "y2"
        }
       ],
       "layout": {
        "annotations": [
         {
          "font": {
           "color": "rgb(110,110,110)",
           "size": 20
          },
          "showarrow": false,
          "text": "A",
          "x": 0,
          "xanchor": "center",
          "xref": "paper",
          "y": 1.05,
          "yanchor": "top",
          "yref": "paper"
         },
         {
          "font": {
           "color": "rgb(110,110,110)",
           "size": 20
          },
          "showarrow": false,
          "text": "B",
          "x": 0,
          "xanchor": "center",
          "xref": "paper",
          "y": 0.67,
          "yanchor": "top",
          "yref": "paper"
         },
         {
          "font": {
           "color": "rgb(110,110,110)",
           "size": 20
          },
          "showarrow": false,
          "text": "C",
          "x": 0,
          "xanchor": "center",
          "xref": "paper",
          "y": 0.29000000000000004,
          "yanchor": "top",
          "yref": "paper"
         }
        ],
        "font": {
         "size": 14
        },
        "height": 800,
        "legend": {
         "font": {
          "size": 12
         },
         "orientation": "h",
         "x": 0,
         "y": 1.18
        },
        "showlegend": true,
        "template": {
         "data": {
          "bar": [
           {
            "error_x": {
             "color": "rgb(36,36,36)"
            },
            "error_y": {
             "color": "rgb(36,36,36)"
            },
            "marker": {
             "line": {
              "color": "white",
              "width": 0.5
             },
             "pattern": {
              "fillmode": "overlay",
              "size": 10,
              "solidity": 0.2
             }
            },
            "type": "bar"
           }
          ],
          "barpolar": [
           {
            "marker": {
             "line": {
              "color": "white",
              "width": 0.5
             },
             "pattern": {
              "fillmode": "overlay",
              "size": 10,
              "solidity": 0.2
             }
            },
            "type": "barpolar"
           }
          ],
          "carpet": [
           {
            "aaxis": {
             "endlinecolor": "rgb(36,36,36)",
             "gridcolor": "white",
             "linecolor": "white",
             "minorgridcolor": "white",
             "startlinecolor": "rgb(36,36,36)"
            },
            "baxis": {
             "endlinecolor": "rgb(36,36,36)",
             "gridcolor": "white",
             "linecolor": "white",
             "minorgridcolor": "white",
             "startlinecolor": "rgb(36,36,36)"
            },
            "type": "carpet"
           }
          ],
          "choropleth": [
           {
            "colorbar": {
             "outlinewidth": 1,
             "tickcolor": "rgb(36,36,36)",
             "ticks": "outside"
            },
            "type": "choropleth"
           }
          ],
          "contour": [
           {
            "colorbar": {
             "outlinewidth": 1,
             "tickcolor": "rgb(36,36,36)",
             "ticks": "outside"
            },
            "colorscale": [
             [
              0,
              "#440154"
             ],
             [
              0.1111111111111111,
              "#482878"
             ],
             [
              0.2222222222222222,
              "#3e4989"
             ],
             [
              0.3333333333333333,
              "#31688e"
             ],
             [
              0.4444444444444444,
              "#26828e"
             ],
             [
              0.5555555555555556,
              "#1f9e89"
             ],
             [
              0.6666666666666666,
              "#35b779"
             ],
             [
              0.7777777777777778,
              "#6ece58"
             ],
             [
              0.8888888888888888,
              "#b5de2b"
             ],
             [
              1,
              "#fde725"
             ]
            ],
            "type": "contour"
           }
          ],
          "contourcarpet": [
           {
            "colorbar": {
             "outlinewidth": 1,
             "tickcolor": "rgb(36,36,36)",
             "ticks": "outside"
            },
            "type": "contourcarpet"
           }
          ],
          "heatmap": [
           {
            "colorbar": {
             "outlinewidth": 1,
             "tickcolor": "rgb(36,36,36)",
             "ticks": "outside"
            },
            "colorscale": [
             [
              0,
              "#440154"
             ],
             [
              0.1111111111111111,
              "#482878"
             ],
             [
              0.2222222222222222,
              "#3e4989"
             ],
             [
              0.3333333333333333,
              "#31688e"
             ],
             [
              0.4444444444444444,
              "#26828e"
             ],
             [
              0.5555555555555556,
              "#1f9e89"
             ],
             [
              0.6666666666666666,
              "#35b779"
             ],
             [
              0.7777777777777778,
              "#6ece58"
             ],
             [
              0.8888888888888888,
              "#b5de2b"
             ],
             [
              1,
              "#fde725"
             ]
            ],
            "type": "heatmap"
           }
          ],
          "heatmapgl": [
           {
            "colorbar": {
             "outlinewidth": 1,
             "tickcolor": "rgb(36,36,36)",
             "ticks": "outside"
            },
            "colorscale": [
             [
              0,
              "#440154"
             ],
             [
              0.1111111111111111,
              "#482878"
             ],
             [
              0.2222222222222222,
              "#3e4989"
             ],
             [
              0.3333333333333333,
              "#31688e"
             ],
             [
              0.4444444444444444,
              "#26828e"
             ],
             [
              0.5555555555555556,
              "#1f9e89"
             ],
             [
              0.6666666666666666,
              "#35b779"
             ],
             [
              0.7777777777777778,
              "#6ece58"
             ],
             [
              0.8888888888888888,
              "#b5de2b"
             ],
             [
              1,
              "#fde725"
             ]
            ],
            "type": "heatmapgl"
           }
          ],
          "histogram": [
           {
            "marker": {
             "line": {
              "color": "white",
              "width": 0.6
             },
             "pattern": {
              "fillmode": "overlay",
              "size": 10,
              "solidity": 0.2
             }
            },
            "type": "histogram"
           }
          ],
          "histogram2d": [
           {
            "colorbar": {
             "outlinewidth": 1,
             "tickcolor": "rgb(36,36,36)",
             "ticks": "outside"
            },
            "colorscale": [
             [
              0,
              "#440154"
             ],
             [
              0.1111111111111111,
              "#482878"
             ],
             [
              0.2222222222222222,
              "#3e4989"
             ],
             [
              0.3333333333333333,
              "#31688e"
             ],
             [
              0.4444444444444444,
              "#26828e"
             ],
             [
              0.5555555555555556,
              "#1f9e89"
             ],
             [
              0.6666666666666666,
              "#35b779"
             ],
             [
              0.7777777777777778,
              "#6ece58"
             ],
             [
              0.8888888888888888,
              "#b5de2b"
             ],
             [
              1,
              "#fde725"
             ]
            ],
            "type": "histogram2d"
           }
          ],
          "histogram2dcontour": [
           {
            "colorbar": {
             "outlinewidth": 1,
             "tickcolor": "rgb(36,36,36)",
             "ticks": "outside"
            },
            "colorscale": [
             [
              0,
              "#440154"
             ],
             [
              0.1111111111111111,
              "#482878"
             ],
             [
              0.2222222222222222,
              "#3e4989"
             ],
             [
              0.3333333333333333,
              "#31688e"
             ],
             [
              0.4444444444444444,
              "#26828e"
             ],
             [
              0.5555555555555556,
              "#1f9e89"
             ],
             [
              0.6666666666666666,
              "#35b779"
             ],
             [
              0.7777777777777778,
              "#6ece58"
             ],
             [
              0.8888888888888888,
              "#b5de2b"
             ],
             [
              1,
              "#fde725"
             ]
            ],
            "type": "histogram2dcontour"
           }
          ],
          "mesh3d": [
           {
            "colorbar": {
             "outlinewidth": 1,
             "tickcolor": "rgb(36,36,36)",
             "ticks": "outside"
            },
            "type": "mesh3d"
           }
          ],
          "parcoords": [
           {
            "line": {
             "colorbar": {
              "outlinewidth": 1,
              "tickcolor": "rgb(36,36,36)",
              "ticks": "outside"
             }
            },
            "type": "parcoords"
           }
          ],
          "pie": [
           {
            "automargin": true,
            "type": "pie"
           }
          ],
          "scatter": [
           {
            "marker": {
             "colorbar": {
              "outlinewidth": 1,
              "tickcolor": "rgb(36,36,36)",
              "ticks": "outside"
             }
            },
            "type": "scatter"
           }
          ],
          "scatter3d": [
           {
            "line": {
             "colorbar": {
              "outlinewidth": 1,
              "tickcolor": "rgb(36,36,36)",
              "ticks": "outside"
             }
            },
            "marker": {
             "colorbar": {
              "outlinewidth": 1,
              "tickcolor": "rgb(36,36,36)",
              "ticks": "outside"
             }
            },
            "type": "scatter3d"
           }
          ],
          "scattercarpet": [
           {
            "marker": {
             "colorbar": {
              "outlinewidth": 1,
              "tickcolor": "rgb(36,36,36)",
              "ticks": "outside"
             }
            },
            "type": "scattercarpet"
           }
          ],
          "scattergeo": [
           {
            "marker": {
             "colorbar": {
              "outlinewidth": 1,
              "tickcolor": "rgb(36,36,36)",
              "ticks": "outside"
             }
            },
            "type": "scattergeo"
           }
          ],
          "scattergl": [
           {
            "marker": {
             "colorbar": {
              "outlinewidth": 1,
              "tickcolor": "rgb(36,36,36)",
              "ticks": "outside"
             }
            },
            "type": "scattergl"
           }
          ],
          "scattermapbox": [
           {
            "marker": {
             "colorbar": {
              "outlinewidth": 1,
              "tickcolor": "rgb(36,36,36)",
              "ticks": "outside"
             }
            },
            "type": "scattermapbox"
           }
          ],
          "scatterpolar": [
           {
            "marker": {
             "colorbar": {
              "outlinewidth": 1,
              "tickcolor": "rgb(36,36,36)",
              "ticks": "outside"
             }
            },
            "type": "scatterpolar"
           }
          ],
          "scatterpolargl": [
           {
            "marker": {
             "colorbar": {
              "outlinewidth": 1,
              "tickcolor": "rgb(36,36,36)",
              "ticks": "outside"
             }
            },
            "type": "scatterpolargl"
           }
          ],
          "scatterternary": [
           {
            "marker": {
             "colorbar": {
              "outlinewidth": 1,
              "tickcolor": "rgb(36,36,36)",
              "ticks": "outside"
             }
            },
            "type": "scatterternary"
           }
          ],
          "surface": [
           {
            "colorbar": {
             "outlinewidth": 1,
             "tickcolor": "rgb(36,36,36)",
             "ticks": "outside"
            },
            "colorscale": [
             [
              0,
              "#440154"
             ],
             [
              0.1111111111111111,
              "#482878"
             ],
             [
              0.2222222222222222,
              "#3e4989"
             ],
             [
              0.3333333333333333,
              "#31688e"
             ],
             [
              0.4444444444444444,
              "#26828e"
             ],
             [
              0.5555555555555556,
              "#1f9e89"
             ],
             [
              0.6666666666666666,
              "#35b779"
             ],
             [
              0.7777777777777778,
              "#6ece58"
             ],
             [
              0.8888888888888888,
              "#b5de2b"
             ],
             [
              1,
              "#fde725"
             ]
            ],
            "type": "surface"
           }
          ],
          "table": [
           {
            "cells": {
             "fill": {
              "color": "rgb(237,237,237)"
             },
             "line": {
              "color": "white"
             }
            },
            "header": {
             "fill": {
              "color": "rgb(217,217,217)"
             },
             "line": {
              "color": "white"
             }
            },
            "type": "table"
           }
          ]
         },
         "layout": {
          "annotationdefaults": {
           "arrowcolor": "#2a3f5f",
           "arrowhead": 0,
           "arrowwidth": 1
          },
          "autotypenumbers": "strict",
          "coloraxis": {
           "colorbar": {
            "outlinewidth": 1,
            "tickcolor": "rgb(36,36,36)",
            "ticks": "outside"
           }
          },
          "colorscale": {
           "diverging": [
            [
             0,
             "rgb(103,0,31)"
            ],
            [
             0.1,
             "rgb(178,24,43)"
            ],
            [
             0.2,
             "rgb(214,96,77)"
            ],
            [
             0.3,
             "rgb(244,165,130)"
            ],
            [
             0.4,
             "rgb(253,219,199)"
            ],
            [
             0.5,
             "rgb(247,247,247)"
            ],
            [
             0.6,
             "rgb(209,229,240)"
            ],
            [
             0.7,
             "rgb(146,197,222)"
            ],
            [
             0.8,
             "rgb(67,147,195)"
            ],
            [
             0.9,
             "rgb(33,102,172)"
            ],
            [
             1,
             "rgb(5,48,97)"
            ]
           ],
           "sequential": [
            [
             0,
             "#440154"
            ],
            [
             0.1111111111111111,
             "#482878"
            ],
            [
             0.2222222222222222,
             "#3e4989"
            ],
            [
             0.3333333333333333,
             "#31688e"
            ],
            [
             0.4444444444444444,
             "#26828e"
            ],
            [
             0.5555555555555556,
             "#1f9e89"
            ],
            [
             0.6666666666666666,
             "#35b779"
            ],
            [
             0.7777777777777778,
             "#6ece58"
            ],
            [
             0.8888888888888888,
             "#b5de2b"
            ],
            [
             1,
             "#fde725"
            ]
           ],
           "sequentialminus": [
            [
             0,
             "#440154"
            ],
            [
             0.1111111111111111,
             "#482878"
            ],
            [
             0.2222222222222222,
             "#3e4989"
            ],
            [
             0.3333333333333333,
             "#31688e"
            ],
            [
             0.4444444444444444,
             "#26828e"
            ],
            [
             0.5555555555555556,
             "#1f9e89"
            ],
            [
             0.6666666666666666,
             "#35b779"
            ],
            [
             0.7777777777777778,
             "#6ece58"
            ],
            [
             0.8888888888888888,
             "#b5de2b"
            ],
            [
             1,
             "#fde725"
            ]
           ]
          },
          "colorway": [
           "#1F77B4",
           "#FF7F0E",
           "#2CA02C",
           "#D62728",
           "#9467BD",
           "#8C564B",
           "#E377C2",
           "#7F7F7F",
           "#BCBD22",
           "#17BECF"
          ],
          "font": {
           "color": "rgb(36,36,36)"
          },
          "geo": {
           "bgcolor": "white",
           "lakecolor": "white",
           "landcolor": "white",
           "showlakes": true,
           "showland": true,
           "subunitcolor": "white"
          },
          "hoverlabel": {
           "align": "left"
          },
          "hovermode": "closest",
          "mapbox": {
           "style": "light"
          },
          "paper_bgcolor": "white",
          "plot_bgcolor": "white",
          "polar": {
           "angularaxis": {
            "gridcolor": "rgb(232,232,232)",
            "linecolor": "rgb(36,36,36)",
            "showgrid": false,
            "showline": true,
            "ticks": "outside"
           },
           "bgcolor": "white",
           "radialaxis": {
            "gridcolor": "rgb(232,232,232)",
            "linecolor": "rgb(36,36,36)",
            "showgrid": false,
            "showline": true,
            "ticks": "outside"
           }
          },
          "scene": {
           "xaxis": {
            "backgroundcolor": "white",
            "gridcolor": "rgb(232,232,232)",
            "gridwidth": 2,
            "linecolor": "rgb(36,36,36)",
            "showbackground": true,
            "showgrid": false,
            "showline": true,
            "ticks": "outside",
            "zeroline": false,
            "zerolinecolor": "rgb(36,36,36)"
           },
           "yaxis": {
            "backgroundcolor": "white",
            "gridcolor": "rgb(232,232,232)",
            "gridwidth": 2,
            "linecolor": "rgb(36,36,36)",
            "showbackground": true,
            "showgrid": false,
            "showline": true,
            "ticks": "outside",
            "zeroline": false,
            "zerolinecolor": "rgb(36,36,36)"
           },
           "zaxis": {
            "backgroundcolor": "white",
            "gridcolor": "rgb(232,232,232)",
            "gridwidth": 2,
            "linecolor": "rgb(36,36,36)",
            "showbackground": true,
            "showgrid": false,
            "showline": true,
            "ticks": "outside",
            "zeroline": false,
            "zerolinecolor": "rgb(36,36,36)"
           }
          },
          "shapedefaults": {
           "fillcolor": "black",
           "line": {
            "color": "#2a3f5f",
            "width": 0
           },
           "opacity": 0.3
          },
          "ternary": {
           "aaxis": {
            "gridcolor": "rgb(232,232,232)",
            "linecolor": "rgb(36,36,36)",
            "showgrid": false,
            "showline": true,
            "ticks": "outside"
           },
           "baxis": {
            "gridcolor": "rgb(232,232,232)",
            "linecolor": "rgb(36,36,36)",
            "showgrid": false,
            "showline": true,
            "ticks": "outside"
           },
           "bgcolor": "white",
           "caxis": {
            "gridcolor": "rgb(232,232,232)",
            "linecolor": "rgb(36,36,36)",
            "showgrid": false,
            "showline": true,
            "ticks": "outside"
           }
          },
          "title": {
           "x": 0.05
          },
          "xaxis": {
           "automargin": true,
           "gridcolor": "rgb(232,232,232)",
           "linecolor": "rgb(36,36,36)",
           "showgrid": false,
           "showline": true,
           "ticks": "outside",
           "title": {
            "standoff": 15
           },
           "zeroline": false,
           "zerolinecolor": "rgb(36,36,36)",
           "zerolinewidth": 2
          },
          "yaxis": {
           "automargin": true,
           "gridcolor": "rgb(232,232,232)",
           "linecolor": "rgb(36,36,36)",
           "showgrid": false,
           "showline": true,
           "ticks": "outside",
           "title": {
            "standoff": 15
           },
           "zeroline": false,
           "zerolinecolor": "rgb(36,36,36)",
           "zerolinewidth": 2
          }
         }
        },
        "width": 600,
        "xaxis": {
         "anchor": "y",
         "autorange": true,
         "domain": [
          0,
          1
         ],
         "range": [
          -0.04652067278105775,
          0.8171731796531718
         ],
         "showgrid": false,
         "title": {
          "text": "Trait mean"
         },
         "type": "linear"
        },
        "xaxis2": {
         "anchor": "y2",
         "autorange": true,
         "domain": [
          0,
          1
         ],
         "range": [
          -2.8846153846153846,
          47.88461538461539
         ],
         "showgrid": false,
         "title": {
          "text": "Number of applications"
         },
         "type": "linear"
        },
        "xaxis3": {
         "anchor": "y3",
         "autorange": true,
         "domain": [
          0,
          1
         ],
         "range": [
          -1.9230769230769231,
          31.923076923076923
         ],
         "showgrid": false,
         "title": {
          "text": "Number of applications"
         },
         "type": "linear"
        },
        "yaxis": {
         "anchor": "x",
         "autorange": true,
         "domain": [
          0.7666666666666666,
          0.9999999999999999
         ],
         "range": [
          -0.8682640519026216,
          13.701513166667993
         ],
         "showgrid": false,
         "title": {
          "text": "Disease severity (%)"
         },
         "type": "linear"
        },
        "yaxis2": {
         "anchor": "x2",
         "autorange": true,
         "domain": [
          0.3833333333333333,
          0.6166666666666666
         ],
         "range": [
          -0.06124272708391395,
          0.831895233956028
         ],
         "showgrid": false,
         "title": {
          "text": "Trait mean"
         },
         "type": "linear"
        },
        "yaxis3": {
         "anchor": "x3",
         "autorange": true,
         "domain": [
          0,
          0.2333333333333333
         ],
         "range": [
          -0.05556338267928052,
          0.7580637566957935
         ],
         "showgrid": false,
         "title": {
          "text": "Trait mean"
         },
         "type": "linear"
        }
       }
      },
      "image/png": "[encoded data removed]",
      "text/html": [
       "<div>                            <div id=\"2efba439-94e2-4af6-9312-dd08a68e90eb\" class=\"plotly-graph-div\" style=\"height:800px; width:600px;\"></div>            <script type=\"text/javascript\">                require([\"plotly\"], function(Plotly) {                    window.PLOTLYENV=window.PLOTLYENV || {};                                    if (document.getElementById(\"2efba439-94e2-4af6-9312-dd08a68e90eb\")) {                    Plotly.newPlot(                        \"2efba439-94e2-4af6-9312-dd08a68e90eb\",                        [{\"line\":{\"color\":\"red\",\"dash\":\"solid\"},\"marker\":{\"color\":\"red\",\"size\":4},\"mode\":\"lines+markers\",\"name\":\"1 spray\",\"type\":\"scatter\",\"x\":[0.0025528415617962,0.0036145368953543,0.0056424976050313,0.0096477319610338,0.0176125970665966,0.0328469763335557,0.0591801049196993,0.0980156240345531,0.1460003037923055,0.1973887289307164,0.2478809918703624,0.2954327829351857,0.3393124071465712,0.3793674776321389,0.4157181602786255,0.4486234202857964],\"xaxis\":\"x\",\"y\":[null,3.012309635122663,3.08616306615229,3.208225042316537,3.414884508013085,3.765756183121276,4.338659887908025,5.18421207788034,6.251886232578184,7.389810566309507,8.459013531983842,9.404935589540456,10.229592487149825,10.950216366819864,11.583186088396744,12.142027573077955],\"yaxis\":\"y\"},{\"line\":{\"color\":\"red\",\"dash\":\"solid\"},\"marker\":{\"color\":\"red\",\"size\":4},\"mode\":\"lines+markers\",\"name\":\"1 spray\",\"showlegend\":false,\"type\":\"scatter\",\"x\":[0,1,2,3,4,5,6,7,8,9,10,11,12,13,14,15],\"xaxis\":\"x2\",\"y\":[0.0025528415617962,0.0036145368953543,0.0056424976050313,0.0096477319610338,0.0176125970665966,0.0328469763335557,0.0591801049196993,0.0980156240345531,0.1460003037923055,0.1973887289307164,0.2478809918703624,0.2954327829351857,0.3393124071465712,0.3793674776321389,0.4157181602786255,0.4486234202857964],\"yaxis\":\"y2\"},{\"line\":{\"color\":\"blue\",\"dash\":\"solid\"},\"marker\":{\"color\":\"blue\",\"size\":4},\"mode\":\"lines+markers\",\"name\":\"2 sprays\",\"showlegend\":false,\"type\":\"scatter\",\"x\":[0,2,4,6,8,10,12,14,16,18,20,22,24,26,28,30],\"xaxis\":\"x3\",\"y\":[0.0025528415617962,0.0049581998860329,0.0130347377786901,0.0406588719843574,0.1109171531004334,0.2132021805154371,0.3112123805749845,0.3930603542203148,0.4597896384809896,0.514290643172191,0.5592585815654236,0.5968332413816321,0.6286268896936064,0.6558442151349202,0.6793888976147585,0.6999475324547167],\"yaxis\":\"y3\"},{\"line\":{\"color\":\"blue\",\"dash\":\"solid\"},\"marker\":{\"color\":\"blue\",\"size\":4},\"mode\":\"lines+markers\",\"name\":\"2 sprays\",\"type\":\"scatter\",\"x\":[0.0025528415617962,0.0049581998860329,0.0130347377786901,0.0406588719843574,0.1109171531004334,0.2132021805154371,0.3112123805749845,0.3930603542203148,0.4597896384809896,0.514290643172191,0.5592585815654236,0.5968332413816321,0.6286268896936064,0.6558442151349202,0.6793888976147585,0.6999475324547167],\"xaxis\":\"x\",\"y\":[null,0.5220998154918841,0.5810050517128821,0.7489485428419551,1.2520543748466133,2.4240580661510496,4.06124025400799,5.64353714244433,7.020426643742435,8.198931398499768,9.205959896925238,10.070263191056782,10.81740148043336,11.46774833736556,12.038258454045984,12.54226536312122],\"yaxis\":\"y\"},{\"line\":{\"color\":\"blue\",\"dash\":\"solid\"},\"marker\":{\"color\":\"blue\",\"size\":4},\"mode\":\"lines+markers\",\"name\":\"2 sprays\",\"showlegend\":false,\"type\":\"scatter\",\"x\":[0,2,4,6,8,10,12,14,16,18,20,22,24,26,28,30],\"xaxis\":\"x2\",\"y\":[0.0025528415617962,0.0049581998860329,0.0130347377786901,0.0406588719843574,0.1109171531004334,0.2132021805154371,0.3112123805749845,0.3930603542203148,0.4597896384809896,0.514290643172191,0.5592585815654236,0.5968332413816321,0.6286268896936064,0.6558442151349202,0.6793888976147585,0.6999475324547167],\"yaxis\":\"y2\"},{\"line\":{\"color\":\"black\",\"dash\":\"solid\"},\"marker\":{\"color\":\"black\",\"size\":4},\"mode\":\"lines+markers\",\"name\":\"3 sprays\",\"type\":\"scatter\",\"x\":[0.0025528415617962,0.0062750284233083,0.0245265517140747,0.0984565953820602,0.2318117658393066,0.3537881909164067,0.4478146778666468,0.5197895343151866,0.575843091640954,0.6204620052946171,0.656721853265666,0.686728292445306,0.7119519378594605,0.733442556691275,0.7519677480461213,0.7680996653103179],\"xaxis\":\"x\",\"y\":[null,0.1724343208524227,0.2166400032622553,0.4156125575497766,1.2269318889609704,2.825780459174021,4.524283881429106,6.045795248082114,7.359813426675096,8.483478359295765,9.445560158620218,10.274097403206609,10.992384585977536,11.619883226373338,12.17181509153902,12.66081479391295],\"yaxis\":\"y\"},{\"line\":{\"color\":\"black\",\"dash\":\"solid\"},\"marker\":{\"color\":\"black\",\"size\":4},\"mode\":\"lines+markers\",\"name\":\"3 sprays\",\"showlegend\":false,\"type\":\"scatter\",\"x\":[0,3,6,9,12,15,18,21,24,27,30,33,36,39,42,45],\"xaxis\":\"x2\",\"y\":[0.0025528415617962,0.0062750284233083,0.0245265517140747,0.0984565953820602,0.2318117658393066,0.3537881909164067,0.4478146778666468,0.5197895343151866,0.575843091640954,0.6204620052946171,0.656721853265666,0.686728292445306,0.7119519378594605,0.733442556691275,0.7519677480461213,0.7680996653103179],\"yaxis\":\"y2\"}],                        {\"annotations\":[{\"font\":{\"color\":\"rgb(110,110,110)\",\"size\":20},\"showarrow\":false,\"text\":\"A\",\"x\":0,\"xanchor\":\"center\",\"xref\":\"paper\",\"y\":1.05,\"yanchor\":\"top\",\"yref\":\"paper\"},{\"font\":{\"color\":\"rgb(110,110,110)\",\"size\":20},\"showarrow\":false,\"text\":\"B\",\"x\":0,\"xanchor\":\"center\",\"xref\":\"paper\",\"y\":0.67,\"yanchor\":\"top\",\"yref\":\"paper\"},{\"font\":{\"color\":\"rgb(110,110,110)\",\"size\":20},\"showarrow\":false,\"text\":\"C\",\"x\":0,\"xanchor\":\"center\",\"xref\":\"paper\",\"y\":0.29000000000000004,\"yanchor\":\"top\",\"yref\":\"paper\"}],\"font\":{\"size\":14},\"height\":800,\"legend\":{\"font\":{\"size\":12},\"orientation\":\"h\",\"x\":0,\"y\":1.18},\"showlegend\":true,\"template\":{\"data\":{\"bar\":[{\"error_x\":{\"color\":\"rgb(36,36,36)\"},\"error_y\":{\"color\":\"rgb(36,36,36)\"},\"marker\":{\"line\":{\"color\":\"white\",\"width\":0.5},\"pattern\":{\"fillmode\":\"overlay\",\"size\":10,\"solidity\":0.2}},\"type\":\"bar\"}],\"barpolar\":[{\"marker\":{\"line\":{\"color\":\"white\",\"width\":0.5},\"pattern\":{\"fillmode\":\"overlay\",\"size\":10,\"solidity\":0.2}},\"type\":\"barpolar\"}],\"carpet\":[{\"aaxis\":{\"endlinecolor\":\"rgb(36,36,36)\",\"gridcolor\":\"white\",\"linecolor\":\"white\",\"minorgridcolor\":\"white\",\"startlinecolor\":\"rgb(36,36,36)\"},\"baxis\":{\"endlinecolor\":\"rgb(36,36,36)\",\"gridcolor\":\"white\",\"linecolor\":\"white\",\"minorgridcolor\":\"white\",\"startlinecolor\":\"rgb(36,36,36)\"},\"type\":\"carpet\"}],\"choropleth\":[{\"colorbar\":{\"outlinewidth\":1,\"tickcolor\":\"rgb(36,36,36)\",\"ticks\":\"outside\"},\"type\":\"choropleth\"}],\"contour\":[{\"colorbar\":{\"outlinewidth\":1,\"tickcolor\":\"rgb(36,36,36)\",\"ticks\":\"outside\"},\"colorscale\":[[0.0,\"#440154\"],[0.1111111111111111,\"#482878\"],[0.2222222222222222,\"#3e4989\"],[0.3333333333333333,\"#31688e\"],[0.4444444444444444,\"#26828e\"],[0.5555555555555556,\"#1f9e89\"],[0.6666666666666666,\"#35b779\"],[0.7777777777777778,\"#6ece58\"],[0.8888888888888888,\"#b5de2b\"],[1.0,\"#fde725\"]],\"type\":\"contour\"}],\"contourcarpet\":[{\"colorbar\":{\"outlinewidth\":1,\"tickcolor\":\"rgb(36,36,36)\",\"ticks\":\"outside\"},\"type\":\"contourcarpet\"}],\"heatmap\":[{\"colorbar\":{\"outlinewidth\":1,\"tickcolor\":\"rgb(36,36,36)\",\"ticks\":\"outside\"},\"colorscale\":[[0.0,\"#440154\"],[0.1111111111111111,\"#482878\"],[0.2222222222222222,\"#3e4989\"],[0.3333333333333333,\"#31688e\"],[0.4444444444444444,\"#26828e\"],[0.5555555555555556,\"#1f9e89\"],[0.6666666666666666,\"#35b779\"],[0.7777777777777778,\"#6ece58\"],[0.8888888888888888,\"#b5de2b\"],[1.0,\"#fde725\"]],\"type\":\"heatmap\"}],\"heatmapgl\":[{\"colorbar\":{\"outlinewidth\":1,\"tickcolor\":\"rgb(36,36,36)\",\"ticks\":\"outside\"},\"colorscale\":[[0.0,\"#440154\"],[0.1111111111111111,\"#482878\"],[0.2222222222222222,\"#3e4989\"],[0.3333333333333333,\"#31688e\"],[0.4444444444444444,\"#26828e\"],[0.5555555555555556,\"#1f9e89\"],[0.6666666666666666,\"#35b779\"],[0.7777777777777778,\"#6ece58\"],[0.8888888888888888,\"#b5de2b\"],[1.0,\"#fde725\"]],\"type\":\"heatmapgl\"}],\"histogram\":[{\"marker\":{\"line\":{\"color\":\"white\",\"width\":0.6},\"pattern\":{\"fillmode\":\"overlay\",\"size\":10,\"solidity\":0.2}},\"type\":\"histogram\"}],\"histogram2d\":[{\"colorbar\":{\"outlinewidth\":1,\"tickcolor\":\"rgb(36,36,36)\",\"ticks\":\"outside\"},\"colorscale\":[[0.0,\"#440154\"],[0.1111111111111111,\"#482878\"],[0.2222222222222222,\"#3e4989\"],[0.3333333333333333,\"#31688e\"],[0.4444444444444444,\"#26828e\"],[0.5555555555555556,\"#1f9e89\"],[0.6666666666666666,\"#35b779\"],[0.7777777777777778,\"#6ece58\"],[0.8888888888888888,\"#b5de2b\"],[1.0,\"#fde725\"]],\"type\":\"histogram2d\"}],\"histogram2dcontour\":[{\"colorbar\":{\"outlinewidth\":1,\"tickcolor\":\"rgb(36,36,36)\",\"ticks\":\"outside\"},\"colorscale\":[[0.0,\"#440154\"],[0.1111111111111111,\"#482878\"],[0.2222222222222222,\"#3e4989\"],[0.3333333333333333,\"#31688e\"],[0.4444444444444444,\"#26828e\"],[0.5555555555555556,\"#1f9e89\"],[0.6666666666666666,\"#35b779\"],[0.7777777777777778,\"#6ece58\"],[0.8888888888888888,\"#b5de2b\"],[1.0,\"#fde725\"]],\"type\":\"histogram2dcontour\"}],\"mesh3d\":[{\"colorbar\":{\"outlinewidth\":1,\"tickcolor\":\"rgb(36,36,36)\",\"ticks\":\"outside\"},\"type\":\"mesh3d\"}],\"parcoords\":[{\"line\":{\"colorbar\":{\"outlinewidth\":1,\"tickcolor\":\"rgb(36,36,36)\",\"ticks\":\"outside\"}},\"type\":\"parcoords\"}],\"pie\":[{\"automargin\":true,\"type\":\"pie\"}],\"scatter\":[{\"marker\":{\"colorbar\":{\"outlinewidth\":1,\"tickcolor\":\"rgb(36,36,36)\",\"ticks\":\"outside\"}},\"type\":\"scatter\"}],\"scatter3d\":[{\"line\":{\"colorbar\":{\"outlinewidth\":1,\"tickcolor\":\"rgb(36,36,36)\",\"ticks\":\"outside\"}},\"marker\":{\"colorbar\":{\"outlinewidth\":1,\"tickcolor\":\"rgb(36,36,36)\",\"ticks\":\"outside\"}},\"type\":\"scatter3d\"}],\"scattercarpet\":[{\"marker\":{\"colorbar\":{\"outlinewidth\":1,\"tickcolor\":\"rgb(36,36,36)\",\"ticks\":\"outside\"}},\"type\":\"scattercarpet\"}],\"scattergeo\":[{\"marker\":{\"colorbar\":{\"outlinewidth\":1,\"tickcolor\":\"rgb(36,36,36)\",\"ticks\":\"outside\"}},\"type\":\"scattergeo\"}],\"scattergl\":[{\"marker\":{\"colorbar\":{\"outlinewidth\":1,\"tickcolor\":\"rgb(36,36,36)\",\"ticks\":\"outside\"}},\"type\":\"scattergl\"}],\"scattermapbox\":[{\"marker\":{\"colorbar\":{\"outlinewidth\":1,\"tickcolor\":\"rgb(36,36,36)\",\"ticks\":\"outside\"}},\"type\":\"scattermapbox\"}],\"scatterpolar\":[{\"marker\":{\"colorbar\":{\"outlinewidth\":1,\"tickcolor\":\"rgb(36,36,36)\",\"ticks\":\"outside\"}},\"type\":\"scatterpolar\"}],\"scatterpolargl\":[{\"marker\":{\"colorbar\":{\"outlinewidth\":1,\"tickcolor\":\"rgb(36,36,36)\",\"ticks\":\"outside\"}},\"type\":\"scatterpolargl\"}],\"scatterternary\":[{\"marker\":{\"colorbar\":{\"outlinewidth\":1,\"tickcolor\":\"rgb(36,36,36)\",\"ticks\":\"outside\"}},\"type\":\"scatterternary\"}],\"surface\":[{\"colorbar\":{\"outlinewidth\":1,\"tickcolor\":\"rgb(36,36,36)\",\"ticks\":\"outside\"},\"colorscale\":[[0.0,\"#440154\"],[0.1111111111111111,\"#482878\"],[0.2222222222222222,\"#3e4989\"],[0.3333333333333333,\"#31688e\"],[0.4444444444444444,\"#26828e\"],[0.5555555555555556,\"#1f9e89\"],[0.6666666666666666,\"#35b779\"],[0.7777777777777778,\"#6ece58\"],[0.8888888888888888,\"#b5de2b\"],[1.0,\"#fde725\"]],\"type\":\"surface\"}],\"table\":[{\"cells\":{\"fill\":{\"color\":\"rgb(237,237,237)\"},\"line\":{\"color\":\"white\"}},\"header\":{\"fill\":{\"color\":\"rgb(217,217,217)\"},\"line\":{\"color\":\"white\"}},\"type\":\"table\"}]},\"layout\":{\"annotationdefaults\":{\"arrowcolor\":\"#2a3f5f\",\"arrowhead\":0,\"arrowwidth\":1},\"autotypenumbers\":\"strict\",\"coloraxis\":{\"colorbar\":{\"outlinewidth\":1,\"tickcolor\":\"rgb(36,36,36)\",\"ticks\":\"outside\"}},\"colorscale\":{\"diverging\":[[0.0,\"rgb(103,0,31)\"],[0.1,\"rgb(178,24,43)\"],[0.2,\"rgb(214,96,77)\"],[0.3,\"rgb(244,165,130)\"],[0.4,\"rgb(253,219,199)\"],[0.5,\"rgb(247,247,247)\"],[0.6,\"rgb(209,229,240)\"],[0.7,\"rgb(146,197,222)\"],[0.8,\"rgb(67,147,195)\"],[0.9,\"rgb(33,102,172)\"],[1.0,\"rgb(5,48,97)\"]],\"sequential\":[[0.0,\"#440154\"],[0.1111111111111111,\"#482878\"],[0.2222222222222222,\"#3e4989\"],[0.3333333333333333,\"#31688e\"],[0.4444444444444444,\"#26828e\"],[0.5555555555555556,\"#1f9e89\"],[0.6666666666666666,\"#35b779\"],[0.7777777777777778,\"#6ece58\"],[0.8888888888888888,\"#b5de2b\"],[1.0,\"#fde725\"]],\"sequentialminus\":[[0.0,\"#440154\"],[0.1111111111111111,\"#482878\"],[0.2222222222222222,\"#3e4989\"],[0.3333333333333333,\"#31688e\"],[0.4444444444444444,\"#26828e\"],[0.5555555555555556,\"#1f9e89\"],[0.6666666666666666,\"#35b779\"],[0.7777777777777778,\"#6ece58\"],[0.8888888888888888,\"#b5de2b\"],[1.0,\"#fde725\"]]},\"colorway\":[\"#1F77B4\",\"#FF7F0E\",\"#2CA02C\",\"#D62728\",\"#9467BD\",\"#8C564B\",\"#E377C2\",\"#7F7F7F\",\"#BCBD22\",\"#17BECF\"],\"font\":{\"color\":\"rgb(36,36,36)\"},\"geo\":{\"bgcolor\":\"white\",\"lakecolor\":\"white\",\"landcolor\":\"white\",\"showlakes\":true,\"showland\":true,\"subunitcolor\":\"white\"},\"hoverlabel\":{\"align\":\"left\"},\"hovermode\":\"closest\",\"mapbox\":{\"style\":\"light\"},\"paper_bgcolor\":\"white\",\"plot_bgcolor\":\"white\",\"polar\":{\"angularaxis\":{\"gridcolor\":\"rgb(232,232,232)\",\"linecolor\":\"rgb(36,36,36)\",\"showgrid\":false,\"showline\":true,\"ticks\":\"outside\"},\"bgcolor\":\"white\",\"radialaxis\":{\"gridcolor\":\"rgb(232,232,232)\",\"linecolor\":\"rgb(36,36,36)\",\"showgrid\":false,\"showline\":true,\"ticks\":\"outside\"}},\"scene\":{\"xaxis\":{\"backgroundcolor\":\"white\",\"gridcolor\":\"rgb(232,232,232)\",\"gridwidth\":2,\"linecolor\":\"rgb(36,36,36)\",\"showbackground\":true,\"showgrid\":false,\"showline\":true,\"ticks\":\"outside\",\"zeroline\":false,\"zerolinecolor\":\"rgb(36,36,36)\"},\"yaxis\":{\"backgroundcolor\":\"white\",\"gridcolor\":\"rgb(232,232,232)\",\"gridwidth\":2,\"linecolor\":\"rgb(36,36,36)\",\"showbackground\":true,\"showgrid\":false,\"showline\":true,\"ticks\":\"outside\",\"zeroline\":false,\"zerolinecolor\":\"rgb(36,36,36)\"},\"zaxis\":{\"backgroundcolor\":\"white\",\"gridcolor\":\"rgb(232,232,232)\",\"gridwidth\":2,\"linecolor\":\"rgb(36,36,36)\",\"showbackground\":true,\"showgrid\":false,\"showline\":true,\"ticks\":\"outside\",\"zeroline\":false,\"zerolinecolor\":\"rgb(36,36,36)\"}},\"shapedefaults\":{\"fillcolor\":\"black\",\"line\":{\"color\":\"#2a3f5f\",\"width\":0},\"opacity\":0.3},\"ternary\":{\"aaxis\":{\"gridcolor\":\"rgb(232,232,232)\",\"linecolor\":\"rgb(36,36,36)\",\"showgrid\":false,\"showline\":true,\"ticks\":\"outside\"},\"baxis\":{\"gridcolor\":\"rgb(232,232,232)\",\"linecolor\":\"rgb(36,36,36)\",\"showgrid\":false,\"showline\":true,\"ticks\":\"outside\"},\"bgcolor\":\"white\",\"caxis\":{\"gridcolor\":\"rgb(232,232,232)\",\"linecolor\":\"rgb(36,36,36)\",\"showgrid\":false,\"showline\":true,\"ticks\":\"outside\"}},\"title\":{\"x\":0.05},\"xaxis\":{\"automargin\":true,\"gridcolor\":\"rgb(232,232,232)\",\"linecolor\":\"rgb(36,36,36)\",\"showgrid\":false,\"showline\":true,\"ticks\":\"outside\",\"title\":{\"standoff\":15},\"zeroline\":false,\"zerolinecolor\":\"rgb(36,36,36)\",\"zerolinewidth\":2},\"yaxis\":{\"automargin\":true,\"gridcolor\":\"rgb(232,232,232)\",\"linecolor\":\"rgb(36,36,36)\",\"showgrid\":false,\"showline\":true,\"ticks\":\"outside\",\"title\":{\"standoff\":15},\"zeroline\":false,\"zerolinecolor\":\"rgb(36,36,36)\",\"zerolinewidth\":2}}},\"width\":600,\"xaxis\":{\"anchor\":\"y\",\"domain\":[0.0,1.0],\"showgrid\":false,\"title\":{\"text\":\"Trait mean\"}},\"xaxis2\":{\"anchor\":\"y2\",\"domain\":[0.0,1.0],\"showgrid\":false,\"title\":{\"text\":\"Number of applications\"}},\"xaxis3\":{\"anchor\":\"y3\",\"domain\":[0.0,1.0],\"showgrid\":false,\"title\":{\"text\":\"Number of applications\"}},\"yaxis\":{\"anchor\":\"x\",\"domain\":[0.7666666666666666,0.9999999999999999],\"showgrid\":false,\"title\":{\"text\":\"Disease severity (%)\"}},\"yaxis2\":{\"anchor\":\"x2\",\"domain\":[0.3833333333333333,0.6166666666666666],\"showgrid\":false,\"title\":{\"text\":\"Trait mean\"}},\"yaxis3\":{\"anchor\":\"x3\",\"domain\":[0.0,0.2333333333333333],\"showgrid\":false,\"title\":{\"text\":\"Trait mean\"}}},                        {\"responsive\": true}                    ).then(function(){\n",
       "                            \n",
       "var gd = document.getElementById('2efba439-94e2-4af6-9312-dd08a68e90eb');\n",
       "var x = new MutationObserver(function (mutations, observer) {{\n",
       "        var display = window.getComputedStyle(gd).display;\n",
       "        if (!display || display === 'none') {{\n",
       "            console.log([gd, 'removed!']);\n",
       "            Plotly.purge(gd);\n",
       "            observer.disconnect();\n",
       "        }}\n",
       "}});\n",
       "\n",
       "// Listen for the removal of the full notebook cells\n",
       "var notebookContainer = gd.closest('#notebook-container');\n",
       "if (notebookContainer) {{\n",
       "    x.observe(notebookContainer, {childList: true});\n",
       "}}\n",
       "\n",
       "// Listen for the clearing of the current output cell\n",
       "var outputEl = gd.closest('.output');\n",
       "if (outputEl) {{\n",
       "    x.observe(outputEl, {childList: true});\n",
       "}}\n",
       "\n",
       "                        })                };                });            </script>        </div>"
      ]
     },
     "metadata": {},
     "output_type": "display_data"
    }
   ],
   "source": [
    "f = fig1(df_use)\n",
    "\n",
    "f.show()"
   ]
  },
  {
   "cell_type": "code",
   "execution_count": 230,
   "id": "d29490fd-5aa3-4352-9961-b4256a0cb394",
   "metadata": {},
   "outputs": [],
   "source": [
    "# f.write_image('../figures/rough/maths_no_density_dependence_host_growth_or_fung_decay.png')"
   ]
  },
  {
   "cell_type": "markdown",
   "id": "56a7d4ba-982e-4049-89af-d95df7018b51",
   "metadata": {},
   "source": [
    "More applications gives slightly slower relative increase:\n",
    "\n",
    "- perhaps due to mutation having less of an effect? i.e. fewer generations so less mutation?\n",
    "- something to do with chemical decay / density dependence?\n",
    "\n",
    "High dose / N applications:\n",
    "\n",
    "- reduced mutation\n",
    "- increased selection on existing variation or variants that do arise via mutation (but not per spray increased?)"
   ]
  },
  {
   "cell_type": "code",
   "execution_count": 11,
   "id": "7a987cfc-0b38-4d7c-8c8a-3bd77ab0f308",
   "metadata": {},
   "outputs": [],
   "source": [
    "f.write_image('../figures/paper/fig1.png')"
   ]
  },
  {
   "cell_type": "markdown",
   "id": "0b55b853-aaad-43ec-9de0-8f8871bc8009",
   "metadata": {},
   "source": [
    "# Testing"
   ]
  },
  {
   "cell_type": "code",
   "execution_count": 257,
   "id": "197553f8-b03e-4b87-bdab-78ac287db338",
   "metadata": {},
   "outputs": [
    {
     "data": {
      "application/vnd.jupyter.widget-view+json": {
       "model_id": "",
       "version_major": 2,
       "version_minor": 0
      },
      "image/png": "[encoded data removed]",
      "text/html": [
       "\n",
       "            <div style=\"display: inline-block;\">\n",
       "                <div class=\"jupyter-widgets widget-label\" style=\"text-align: center;\">\n",
       "                    Figure\n",
       "                </div>\n",
       "                <img src='data:image/png;base64,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' width=640.0/>\n",
       "            </div>\n",
       "        "
      ],
      "text/plain": [
       "Canvas(toolbar=Toolbar(toolitems=[('Home', 'Reset original view', 'home', 'home'), ('Back', 'Back to previous …"
      ]
     },
     "metadata": {},
     "output_type": "display_data"
    }
   ],
   "source": [
    "f, ax = plt.subplots()\n",
    "\n",
    "\n",
    "for ii in range(1,4):\n",
    "    df2 = (\n",
    "        df_use\n",
    "        .loc[lambda x: ((x.sprays==ii) & (x.dose==1))]\n",
    "        .assign(middle_var = lambda df: df.fung_var + df.fung_var.shift(-1))\n",
    "    )\n",
    "\n",
    "    # ax.plot(df2.fung_var, df2.mean_diff)\n",
    "    ax.plot(df2.middle_var, df2.mean_diff)"
   ]
  }
 ],
 "metadata": {
  "kernelspec": {
   "display_name": "poly2_kernel",
   "language": "python",
   "name": "poly2_kernel"
  },
  "language_info": {
   "codemirror_mode": {
    "name": "ipython",
    "version": 3
   },
   "file_extension": ".py",
   "mimetype": "text/x-python",
   "name": "python",
   "nbconvert_exporter": "python",
   "pygments_lexer": "ipython3",
   "version": "3.8.12"
  }
 },
 "nbformat": 4,
 "nbformat_minor": 5
}
