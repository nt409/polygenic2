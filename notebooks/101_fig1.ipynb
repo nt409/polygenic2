{
 "cells": [
  {
   "cell_type": "markdown",
   "id": "9c28a391-71c7-4a13-b083-87e880010897",
   "metadata": {},
   "source": [
    "# Fig 1 - resistance in terms of mean and variance"
   ]
  },
  {
   "cell_type": "markdown",
   "id": "ef2f42c0-2f82-4399-849e-b548a295baed",
   "metadata": {},
   "source": [
    "## Overview:"
   ]
  },
  {
   "cell_type": "markdown",
   "id": "28df9a12-a96c-4716-a266-65c285cdc180",
   "metadata": {},
   "source": [
    "N sprays most important thing for resistance\n",
    "\n",
    "Effect of changes to initial distributions - variance and mean\n",
    "\n",
    "(maths in appendix proves it)\n",
    "\n",
    "And resistance increases with dose\n",
    "\n",
    "Then can say simple things about resistance management, but yield and econ more complex (figs 2 onwards address)\n",
    "\n",
    "FIG:\n",
    "1. Mean of dist vs severity in diff cases (doses / sprays)\n",
    "2. Mean of dist vs n sprays/dose\n",
    "3. Variance vs change in following year or vs mean in year X"
   ]
  },
  {
   "cell_type": "markdown",
   "id": "b16965ea-e90c-4b6b-96eb-3030bc7c0ec3",
   "metadata": {},
   "source": [
    "## Required data:"
   ]
  },
  {
   "cell_type": "markdown",
   "id": "8b7a9471-10e5-446d-a538-da2ef45eea1b",
   "metadata": {},
   "source": [
    "Figures 1 and 2 need df based on scan over:\n",
    "\n",
    "`Sprays = 1,2,3`\n",
    "\n",
    "`doses = 0.1,0.2,...,1`\n",
    "\n",
    "`years=0,1,...,15`\n",
    "\n",
    "With columns:\n",
    "\n",
    "- `sprays`\n",
    "- `dose`\n",
    "- `year`\n",
    "- `yield_vec`\n",
    "- `dis_sev`\n",
    "- `econ`\n",
    "- `fung_mean_start`\n",
    "- `fung_var_start`\n",
    "- `fung_mean_end`\n",
    "- `fung_var_end`\n"
   ]
  },
  {
   "cell_type": "code",
   "execution_count": 1,
   "id": "62bd3e02-eaa3-4096-98d8-085aa6d8621f",
   "metadata": {},
   "outputs": [],
   "source": [
    "%load_ext autoreload\n",
    "%autoreload 2\n",
    "\n",
    "%matplotlib widget"
   ]
  },
  {
   "cell_type": "code",
   "execution_count": 2,
   "id": "ad0f2ad3-8828-4875-85c9-95bcd0be6489",
   "metadata": {},
   "outputs": [],
   "source": [
    "import pandas as pd\n",
    "from scipy.stats import norm\n",
    "from scipy import signal\n",
    "\n",
    "import seaborn as sns\n",
    "from math import floor\n",
    "\n",
    "import numpy as np\n",
    "import matplotlib.pyplot as plt\n",
    "\n",
    "import plotly.graph_objects as go\n",
    "from plotly.subplots import make_subplots\n",
    "import plotly.express as px\n",
    "\n",
    "import copy\n",
    "\n",
    "from plots2.fns import (\n",
    "    standard_layout,\n",
    "    corner_annotations_colwise,\n",
    "    corner_annotations_rowwise,\n",
    ")\n",
    "\n",
    "from poly2.utils import get_dist_mean, edge_values\n",
    "\n",
    "from poly2.run import simulations_run, no_joblib_simulations_run\n",
    "from poly2.config import Config"
   ]
  },
  {
   "cell_type": "code",
   "execution_count": 3,
   "id": "411775f2-6910-45d4-8c2a-d16e77c87f1e",
   "metadata": {},
   "outputs": [],
   "source": [
    "COLZ = sns.color_palette('muted').as_hex()"
   ]
  },
  {
   "cell_type": "code",
   "execution_count": 7,
   "id": "3764b043-a9be-4b65-8390-8824d96f6120",
   "metadata": {},
   "outputs": [],
   "source": [
    "cs = Config(\n",
    "    type='single',\n",
    "    sprays=[2],\n",
    "    host_on=[False],\n",
    "    n_k=100,\n",
    "    verbose=False,\n",
    ")"
   ]
  },
  {
   "cell_type": "code",
   "execution_count": 8,
   "id": "cd921008-2701-43ed-84f7-f876f8c3d4da",
   "metadata": {},
   "outputs": [],
   "source": [
    "doses2 = 1 * np.ones(15)"
   ]
  },
  {
   "cell_type": "code",
   "execution_count": 9,
   "id": "56d620b4-3b0e-450d-bd66-d9a6e784622e",
   "metadata": {},
   "outputs": [
    {
     "name": "stdout",
     "output_type": "stream",
     "text": [
      "running simulation\n"
     ]
    }
   ],
   "source": [
    "rr = no_joblib_simulations_run(\n",
    "    cs,\n",
    "    doses_run=doses2,\n",
    ")"
   ]
  },
  {
   "cell_type": "markdown",
   "id": "cb07166f-aedd-41b8-bf40-a72bcbed4249",
   "metadata": {},
   "source": [
    "# Plot"
   ]
  },
  {
   "cell_type": "code",
   "execution_count": 11,
   "id": "655a2654-05bd-4a79-9987-565771e6c987",
   "metadata": {},
   "outputs": [],
   "source": [
    "df = pd.DataFrame(dict(\n",
    "    dose=0.5,\n",
    "    sprays=2,\n",
    "    dis_sev=rr['spray_Y2_host_N']['dis_sev'],\n",
    "    yield_vec=rr['spray_Y2_host_N']['yield_vec'],\n",
    "    econ=rr['spray_Y2_host_N']['econ'],\n",
    "    year=np.arange(1, 1+len(rr['spray_Y2_host_N']['econ'])),\n",
    "))"
   ]
  },
  {
   "cell_type": "code",
   "execution_count": 18,
   "id": "36d463d7-bead-4c07-8d82-6a51566dd556",
   "metadata": {},
   "outputs": [
    {
     "data": {
      "text/html": [
       "<div>\n",
       "<style scoped>\n",
       "    .dataframe tbody tr th:only-of-type {\n",
       "        vertical-align: middle;\n",
       "    }\n",
       "\n",
       "    .dataframe tbody tr th {\n",
       "        vertical-align: top;\n",
       "    }\n",
       "\n",
       "    .dataframe thead th {\n",
       "        text-align: right;\n",
       "    }\n",
       "</style>\n",
       "<table border=\"1\" class=\"dataframe\">\n",
       "  <thead>\n",
       "    <tr style=\"text-align: right;\">\n",
       "      <th></th>\n",
       "      <th>dose</th>\n",
       "      <th>sprays</th>\n",
       "      <th>dis_sev</th>\n",
       "      <th>yield_vec</th>\n",
       "      <th>econ</th>\n",
       "      <th>year</th>\n",
       "      <th>total_sprays</th>\n",
       "    </tr>\n",
       "  </thead>\n",
       "  <tbody>\n",
       "    <tr>\n",
       "      <th>0</th>\n",
       "      <td>0.5</td>\n",
       "      <td>1</td>\n",
       "      <td>0.007052</td>\n",
       "      <td>10.501638</td>\n",
       "      <td>1145.361862</td>\n",
       "      <td>1</td>\n",
       "      <td>1</td>\n",
       "    </tr>\n",
       "    <tr>\n",
       "      <th>1</th>\n",
       "      <td>0.5</td>\n",
       "      <td>1</td>\n",
       "      <td>0.007298</td>\n",
       "      <td>10.499277</td>\n",
       "      <td>1145.085268</td>\n",
       "      <td>2</td>\n",
       "      <td>2</td>\n",
       "    </tr>\n",
       "    <tr>\n",
       "      <th>2</th>\n",
       "      <td>0.5</td>\n",
       "      <td>1</td>\n",
       "      <td>0.008010</td>\n",
       "      <td>10.492453</td>\n",
       "      <td>1144.285901</td>\n",
       "      <td>3</td>\n",
       "      <td>3</td>\n",
       "    </tr>\n",
       "    <tr>\n",
       "      <th>3</th>\n",
       "      <td>0.5</td>\n",
       "      <td>1</td>\n",
       "      <td>0.010440</td>\n",
       "      <td>10.469159</td>\n",
       "      <td>1141.557320</td>\n",
       "      <td>4</td>\n",
       "      <td>4</td>\n",
       "    </tr>\n",
       "    <tr>\n",
       "      <th>4</th>\n",
       "      <td>0.5</td>\n",
       "      <td>1</td>\n",
       "      <td>0.018624</td>\n",
       "      <td>10.390946</td>\n",
       "      <td>1132.395449</td>\n",
       "      <td>5</td>\n",
       "      <td>5</td>\n",
       "    </tr>\n",
       "  </tbody>\n",
       "</table>\n",
       "</div>"
      ],
      "text/plain": [
       "   dose  sprays   dis_sev  yield_vec         econ  year  total_sprays\n",
       "0   0.5       1  0.007052  10.501638  1145.361862     1             1\n",
       "1   0.5       1  0.007298  10.499277  1145.085268     2             2\n",
       "2   0.5       1  0.008010  10.492453  1144.285901     3             3\n",
       "3   0.5       1  0.010440  10.469159  1141.557320     4             4\n",
       "4   0.5       1  0.018624  10.390946  1132.395449     5             5"
      ]
     },
     "execution_count": 18,
     "metadata": {},
     "output_type": "execute_result"
    }
   ],
   "source": [
    "df_use = (\n",
    "    pd.concat([\n",
    "        df.assign(sprays=1),\n",
    "        df,\n",
    "        df.assign(dis_sev=lambda x: x.dis_sev+0.01, dose=0.2),\n",
    "        df.assign(sprays=3),\n",
    "    ])\n",
    "    .assign(total_sprays = lambda dd: dd.sprays*(dd.year))\n",
    ")\n",
    "\n",
    "df_use.head()"
   ]
  },
  {
   "cell_type": "markdown",
   "id": "599c19fe-66cd-4821-a054-26cab037cc8f",
   "metadata": {},
   "source": [
    "## Fig fn"
   ]
  },
  {
   "cell_type": "code",
   "execution_count": 34,
   "id": "8274786f-3997-4f01-a361-c35fa5d86a4f",
   "metadata": {},
   "outputs": [],
   "source": [
    "def fig1(df):\n",
    "    \n",
    "    fig = make_subplots(\n",
    "        rows=3,\n",
    "        cols=1,\n",
    "        # shared_xaxes=True,\n",
    "        # horizontal_spacing=0.33,\n",
    "        vertical_spacing=0.15,\n",
    "    )\n",
    "    \n",
    "    # len 10\n",
    "    colors = px.colors.sequential.Cividis\n",
    "    \n",
    "    for spray in [1,2,3]:\n",
    "        by_spray = df.loc[df.sprays==spray]\n",
    "        \n",
    "        for ind, dose in enumerate(by_spray.dose.unique()):\n",
    "            \n",
    "            by_spray_and_dose = by_spray.loc[lambda dd: dd.dose==dose]\n",
    "            \n",
    "            col_this_dose = colors[ind]\n",
    "            \n",
    "            name_this_dose = f'Dose={dose}'\n",
    "            \n",
    "            \n",
    "            \n",
    "            \n",
    "            t_1 = go.Scatter(\n",
    "                    x=by_spray_and_dose.year,\n",
    "                    y=100*by_spray_and_dose.dis_sev,\n",
    "                    mode='markers',\n",
    "                    name=name_this_dose,\n",
    "                    marker=dict(color=col_this_dose),\n",
    "                    showlegend=(spray==1),\n",
    "                )\n",
    "\n",
    "            fig.add_trace(t_1, row=1, col=1)\n",
    "            \n",
    "            \n",
    "            \n",
    "            \n",
    "            t_2 = go.Scatter(\n",
    "                    x=by_spray_and_dose.year,\n",
    "                    y=by_spray_and_dose.yield_vec,\n",
    "                    mode='lines+markers',\n",
    "                    line=dict(color=col_this_dose),\n",
    "                    showlegend=False,\n",
    "                )\n",
    "\n",
    "            fig.add_trace(t_2, row=2, col=1)\n",
    "            \n",
    "            \n",
    "            \n",
    "            \n",
    "            t_3 = go.Scatter(\n",
    "                    x=by_spray_and_dose.year,\n",
    "                    y=by_spray_and_dose.econ,\n",
    "                    mode='markers',\n",
    "                    marker=dict(color=col_this_dose),\n",
    "                    showlegend=False,\n",
    "                )\n",
    "\n",
    "            fig.add_trace(t_3, row=3, col=1)\n",
    "    \n",
    "    \n",
    "    \n",
    "    \n",
    "    \n",
    "    fig.update_layout(standard_layout(True, height=800))\n",
    "    \n",
    "    fig.update_layout(legend=dict(x=0, y=1.12, orientation='h'))\n",
    "    \n",
    "    corners = corner_annotations_colwise(\n",
    "        3, 1,\n",
    "        1.05, 0,\n",
    "        0.38, 0\n",
    "    )\n",
    "    \n",
    "    fig.update_layout(annotations=corners)\n",
    "    \n",
    "    # X axis    \n",
    "    \n",
    "    # xrange = [0,15]\n",
    "    \n",
    "    fig.update_xaxes(title_text='Trait mean',\n",
    "                     row=1, col=1,\n",
    "                     # range=xrange,\n",
    "                     showgrid=False)\n",
    "    \n",
    "    fig.update_xaxes(title_text='Number of applications',\n",
    "                     row=2, col=1,\n",
    "                     # range=xrange,\n",
    "                     showgrid=False)\n",
    "    \n",
    "    fig.update_xaxes(title_text='Trait variance',\n",
    "                     row=3, col=1,\n",
    "                     # range=xrange,\n",
    "                     showgrid=False)\n",
    "    \n",
    "    \n",
    "    # Y axis    \n",
    "    fig.update_yaxes(title_text='Disease severity',\n",
    "                     row=1, col=1,\n",
    "                     showgrid=False)\n",
    "    \n",
    "    fig.update_yaxes(title_text='Trait mean',\n",
    "                         row=2, col=1,\n",
    "                         showgrid=False)\n",
    "    \n",
    "    fig.update_yaxes(title_text='Change in trait mean',\n",
    "                         row=3, col=1,\n",
    "                         showgrid=False)\n",
    "\n",
    "    return fig"
   ]
  },
  {
   "cell_type": "markdown",
   "id": "6ab3b341-b183-4d42-8443-31210df59a28",
   "metadata": {},
   "source": [
    "## FIG"
   ]
  },
  {
   "cell_type": "code",
   "execution_count": 35,
   "id": "7dc0953f-2ba7-46e6-813f-ee698ef41260",
   "metadata": {},
   "outputs": [
    {
     "data": {
      "application/vnd.plotly.v1+json": {
       "config": {
        "plotlyServerURL": "https://plot.ly"
       },
       "data": [
        {
         "marker": {
          "color": "#00224e"
         },
         "mode": "markers",
         "name": "Dose=0.5",
         "showlegend": true,
         "type": "scatter",
         "x": [
          1,
          2,
          3,
          4,
          5,
          6,
          7,
          8,
          9,
          10,
          11,
          12,
          13,
          14,
          15
         ],
         "xaxis": "x",
         "y": [
          0.705150231196377,
          0.729782436123583,
          0.8009701621430557,
          1.0439709500585208,
          1.8623734704576456,
          3.6228953690359194,
          5.517963228165266,
          7.000929687113132,
          8.197947679201214,
          9.207747766570458,
          10.072767488408427,
          10.820134156691704,
          11.47106539346443,
          12.041963504233506,
          12.546350943593481
         ],
         "yaxis": "y"
        },
        {
         "line": {
          "color": "#00224e"
         },
         "mode": "lines+markers",
         "showlegend": false,
         "type": "scatter",
         "x": [
          1,
          2,
          3,
          4,
          5,
          6,
          7,
          8,
          9,
          10,
          11,
          12,
          13,
          14,
          15
         ],
         "xaxis": "x2",
         "y": [
          10.501637889767501,
          10.499276657114828,
          10.492452632077544,
          10.469159292863063,
          10.390946291181091,
          10.224231407000106,
          10.047304667353686,
          9.910837287947782,
          9.8020438251733,
          9.711260614904676,
          9.634247457656683,
          9.568288408861852,
          9.511290408945865,
          9.461653686004816,
          9.418080087338886
         ],
         "yaxis": "y2"
        },
        {
         "marker": {
          "color": "#00224e"
         },
         "mode": "markers",
         "showlegend": false,
         "type": "scatter",
         "x": [
          1,
          2,
          3,
          4,
          5,
          6,
          7,
          8,
          9,
          10,
          11,
          12,
          13,
          14,
          15
         ],
         "xaxis": "x3",
         "y": [
          1145.3618624073652,
          1145.0852676144311,
          1144.2859013215636,
          1141.5573195659792,
          1132.395448548953,
          1112.8664670159924,
          1092.1412687338109,
          1076.1554799102032,
          1063.4114136808005,
          1052.7770684299337,
          1043.7557471899038,
          1036.0293042140775,
          1029.3525585039185,
          1023.5381127786043,
          1018.4339014308771
         ],
         "yaxis": "y3"
        },
        {
         "marker": {
          "color": "#00224e"
         },
         "mode": "markers",
         "name": "Dose=0.5",
         "showlegend": false,
         "type": "scatter",
         "x": [
          1,
          2,
          3,
          4,
          5,
          6,
          7,
          8,
          9,
          10,
          11,
          12,
          13,
          14,
          15
         ],
         "xaxis": "x",
         "y": [
          0.705150231196377,
          0.729782436123583,
          0.8009701621430557,
          1.0439709500585208,
          1.8623734704576456,
          3.6228953690359194,
          5.517963228165266,
          7.000929687113132,
          8.197947679201214,
          9.207747766570458,
          10.072767488408427,
          10.820134156691704,
          11.47106539346443,
          12.041963504233506,
          12.546350943593481
         ],
         "yaxis": "y"
        },
        {
         "line": {
          "color": "#00224e"
         },
         "mode": "lines+markers",
         "showlegend": false,
         "type": "scatter",
         "x": [
          1,
          2,
          3,
          4,
          5,
          6,
          7,
          8,
          9,
          10,
          11,
          12,
          13,
          14,
          15
         ],
         "xaxis": "x2",
         "y": [
          10.501637889767501,
          10.499276657114828,
          10.492452632077544,
          10.469159292863063,
          10.390946291181091,
          10.224231407000106,
          10.047304667353686,
          9.910837287947782,
          9.8020438251733,
          9.711260614904676,
          9.634247457656683,
          9.568288408861852,
          9.511290408945865,
          9.461653686004816,
          9.418080087338886
         ],
         "yaxis": "y2"
        },
        {
         "marker": {
          "color": "#00224e"
         },
         "mode": "markers",
         "showlegend": false,
         "type": "scatter",
         "x": [
          1,
          2,
          3,
          4,
          5,
          6,
          7,
          8,
          9,
          10,
          11,
          12,
          13,
          14,
          15
         ],
         "xaxis": "x3",
         "y": [
          1145.3618624073652,
          1145.0852676144311,
          1144.2859013215636,
          1141.5573195659792,
          1132.395448548953,
          1112.8664670159924,
          1092.1412687338109,
          1076.1554799102032,
          1063.4114136808005,
          1052.7770684299337,
          1043.7557471899038,
          1036.0293042140775,
          1029.3525585039185,
          1023.5381127786043,
          1018.4339014308771
         ],
         "yaxis": "y3"
        },
        {
         "marker": {
          "color": "#123570"
         },
         "mode": "markers",
         "name": "Dose=0.2",
         "showlegend": false,
         "type": "scatter",
         "x": [
          1,
          2,
          3,
          4,
          5,
          6,
          7,
          8,
          9,
          10,
          11,
          12,
          13,
          14,
          15
         ],
         "xaxis": "x",
         "y": [
          1.705150231196377,
          1.729782436123583,
          1.8009701621430556,
          2.043970950058521,
          2.8623734704576456,
          4.62289536903592,
          6.517963228165266,
          8.000929687113132,
          9.197947679201214,
          10.207747766570458,
          11.072767488408427,
          11.820134156691704,
          12.47106539346443,
          13.041963504233506,
          13.546350943593483
         ],
         "yaxis": "y"
        },
        {
         "line": {
          "color": "#123570"
         },
         "mode": "lines+markers",
         "showlegend": false,
         "type": "scatter",
         "x": [
          1,
          2,
          3,
          4,
          5,
          6,
          7,
          8,
          9,
          10,
          11,
          12,
          13,
          14,
          15
         ],
         "xaxis": "x2",
         "y": [
          10.501637889767501,
          10.499276657114828,
          10.492452632077544,
          10.469159292863063,
          10.390946291181091,
          10.224231407000106,
          10.047304667353686,
          9.910837287947782,
          9.8020438251733,
          9.711260614904676,
          9.634247457656683,
          9.568288408861852,
          9.511290408945865,
          9.461653686004816,
          9.418080087338886
         ],
         "yaxis": "y2"
        },
        {
         "marker": {
          "color": "#123570"
         },
         "mode": "markers",
         "showlegend": false,
         "type": "scatter",
         "x": [
          1,
          2,
          3,
          4,
          5,
          6,
          7,
          8,
          9,
          10,
          11,
          12,
          13,
          14,
          15
         ],
         "xaxis": "x3",
         "y": [
          1145.3618624073652,
          1145.0852676144311,
          1144.2859013215636,
          1141.5573195659792,
          1132.395448548953,
          1112.8664670159924,
          1092.1412687338109,
          1076.1554799102032,
          1063.4114136808005,
          1052.7770684299337,
          1043.7557471899038,
          1036.0293042140775,
          1029.3525585039185,
          1023.5381127786043,
          1018.4339014308771
         ],
         "yaxis": "y3"
        },
        {
         "marker": {
          "color": "#00224e"
         },
         "mode": "markers",
         "name": "Dose=0.5",
         "showlegend": false,
         "type": "scatter",
         "x": [
          1,
          2,
          3,
          4,
          5,
          6,
          7,
          8,
          9,
          10,
          11,
          12,
          13,
          14,
          15
         ],
         "xaxis": "x",
         "y": [
          0.705150231196377,
          0.729782436123583,
          0.8009701621430557,
          1.0439709500585208,
          1.8623734704576456,
          3.6228953690359194,
          5.517963228165266,
          7.000929687113132,
          8.197947679201214,
          9.207747766570458,
          10.072767488408427,
          10.820134156691704,
          11.47106539346443,
          12.041963504233506,
          12.546350943593481
         ],
         "yaxis": "y"
        },
        {
         "line": {
          "color": "#00224e"
         },
         "mode": "lines+markers",
         "showlegend": false,
         "type": "scatter",
         "x": [
          1,
          2,
          3,
          4,
          5,
          6,
          7,
          8,
          9,
          10,
          11,
          12,
          13,
          14,
          15
         ],
         "xaxis": "x2",
         "y": [
          10.501637889767501,
          10.499276657114828,
          10.492452632077544,
          10.469159292863063,
          10.390946291181091,
          10.224231407000106,
          10.047304667353686,
          9.910837287947782,
          9.8020438251733,
          9.711260614904676,
          9.634247457656683,
          9.568288408861852,
          9.511290408945865,
          9.461653686004816,
          9.418080087338886
         ],
         "yaxis": "y2"
        },
        {
         "marker": {
          "color": "#00224e"
         },
         "mode": "markers",
         "showlegend": false,
         "type": "scatter",
         "x": [
          1,
          2,
          3,
          4,
          5,
          6,
          7,
          8,
          9,
          10,
          11,
          12,
          13,
          14,
          15
         ],
         "xaxis": "x3",
         "y": [
          1145.3618624073652,
          1145.0852676144311,
          1144.2859013215636,
          1141.5573195659792,
          1132.395448548953,
          1112.8664670159924,
          1092.1412687338109,
          1076.1554799102032,
          1063.4114136808005,
          1052.7770684299337,
          1043.7557471899038,
          1036.0293042140775,
          1029.3525585039185,
          1023.5381127786043,
          1018.4339014308771
         ],
         "yaxis": "y3"
        }
       ],
       "layout": {
        "annotations": [
         {
          "font": {
           "color": "rgb(110,110,110)",
           "size": 20
          },
          "showarrow": false,
          "text": "A",
          "x": 0,
          "xanchor": "center",
          "xref": "paper",
          "y": 1.05,
          "yanchor": "top",
          "yref": "paper"
         },
         {
          "font": {
           "color": "rgb(110,110,110)",
           "size": 20
          },
          "showarrow": false,
          "text": "B",
          "x": 0,
          "xanchor": "center",
          "xref": "paper",
          "y": 0.67,
          "yanchor": "top",
          "yref": "paper"
         },
         {
          "font": {
           "color": "rgb(110,110,110)",
           "size": 20
          },
          "showarrow": false,
          "text": "C",
          "x": 0,
          "xanchor": "center",
          "xref": "paper",
          "y": 0.29000000000000004,
          "yanchor": "top",
          "yref": "paper"
         }
        ],
        "font": {
         "size": 14
        },
        "height": 800,
        "legend": {
         "orientation": "h",
         "x": 0,
         "y": 1.12
        },
        "showlegend": true,
        "template": {
         "data": {
          "bar": [
           {
            "error_x": {
             "color": "rgb(36,36,36)"
            },
            "error_y": {
             "color": "rgb(36,36,36)"
            },
            "marker": {
             "line": {
              "color": "white",
              "width": 0.5
             },
             "pattern": {
              "fillmode": "overlay",
              "size": 10,
              "solidity": 0.2
             }
            },
            "type": "bar"
           }
          ],
          "barpolar": [
           {
            "marker": {
             "line": {
              "color": "white",
              "width": 0.5
             },
             "pattern": {
              "fillmode": "overlay",
              "size": 10,
              "solidity": 0.2
             }
            },
            "type": "barpolar"
           }
          ],
          "carpet": [
           {
            "aaxis": {
             "endlinecolor": "rgb(36,36,36)",
             "gridcolor": "white",
             "linecolor": "white",
             "minorgridcolor": "white",
             "startlinecolor": "rgb(36,36,36)"
            },
            "baxis": {
             "endlinecolor": "rgb(36,36,36)",
             "gridcolor": "white",
             "linecolor": "white",
             "minorgridcolor": "white",
             "startlinecolor": "rgb(36,36,36)"
            },
            "type": "carpet"
           }
          ],
          "choropleth": [
           {
            "colorbar": {
             "outlinewidth": 1,
             "tickcolor": "rgb(36,36,36)",
             "ticks": "outside"
            },
            "type": "choropleth"
           }
          ],
          "contour": [
           {
            "colorbar": {
             "outlinewidth": 1,
             "tickcolor": "rgb(36,36,36)",
             "ticks": "outside"
            },
            "colorscale": [
             [
              0,
              "#440154"
             ],
             [
              0.1111111111111111,
              "#482878"
             ],
             [
              0.2222222222222222,
              "#3e4989"
             ],
             [
              0.3333333333333333,
              "#31688e"
             ],
             [
              0.4444444444444444,
              "#26828e"
             ],
             [
              0.5555555555555556,
              "#1f9e89"
             ],
             [
              0.6666666666666666,
              "#35b779"
             ],
             [
              0.7777777777777778,
              "#6ece58"
             ],
             [
              0.8888888888888888,
              "#b5de2b"
             ],
             [
              1,
              "#fde725"
             ]
            ],
            "type": "contour"
           }
          ],
          "contourcarpet": [
           {
            "colorbar": {
             "outlinewidth": 1,
             "tickcolor": "rgb(36,36,36)",
             "ticks": "outside"
            },
            "type": "contourcarpet"
           }
          ],
          "heatmap": [
           {
            "colorbar": {
             "outlinewidth": 1,
             "tickcolor": "rgb(36,36,36)",
             "ticks": "outside"
            },
            "colorscale": [
             [
              0,
              "#440154"
             ],
             [
              0.1111111111111111,
              "#482878"
             ],
             [
              0.2222222222222222,
              "#3e4989"
             ],
             [
              0.3333333333333333,
              "#31688e"
             ],
             [
              0.4444444444444444,
              "#26828e"
             ],
             [
              0.5555555555555556,
              "#1f9e89"
             ],
             [
              0.6666666666666666,
              "#35b779"
             ],
             [
              0.7777777777777778,
              "#6ece58"
             ],
             [
              0.8888888888888888,
              "#b5de2b"
             ],
             [
              1,
              "#fde725"
             ]
            ],
            "type": "heatmap"
           }
          ],
          "heatmapgl": [
           {
            "colorbar": {
             "outlinewidth": 1,
             "tickcolor": "rgb(36,36,36)",
             "ticks": "outside"
            },
            "colorscale": [
             [
              0,
              "#440154"
             ],
             [
              0.1111111111111111,
              "#482878"
             ],
             [
              0.2222222222222222,
              "#3e4989"
             ],
             [
              0.3333333333333333,
              "#31688e"
             ],
             [
              0.4444444444444444,
              "#26828e"
             ],
             [
              0.5555555555555556,
              "#1f9e89"
             ],
             [
              0.6666666666666666,
              "#35b779"
             ],
             [
              0.7777777777777778,
              "#6ece58"
             ],
             [
              0.8888888888888888,
              "#b5de2b"
             ],
             [
              1,
              "#fde725"
             ]
            ],
            "type": "heatmapgl"
           }
          ],
          "histogram": [
           {
            "marker": {
             "line": {
              "color": "white",
              "width": 0.6
             },
             "pattern": {
              "fillmode": "overlay",
              "size": 10,
              "solidity": 0.2
             }
            },
            "type": "histogram"
           }
          ],
          "histogram2d": [
           {
            "colorbar": {
             "outlinewidth": 1,
             "tickcolor": "rgb(36,36,36)",
             "ticks": "outside"
            },
            "colorscale": [
             [
              0,
              "#440154"
             ],
             [
              0.1111111111111111,
              "#482878"
             ],
             [
              0.2222222222222222,
              "#3e4989"
             ],
             [
              0.3333333333333333,
              "#31688e"
             ],
             [
              0.4444444444444444,
              "#26828e"
             ],
             [
              0.5555555555555556,
              "#1f9e89"
             ],
             [
              0.6666666666666666,
              "#35b779"
             ],
             [
              0.7777777777777778,
              "#6ece58"
             ],
             [
              0.8888888888888888,
              "#b5de2b"
             ],
             [
              1,
              "#fde725"
             ]
            ],
            "type": "histogram2d"
           }
          ],
          "histogram2dcontour": [
           {
            "colorbar": {
             "outlinewidth": 1,
             "tickcolor": "rgb(36,36,36)",
             "ticks": "outside"
            },
            "colorscale": [
             [
              0,
              "#440154"
             ],
             [
              0.1111111111111111,
              "#482878"
             ],
             [
              0.2222222222222222,
              "#3e4989"
             ],
             [
              0.3333333333333333,
              "#31688e"
             ],
             [
              0.4444444444444444,
              "#26828e"
             ],
             [
              0.5555555555555556,
              "#1f9e89"
             ],
             [
              0.6666666666666666,
              "#35b779"
             ],
             [
              0.7777777777777778,
              "#6ece58"
             ],
             [
              0.8888888888888888,
              "#b5de2b"
             ],
             [
              1,
              "#fde725"
             ]
            ],
            "type": "histogram2dcontour"
           }
          ],
          "mesh3d": [
           {
            "colorbar": {
             "outlinewidth": 1,
             "tickcolor": "rgb(36,36,36)",
             "ticks": "outside"
            },
            "type": "mesh3d"
           }
          ],
          "parcoords": [
           {
            "line": {
             "colorbar": {
              "outlinewidth": 1,
              "tickcolor": "rgb(36,36,36)",
              "ticks": "outside"
             }
            },
            "type": "parcoords"
           }
          ],
          "pie": [
           {
            "automargin": true,
            "type": "pie"
           }
          ],
          "scatter": [
           {
            "marker": {
             "colorbar": {
              "outlinewidth": 1,
              "tickcolor": "rgb(36,36,36)",
              "ticks": "outside"
             }
            },
            "type": "scatter"
           }
          ],
          "scatter3d": [
           {
            "line": {
             "colorbar": {
              "outlinewidth": 1,
              "tickcolor": "rgb(36,36,36)",
              "ticks": "outside"
             }
            },
            "marker": {
             "colorbar": {
              "outlinewidth": 1,
              "tickcolor": "rgb(36,36,36)",
              "ticks": "outside"
             }
            },
            "type": "scatter3d"
           }
          ],
          "scattercarpet": [
           {
            "marker": {
             "colorbar": {
              "outlinewidth": 1,
              "tickcolor": "rgb(36,36,36)",
              "ticks": "outside"
             }
            },
            "type": "scattercarpet"
           }
          ],
          "scattergeo": [
           {
            "marker": {
             "colorbar": {
              "outlinewidth": 1,
              "tickcolor": "rgb(36,36,36)",
              "ticks": "outside"
             }
            },
            "type": "scattergeo"
           }
          ],
          "scattergl": [
           {
            "marker": {
             "colorbar": {
              "outlinewidth": 1,
              "tickcolor": "rgb(36,36,36)",
              "ticks": "outside"
             }
            },
            "type": "scattergl"
           }
          ],
          "scattermapbox": [
           {
            "marker": {
             "colorbar": {
              "outlinewidth": 1,
              "tickcolor": "rgb(36,36,36)",
              "ticks": "outside"
             }
            },
            "type": "scattermapbox"
           }
          ],
          "scatterpolar": [
           {
            "marker": {
             "colorbar": {
              "outlinewidth": 1,
              "tickcolor": "rgb(36,36,36)",
              "ticks": "outside"
             }
            },
            "type": "scatterpolar"
           }
          ],
          "scatterpolargl": [
           {
            "marker": {
             "colorbar": {
              "outlinewidth": 1,
              "tickcolor": "rgb(36,36,36)",
              "ticks": "outside"
             }
            },
            "type": "scatterpolargl"
           }
          ],
          "scatterternary": [
           {
            "marker": {
             "colorbar": {
              "outlinewidth": 1,
              "tickcolor": "rgb(36,36,36)",
              "ticks": "outside"
             }
            },
            "type": "scatterternary"
           }
          ],
          "surface": [
           {
            "colorbar": {
             "outlinewidth": 1,
             "tickcolor": "rgb(36,36,36)",
             "ticks": "outside"
            },
            "colorscale": [
             [
              0,
              "#440154"
             ],
             [
              0.1111111111111111,
              "#482878"
             ],
             [
              0.2222222222222222,
              "#3e4989"
             ],
             [
              0.3333333333333333,
              "#31688e"
             ],
             [
              0.4444444444444444,
              "#26828e"
             ],
             [
              0.5555555555555556,
              "#1f9e89"
             ],
             [
              0.6666666666666666,
              "#35b779"
             ],
             [
              0.7777777777777778,
              "#6ece58"
             ],
             [
              0.8888888888888888,
              "#b5de2b"
             ],
             [
              1,
              "#fde725"
             ]
            ],
            "type": "surface"
           }
          ],
          "table": [
           {
            "cells": {
             "fill": {
              "color": "rgb(237,237,237)"
             },
             "line": {
              "color": "white"
             }
            },
            "header": {
             "fill": {
              "color": "rgb(217,217,217)"
             },
             "line": {
              "color": "white"
             }
            },
            "type": "table"
           }
          ]
         },
         "layout": {
          "annotationdefaults": {
           "arrowcolor": "#2a3f5f",
           "arrowhead": 0,
           "arrowwidth": 1
          },
          "autotypenumbers": "strict",
          "coloraxis": {
           "colorbar": {
            "outlinewidth": 1,
            "tickcolor": "rgb(36,36,36)",
            "ticks": "outside"
           }
          },
          "colorscale": {
           "diverging": [
            [
             0,
             "rgb(103,0,31)"
            ],
            [
             0.1,
             "rgb(178,24,43)"
            ],
            [
             0.2,
             "rgb(214,96,77)"
            ],
            [
             0.3,
             "rgb(244,165,130)"
            ],
            [
             0.4,
             "rgb(253,219,199)"
            ],
            [
             0.5,
             "rgb(247,247,247)"
            ],
            [
             0.6,
             "rgb(209,229,240)"
            ],
            [
             0.7,
             "rgb(146,197,222)"
            ],
            [
             0.8,
             "rgb(67,147,195)"
            ],
            [
             0.9,
             "rgb(33,102,172)"
            ],
            [
             1,
             "rgb(5,48,97)"
            ]
           ],
           "sequential": [
            [
             0,
             "#440154"
            ],
            [
             0.1111111111111111,
             "#482878"
            ],
            [
             0.2222222222222222,
             "#3e4989"
            ],
            [
             0.3333333333333333,
             "#31688e"
            ],
            [
             0.4444444444444444,
             "#26828e"
            ],
            [
             0.5555555555555556,
             "#1f9e89"
            ],
            [
             0.6666666666666666,
             "#35b779"
            ],
            [
             0.7777777777777778,
             "#6ece58"
            ],
            [
             0.8888888888888888,
             "#b5de2b"
            ],
            [
             1,
             "#fde725"
            ]
           ],
           "sequentialminus": [
            [
             0,
             "#440154"
            ],
            [
             0.1111111111111111,
             "#482878"
            ],
            [
             0.2222222222222222,
             "#3e4989"
            ],
            [
             0.3333333333333333,
             "#31688e"
            ],
            [
             0.4444444444444444,
             "#26828e"
            ],
            [
             0.5555555555555556,
             "#1f9e89"
            ],
            [
             0.6666666666666666,
             "#35b779"
            ],
            [
             0.7777777777777778,
             "#6ece58"
            ],
            [
             0.8888888888888888,
             "#b5de2b"
            ],
            [
             1,
             "#fde725"
            ]
           ]
          },
          "colorway": [
           "#1F77B4",
           "#FF7F0E",
           "#2CA02C",
           "#D62728",
           "#9467BD",
           "#8C564B",
           "#E377C2",
           "#7F7F7F",
           "#BCBD22",
           "#17BECF"
          ],
          "font": {
           "color": "rgb(36,36,36)"
          },
          "geo": {
           "bgcolor": "white",
           "lakecolor": "white",
           "landcolor": "white",
           "showlakes": true,
           "showland": true,
           "subunitcolor": "white"
          },
          "hoverlabel": {
           "align": "left"
          },
          "hovermode": "closest",
          "mapbox": {
           "style": "light"
          },
          "paper_bgcolor": "white",
          "plot_bgcolor": "white",
          "polar": {
           "angularaxis": {
            "gridcolor": "rgb(232,232,232)",
            "linecolor": "rgb(36,36,36)",
            "showgrid": false,
            "showline": true,
            "ticks": "outside"
           },
           "bgcolor": "white",
           "radialaxis": {
            "gridcolor": "rgb(232,232,232)",
            "linecolor": "rgb(36,36,36)",
            "showgrid": false,
            "showline": true,
            "ticks": "outside"
           }
          },
          "scene": {
           "xaxis": {
            "backgroundcolor": "white",
            "gridcolor": "rgb(232,232,232)",
            "gridwidth": 2,
            "linecolor": "rgb(36,36,36)",
            "showbackground": true,
            "showgrid": false,
            "showline": true,
            "ticks": "outside",
            "zeroline": false,
            "zerolinecolor": "rgb(36,36,36)"
           },
           "yaxis": {
            "backgroundcolor": "white",
            "gridcolor": "rgb(232,232,232)",
            "gridwidth": 2,
            "linecolor": "rgb(36,36,36)",
            "showbackground": true,
            "showgrid": false,
            "showline": true,
            "ticks": "outside",
            "zeroline": false,
            "zerolinecolor": "rgb(36,36,36)"
           },
           "zaxis": {
            "backgroundcolor": "white",
            "gridcolor": "rgb(232,232,232)",
            "gridwidth": 2,
            "linecolor": "rgb(36,36,36)",
            "showbackground": true,
            "showgrid": false,
            "showline": true,
            "ticks": "outside",
            "zeroline": false,
            "zerolinecolor": "rgb(36,36,36)"
           }
          },
          "shapedefaults": {
           "fillcolor": "black",
           "line": {
            "color": "#2a3f5f",
            "width": 0
           },
           "opacity": 0.3
          },
          "ternary": {
           "aaxis": {
            "gridcolor": "rgb(232,232,232)",
            "linecolor": "rgb(36,36,36)",
            "showgrid": false,
            "showline": true,
            "ticks": "outside"
           },
           "baxis": {
            "gridcolor": "rgb(232,232,232)",
            "linecolor": "rgb(36,36,36)",
            "showgrid": false,
            "showline": true,
            "ticks": "outside"
           },
           "bgcolor": "white",
           "caxis": {
            "gridcolor": "rgb(232,232,232)",
            "linecolor": "rgb(36,36,36)",
            "showgrid": false,
            "showline": true,
            "ticks": "outside"
           }
          },
          "title": {
           "x": 0.05
          },
          "xaxis": {
           "automargin": true,
           "gridcolor": "rgb(232,232,232)",
           "linecolor": "rgb(36,36,36)",
           "showgrid": false,
           "showline": true,
           "ticks": "outside",
           "title": {
            "standoff": 15
           },
           "zeroline": false,
           "zerolinecolor": "rgb(36,36,36)",
           "zerolinewidth": 2
          },
          "yaxis": {
           "automargin": true,
           "gridcolor": "rgb(232,232,232)",
           "linecolor": "rgb(36,36,36)",
           "showgrid": false,
           "showline": true,
           "ticks": "outside",
           "title": {
            "standoff": 15
           },
           "zeroline": false,
           "zerolinecolor": "rgb(36,36,36)",
           "zerolinewidth": 2
          }
         }
        },
        "width": 600,
        "xaxis": {
         "anchor": "y",
         "autorange": true,
         "domain": [
          0,
          1
         ],
         "range": [
          0.07102125453602881,
          15.92897874546397
         ],
         "showgrid": false,
         "title": {
          "text": "Trait mean"
         },
         "type": "linear"
        },
        "xaxis2": {
         "anchor": "y2",
         "autorange": true,
         "domain": [
          0,
          1
         ],
         "range": [
          0.07102125453602881,
          15.92897874546397
         ],
         "showgrid": false,
         "title": {
          "text": "Number of applications"
         },
         "type": "linear"
        },
        "xaxis3": {
         "anchor": "y3",
         "autorange": true,
         "domain": [
          0,
          1
         ],
         "range": [
          0.07102125453602881,
          15.92897874546397
         ],
         "showgrid": false,
         "title": {
          "text": "Trait variance"
         },
         "type": "linear"
        },
        "yaxis": {
         "anchor": "x",
         "autorange": true,
         "domain": [
          0.7666666666666666,
          0.9999999999999999
         ],
         "range": [
          -0.44431340225508886,
          14.695814577044949
         ],
         "showgrid": false,
         "title": {
          "text": "Disease severity"
         },
         "type": "linear"
        },
        "yaxis2": {
         "anchor": "x2",
         "autorange": true,
         "domain": [
          0.3833333333333333,
          0.6166666666666666
         ],
         "range": [
          9.321086798585767,
          10.59863117852062
         ],
         "showgrid": false,
         "title": {
          "text": "Trait mean"
         },
         "type": "linear"
        },
        "yaxis3": {
         "anchor": "x3",
         "autorange": true,
         "domain": [
          0,
          0.2333333333333333
         ],
         "range": [
          1007.0721075863368,
          1156.7236562519054
         ],
         "showgrid": false,
         "title": {
          "text": "Change in trait mean"
         },
         "type": "linear"
        }
       }
      },
      "image/png": "[encoded data removed]",
      "text/html": [
       "<div>                            <div id=\"e1cdd02f-a8ef-46e1-9a55-781ad5ba05fb\" class=\"plotly-graph-div\" style=\"height:800px; width:600px;\"></div>            <script type=\"text/javascript\">                require([\"plotly\"], function(Plotly) {                    window.PLOTLYENV=window.PLOTLYENV || {};                                    if (document.getElementById(\"e1cdd02f-a8ef-46e1-9a55-781ad5ba05fb\")) {                    Plotly.newPlot(                        \"e1cdd02f-a8ef-46e1-9a55-781ad5ba05fb\",                        [{\"marker\":{\"color\":\"#00224e\"},\"mode\":\"markers\",\"name\":\"Dose=0.5\",\"showlegend\":true,\"x\":[1,2,3,4,5,6,7,8,9,10,11,12,13,14,15],\"y\":[0.705150231196377,0.729782436123583,0.8009701621430557,1.0439709500585208,1.8623734704576456,3.6228953690359194,5.517963228165266,7.000929687113132,8.197947679201214,9.207747766570458,10.072767488408427,10.820134156691704,11.47106539346443,12.041963504233506,12.546350943593481],\"type\":\"scatter\",\"xaxis\":\"x\",\"yaxis\":\"y\"},{\"line\":{\"color\":\"#00224e\"},\"mode\":\"lines+markers\",\"showlegend\":false,\"x\":[1,2,3,4,5,6,7,8,9,10,11,12,13,14,15],\"y\":[10.501637889767501,10.499276657114828,10.492452632077544,10.469159292863063,10.390946291181091,10.224231407000106,10.047304667353686,9.910837287947782,9.8020438251733,9.711260614904676,9.634247457656683,9.568288408861852,9.511290408945865,9.461653686004816,9.418080087338886],\"type\":\"scatter\",\"xaxis\":\"x2\",\"yaxis\":\"y2\"},{\"marker\":{\"color\":\"#00224e\"},\"mode\":\"markers\",\"showlegend\":false,\"x\":[1,2,3,4,5,6,7,8,9,10,11,12,13,14,15],\"y\":[1145.3618624073652,1145.0852676144311,1144.2859013215636,1141.5573195659792,1132.395448548953,1112.8664670159924,1092.1412687338109,1076.1554799102032,1063.4114136808005,1052.7770684299337,1043.7557471899038,1036.0293042140775,1029.3525585039185,1023.5381127786043,1018.4339014308771],\"type\":\"scatter\",\"xaxis\":\"x3\",\"yaxis\":\"y3\"},{\"marker\":{\"color\":\"#00224e\"},\"mode\":\"markers\",\"name\":\"Dose=0.5\",\"showlegend\":false,\"x\":[1,2,3,4,5,6,7,8,9,10,11,12,13,14,15],\"y\":[0.705150231196377,0.729782436123583,0.8009701621430557,1.0439709500585208,1.8623734704576456,3.6228953690359194,5.517963228165266,7.000929687113132,8.197947679201214,9.207747766570458,10.072767488408427,10.820134156691704,11.47106539346443,12.041963504233506,12.546350943593481],\"type\":\"scatter\",\"xaxis\":\"x\",\"yaxis\":\"y\"},{\"line\":{\"color\":\"#00224e\"},\"mode\":\"lines+markers\",\"showlegend\":false,\"x\":[1,2,3,4,5,6,7,8,9,10,11,12,13,14,15],\"y\":[10.501637889767501,10.499276657114828,10.492452632077544,10.469159292863063,10.390946291181091,10.224231407000106,10.047304667353686,9.910837287947782,9.8020438251733,9.711260614904676,9.634247457656683,9.568288408861852,9.511290408945865,9.461653686004816,9.418080087338886],\"type\":\"scatter\",\"xaxis\":\"x2\",\"yaxis\":\"y2\"},{\"marker\":{\"color\":\"#00224e\"},\"mode\":\"markers\",\"showlegend\":false,\"x\":[1,2,3,4,5,6,7,8,9,10,11,12,13,14,15],\"y\":[1145.3618624073652,1145.0852676144311,1144.2859013215636,1141.5573195659792,1132.395448548953,1112.8664670159924,1092.1412687338109,1076.1554799102032,1063.4114136808005,1052.7770684299337,1043.7557471899038,1036.0293042140775,1029.3525585039185,1023.5381127786043,1018.4339014308771],\"type\":\"scatter\",\"xaxis\":\"x3\",\"yaxis\":\"y3\"},{\"marker\":{\"color\":\"#123570\"},\"mode\":\"markers\",\"name\":\"Dose=0.2\",\"showlegend\":false,\"x\":[1,2,3,4,5,6,7,8,9,10,11,12,13,14,15],\"y\":[1.705150231196377,1.729782436123583,1.8009701621430556,2.043970950058521,2.8623734704576456,4.62289536903592,6.517963228165266,8.000929687113132,9.197947679201214,10.207747766570458,11.072767488408427,11.820134156691704,12.47106539346443,13.041963504233506,13.546350943593483],\"type\":\"scatter\",\"xaxis\":\"x\",\"yaxis\":\"y\"},{\"line\":{\"color\":\"#123570\"},\"mode\":\"lines+markers\",\"showlegend\":false,\"x\":[1,2,3,4,5,6,7,8,9,10,11,12,13,14,15],\"y\":[10.501637889767501,10.499276657114828,10.492452632077544,10.469159292863063,10.390946291181091,10.224231407000106,10.047304667353686,9.910837287947782,9.8020438251733,9.711260614904676,9.634247457656683,9.568288408861852,9.511290408945865,9.461653686004816,9.418080087338886],\"type\":\"scatter\",\"xaxis\":\"x2\",\"yaxis\":\"y2\"},{\"marker\":{\"color\":\"#123570\"},\"mode\":\"markers\",\"showlegend\":false,\"x\":[1,2,3,4,5,6,7,8,9,10,11,12,13,14,15],\"y\":[1145.3618624073652,1145.0852676144311,1144.2859013215636,1141.5573195659792,1132.395448548953,1112.8664670159924,1092.1412687338109,1076.1554799102032,1063.4114136808005,1052.7770684299337,1043.7557471899038,1036.0293042140775,1029.3525585039185,1023.5381127786043,1018.4339014308771],\"type\":\"scatter\",\"xaxis\":\"x3\",\"yaxis\":\"y3\"},{\"marker\":{\"color\":\"#00224e\"},\"mode\":\"markers\",\"name\":\"Dose=0.5\",\"showlegend\":false,\"x\":[1,2,3,4,5,6,7,8,9,10,11,12,13,14,15],\"y\":[0.705150231196377,0.729782436123583,0.8009701621430557,1.0439709500585208,1.8623734704576456,3.6228953690359194,5.517963228165266,7.000929687113132,8.197947679201214,9.207747766570458,10.072767488408427,10.820134156691704,11.47106539346443,12.041963504233506,12.546350943593481],\"type\":\"scatter\",\"xaxis\":\"x\",\"yaxis\":\"y\"},{\"line\":{\"color\":\"#00224e\"},\"mode\":\"lines+markers\",\"showlegend\":false,\"x\":[1,2,3,4,5,6,7,8,9,10,11,12,13,14,15],\"y\":[10.501637889767501,10.499276657114828,10.492452632077544,10.469159292863063,10.390946291181091,10.224231407000106,10.047304667353686,9.910837287947782,9.8020438251733,9.711260614904676,9.634247457656683,9.568288408861852,9.511290408945865,9.461653686004816,9.418080087338886],\"type\":\"scatter\",\"xaxis\":\"x2\",\"yaxis\":\"y2\"},{\"marker\":{\"color\":\"#00224e\"},\"mode\":\"markers\",\"showlegend\":false,\"x\":[1,2,3,4,5,6,7,8,9,10,11,12,13,14,15],\"y\":[1145.3618624073652,1145.0852676144311,1144.2859013215636,1141.5573195659792,1132.395448548953,1112.8664670159924,1092.1412687338109,1076.1554799102032,1063.4114136808005,1052.7770684299337,1043.7557471899038,1036.0293042140775,1029.3525585039185,1023.5381127786043,1018.4339014308771],\"type\":\"scatter\",\"xaxis\":\"x3\",\"yaxis\":\"y3\"}],                        {\"template\":{\"data\":{\"bar\":[{\"error_x\":{\"color\":\"rgb(36,36,36)\"},\"error_y\":{\"color\":\"rgb(36,36,36)\"},\"marker\":{\"line\":{\"color\":\"white\",\"width\":0.5},\"pattern\":{\"fillmode\":\"overlay\",\"size\":10,\"solidity\":0.2}},\"type\":\"bar\"}],\"barpolar\":[{\"marker\":{\"line\":{\"color\":\"white\",\"width\":0.5},\"pattern\":{\"fillmode\":\"overlay\",\"size\":10,\"solidity\":0.2}},\"type\":\"barpolar\"}],\"carpet\":[{\"aaxis\":{\"endlinecolor\":\"rgb(36,36,36)\",\"gridcolor\":\"white\",\"linecolor\":\"white\",\"minorgridcolor\":\"white\",\"startlinecolor\":\"rgb(36,36,36)\"},\"baxis\":{\"endlinecolor\":\"rgb(36,36,36)\",\"gridcolor\":\"white\",\"linecolor\":\"white\",\"minorgridcolor\":\"white\",\"startlinecolor\":\"rgb(36,36,36)\"},\"type\":\"carpet\"}],\"choropleth\":[{\"colorbar\":{\"outlinewidth\":1,\"ticks\":\"outside\",\"tickcolor\":\"rgb(36,36,36)\"},\"type\":\"choropleth\"}],\"contour\":[{\"colorbar\":{\"outlinewidth\":1,\"ticks\":\"outside\",\"tickcolor\":\"rgb(36,36,36)\"},\"colorscale\":[[0.0,\"#440154\"],[0.1111111111111111,\"#482878\"],[0.2222222222222222,\"#3e4989\"],[0.3333333333333333,\"#31688e\"],[0.4444444444444444,\"#26828e\"],[0.5555555555555556,\"#1f9e89\"],[0.6666666666666666,\"#35b779\"],[0.7777777777777778,\"#6ece58\"],[0.8888888888888888,\"#b5de2b\"],[1.0,\"#fde725\"]],\"type\":\"contour\"}],\"contourcarpet\":[{\"colorbar\":{\"outlinewidth\":1,\"ticks\":\"outside\",\"tickcolor\":\"rgb(36,36,36)\"},\"type\":\"contourcarpet\"}],\"heatmap\":[{\"colorbar\":{\"outlinewidth\":1,\"ticks\":\"outside\",\"tickcolor\":\"rgb(36,36,36)\"},\"colorscale\":[[0.0,\"#440154\"],[0.1111111111111111,\"#482878\"],[0.2222222222222222,\"#3e4989\"],[0.3333333333333333,\"#31688e\"],[0.4444444444444444,\"#26828e\"],[0.5555555555555556,\"#1f9e89\"],[0.6666666666666666,\"#35b779\"],[0.7777777777777778,\"#6ece58\"],[0.8888888888888888,\"#b5de2b\"],[1.0,\"#fde725\"]],\"type\":\"heatmap\"}],\"heatmapgl\":[{\"colorbar\":{\"outlinewidth\":1,\"ticks\":\"outside\",\"tickcolor\":\"rgb(36,36,36)\"},\"colorscale\":[[0.0,\"#440154\"],[0.1111111111111111,\"#482878\"],[0.2222222222222222,\"#3e4989\"],[0.3333333333333333,\"#31688e\"],[0.4444444444444444,\"#26828e\"],[0.5555555555555556,\"#1f9e89\"],[0.6666666666666666,\"#35b779\"],[0.7777777777777778,\"#6ece58\"],[0.8888888888888888,\"#b5de2b\"],[1.0,\"#fde725\"]],\"type\":\"heatmapgl\"}],\"histogram\":[{\"marker\":{\"pattern\":{\"fillmode\":\"overlay\",\"size\":10,\"solidity\":0.2},\"line\":{\"color\":\"white\",\"width\":0.6}},\"type\":\"histogram\"}],\"histogram2d\":[{\"colorbar\":{\"outlinewidth\":1,\"ticks\":\"outside\",\"tickcolor\":\"rgb(36,36,36)\"},\"colorscale\":[[0.0,\"#440154\"],[0.1111111111111111,\"#482878\"],[0.2222222222222222,\"#3e4989\"],[0.3333333333333333,\"#31688e\"],[0.4444444444444444,\"#26828e\"],[0.5555555555555556,\"#1f9e89\"],[0.6666666666666666,\"#35b779\"],[0.7777777777777778,\"#6ece58\"],[0.8888888888888888,\"#b5de2b\"],[1.0,\"#fde725\"]],\"type\":\"histogram2d\"}],\"histogram2dcontour\":[{\"colorbar\":{\"outlinewidth\":1,\"ticks\":\"outside\",\"tickcolor\":\"rgb(36,36,36)\"},\"colorscale\":[[0.0,\"#440154\"],[0.1111111111111111,\"#482878\"],[0.2222222222222222,\"#3e4989\"],[0.3333333333333333,\"#31688e\"],[0.4444444444444444,\"#26828e\"],[0.5555555555555556,\"#1f9e89\"],[0.6666666666666666,\"#35b779\"],[0.7777777777777778,\"#6ece58\"],[0.8888888888888888,\"#b5de2b\"],[1.0,\"#fde725\"]],\"type\":\"histogram2dcontour\"}],\"mesh3d\":[{\"colorbar\":{\"outlinewidth\":1,\"ticks\":\"outside\",\"tickcolor\":\"rgb(36,36,36)\"},\"type\":\"mesh3d\"}],\"parcoords\":[{\"line\":{\"colorbar\":{\"outlinewidth\":1,\"ticks\":\"outside\",\"tickcolor\":\"rgb(36,36,36)\"}},\"type\":\"parcoords\"}],\"pie\":[{\"automargin\":true,\"type\":\"pie\"}],\"scatter\":[{\"marker\":{\"colorbar\":{\"outlinewidth\":1,\"ticks\":\"outside\",\"tickcolor\":\"rgb(36,36,36)\"}},\"type\":\"scatter\"}],\"scatter3d\":[{\"line\":{\"colorbar\":{\"outlinewidth\":1,\"ticks\":\"outside\",\"tickcolor\":\"rgb(36,36,36)\"}},\"marker\":{\"colorbar\":{\"outlinewidth\":1,\"ticks\":\"outside\",\"tickcolor\":\"rgb(36,36,36)\"}},\"type\":\"scatter3d\"}],\"scattercarpet\":[{\"marker\":{\"colorbar\":{\"outlinewidth\":1,\"ticks\":\"outside\",\"tickcolor\":\"rgb(36,36,36)\"}},\"type\":\"scattercarpet\"}],\"scattergeo\":[{\"marker\":{\"colorbar\":{\"outlinewidth\":1,\"ticks\":\"outside\",\"tickcolor\":\"rgb(36,36,36)\"}},\"type\":\"scattergeo\"}],\"scattergl\":[{\"marker\":{\"colorbar\":{\"outlinewidth\":1,\"ticks\":\"outside\",\"tickcolor\":\"rgb(36,36,36)\"}},\"type\":\"scattergl\"}],\"scattermapbox\":[{\"marker\":{\"colorbar\":{\"outlinewidth\":1,\"ticks\":\"outside\",\"tickcolor\":\"rgb(36,36,36)\"}},\"type\":\"scattermapbox\"}],\"scatterpolar\":[{\"marker\":{\"colorbar\":{\"outlinewidth\":1,\"ticks\":\"outside\",\"tickcolor\":\"rgb(36,36,36)\"}},\"type\":\"scatterpolar\"}],\"scatterpolargl\":[{\"marker\":{\"colorbar\":{\"outlinewidth\":1,\"ticks\":\"outside\",\"tickcolor\":\"rgb(36,36,36)\"}},\"type\":\"scatterpolargl\"}],\"scatterternary\":[{\"marker\":{\"colorbar\":{\"outlinewidth\":1,\"ticks\":\"outside\",\"tickcolor\":\"rgb(36,36,36)\"}},\"type\":\"scatterternary\"}],\"surface\":[{\"colorbar\":{\"outlinewidth\":1,\"ticks\":\"outside\",\"tickcolor\":\"rgb(36,36,36)\"},\"colorscale\":[[0.0,\"#440154\"],[0.1111111111111111,\"#482878\"],[0.2222222222222222,\"#3e4989\"],[0.3333333333333333,\"#31688e\"],[0.4444444444444444,\"#26828e\"],[0.5555555555555556,\"#1f9e89\"],[0.6666666666666666,\"#35b779\"],[0.7777777777777778,\"#6ece58\"],[0.8888888888888888,\"#b5de2b\"],[1.0,\"#fde725\"]],\"type\":\"surface\"}],\"table\":[{\"cells\":{\"fill\":{\"color\":\"rgb(237,237,237)\"},\"line\":{\"color\":\"white\"}},\"header\":{\"fill\":{\"color\":\"rgb(217,217,217)\"},\"line\":{\"color\":\"white\"}},\"type\":\"table\"}]},\"layout\":{\"annotationdefaults\":{\"arrowcolor\":\"#2a3f5f\",\"arrowhead\":0,\"arrowwidth\":1},\"autotypenumbers\":\"strict\",\"coloraxis\":{\"colorbar\":{\"outlinewidth\":1,\"ticks\":\"outside\",\"tickcolor\":\"rgb(36,36,36)\"}},\"colorscale\":{\"diverging\":[[0.0,\"rgb(103,0,31)\"],[0.1,\"rgb(178,24,43)\"],[0.2,\"rgb(214,96,77)\"],[0.3,\"rgb(244,165,130)\"],[0.4,\"rgb(253,219,199)\"],[0.5,\"rgb(247,247,247)\"],[0.6,\"rgb(209,229,240)\"],[0.7,\"rgb(146,197,222)\"],[0.8,\"rgb(67,147,195)\"],[0.9,\"rgb(33,102,172)\"],[1.0,\"rgb(5,48,97)\"]],\"sequential\":[[0.0,\"#440154\"],[0.1111111111111111,\"#482878\"],[0.2222222222222222,\"#3e4989\"],[0.3333333333333333,\"#31688e\"],[0.4444444444444444,\"#26828e\"],[0.5555555555555556,\"#1f9e89\"],[0.6666666666666666,\"#35b779\"],[0.7777777777777778,\"#6ece58\"],[0.8888888888888888,\"#b5de2b\"],[1.0,\"#fde725\"]],\"sequentialminus\":[[0.0,\"#440154\"],[0.1111111111111111,\"#482878\"],[0.2222222222222222,\"#3e4989\"],[0.3333333333333333,\"#31688e\"],[0.4444444444444444,\"#26828e\"],[0.5555555555555556,\"#1f9e89\"],[0.6666666666666666,\"#35b779\"],[0.7777777777777778,\"#6ece58\"],[0.8888888888888888,\"#b5de2b\"],[1.0,\"#fde725\"]]},\"colorway\":[\"#1F77B4\",\"#FF7F0E\",\"#2CA02C\",\"#D62728\",\"#9467BD\",\"#8C564B\",\"#E377C2\",\"#7F7F7F\",\"#BCBD22\",\"#17BECF\"],\"font\":{\"color\":\"rgb(36,36,36)\"},\"geo\":{\"bgcolor\":\"white\",\"lakecolor\":\"white\",\"landcolor\":\"white\",\"showlakes\":true,\"showland\":true,\"subunitcolor\":\"white\"},\"hoverlabel\":{\"align\":\"left\"},\"hovermode\":\"closest\",\"mapbox\":{\"style\":\"light\"},\"paper_bgcolor\":\"white\",\"plot_bgcolor\":\"white\",\"polar\":{\"angularaxis\":{\"gridcolor\":\"rgb(232,232,232)\",\"linecolor\":\"rgb(36,36,36)\",\"ticks\":\"outside\",\"showgrid\":false,\"showline\":true},\"bgcolor\":\"white\",\"radialaxis\":{\"gridcolor\":\"rgb(232,232,232)\",\"linecolor\":\"rgb(36,36,36)\",\"ticks\":\"outside\",\"showgrid\":false,\"showline\":true}},\"scene\":{\"xaxis\":{\"backgroundcolor\":\"white\",\"gridcolor\":\"rgb(232,232,232)\",\"gridwidth\":2,\"linecolor\":\"rgb(36,36,36)\",\"showbackground\":true,\"ticks\":\"outside\",\"zerolinecolor\":\"rgb(36,36,36)\",\"showgrid\":false,\"showline\":true,\"zeroline\":false},\"yaxis\":{\"backgroundcolor\":\"white\",\"gridcolor\":\"rgb(232,232,232)\",\"gridwidth\":2,\"linecolor\":\"rgb(36,36,36)\",\"showbackground\":true,\"ticks\":\"outside\",\"zerolinecolor\":\"rgb(36,36,36)\",\"showgrid\":false,\"showline\":true,\"zeroline\":false},\"zaxis\":{\"backgroundcolor\":\"white\",\"gridcolor\":\"rgb(232,232,232)\",\"gridwidth\":2,\"linecolor\":\"rgb(36,36,36)\",\"showbackground\":true,\"ticks\":\"outside\",\"zerolinecolor\":\"rgb(36,36,36)\",\"showgrid\":false,\"showline\":true,\"zeroline\":false}},\"shapedefaults\":{\"line\":{\"color\":\"#2a3f5f\",\"width\":0},\"fillcolor\":\"black\",\"opacity\":0.3},\"ternary\":{\"aaxis\":{\"gridcolor\":\"rgb(232,232,232)\",\"linecolor\":\"rgb(36,36,36)\",\"ticks\":\"outside\",\"showgrid\":false,\"showline\":true},\"baxis\":{\"gridcolor\":\"rgb(232,232,232)\",\"linecolor\":\"rgb(36,36,36)\",\"ticks\":\"outside\",\"showgrid\":false,\"showline\":true},\"bgcolor\":\"white\",\"caxis\":{\"gridcolor\":\"rgb(232,232,232)\",\"linecolor\":\"rgb(36,36,36)\",\"ticks\":\"outside\",\"showgrid\":false,\"showline\":true}},\"title\":{\"x\":0.05},\"xaxis\":{\"automargin\":true,\"gridcolor\":\"rgb(232,232,232)\",\"linecolor\":\"rgb(36,36,36)\",\"ticks\":\"outside\",\"title\":{\"standoff\":15},\"zerolinecolor\":\"rgb(36,36,36)\",\"zerolinewidth\":2,\"showgrid\":false,\"showline\":true,\"zeroline\":false},\"yaxis\":{\"automargin\":true,\"gridcolor\":\"rgb(232,232,232)\",\"linecolor\":\"rgb(36,36,36)\",\"ticks\":\"outside\",\"title\":{\"standoff\":15},\"zerolinecolor\":\"rgb(36,36,36)\",\"zerolinewidth\":2,\"showgrid\":false,\"showline\":true,\"zeroline\":false}}},\"xaxis\":{\"anchor\":\"y\",\"domain\":[0.0,1.0],\"showgrid\":false,\"title\":{\"text\":\"Trait mean\"}},\"yaxis\":{\"anchor\":\"x\",\"domain\":[0.7666666666666666,0.9999999999999999],\"title\":{\"text\":\"Disease severity\"},\"showgrid\":false},\"xaxis2\":{\"anchor\":\"y2\",\"domain\":[0.0,1.0],\"title\":{\"text\":\"Number of applications\"},\"showgrid\":false},\"yaxis2\":{\"anchor\":\"x2\",\"domain\":[0.3833333333333333,0.6166666666666666],\"title\":{\"text\":\"Trait mean\"},\"showgrid\":false},\"xaxis3\":{\"anchor\":\"y3\",\"domain\":[0.0,1.0],\"title\":{\"text\":\"Trait variance\"},\"showgrid\":false},\"yaxis3\":{\"anchor\":\"x3\",\"domain\":[0.0,0.2333333333333333],\"title\":{\"text\":\"Change in trait mean\"},\"showgrid\":false},\"font\":{\"size\":14},\"height\":800,\"showlegend\":true,\"width\":600,\"legend\":{\"x\":0,\"y\":1.12,\"orientation\":\"h\"},\"annotations\":[{\"font\":{\"color\":\"rgb(110,110,110)\",\"size\":20},\"showarrow\":false,\"text\":\"A\",\"x\":0,\"xanchor\":\"center\",\"xref\":\"paper\",\"y\":1.05,\"yanchor\":\"top\",\"yref\":\"paper\"},{\"font\":{\"color\":\"rgb(110,110,110)\",\"size\":20},\"showarrow\":false,\"text\":\"B\",\"x\":0,\"xanchor\":\"center\",\"xref\":\"paper\",\"y\":0.67,\"yanchor\":\"top\",\"yref\":\"paper\"},{\"font\":{\"color\":\"rgb(110,110,110)\",\"size\":20},\"showarrow\":false,\"text\":\"C\",\"x\":0,\"xanchor\":\"center\",\"xref\":\"paper\",\"y\":0.29000000000000004,\"yanchor\":\"top\",\"yref\":\"paper\"}]},                        {\"responsive\": true}                    ).then(function(){\n",
       "                            \n",
       "var gd = document.getElementById('e1cdd02f-a8ef-46e1-9a55-781ad5ba05fb');\n",
       "var x = new MutationObserver(function (mutations, observer) {{\n",
       "        var display = window.getComputedStyle(gd).display;\n",
       "        if (!display || display === 'none') {{\n",
       "            console.log([gd, 'removed!']);\n",
       "            Plotly.purge(gd);\n",
       "            observer.disconnect();\n",
       "        }}\n",
       "}});\n",
       "\n",
       "// Listen for the removal of the full notebook cells\n",
       "var notebookContainer = gd.closest('#notebook-container');\n",
       "if (notebookContainer) {{\n",
       "    x.observe(notebookContainer, {childList: true});\n",
       "}}\n",
       "\n",
       "// Listen for the clearing of the current output cell\n",
       "var outputEl = gd.closest('.output');\n",
       "if (outputEl) {{\n",
       "    x.observe(outputEl, {childList: true});\n",
       "}}\n",
       "\n",
       "                        })                };                });            </script>        </div>"
      ]
     },
     "metadata": {},
     "output_type": "display_data"
    }
   ],
   "source": [
    "f = fig1(df_use)\n",
    "\n",
    "f.show()"
   ]
  },
  {
   "cell_type": "code",
   "execution_count": 36,
   "id": "7a987cfc-0b38-4d7c-8c8a-3bd77ab0f308",
   "metadata": {},
   "outputs": [],
   "source": [
    "f.write_image('../figures/paper/fig1.png')"
   ]
  },
  {
   "cell_type": "code",
   "execution_count": null,
   "id": "803a146c-f665-4d6b-8760-bacb921ced9c",
   "metadata": {},
   "outputs": [],
   "source": []
  }
 ],
 "metadata": {
  "kernelspec": {
   "display_name": "Python 3",
   "language": "python",
   "name": "python3"
  },
  "language_info": {
   "codemirror_mode": {
    "name": "ipython",
    "version": 3
   },
   "file_extension": ".py",
   "mimetype": "text/x-python",
   "name": "python",
   "nbconvert_exporter": "python",
   "pygments_lexer": "ipython3",
   "version": "3.9.12"
  }
 },
 "nbformat": 4,
 "nbformat_minor": 5
}
