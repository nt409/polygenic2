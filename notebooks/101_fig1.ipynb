{
 "cells": [
  {
   "cell_type": "markdown",
   "id": "59d8512c-fd3a-4ab2-ae04-05bfe55bf48e",
   "metadata": {},
   "source": [
    "# Fig 1\n",
    "\n",
    "Monogenic resistance can give low doses better sometimes\n",
    "\n",
    "NB check that current form for data etc is most up to date fit!!"
   ]
  },
  {
   "cell_type": "code",
   "execution_count": 1,
   "id": "10a4e91c-2ac1-4c97-9800-7dea3cb6c2df",
   "metadata": {},
   "outputs": [],
   "source": [
    "%load_ext autoreload\n",
    "%autoreload 2\n",
    "\n",
    "# %matplotlib widget"
   ]
  },
  {
   "cell_type": "code",
   "execution_count": 30,
   "id": "f598092b-71c1-4fde-bb78-b6551f449484",
   "metadata": {},
   "outputs": [],
   "source": [
    "import pandas as pd\n",
    "\n",
    "import seaborn as sns\n",
    "\n",
    "from math import log\n",
    "\n",
    "import numpy as np\n",
    "import matplotlib.pyplot as plt\n",
    "\n",
    "from xgboost import XGBRegressor\n",
    "import shap\n",
    "\n",
    "\n",
    "from plots2.fns import (\n",
    "    get_corner_annotations_explicit,\n",
    "    get_dose_colors\n",
    ")\n",
    "\n",
    "from plots2.consts import (\n",
    "    SMALL_FONT,\n",
    "    MEDIUM_FONT,\n",
    "    BIGGER_FONT,\n",
    ")\n",
    "\n",
    "from poly2.utils import (\n",
    "    trait_vec,\n",
    "    get_best_dose_for_cb,\n",
    ")\n",
    "from poly2.config import Config\n",
    "from poly2.simulator import SimulatorOneTrait"
   ]
  },
  {
   "cell_type": "code",
   "execution_count": 3,
   "id": "10dcf166-ed57-4ca7-a241-bc96d1b1b381",
   "metadata": {},
   "outputs": [],
   "source": [
    "sns.set_palette(\"viridis_r\", n_colors=10)"
   ]
  },
  {
   "cell_type": "markdown",
   "id": "bd1e7d1d-17aa-47b4-b6fd-51310e5acc0a",
   "metadata": {},
   "source": [
    "## Yield and dist mean"
   ]
  },
  {
   "cell_type": "code",
   "execution_count": 4,
   "id": "2ba9a13d-28f8-4af1-ac89-a7184686f006",
   "metadata": {},
   "outputs": [
    {
     "name": "stdout",
     "output_type": "stream",
     "text": [
      "CONFIG\n",
      "------\n",
      "I0s = [0.00985703, 0.00985703, 0.00985703, 0.00985 ...\n",
      "asymptote = None\n",
      "betas = [0.00786542, 0.00786542, 0.00786542, 0.007 ...\n",
      "decay_rate = None\n",
      "doses = [1., 1., 1., 1., 1., 1., 1., 1., 1., 1., 1 ...\n",
      "fungicide_mixture = False\n",
      "host_on = None\n",
      "k_b = 0.8431572316700577\n",
      "k_mu = 9.44286788381916\n",
      "l_b = 6.585357214619326\n",
      "l_mu = 0.8089358816813786\n",
      "mutation_proportion = 0\n",
      "mutation_scale_fung = 1\n",
      "mutation_scale_host = 1\n",
      "n_k = 100\n",
      "n_l = 50\n",
      "n_years = 20\n",
      "replace_cultivars = None\n",
      "sprays = None\n",
      "\n"
     ]
    }
   ],
   "source": [
    "cf = Config(\n",
    "    verbose=False, \n",
    "    n_k=100,\n",
    "    # n_years=200,\n",
    "    n_years=20,\n",
    ")\n",
    "\n",
    "cf.mutation_proportion = 0\n",
    "cf.mutation_scale_fung = 1\n",
    "cf.mutation_scale_host = 1\n",
    "\n",
    "cf.print_repr()"
   ]
  },
  {
   "cell_type": "code",
   "execution_count": 5,
   "id": "ec1253d5-2932-4ee8-b815-3349b760930b",
   "metadata": {},
   "outputs": [],
   "source": [
    "def get_mono_data(init_dist):\n",
    "    doses = np.linspace(0,1,11)[1:]\n",
    "\n",
    "    df = pd.DataFrame()\n",
    "\n",
    "    for dd in doses:\n",
    "        cf.doses = dd*np.ones(cf.n_years)\n",
    "\n",
    "        sim = SimulatorOneTrait(cf)\n",
    "\n",
    "        sim.initial_k_dist = init_dist\n",
    "\n",
    "        data = sim.run_model()\n",
    "\n",
    "        tmp = pd.DataFrame(\n",
    "            dict(\n",
    "                yld=data['yield_vec'],\n",
    "                dose=dd,\n",
    "                year=data['year'],\n",
    "                mean=data['fung_mean'][:-1],\n",
    "            ))\n",
    "\n",
    "        df = pd.concat([df, tmp])\n",
    "\n",
    "    df = df.reset_index(drop=True)\n",
    "    \n",
    "    return df"
   ]
  },
  {
   "cell_type": "code",
   "execution_count": 6,
   "id": "4a81c9c0-a1cd-43eb-94ef-37e8ac282366",
   "metadata": {},
   "outputs": [],
   "source": [
    "pr = 1e-3"
   ]
  },
  {
   "cell_type": "code",
   "execution_count": 7,
   "id": "3ae0047b-8b63-4aa1-8315-e986949501ae",
   "metadata": {},
   "outputs": [],
   "source": [
    "init_dist_1 = np.zeros(cf.n_k)\n",
    "init_dist_1[20] = 1-pr\n",
    "init_dist_1[-1] = pr\n",
    "\n",
    "df_lo = get_mono_data(init_dist_1)"
   ]
  },
  {
   "cell_type": "code",
   "execution_count": 8,
   "id": "f9d9eae7-45ed-491d-8bf4-97f95c81dff6",
   "metadata": {},
   "outputs": [],
   "source": [
    "init_dist_2 = np.zeros(cf.n_k)\n",
    "init_dist_2[20] = 1-pr\n",
    "init_dist_2[-20] = pr\n",
    "\n",
    "df_hi = get_mono_data(init_dist_2)"
   ]
  },
  {
   "cell_type": "code",
   "execution_count": 9,
   "id": "8b383bc5-de10-44f5-80da-7a4ad7f25676",
   "metadata": {},
   "outputs": [],
   "source": [
    "init_dist_3 = np.zeros(cf.n_k)\n",
    "init_dist_3[20] = 1-pr\n",
    "init_dist_3[50] = pr\n",
    "\n",
    "df_ex = get_mono_data(init_dist_3)"
   ]
  },
  {
   "cell_type": "markdown",
   "id": "07b975c5-69c2-4bef-8170-0cd07da6a5d6",
   "metadata": {},
   "source": [
    "## Fungicide effect"
   ]
  },
  {
   "cell_type": "code",
   "execution_count": 10,
   "id": "503a81a2-9f22-43c8-be1c-d103b93de64f",
   "metadata": {},
   "outputs": [],
   "source": [
    "def fung_effect(tv, dose):\n",
    "    curv = log(1/tv)\n",
    "    return np.exp(- curv*dose)"
   ]
  },
  {
   "cell_type": "code",
   "execution_count": 11,
   "id": "3568423c-c6d3-41df-9d2b-eddff32b5b2c",
   "metadata": {},
   "outputs": [],
   "source": [
    "tv = trait_vec(cf.n_k)"
   ]
  },
  {
   "cell_type": "code",
   "execution_count": 12,
   "id": "55872d6f-e382-410f-bce6-788f63aab25b",
   "metadata": {},
   "outputs": [],
   "source": [
    "doses = np.linspace(0,1,100)\n",
    "\n",
    "dr_ls = fung_effect(tv[20], doses)\n",
    "dr_lr = fung_effect(tv[-1], doses)\n",
    "\n",
    "dr_hs = fung_effect(tv[20], doses)\n",
    "dr_hr = fung_effect(tv[-20], doses)\n",
    "\n",
    "dr_es = fung_effect(tv[20], doses)\n",
    "dr_er = fung_effect(tv[50], doses)"
   ]
  },
  {
   "cell_type": "code",
   "execution_count": 13,
   "id": "afcf2786-8636-46c6-ba7a-400df51247fc",
   "metadata": {},
   "outputs": [
    {
     "data": {
      "text/plain": [
       "(0.20500000000000002,\n",
       " 0.995,\n",
       " 'ok',\n",
       " 0.20500000000000002,\n",
       " 0.805,\n",
       " 'ok',\n",
       " 0.20500000000000002,\n",
       " 0.505)"
      ]
     },
     "execution_count": 13,
     "metadata": {},
     "output_type": "execute_result"
    }
   ],
   "source": [
    "tv[20], tv[-1], 'ok', tv[20], tv[-20], 'ok', tv[20], tv[50]"
   ]
  },
  {
   "cell_type": "code",
   "execution_count": 14,
   "id": "ffb9f2a2-80a4-4107-90f8-7bd4084e0488",
   "metadata": {},
   "outputs": [
    {
     "data": {
      "text/html": [
       "<div>\n",
       "<style scoped>\n",
       "    .dataframe tbody tr th:only-of-type {\n",
       "        vertical-align: middle;\n",
       "    }\n",
       "\n",
       "    .dataframe tbody tr th {\n",
       "        vertical-align: top;\n",
       "    }\n",
       "\n",
       "    .dataframe thead th {\n",
       "        text-align: right;\n",
       "    }\n",
       "</style>\n",
       "<table border=\"1\" class=\"dataframe\">\n",
       "  <thead>\n",
       "    <tr style=\"text-align: right;\">\n",
       "      <th></th>\n",
       "      <th>yld</th>\n",
       "      <th>dose</th>\n",
       "      <th>year</th>\n",
       "      <th>mean</th>\n",
       "    </tr>\n",
       "  </thead>\n",
       "  <tbody>\n",
       "    <tr>\n",
       "      <th>min</th>\n",
       "      <td>8.814525</td>\n",
       "      <td>0.1</td>\n",
       "      <td>1.0</td>\n",
       "      <td>0.2053</td>\n",
       "    </tr>\n",
       "    <tr>\n",
       "      <th>max</th>\n",
       "      <td>10.216334</td>\n",
       "      <td>1.0</td>\n",
       "      <td>20.0</td>\n",
       "      <td>0.9950</td>\n",
       "    </tr>\n",
       "  </tbody>\n",
       "</table>\n",
       "</div>"
      ],
      "text/plain": [
       "           yld  dose  year    mean\n",
       "min   8.814525   0.1   1.0  0.2053\n",
       "max  10.216334   1.0  20.0  0.9950"
      ]
     },
     "execution_count": 14,
     "metadata": {},
     "output_type": "execute_result"
    }
   ],
   "source": [
    "pd.concat([df_lo, df_hi, df_ex]).describe().loc[['min', 'max']]"
   ]
  },
  {
   "cell_type": "code",
   "execution_count": 15,
   "id": "a9eb9c5c-c56b-4955-8c1e-a53ed1947ecf",
   "metadata": {},
   "outputs": [
    {
     "data": {
      "text/html": [
       "<svg  width=\"330\" height=\"55\"><rect x=\"0\" y=\"0\" width=\"55\" height=\"55\" style=\"fill:#a0da39;stroke-width:2;stroke:rgb(255,255,255)\"/><rect x=\"55\" y=\"0\" width=\"55\" height=\"55\" style=\"fill:#4ac16d;stroke-width:2;stroke:rgb(255,255,255)\"/><rect x=\"110\" y=\"0\" width=\"55\" height=\"55\" style=\"fill:#1fa187;stroke-width:2;stroke:rgb(255,255,255)\"/><rect x=\"165\" y=\"0\" width=\"55\" height=\"55\" style=\"fill:#277f8e;stroke-width:2;stroke:rgb(255,255,255)\"/><rect x=\"220\" y=\"0\" width=\"55\" height=\"55\" style=\"fill:#365c8d;stroke-width:2;stroke:rgb(255,255,255)\"/><rect x=\"275\" y=\"0\" width=\"55\" height=\"55\" style=\"fill:#46327e;stroke-width:2;stroke:rgb(255,255,255)\"/></svg>"
      ],
      "text/plain": [
       "[(0.626579, 0.854645, 0.223353),\n",
       " (0.288921, 0.758394, 0.428426),\n",
       " (0.122312, 0.633153, 0.530398),\n",
       " (0.153364, 0.497, 0.557724),\n",
       " (0.212395, 0.359683, 0.55171),\n",
       " (0.275191, 0.194905, 0.496005)]"
      ]
     },
     "execution_count": 15,
     "metadata": {},
     "output_type": "execute_result"
    }
   ],
   "source": [
    "sns.color_palette('viridis_r', n_colors=6)"
   ]
  },
  {
   "cell_type": "code",
   "execution_count": 33,
   "id": "c26208c3-2087-480b-b8dd-064b69698353",
   "metadata": {},
   "outputs": [],
   "source": [
    "lo_cols = get_best_dose_for_cb(df_lo, 10.4, 0.4)\n",
    "hi_cols = get_best_dose_for_cb(df_hi, 10.4, 0.4)\n",
    "ex_cols = get_best_dose_for_cb(df_ex, 10.4, 0.4)"
   ]
  },
  {
   "cell_type": "code",
   "execution_count": 34,
   "id": "c38e49d2-a917-4aee-8d33-e23a06d779f4",
   "metadata": {},
   "outputs": [
    {
     "data": {
      "text/plain": [
       "<matplotlib.legend.Legend at 0x1ad03277df0>"
      ]
     },
     "execution_count": 34,
     "metadata": {},
     "output_type": "execute_result"
    },
    {
     "data": {
      "image/png": "[encoded data removed]",
      "text/plain": [
       "<Figure size 576x648 with 12 Axes>"
      ]
     },
     "metadata": {
      "needs_background": "light"
     },
     "output_type": "display_data"
    }
   ],
   "source": [
    "f, ax = plt.subplots(\n",
    "    3,\n",
    "    4, \n",
    "    figsize=(8,9),\n",
    "    gridspec_kw={'width_ratios':[2,2,3,3]},\n",
    ")\n",
    "\n",
    "plt.rc('font', size=SMALL_FONT)          # controls default text sizes\n",
    "plt.rc('axes', titlesize=SMALL_FONT)     # fontsize of the axes title\n",
    "plt.rc('axes', labelsize=MEDIUM_FONT)    # fontsize of the x and y labels\n",
    "plt.rc('xtick', labelsize=SMALL_FONT)    # fontsize of the tick labels\n",
    "plt.rc('ytick', labelsize=SMALL_FONT)    # fontsize of the tick labels\n",
    "plt.rc('legend', fontsize=SMALL_FONT)    # legend fontsize\n",
    "\n",
    "tv = trait_vec(cf.n_k)\n",
    "\n",
    "sns.lineplot(\n",
    "    x='year',\n",
    "    y='mean',\n",
    "    hue='dose',\n",
    "    data=df_lo,\n",
    "    ax=ax[0][2],\n",
    "    palette='viridis_r',\n",
    "    legend=True,\n",
    ")\n",
    "\n",
    "sns.lineplot(\n",
    "    x='year',\n",
    "    y='mean',\n",
    "    hue='dose',\n",
    "    data=df_hi,\n",
    "    ax=ax[1][2],\n",
    "    palette='viridis_r',\n",
    "    legend=False,\n",
    ")\n",
    "\n",
    "sns.lineplot(\n",
    "    x='year',\n",
    "    y='mean',\n",
    "    hue='dose',\n",
    "    data=df_ex,\n",
    "    ax=ax[2][2],\n",
    "    palette='viridis_r',\n",
    "    legend=False,\n",
    ")\n",
    "\n",
    "## YIELD\n",
    "sns.lineplot(\n",
    "    x='year',\n",
    "    y='yld',\n",
    "    hue='dose',\n",
    "    data=df_lo,\n",
    "    ax=ax[0][3],\n",
    "    palette='viridis_r',\n",
    "    legend=False,\n",
    ")\n",
    "\n",
    "sns.lineplot(\n",
    "    x='year',\n",
    "    y='yld',\n",
    "    hue='dose',\n",
    "    data=df_hi,\n",
    "    ax=ax[1][3],\n",
    "    palette='viridis_r',\n",
    "    legend=False,\n",
    ")\n",
    "\n",
    "sns.lineplot(\n",
    "    x='year',\n",
    "    y='yld',\n",
    "    hue='dose',\n",
    "    data=df_ex,\n",
    "    ax=ax[2][3],\n",
    "    palette='viridis_r',\n",
    "    legend=False,\n",
    ")\n",
    "\n",
    "\n",
    "\n",
    "\n",
    "ax[0][0].plot(tv[:30], init_dist_1[:30], c='k', label='More sensitive')\n",
    "ax[1][0].plot(tv[:30], init_dist_2[:30], c='k')\n",
    "ax[2][0].plot(tv[:30], init_dist_3[:30], c='k')\n",
    "\n",
    "ax[0][0].plot(tv[30:], init_dist_1[30:], c='r', label='More resistant')\n",
    "ax[1][0].plot(tv[30:], init_dist_2[30:], c='r')\n",
    "ax[2][0].plot(tv[30:], init_dist_3[30:], c='r')\n",
    "\n",
    "\n",
    "ax[0][0].set_yscale('log')\n",
    "ax[1][0].set_yscale('log')\n",
    "ax[2][0].set_yscale('log')\n",
    "\n",
    "\n",
    "ax[0][1].plot(doses, dr_ls, c='k')\n",
    "ax[0][1].plot(doses, dr_lr, c='r')\n",
    "\n",
    "ax[1][1].plot(doses, dr_hs, c='k')\n",
    "ax[1][1].plot(doses, dr_hr, c='r')\n",
    "\n",
    "ax[2][1].plot(doses, dr_es, c='k')\n",
    "ax[2][1].plot(doses, dr_er, c='r')\n",
    "\n",
    "\n",
    "\n",
    "\n",
    "\n",
    "\n",
    "# color bars\n",
    "\n",
    "COLZ = get_dose_colors()\n",
    "\n",
    "lw = 6\n",
    "\n",
    "for ind, dose_ in enumerate(reversed(np.arange(0.1, 1.1, 0.1))):\n",
    "    \n",
    "    cc = COLZ[9-ind]\n",
    "    \n",
    "    ax[0][3].plot(\n",
    "        lo_cols.loc[lambda x: x.dose==dose_].year,\n",
    "        lo_cols.loc[lambda x: x.dose==dose_].yy, \n",
    "        c=cc,\n",
    "        lw=lw\n",
    "    )\n",
    "    \n",
    "    ax[1][3].plot(\n",
    "        hi_cols.loc[lambda x: x.dose==dose_].year,\n",
    "        hi_cols.loc[lambda x: x.dose==dose_].yy,\n",
    "        c=cc,\n",
    "        lw=lw\n",
    "    )\n",
    "    \n",
    "    ax[2][3].plot(\n",
    "        ex_cols.loc[lambda x: x.dose==dose_].year,\n",
    "        ex_cols.loc[lambda x: x.dose==dose_].yy,\n",
    "        c=cc,\n",
    "        lw=lw\n",
    "    )\n",
    "\n",
    "\n",
    "    \n",
    "    \n",
    "    \n",
    "    \n",
    "\n",
    "\n",
    "# axis limits\n",
    "\n",
    "ax0range=[-0.15, 1.15]\n",
    "\n",
    "ax[0][0].set_xlim(ax0range)\n",
    "ax[1][0].set_xlim(ax0range)\n",
    "ax[2][0].set_xlim(ax0range)\n",
    "\n",
    "\n",
    "\n",
    "x_lim = [0, 20.5]\n",
    "\n",
    "ax[0][2].set_xlim(x_lim)\n",
    "ax[1][2].set_xlim(x_lim)\n",
    "ax[2][2].set_xlim(x_lim)\n",
    "\n",
    "ax[0][3].set_xlim(x_lim)\n",
    "ax[1][3].set_xlim(x_lim)\n",
    "ax[2][3].set_xlim(x_lim)\n",
    "\n",
    "\n",
    "\n",
    "ax[0][0].set_ylim([1e-5, 2])\n",
    "ax[1][0].set_ylim([1e-5, 2])\n",
    "ax[2][0].set_ylim([1e-5, 2])\n",
    "\n",
    "ax[0][1].set_ylim([-0.05, 1.05])\n",
    "ax[1][1].set_ylim([-0.05, 1.05])\n",
    "ax[2][1].set_ylim([-0.05, 1.05])\n",
    "\n",
    "ax[0][2].set_ylim([-0.05, 1.05])\n",
    "ax[1][2].set_ylim([-0.05, 1.05])\n",
    "ax[2][2].set_ylim([-0.05, 1.05])\n",
    "\n",
    "ylims3 = [8.75, 10.50]\n",
    "\n",
    "ax[0][3].set_ylim(ylims3)\n",
    "ax[1][3].set_ylim(ylims3)\n",
    "ax[2][3].set_ylim(ylims3)\n",
    "\n",
    "\n",
    "# set yticks\n",
    "\n",
    "yticks0 = [1e-4, 1e-2, 1]\n",
    "ax[0][0].set_yticks(yticks0)\n",
    "ax[1][0].set_yticks(yticks0)\n",
    "ax[2][0].set_yticks(yticks0)\n",
    "\n",
    "yticks2 = [0, 0.5, 1]\n",
    "ax[0][1].set_yticks(yticks2)\n",
    "ax[1][1].set_yticks(yticks2)\n",
    "ax[2][1].set_yticks(yticks2)\n",
    "\n",
    "ax[0][2].set_yticks(yticks2)\n",
    "ax[1][2].set_yticks(yticks2)\n",
    "ax[2][2].set_yticks(yticks2)\n",
    "\n",
    "yticks3 = [9, 9.5, 10]\n",
    "ax[0][3].set_yticks(yticks3)\n",
    "ax[1][3].set_yticks(yticks3)\n",
    "ax[2][3].set_yticks(yticks3)\n",
    "\n",
    "\n",
    "# Axis labels\n",
    "\n",
    "ax[2][0].set_xlabel('Trait value')\n",
    "ax[2][1].set_xlabel('Dose')\n",
    "ax[2][2].set_xlabel('Year')\n",
    "ax[2][3].set_xlabel('Year')\n",
    "\n",
    "ax[0][0].set_xlabel(None)\n",
    "ax[1][0].set_xlabel(None)\n",
    "ax[0][1].set_xlabel(None)\n",
    "ax[1][1].set_xlabel(None)\n",
    "ax[0][2].set_xlabel(None)\n",
    "ax[1][2].set_xlabel(None)\n",
    "ax[0][3].set_xlabel(None)\n",
    "ax[1][3].set_xlabel(None)\n",
    "\n",
    "ax[0][0].set_ylabel('Density (log scale)')\n",
    "ax[1][0].set_ylabel('Density (log scale)')\n",
    "ax[2][0].set_ylabel('Density (log scale)')\n",
    "\n",
    "ax[0][1].set_ylabel('Effect')\n",
    "ax[1][1].set_ylabel('Effect')\n",
    "ax[2][1].set_ylabel('Effect')\n",
    "\n",
    "ax[0][2].set_ylabel('Trait mean')\n",
    "ax[1][2].set_ylabel('Trait mean')\n",
    "ax[2][2].set_ylabel('Trait mean')\n",
    "\n",
    "ax[0][3].set_ylabel('Yield (ton/ha)')\n",
    "ax[1][3].set_ylabel('Yield (ton/ha)')\n",
    "ax[2][3].set_ylabel('Yield (ton/ha)')\n",
    "\n",
    "plt.tight_layout(rect=[0,0,1,0.91], h_pad=3)\n",
    "\n",
    "y0 = 0.90\n",
    "yg = 0.30\n",
    "\n",
    "x0 = 0.09\n",
    "xg1 = 0.215\n",
    "xg2 = 0.27\n",
    "\n",
    "ys = [y0 - ii*yg for ii in np.arange(3)]\n",
    "xs = [x0, x0 + xg1, x0 + 2*xg1, x0 + 2*xg1 + xg2]\n",
    "\n",
    "get_corner_annotations_explicit(4, 3, xs, ys, plt)\n",
    "\n",
    "ax[0][0].legend(\n",
    "    title='Strain',\n",
    "    loc='lower left',\n",
    "    bbox_to_anchor=(0, 1.2),\n",
    "    frameon=False,\n",
    "    # labels=[f'{ii:.1f}' for ii in np.arange(0.1,1.1,0.1)],\n",
    ")\n",
    "\n",
    "ax[0][2].legend(\n",
    "    title='Dose', \n",
    "    loc='lower left',\n",
    "    bbox_to_anchor=(-0.75, 1.2),\n",
    "    frameon=False,\n",
    "    ncol=5,\n",
    "    labels=[f'{ii:.1f}' for ii in np.arange(0.1,1.1,0.1)],\n",
    ")"
   ]
  },
  {
   "cell_type": "markdown",
   "id": "7ba118fb-61ca-4fef-a1b4-4e91def125f8",
   "metadata": {},
   "source": [
    "## Save"
   ]
  },
  {
   "cell_type": "code",
   "execution_count": 24,
   "id": "6985ee95-2291-48dd-aec4-60c9531e297d",
   "metadata": {},
   "outputs": [],
   "source": [
    "f.savefig('../figures/paper/fig1.jpg', dpi=1200, bbox_inches=\"tight\")"
   ]
  },
  {
   "cell_type": "code",
   "execution_count": null,
   "id": "47639e6e-fadc-48fb-8eff-bc762b4e2e4f",
   "metadata": {},
   "outputs": [],
   "source": []
  }
 ],
 "metadata": {
  "kernelspec": {
   "display_name": "poly2_kernel",
   "language": "python",
   "name": "poly2_kernel"
  },
  "language_info": {
   "codemirror_mode": {
    "name": "ipython",
    "version": 3
   },
   "file_extension": ".py",
   "mimetype": "text/x-python",
   "name": "python",
   "nbconvert_exporter": "python",
   "pygments_lexer": "ipython3",
   "version": "3.8.12"
  }
 },
 "nbformat": 4,
 "nbformat_minor": 5
}
