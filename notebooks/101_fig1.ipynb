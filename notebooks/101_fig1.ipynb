{
 "cells": [
  {
   "cell_type": "markdown",
   "id": "9c28a391-71c7-4a13-b083-87e880010897",
   "metadata": {},
   "source": [
    "# Fig 1 - resistance in terms of mean and variance"
   ]
  },
  {
   "cell_type": "markdown",
   "id": "ef2f42c0-2f82-4399-849e-b548a295baed",
   "metadata": {},
   "source": [
    "## Overview:"
   ]
  },
  {
   "cell_type": "markdown",
   "id": "28df9a12-a96c-4716-a266-65c285cdc180",
   "metadata": {},
   "source": [
    "N sprays most important thing for resistance\n",
    "\n",
    "Effect of changes to initial distributions - variance and mean\n",
    "\n",
    "(maths in appendix proves it)\n",
    "\n",
    "And resistance increases with dose\n",
    "\n",
    "Then can say simple things about resistance management, but yield and econ more complex (figs 2 onwards address)\n",
    "\n",
    "FIG:\n",
    "1. Mean of dist vs severity in diff cases (doses / sprays)\n",
    "2. Mean of dist vs n sprays/dose\n",
    "3. Variance vs change in following year or vs mean in year X"
   ]
  },
  {
   "cell_type": "markdown",
   "id": "b16965ea-e90c-4b6b-96eb-3030bc7c0ec3",
   "metadata": {},
   "source": [
    "## Required data:"
   ]
  },
  {
   "cell_type": "markdown",
   "id": "8b7a9471-10e5-446d-a538-da2ef45eea1b",
   "metadata": {},
   "source": [
    "Uses `local/fig1_data.py`."
   ]
  },
  {
   "cell_type": "code",
   "execution_count": 1,
   "id": "62bd3e02-eaa3-4096-98d8-085aa6d8621f",
   "metadata": {},
   "outputs": [],
   "source": [
    "%load_ext autoreload\n",
    "%autoreload 2\n",
    "\n",
    "%matplotlib widget"
   ]
  },
  {
   "cell_type": "code",
   "execution_count": 2,
   "id": "ad0f2ad3-8828-4875-85c9-95bcd0be6489",
   "metadata": {},
   "outputs": [],
   "source": [
    "import pandas as pd\n",
    "from scipy.stats import norm\n",
    "from scipy import signal\n",
    "\n",
    "import seaborn as sns\n",
    "from math import floor\n",
    "\n",
    "import numpy as np\n",
    "import matplotlib.pyplot as plt\n",
    "\n",
    "import plotly.graph_objects as go\n",
    "from plotly.subplots import make_subplots\n",
    "import plotly.express as px\n",
    "\n",
    "import copy\n",
    "\n",
    "from plots2.fns import (\n",
    "    standard_layout,\n",
    "    corner_annotations_colwise,\n",
    "    corner_annotations_rowwise,\n",
    ")\n",
    "\n",
    "from poly2.utils import get_dist_mean, edge_values\n",
    "\n",
    "from poly2.run import simulations_run, no_joblib_simulations_run\n",
    "from poly2.config import Config"
   ]
  },
  {
   "cell_type": "code",
   "execution_count": 3,
   "id": "411775f2-6910-45d4-8c2a-d16e77c87f1e",
   "metadata": {},
   "outputs": [],
   "source": [
    "COLZ = sns.color_palette('muted').as_hex()"
   ]
  },
  {
   "cell_type": "markdown",
   "id": "cb07166f-aedd-41b8-bf40-a72bcbed4249",
   "metadata": {},
   "source": [
    "# Plot"
   ]
  },
  {
   "cell_type": "code",
   "execution_count": 148,
   "id": "41fead35-717d-43f8-8c7d-2a1f7428d9a3",
   "metadata": {},
   "outputs": [
    {
     "ename": "FileNotFoundError",
     "evalue": "[Errno 2] No such file or directory: '../outputs/combined/fig1_500_50.csv'",
     "output_type": "error",
     "traceback": [
      "\u001b[1;31m---------------------------------------------------------------------------\u001b[0m",
      "\u001b[1;31mFileNotFoundError\u001b[0m                         Traceback (most recent call last)",
      "\u001b[1;32m~\\AppData\\Local\\Temp\\ipykernel_17612\\2065117611.py\u001b[0m in \u001b[0;36m<module>\u001b[1;34m\u001b[0m\n\u001b[0;32m      1\u001b[0m df_in = (\n\u001b[1;32m----> 2\u001b[1;33m     \u001b[0mpd\u001b[0m\u001b[1;33m.\u001b[0m\u001b[0mread_csv\u001b[0m\u001b[1;33m(\u001b[0m\u001b[1;34m'../outputs/combined/fig1_500_50.csv'\u001b[0m\u001b[1;33m)\u001b[0m\u001b[1;33m\u001b[0m\u001b[1;33m\u001b[0m\u001b[0m\n\u001b[0m\u001b[0;32m      3\u001b[0m     \u001b[1;33m.\u001b[0m\u001b[0massign\u001b[0m\u001b[1;33m(\u001b[0m\u001b[0mtotal_sprays\u001b[0m \u001b[1;33m=\u001b[0m \u001b[1;32mlambda\u001b[0m \u001b[0mdf\u001b[0m\u001b[1;33m:\u001b[0m \u001b[0mdf\u001b[0m\u001b[1;33m.\u001b[0m\u001b[0msprays\u001b[0m \u001b[1;33m*\u001b[0m \u001b[0mdf\u001b[0m\u001b[1;33m.\u001b[0m\u001b[0myear\u001b[0m\u001b[1;33m)\u001b[0m\u001b[1;33m\u001b[0m\u001b[1;33m\u001b[0m\u001b[0m\n\u001b[0;32m      4\u001b[0m     \u001b[1;33m.\u001b[0m\u001b[0msort_values\u001b[0m\u001b[1;33m(\u001b[0m\u001b[1;33m[\u001b[0m\u001b[1;34m'sprays'\u001b[0m\u001b[1;33m,\u001b[0m \u001b[1;34m'dose'\u001b[0m\u001b[1;33m,\u001b[0m \u001b[1;34m'year'\u001b[0m\u001b[1;33m]\u001b[0m\u001b[1;33m)\u001b[0m\u001b[1;33m\u001b[0m\u001b[1;33m\u001b[0m\u001b[0m\n\u001b[0;32m      5\u001b[0m )\n",
      "\u001b[1;32m~\\anaconda3\\envs\\poly2\\lib\\site-packages\\pandas\\util\\_decorators.py\u001b[0m in \u001b[0;36mwrapper\u001b[1;34m(*args, **kwargs)\u001b[0m\n\u001b[0;32m    309\u001b[0m                     \u001b[0mstacklevel\u001b[0m\u001b[1;33m=\u001b[0m\u001b[0mstacklevel\u001b[0m\u001b[1;33m,\u001b[0m\u001b[1;33m\u001b[0m\u001b[1;33m\u001b[0m\u001b[0m\n\u001b[0;32m    310\u001b[0m                 )\n\u001b[1;32m--> 311\u001b[1;33m             \u001b[1;32mreturn\u001b[0m \u001b[0mfunc\u001b[0m\u001b[1;33m(\u001b[0m\u001b[1;33m*\u001b[0m\u001b[0margs\u001b[0m\u001b[1;33m,\u001b[0m \u001b[1;33m**\u001b[0m\u001b[0mkwargs\u001b[0m\u001b[1;33m)\u001b[0m\u001b[1;33m\u001b[0m\u001b[1;33m\u001b[0m\u001b[0m\n\u001b[0m\u001b[0;32m    312\u001b[0m \u001b[1;33m\u001b[0m\u001b[0m\n\u001b[0;32m    313\u001b[0m         \u001b[1;32mreturn\u001b[0m \u001b[0mwrapper\u001b[0m\u001b[1;33m\u001b[0m\u001b[1;33m\u001b[0m\u001b[0m\n",
      "\u001b[1;32m~\\anaconda3\\envs\\poly2\\lib\\site-packages\\pandas\\io\\parsers\\readers.py\u001b[0m in \u001b[0;36mread_csv\u001b[1;34m(filepath_or_buffer, sep, delimiter, header, names, index_col, usecols, squeeze, prefix, mangle_dupe_cols, dtype, engine, converters, true_values, false_values, skipinitialspace, skiprows, skipfooter, nrows, na_values, keep_default_na, na_filter, verbose, skip_blank_lines, parse_dates, infer_datetime_format, keep_date_col, date_parser, dayfirst, cache_dates, iterator, chunksize, compression, thousands, decimal, lineterminator, quotechar, quoting, doublequote, escapechar, comment, encoding, encoding_errors, dialect, error_bad_lines, warn_bad_lines, on_bad_lines, delim_whitespace, low_memory, memory_map, float_precision, storage_options)\u001b[0m\n\u001b[0;32m    678\u001b[0m     \u001b[0mkwds\u001b[0m\u001b[1;33m.\u001b[0m\u001b[0mupdate\u001b[0m\u001b[1;33m(\u001b[0m\u001b[0mkwds_defaults\u001b[0m\u001b[1;33m)\u001b[0m\u001b[1;33m\u001b[0m\u001b[1;33m\u001b[0m\u001b[0m\n\u001b[0;32m    679\u001b[0m \u001b[1;33m\u001b[0m\u001b[0m\n\u001b[1;32m--> 680\u001b[1;33m     \u001b[1;32mreturn\u001b[0m \u001b[0m_read\u001b[0m\u001b[1;33m(\u001b[0m\u001b[0mfilepath_or_buffer\u001b[0m\u001b[1;33m,\u001b[0m \u001b[0mkwds\u001b[0m\u001b[1;33m)\u001b[0m\u001b[1;33m\u001b[0m\u001b[1;33m\u001b[0m\u001b[0m\n\u001b[0m\u001b[0;32m    681\u001b[0m \u001b[1;33m\u001b[0m\u001b[0m\n\u001b[0;32m    682\u001b[0m \u001b[1;33m\u001b[0m\u001b[0m\n",
      "\u001b[1;32m~\\anaconda3\\envs\\poly2\\lib\\site-packages\\pandas\\io\\parsers\\readers.py\u001b[0m in \u001b[0;36m_read\u001b[1;34m(filepath_or_buffer, kwds)\u001b[0m\n\u001b[0;32m    573\u001b[0m \u001b[1;33m\u001b[0m\u001b[0m\n\u001b[0;32m    574\u001b[0m     \u001b[1;31m# Create the parser.\u001b[0m\u001b[1;33m\u001b[0m\u001b[1;33m\u001b[0m\u001b[1;33m\u001b[0m\u001b[0m\n\u001b[1;32m--> 575\u001b[1;33m     \u001b[0mparser\u001b[0m \u001b[1;33m=\u001b[0m \u001b[0mTextFileReader\u001b[0m\u001b[1;33m(\u001b[0m\u001b[0mfilepath_or_buffer\u001b[0m\u001b[1;33m,\u001b[0m \u001b[1;33m**\u001b[0m\u001b[0mkwds\u001b[0m\u001b[1;33m)\u001b[0m\u001b[1;33m\u001b[0m\u001b[1;33m\u001b[0m\u001b[0m\n\u001b[0m\u001b[0;32m    576\u001b[0m \u001b[1;33m\u001b[0m\u001b[0m\n\u001b[0;32m    577\u001b[0m     \u001b[1;32mif\u001b[0m \u001b[0mchunksize\u001b[0m \u001b[1;32mor\u001b[0m \u001b[0miterator\u001b[0m\u001b[1;33m:\u001b[0m\u001b[1;33m\u001b[0m\u001b[1;33m\u001b[0m\u001b[0m\n",
      "\u001b[1;32m~\\anaconda3\\envs\\poly2\\lib\\site-packages\\pandas\\io\\parsers\\readers.py\u001b[0m in \u001b[0;36m__init__\u001b[1;34m(self, f, engine, **kwds)\u001b[0m\n\u001b[0;32m    931\u001b[0m \u001b[1;33m\u001b[0m\u001b[0m\n\u001b[0;32m    932\u001b[0m         \u001b[0mself\u001b[0m\u001b[1;33m.\u001b[0m\u001b[0mhandles\u001b[0m\u001b[1;33m:\u001b[0m \u001b[0mIOHandles\u001b[0m \u001b[1;33m|\u001b[0m \u001b[1;32mNone\u001b[0m \u001b[1;33m=\u001b[0m \u001b[1;32mNone\u001b[0m\u001b[1;33m\u001b[0m\u001b[1;33m\u001b[0m\u001b[0m\n\u001b[1;32m--> 933\u001b[1;33m         \u001b[0mself\u001b[0m\u001b[1;33m.\u001b[0m\u001b[0m_engine\u001b[0m \u001b[1;33m=\u001b[0m \u001b[0mself\u001b[0m\u001b[1;33m.\u001b[0m\u001b[0m_make_engine\u001b[0m\u001b[1;33m(\u001b[0m\u001b[0mf\u001b[0m\u001b[1;33m,\u001b[0m \u001b[0mself\u001b[0m\u001b[1;33m.\u001b[0m\u001b[0mengine\u001b[0m\u001b[1;33m)\u001b[0m\u001b[1;33m\u001b[0m\u001b[1;33m\u001b[0m\u001b[0m\n\u001b[0m\u001b[0;32m    934\u001b[0m \u001b[1;33m\u001b[0m\u001b[0m\n\u001b[0;32m    935\u001b[0m     \u001b[1;32mdef\u001b[0m \u001b[0mclose\u001b[0m\u001b[1;33m(\u001b[0m\u001b[0mself\u001b[0m\u001b[1;33m)\u001b[0m\u001b[1;33m:\u001b[0m\u001b[1;33m\u001b[0m\u001b[1;33m\u001b[0m\u001b[0m\n",
      "\u001b[1;32m~\\anaconda3\\envs\\poly2\\lib\\site-packages\\pandas\\io\\parsers\\readers.py\u001b[0m in \u001b[0;36m_make_engine\u001b[1;34m(self, f, engine)\u001b[0m\n\u001b[0;32m   1215\u001b[0m             \u001b[1;31m# \"Union[str, PathLike[str], ReadCsvBuffer[bytes], ReadCsvBuffer[str]]\"\u001b[0m\u001b[1;33m\u001b[0m\u001b[1;33m\u001b[0m\u001b[1;33m\u001b[0m\u001b[0m\n\u001b[0;32m   1216\u001b[0m             \u001b[1;31m# , \"str\", \"bool\", \"Any\", \"Any\", \"Any\", \"Any\", \"Any\"\u001b[0m\u001b[1;33m\u001b[0m\u001b[1;33m\u001b[0m\u001b[1;33m\u001b[0m\u001b[0m\n\u001b[1;32m-> 1217\u001b[1;33m             self.handles = get_handle(  # type: ignore[call-overload]\n\u001b[0m\u001b[0;32m   1218\u001b[0m                 \u001b[0mf\u001b[0m\u001b[1;33m,\u001b[0m\u001b[1;33m\u001b[0m\u001b[1;33m\u001b[0m\u001b[0m\n\u001b[0;32m   1219\u001b[0m                 \u001b[0mmode\u001b[0m\u001b[1;33m,\u001b[0m\u001b[1;33m\u001b[0m\u001b[1;33m\u001b[0m\u001b[0m\n",
      "\u001b[1;32m~\\anaconda3\\envs\\poly2\\lib\\site-packages\\pandas\\io\\common.py\u001b[0m in \u001b[0;36mget_handle\u001b[1;34m(path_or_buf, mode, encoding, compression, memory_map, is_text, errors, storage_options)\u001b[0m\n\u001b[0;32m    787\u001b[0m         \u001b[1;32mif\u001b[0m \u001b[0mioargs\u001b[0m\u001b[1;33m.\u001b[0m\u001b[0mencoding\u001b[0m \u001b[1;32mand\u001b[0m \u001b[1;34m\"b\"\u001b[0m \u001b[1;32mnot\u001b[0m \u001b[1;32min\u001b[0m \u001b[0mioargs\u001b[0m\u001b[1;33m.\u001b[0m\u001b[0mmode\u001b[0m\u001b[1;33m:\u001b[0m\u001b[1;33m\u001b[0m\u001b[1;33m\u001b[0m\u001b[0m\n\u001b[0;32m    788\u001b[0m             \u001b[1;31m# Encoding\u001b[0m\u001b[1;33m\u001b[0m\u001b[1;33m\u001b[0m\u001b[1;33m\u001b[0m\u001b[0m\n\u001b[1;32m--> 789\u001b[1;33m             handle = open(\n\u001b[0m\u001b[0;32m    790\u001b[0m                 \u001b[0mhandle\u001b[0m\u001b[1;33m,\u001b[0m\u001b[1;33m\u001b[0m\u001b[1;33m\u001b[0m\u001b[0m\n\u001b[0;32m    791\u001b[0m                 \u001b[0mioargs\u001b[0m\u001b[1;33m.\u001b[0m\u001b[0mmode\u001b[0m\u001b[1;33m,\u001b[0m\u001b[1;33m\u001b[0m\u001b[1;33m\u001b[0m\u001b[0m\n",
      "\u001b[1;31mFileNotFoundError\u001b[0m: [Errno 2] No such file or directory: '../outputs/combined/fig1_500_50.csv'"
     ]
    }
   ],
   "source": [
    "df_in = (\n",
    "    pd.read_csv('../outputs/combined/fig1_500_50.csv')\n",
    "    .assign(total_sprays = lambda df: df.sprays * df.year)\n",
    "    .sort_values(['sprays', 'dose', 'year'])\n",
    ")\n",
    "\n",
    "df_in.head()"
   ]
  },
  {
   "cell_type": "code",
   "execution_count": 160,
   "id": "a11d9ba0-515b-4de2-98dc-86f1188d0854",
   "metadata": {},
   "outputs": [
    {
     "data": {
      "text/html": [
       "<div>\n",
       "<style scoped>\n",
       "    .dataframe tbody tr th:only-of-type {\n",
       "        vertical-align: middle;\n",
       "    }\n",
       "\n",
       "    .dataframe tbody tr th {\n",
       "        vertical-align: top;\n",
       "    }\n",
       "\n",
       "    .dataframe thead th {\n",
       "        text-align: right;\n",
       "    }\n",
       "</style>\n",
       "<table border=\"1\" class=\"dataframe\">\n",
       "  <thead>\n",
       "    <tr style=\"text-align: right;\">\n",
       "      <th></th>\n",
       "      <th>sprays</th>\n",
       "      <th>dose</th>\n",
       "      <th>year</th>\n",
       "      <th>sev</th>\n",
       "      <th>fung_mean</th>\n",
       "      <th>fung_var</th>\n",
       "      <th>total_sprays</th>\n",
       "    </tr>\n",
       "  </thead>\n",
       "  <tbody>\n",
       "    <tr>\n",
       "      <th>0</th>\n",
       "      <td>1</td>\n",
       "      <td>0.5</td>\n",
       "      <td>0</td>\n",
       "      <td>NaN</td>\n",
       "      <td>0.002553</td>\n",
       "      <td>0.000056</td>\n",
       "      <td>0</td>\n",
       "    </tr>\n",
       "    <tr>\n",
       "      <th>1</th>\n",
       "      <td>1</td>\n",
       "      <td>0.5</td>\n",
       "      <td>1</td>\n",
       "      <td>5.301001</td>\n",
       "      <td>0.003466</td>\n",
       "      <td>0.000111</td>\n",
       "      <td>1</td>\n",
       "    </tr>\n",
       "    <tr>\n",
       "      <th>2</th>\n",
       "      <td>1</td>\n",
       "      <td>0.5</td>\n",
       "      <td>2</td>\n",
       "      <td>5.401781</td>\n",
       "      <td>0.005042</td>\n",
       "      <td>0.000226</td>\n",
       "      <td>2</td>\n",
       "    </tr>\n",
       "    <tr>\n",
       "      <th>3</th>\n",
       "      <td>1</td>\n",
       "      <td>0.5</td>\n",
       "      <td>3</td>\n",
       "      <td>5.553837</td>\n",
       "      <td>0.007790</td>\n",
       "      <td>0.000460</td>\n",
       "      <td>3</td>\n",
       "    </tr>\n",
       "    <tr>\n",
       "      <th>4</th>\n",
       "      <td>1</td>\n",
       "      <td>0.5</td>\n",
       "      <td>4</td>\n",
       "      <td>5.785162</td>\n",
       "      <td>0.012546</td>\n",
       "      <td>0.000921</td>\n",
       "      <td>4</td>\n",
       "    </tr>\n",
       "  </tbody>\n",
       "</table>\n",
       "</div>"
      ],
      "text/plain": [
       "   sprays  dose  year       sev  fung_mean  fung_var  total_sprays\n",
       "0       1   0.5     0       NaN   0.002553  0.000056             0\n",
       "1       1   0.5     1  5.301001   0.003466  0.000111             1\n",
       "2       1   0.5     2  5.401781   0.005042  0.000226             2\n",
       "3       1   0.5     3  5.553837   0.007790  0.000460             3\n",
       "4       1   0.5     4  5.785162   0.012546  0.000921             4"
      ]
     },
     "execution_count": 160,
     "metadata": {},
     "output_type": "execute_result"
    }
   ],
   "source": [
    "df_in = (\n",
    "    pd.read_csv('../outputs/combined/fig1_zero.csv')\n",
    "    .assign(total_sprays = lambda df: df.sprays * df.year)\n",
    ")\n",
    "\n",
    "df_in.head()"
   ]
  },
  {
   "cell_type": "code",
   "execution_count": 186,
   "id": "81f08526-1c0a-4c2c-83ed-7ab51e5ecf21",
   "metadata": {},
   "outputs": [
    {
     "data": {
      "text/html": [
       "<div>\n",
       "<style scoped>\n",
       "    .dataframe tbody tr th:only-of-type {\n",
       "        vertical-align: middle;\n",
       "    }\n",
       "\n",
       "    .dataframe tbody tr th {\n",
       "        vertical-align: top;\n",
       "    }\n",
       "\n",
       "    .dataframe thead th {\n",
       "        text-align: right;\n",
       "    }\n",
       "</style>\n",
       "<table border=\"1\" class=\"dataframe\">\n",
       "  <thead>\n",
       "    <tr style=\"text-align: right;\">\n",
       "      <th></th>\n",
       "      <th>sprays</th>\n",
       "      <th>dose</th>\n",
       "      <th>year</th>\n",
       "      <th>sev</th>\n",
       "      <th>fung_mean</th>\n",
       "      <th>fung_var</th>\n",
       "      <th>total_sprays</th>\n",
       "      <th>mean_diff</th>\n",
       "    </tr>\n",
       "  </thead>\n",
       "  <tbody>\n",
       "    <tr>\n",
       "      <th>0</th>\n",
       "      <td>1</td>\n",
       "      <td>0.5</td>\n",
       "      <td>0</td>\n",
       "      <td>NaN</td>\n",
       "      <td>0.002553</td>\n",
       "      <td>0.000056</td>\n",
       "      <td>0</td>\n",
       "      <td>0.000913</td>\n",
       "    </tr>\n",
       "    <tr>\n",
       "      <th>1</th>\n",
       "      <td>1</td>\n",
       "      <td>0.5</td>\n",
       "      <td>1</td>\n",
       "      <td>5.301001</td>\n",
       "      <td>0.003466</td>\n",
       "      <td>0.000111</td>\n",
       "      <td>1</td>\n",
       "      <td>0.001576</td>\n",
       "    </tr>\n",
       "    <tr>\n",
       "      <th>2</th>\n",
       "      <td>1</td>\n",
       "      <td>0.5</td>\n",
       "      <td>2</td>\n",
       "      <td>5.401781</td>\n",
       "      <td>0.005042</td>\n",
       "      <td>0.000226</td>\n",
       "      <td>2</td>\n",
       "      <td>0.002748</td>\n",
       "    </tr>\n",
       "    <tr>\n",
       "      <th>3</th>\n",
       "      <td>1</td>\n",
       "      <td>0.5</td>\n",
       "      <td>3</td>\n",
       "      <td>5.553837</td>\n",
       "      <td>0.007790</td>\n",
       "      <td>0.000460</td>\n",
       "      <td>3</td>\n",
       "      <td>0.004756</td>\n",
       "    </tr>\n",
       "    <tr>\n",
       "      <th>4</th>\n",
       "      <td>1</td>\n",
       "      <td>0.5</td>\n",
       "      <td>4</td>\n",
       "      <td>5.785162</td>\n",
       "      <td>0.012546</td>\n",
       "      <td>0.000921</td>\n",
       "      <td>4</td>\n",
       "      <td>0.007956</td>\n",
       "    </tr>\n",
       "    <tr>\n",
       "      <th>5</th>\n",
       "      <td>1</td>\n",
       "      <td>0.5</td>\n",
       "      <td>5</td>\n",
       "      <td>6.132032</td>\n",
       "      <td>0.020502</td>\n",
       "      <td>0.001770</td>\n",
       "      <td>5</td>\n",
       "      <td>0.012459</td>\n",
       "    </tr>\n",
       "    <tr>\n",
       "      <th>6</th>\n",
       "      <td>1</td>\n",
       "      <td>0.5</td>\n",
       "      <td>6</td>\n",
       "      <td>6.632180</td>\n",
       "      <td>0.032961</td>\n",
       "      <td>0.003160</td>\n",
       "      <td>6</td>\n",
       "      <td>0.017729</td>\n",
       "    </tr>\n",
       "    <tr>\n",
       "      <th>7</th>\n",
       "      <td>1</td>\n",
       "      <td>0.5</td>\n",
       "      <td>7</td>\n",
       "      <td>7.304353</td>\n",
       "      <td>0.050689</td>\n",
       "      <td>0.005118</td>\n",
       "      <td>7</td>\n",
       "      <td>0.022565</td>\n",
       "    </tr>\n",
       "    <tr>\n",
       "      <th>8</th>\n",
       "      <td>1</td>\n",
       "      <td>0.5</td>\n",
       "      <td>8</td>\n",
       "      <td>8.119972</td>\n",
       "      <td>0.073254</td>\n",
       "      <td>0.007452</td>\n",
       "      <td>8</td>\n",
       "      <td>0.025871</td>\n",
       "    </tr>\n",
       "    <tr>\n",
       "      <th>9</th>\n",
       "      <td>1</td>\n",
       "      <td>0.5</td>\n",
       "      <td>9</td>\n",
       "      <td>9.000344</td>\n",
       "      <td>0.099125</td>\n",
       "      <td>0.009852</td>\n",
       "      <td>9</td>\n",
       "      <td>0.027427</td>\n",
       "    </tr>\n",
       "    <tr>\n",
       "      <th>10</th>\n",
       "      <td>1</td>\n",
       "      <td>0.5</td>\n",
       "      <td>10</td>\n",
       "      <td>9.854457</td>\n",
       "      <td>0.126552</td>\n",
       "      <td>0.012079</td>\n",
       "      <td>10</td>\n",
       "      <td>0.027739</td>\n",
       "    </tr>\n",
       "    <tr>\n",
       "      <th>11</th>\n",
       "      <td>1</td>\n",
       "      <td>0.5</td>\n",
       "      <td>11</td>\n",
       "      <td>10.624226</td>\n",
       "      <td>0.154290</td>\n",
       "      <td>0.014027</td>\n",
       "      <td>11</td>\n",
       "      <td>0.027397</td>\n",
       "    </tr>\n",
       "    <tr>\n",
       "      <th>12</th>\n",
       "      <td>1</td>\n",
       "      <td>0.5</td>\n",
       "      <td>12</td>\n",
       "      <td>11.294773</td>\n",
       "      <td>0.181688</td>\n",
       "      <td>0.015673</td>\n",
       "      <td>12</td>\n",
       "      <td>0.026757</td>\n",
       "    </tr>\n",
       "    <tr>\n",
       "      <th>13</th>\n",
       "      <td>1</td>\n",
       "      <td>0.5</td>\n",
       "      <td>13</td>\n",
       "      <td>11.876466</td>\n",
       "      <td>0.208444</td>\n",
       "      <td>0.017020</td>\n",
       "      <td>13</td>\n",
       "      <td>0.025964</td>\n",
       "    </tr>\n",
       "    <tr>\n",
       "      <th>14</th>\n",
       "      <td>1</td>\n",
       "      <td>0.5</td>\n",
       "      <td>14</td>\n",
       "      <td>12.386151</td>\n",
       "      <td>0.234409</td>\n",
       "      <td>0.018082</td>\n",
       "      <td>14</td>\n",
       "      <td>0.025073</td>\n",
       "    </tr>\n",
       "    <tr>\n",
       "      <th>15</th>\n",
       "      <td>1</td>\n",
       "      <td>0.5</td>\n",
       "      <td>15</td>\n",
       "      <td>12.838397</td>\n",
       "      <td>0.259481</td>\n",
       "      <td>0.018878</td>\n",
       "      <td>15</td>\n",
       "      <td>NaN</td>\n",
       "    </tr>\n",
       "    <tr>\n",
       "      <th>16</th>\n",
       "      <td>2</td>\n",
       "      <td>0.5</td>\n",
       "      <td>0</td>\n",
       "      <td>NaN</td>\n",
       "      <td>0.002553</td>\n",
       "      <td>0.000056</td>\n",
       "      <td>0</td>\n",
       "      <td>0.002183</td>\n",
       "    </tr>\n",
       "    <tr>\n",
       "      <th>17</th>\n",
       "      <td>2</td>\n",
       "      <td>0.5</td>\n",
       "      <td>1</td>\n",
       "      <td>1.420548</td>\n",
       "      <td>0.004736</td>\n",
       "      <td>0.000204</td>\n",
       "      <td>2</td>\n",
       "      <td>0.006150</td>\n",
       "    </tr>\n",
       "  </tbody>\n",
       "</table>\n",
       "</div>"
      ],
      "text/plain": [
       "    sprays  dose  year        sev  fung_mean  fung_var  total_sprays  \\\n",
       "0        1   0.5     0        NaN   0.002553  0.000056             0   \n",
       "1        1   0.5     1   5.301001   0.003466  0.000111             1   \n",
       "2        1   0.5     2   5.401781   0.005042  0.000226             2   \n",
       "3        1   0.5     3   5.553837   0.007790  0.000460             3   \n",
       "4        1   0.5     4   5.785162   0.012546  0.000921             4   \n",
       "5        1   0.5     5   6.132032   0.020502  0.001770             5   \n",
       "6        1   0.5     6   6.632180   0.032961  0.003160             6   \n",
       "7        1   0.5     7   7.304353   0.050689  0.005118             7   \n",
       "8        1   0.5     8   8.119972   0.073254  0.007452             8   \n",
       "9        1   0.5     9   9.000344   0.099125  0.009852             9   \n",
       "10       1   0.5    10   9.854457   0.126552  0.012079            10   \n",
       "11       1   0.5    11  10.624226   0.154290  0.014027            11   \n",
       "12       1   0.5    12  11.294773   0.181688  0.015673            12   \n",
       "13       1   0.5    13  11.876466   0.208444  0.017020            13   \n",
       "14       1   0.5    14  12.386151   0.234409  0.018082            14   \n",
       "15       1   0.5    15  12.838397   0.259481  0.018878            15   \n",
       "16       2   0.5     0        NaN   0.002553  0.000056             0   \n",
       "17       2   0.5     1   1.420548   0.004736  0.000204             2   \n",
       "\n",
       "    mean_diff  \n",
       "0    0.000913  \n",
       "1    0.001576  \n",
       "2    0.002748  \n",
       "3    0.004756  \n",
       "4    0.007956  \n",
       "5    0.012459  \n",
       "6    0.017729  \n",
       "7    0.022565  \n",
       "8    0.025871  \n",
       "9    0.027427  \n",
       "10   0.027739  \n",
       "11   0.027397  \n",
       "12   0.026757  \n",
       "13   0.025964  \n",
       "14   0.025073  \n",
       "15        NaN  \n",
       "16   0.002183  \n",
       "17   0.006150  "
      ]
     },
     "execution_count": 186,
     "metadata": {},
     "output_type": "execute_result"
    }
   ],
   "source": [
    "df_use = (\n",
    "    df_in\n",
    "    .join(\n",
    "    (\n",
    "        df_in\n",
    "        .groupby(['sprays', 'dose'])\n",
    "        .diff()\n",
    "        .loc[:, ['fung_mean']]\n",
    "        .shift(-1)\n",
    "        .rename(columns = {'fung_mean': 'mean_diff'})\n",
    "    )\n",
    "    )\n",
    ")\n",
    "\n",
    "df_use.head(18)"
   ]
  },
  {
   "cell_type": "markdown",
   "id": "599c19fe-66cd-4821-a054-26cab037cc8f",
   "metadata": {},
   "source": [
    "## Fig fn"
   ]
  },
  {
   "cell_type": "code",
   "execution_count": 192,
   "id": "8274786f-3997-4f01-a361-c35fa5d86a4f",
   "metadata": {},
   "outputs": [],
   "source": [
    "def fig1(df):\n",
    "    \n",
    "    fig = make_subplots(\n",
    "        rows=3,\n",
    "        cols=1,\n",
    "        # shared_xaxes=True,\n",
    "        # horizontal_spacing=0.33,\n",
    "        vertical_spacing=0.15,\n",
    "    )\n",
    "    \n",
    "    # len 10\n",
    "    # colors1 = px.colors.sequential.Viridis\n",
    "    # colors2 = px.colors.sequential.Agsunset\n",
    "    # colors3 = px.colors.sequential.Cividis\n",
    "    \n",
    "    # cols = {1: colors1, 2: colors2, 3: colors3}\n",
    "    \n",
    "    cols = ['red', 'blue', 'black']\n",
    "    dashes = ['dot', 'solid']\n",
    "    \n",
    "    for spray, color in zip([1,2,3], cols):\n",
    "        by_spray = df.loc[df.sprays==spray]\n",
    "        \n",
    "        for dose, dash in zip(by_spray.dose.unique(), dashes):\n",
    "            \n",
    "            by_spray_and_dose = by_spray.loc[lambda dd: dd.dose==dose]\n",
    "            \n",
    "            name_this_dose = f'Dose={dose:.1f}, spray={spray}'\n",
    "            \n",
    "            t_1 = go.Scatter(\n",
    "                    x=by_spray_and_dose.fung_mean,\n",
    "                    y=by_spray_and_dose.sev,\n",
    "                    mode='lines+markers',\n",
    "                    name=name_this_dose,\n",
    "                    marker=dict(color=color, size=4),\n",
    "                    line=dict(color=color, dash=dash),\n",
    "                )\n",
    "\n",
    "            fig.add_trace(t_1, row=1, col=1)\n",
    "            \n",
    "            \n",
    "            \n",
    "            t_2 = go.Scatter(\n",
    "                x=by_spray_and_dose.total_sprays,\n",
    "                y=by_spray_and_dose.fung_mean,\n",
    "                mode='lines+markers',\n",
    "                name=name_this_dose,\n",
    "                marker=dict(color=color, size=4),\n",
    "                line=dict(color=color, dash=dash),\n",
    "                opacity=0.5,\n",
    "                showlegend=False\n",
    "            )\n",
    "    \n",
    "            fig.add_trace(t_2, row=2, col=1)\n",
    "        \n",
    "            t_3 = go.Scatter(\n",
    "                x=by_spray_and_dose.fung_var,\n",
    "                y=by_spray_and_dose.mean_diff,\n",
    "                mode='lines+markers',\n",
    "                name=name_this_dose,\n",
    "                marker=dict(color=color, size=4),\n",
    "                line=dict(color=color, dash=dash),\n",
    "                opacity=0.5,\n",
    "                showlegend=False\n",
    "            )\n",
    "    \n",
    "            fig.add_trace(t_3, row=3, col=1)\n",
    "            \n",
    "            \n",
    "    \n",
    "    \n",
    "    \n",
    "    \n",
    "    \n",
    "    fig.update_layout(standard_layout(True, height=800))\n",
    "    \n",
    "    fig.update_layout(legend=dict(x=0, y=1.18, orientation='h', font=dict(size=12)))\n",
    "    \n",
    "    corners = corner_annotations_colwise(\n",
    "        3, 1,\n",
    "        1.05, 0,\n",
    "        0.38, 0\n",
    "    )\n",
    "    \n",
    "    fig.update_layout(annotations=corners)\n",
    "    \n",
    "    # X axis    \n",
    "    \n",
    "    # xrange = [0,15]\n",
    "    \n",
    "    fig.update_xaxes(title_text='Trait mean',\n",
    "                     row=1, col=1,\n",
    "                     range=[-0.01, 1.01],\n",
    "                     showgrid=False)\n",
    "    \n",
    "    fig.update_xaxes(title_text='Number of applications',\n",
    "                     row=2, col=1,\n",
    "                     # range=xrange,\n",
    "                     showgrid=False)\n",
    "    \n",
    "    fig.update_xaxes(title_text='Trait variance',\n",
    "                     row=3, col=1,\n",
    "                     # range=xrange,\n",
    "                     showgrid=False)\n",
    "    \n",
    "    \n",
    "    # Y axis    \n",
    "    fig.update_yaxes(title_text='Disease severity',\n",
    "                     row=1, col=1,\n",
    "                     showgrid=False)\n",
    "    \n",
    "    fig.update_yaxes(title_text='Trait mean',\n",
    "                         row=2, col=1,\n",
    "                         type='log',\n",
    "                         showgrid=False)\n",
    "    \n",
    "    fig.update_yaxes(title_text='Change in trait mean',\n",
    "                         row=3, col=1,\n",
    "                         showgrid=False)\n",
    "\n",
    "    return fig"
   ]
  },
  {
   "cell_type": "markdown",
   "id": "6ab3b341-b183-4d42-8443-31210df59a28",
   "metadata": {},
   "source": [
    "## FIG"
   ]
  },
  {
   "cell_type": "code",
   "execution_count": 193,
   "id": "76b3de9b-8db7-4398-9685-157bf608e7cc",
   "metadata": {},
   "outputs": [
    {
     "data": {
      "application/vnd.plotly.v1+json": {
       "config": {
        "plotlyServerURL": "https://plot.ly"
       },
       "data": [
        {
         "line": {
          "color": "red",
          "dash": "dot"
         },
         "marker": {
          "color": "red",
          "size": 4
         },
         "mode": "lines+markers",
         "name": "Dose=0.5, spray=1",
         "type": "scatter",
         "x": [
          0.0025528415617962,
          0.0034660175273245,
          0.0050417328014932,
          0.0077900460571671,
          0.0125462988967751,
          0.0205019664360723,
          0.0329607391936903,
          0.0506894590890267,
          0.0732544091339021,
          0.0991249294592803,
          0.126551839879002,
          0.1542904824741822,
          0.1816876095157275,
          0.2084443320273066,
          0.2344086533688993,
          0.2594814858162794
         ],
         "xaxis": "x",
         "y": [
          null,
          5.301001248542548,
          5.401781130615552,
          5.553837312172378,
          5.785162082942351,
          6.132031535364137,
          6.6321797058866485,
          7.30435321828071,
          8.119972229712413,
          9.000344358467881,
          9.85445743772416,
          10.624226227543746,
          11.294773124127133,
          11.876466116323645,
          12.386151381489546,
          12.838396516569713
         ],
         "yaxis": "y"
        },
        {
         "line": {
          "color": "red",
          "dash": "dot"
         },
         "marker": {
          "color": "red",
          "size": 4
         },
         "mode": "lines+markers",
         "name": "Dose=0.5, spray=1",
         "opacity": 0.5,
         "showlegend": false,
         "type": "scatter",
         "x": [
          0,
          1,
          2,
          3,
          4,
          5,
          6,
          7,
          8,
          9,
          10,
          11,
          12,
          13,
          14,
          15
         ],
         "xaxis": "x2",
         "y": [
          0.0025528415617962,
          0.0034660175273245,
          0.0050417328014932,
          0.0077900460571671,
          0.0125462988967751,
          0.0205019664360723,
          0.0329607391936903,
          0.0506894590890267,
          0.0732544091339021,
          0.0991249294592803,
          0.126551839879002,
          0.1542904824741822,
          0.1816876095157275,
          0.2084443320273066,
          0.2344086533688993,
          0.2594814858162794
         ],
         "yaxis": "y2"
        },
        {
         "line": {
          "color": "red",
          "dash": "dot"
         },
         "marker": {
          "color": "red",
          "size": 4
         },
         "mode": "lines+markers",
         "name": "Dose=0.5, spray=1",
         "opacity": 0.5,
         "showlegend": false,
         "type": "scatter",
         "x": [
          5.602642680273808e-05,
          0.00011137622113,
          0.0002256978221202,
          0.0004596061631072,
          0.0009213331951447,
          0.0017696136173793,
          0.0031599952799009,
          0.0051181146190217,
          0.0074520153721119,
          0.0098519391088577,
          0.0120785396747113,
          0.0140266678284127,
          0.0156726012565764,
          0.0170202367697659,
          0.0180822845403129,
          0.0188783672666426
         ],
         "xaxis": "x3",
         "y": [
          0.0009131759655283001,
          0.0015757152741687,
          0.0027483132556739,
          0.004756252839607999,
          0.0079556675392972,
          0.012458772757618003,
          0.0177287198953364,
          0.022564950044875402,
          0.02587052032537819,
          0.027426910419721715,
          0.02773864259518019,
          0.02739712704154529,
          0.026756722511579123,
          0.025964321341592683,
          0.025072832447380095,
          null
         ],
         "yaxis": "y3"
        },
        {
         "line": {
          "color": "red",
          "dash": "solid"
         },
         "marker": {
          "color": "red",
          "size": 4
         },
         "mode": "lines+markers",
         "name": "Dose=1.0, spray=1",
         "type": "scatter",
         "x": [
          0.0025528415617962,
          0.0036129037698943,
          0.0056378268584248,
          0.0096378860698734,
          0.0175956350696722,
          0.0328251344288756,
          0.0591665228700442,
          0.0980323358326432,
          0.1460581562094336,
          0.1974744870316197,
          0.2479703265748002,
          0.2955072660576237,
          0.3393645816465951,
          0.3793978277194688,
          0.4157306440880447,
          0.4486224522706771
         ],
         "xaxis": "x",
         "y": [
          null,
          3.0122769997299703,
          3.08604061507762,
          3.2079457953003447,
          3.4143537935240977,
          3.764895014593614,
          4.337549504550732,
          5.183276826134556,
          6.251736118086529,
          7.390657992787421,
          8.460482056189925,
          9.406481235638154,
          10.230860132001617,
          10.951087110358069,
          11.583685696562968,
          12.142235006562627
         ],
         "yaxis": "y"
        },
        {
         "line": {
          "color": "red",
          "dash": "solid"
         },
         "marker": {
          "color": "red",
          "size": 4
         },
         "mode": "lines+markers",
         "name": "Dose=1.0, spray=1",
         "opacity": 0.5,
         "showlegend": false,
         "type": "scatter",
         "x": [
          0,
          1,
          2,
          3,
          4,
          5,
          6,
          7,
          8,
          9,
          10,
          11,
          12,
          13,
          14,
          15
         ],
         "xaxis": "x2",
         "y": [
          0.0025528415617962,
          0.0036129037698943,
          0.0056378268584248,
          0.0096378860698734,
          0.0175956350696722,
          0.0328251344288756,
          0.0591665228700442,
          0.0980323358326432,
          0.1460581562094336,
          0.1974744870316197,
          0.2479703265748002,
          0.2955072660576237,
          0.3393645816465951,
          0.3793978277194688,
          0.4157306440880447,
          0.4486224522706771
         ],
         "yaxis": "y2"
        },
        {
         "line": {
          "color": "red",
          "dash": "solid"
         },
         "marker": {
          "color": "red",
          "size": 4
         },
         "mode": "lines+markers",
         "name": "Dose=1.0, spray=1",
         "opacity": 0.5,
         "showlegend": false,
         "type": "scatter",
         "x": [
          5.602642680273808e-05,
          0.0001249968926454,
          0.0002921369185629,
          0.0007016508086559,
          0.0016733984440415,
          0.0037586441166607,
          0.0074547645361399,
          0.0124338117875383,
          0.0173862377857364,
          0.0211678451757487,
          0.0234885747812606,
          0.024555894185856,
          0.0246875906216106,
          0.0241799067941358,
          0.0232739108840828,
          0.0221479604462924
         ],
         "xaxis": "x3",
         "y": [
          0.0010600622080981,
          0.0020249230885305003,
          0.0040000592114486,
          0.0079577489997988,
          0.0152294993592034,
          0.026341388441168602,
          0.038865812962599,
          0.0480258203767904,
          0.05141633082218611,
          0.05049583954318049,
          0.047536939482823476,
          0.043857315588971435,
          0.040033246072873674,
          0.03633281636857594,
          0.032891808182632376,
          null
         ],
         "yaxis": "y3"
        },
        {
         "line": {
          "color": "blue",
          "dash": "dot"
         },
         "marker": {
          "color": "blue",
          "size": 4
         },
         "mode": "lines+markers",
         "name": "Dose=0.5, spray=2",
         "type": "scatter",
         "x": [
          0.0025528415617962,
          0.0047362968072172,
          0.0108858159635539,
          0.0273027562045192,
          0.0618079570783812,
          0.1121263617042898,
          0.1670673938152602,
          0.2202217690907434,
          0.26992419634806,
          0.3156949397275322,
          0.3574168008871656,
          0.3952310373999789,
          0.4294312761186631,
          0.4603708419835927,
          0.4884058841155465,
          0.5138696111213924
         ],
         "xaxis": "x",
         "y": [
          null,
          1.420547919843072,
          1.56129441027062,
          1.8881749787469693,
          2.607751509586072,
          3.855778981101466,
          5.36075973286084,
          6.745343922007889,
          7.922507962301603,
          8.931229021933259,
          9.805996559014623,
          10.5691650514804,
          11.23799318387749,
          11.826874725249931,
          12.348264381939764,
          12.81240655868254
         ],
         "yaxis": "y"
        },
        {
         "line": {
          "color": "blue",
          "dash": "dot"
         },
         "marker": {
          "color": "blue",
          "size": 4
         },
         "mode": "lines+markers",
         "name": "Dose=0.5, spray=2",
         "opacity": 0.5,
         "showlegend": false,
         "type": "scatter",
         "x": [
          0,
          2,
          4,
          6,
          8,
          10,
          12,
          14,
          16,
          18,
          20,
          22,
          24,
          26,
          28,
          30
         ],
         "xaxis": "x2",
         "y": [
          0.0025528415617962,
          0.0047362968072172,
          0.0108858159635539,
          0.0273027562045192,
          0.0618079570783812,
          0.1121263617042898,
          0.1670673938152602,
          0.2202217690907434,
          0.26992419634806,
          0.3156949397275322,
          0.3574168008871656,
          0.3952310373999789,
          0.4294312761186631,
          0.4603708419835927,
          0.4884058841155465,
          0.5138696111213924
         ],
         "yaxis": "y2"
        },
        {
         "line": {
          "color": "blue",
          "dash": "dot"
         },
         "marker": {
          "color": "blue",
          "size": 4
         },
         "mode": "lines+markers",
         "name": "Dose=0.5, spray=2",
         "opacity": 0.5,
         "showlegend": false,
         "type": "scatter",
         "x": [
          5.602642680273808e-05,
          0.0002043916160464,
          0.0007704593992068,
          0.0025987884813871,
          0.0065083888552525,
          0.0113176798785824,
          0.015258446525009,
          0.0179514258543953,
          0.0195359668362613,
          0.0202294086422674,
          0.0202743611677625,
          0.0198866770354675,
          0.0192310268606874,
          0.018423047805147,
          0.0175403555106815,
          0.0166334839590933
         ],
         "xaxis": "x3",
         "y": [
          0.0021834552454210003,
          0.0061495191563367,
          0.0164169402409653,
          0.034505200873861996,
          0.0503184046259086,
          0.0549410321109704,
          0.053154375275483196,
          0.04970242725731658,
          0.045770743379472234,
          0.04172186115963339,
          0.03781423651281329,
          0.03420023871868422,
          0.030939565864929575,
          0.02803504213195379,
          0.025463727005845926,
          null
         ],
         "yaxis": "y3"
        },
        {
         "line": {
          "color": "blue",
          "dash": "solid"
         },
         "marker": {
          "color": "blue",
          "size": 4
         },
         "mode": "lines+markers",
         "name": "Dose=1.0, spray=2",
         "type": "scatter",
         "x": [
          0.0025528415617962,
          0.0049561810957638,
          0.013027527113141,
          0.0406476934651737,
          0.1109316054449387,
          0.2132508187448396,
          0.3112520238308661,
          0.393075960997986,
          0.4597885732425367,
          0.5142802472552882,
          0.5592420191210195,
          0.5968112178832714,
          0.628599091130478,
          0.6558099098235158,
          0.6793471257741475,
          0.6998971482160672
         ],
         "xaxis": "x",
         "y": [
          null,
          0.5220862115624,
          0.5809488403459195,
          0.748788906418463,
          1.2518148783624683,
          2.4242413470887167,
          4.061971255033142,
          5.644128763339382,
          7.020638086905913,
          8.19886503516659,
          9.20571993125511,
          10.069890830271056,
          10.81689972842163,
          11.467103456063326,
          12.037448963750732,
          12.541264732654865
         ],
         "yaxis": "y"
        },
        {
         "line": {
          "color": "blue",
          "dash": "solid"
         },
         "marker": {
          "color": "blue",
          "size": 4
         },
         "mode": "lines+markers",
         "name": "Dose=1.0, spray=2",
         "opacity": 0.5,
         "showlegend": false,
         "type": "scatter",
         "x": [
          0,
          2,
          4,
          6,
          8,
          10,
          12,
          14,
          16,
          18,
          20,
          22,
          24,
          26,
          28,
          30
         ],
         "xaxis": "x2",
         "y": [
          0.0025528415617962,
          0.0049561810957638,
          0.013027527113141,
          0.0406476934651737,
          0.1109316054449387,
          0.2132508187448396,
          0.3112520238308661,
          0.393075960997986,
          0.4597885732425367,
          0.5142802472552882,
          0.5592420191210195,
          0.5968112178832714,
          0.628599091130478,
          0.6558099098235158,
          0.6793471257741475,
          0.6998971482160672
         ],
         "yaxis": "y2"
        },
        {
         "line": {
          "color": "blue",
          "dash": "solid"
         },
         "marker": {
          "color": "blue",
          "size": 4
         },
         "mode": "lines+markers",
         "name": "Dose=1.0, spray=2",
         "opacity": 0.5,
         "showlegend": false,
         "type": "scatter",
         "x": [
          5.602642680273808e-05,
          0.0002382128426585,
          0.0011566007233032,
          0.0052160128035081,
          0.0150219686665859,
          0.0236154691455264,
          0.0260320222433989,
          0.0248853013045445,
          0.022448064166565,
          0.0197939604448725,
          0.0173352575087616,
          0.0151873496642572,
          0.0133524812730391,
          0.0117961914208542,
          0.0104764739191537,
          0.0093539050214839
         ],
         "xaxis": "x3",
         "y": [
          0.0024033395339676,
          0.0080713460173772,
          0.027620166352032696,
          0.070283911979765,
          0.10231921329990089,
          0.0980012050860265,
          0.08182393716711989,
          0.06671261224455072,
          0.05449167401275151,
          0.04496177186573125,
          0.037569198762251954,
          0.031787873247206555,
          0.027210818693037875,
          0.02353721595063163,
          0.020550022441919724,
          null
         ],
         "yaxis": "y3"
        },
        {
         "line": {
          "color": "black",
          "dash": "dot"
         },
         "marker": {
          "color": "black",
          "size": 4
         },
         "mode": "lines+markers",
         "name": "Dose=0.5, spray=3",
         "type": "scatter",
         "x": [
          0.0025528415617962,
          0.0059391517557381,
          0.018778415796023,
          0.0571491077358744,
          0.1229140931432016,
          0.1942855967147658,
          0.2608797402978793,
          0.3208761038821864,
          0.3739913935038703,
          0.4206390523146909,
          0.4615555948692752,
          0.4975317839619085,
          0.5292967744861746,
          0.5574808512371909,
          0.582614780689946,
          0.6051410717144988
         ],
         "xaxis": "x",
         "y": [
          null,
          0.6176822894320777,
          0.7560764727421989,
          1.1911395835125598,
          2.2870813767332314,
          3.89770109567842,
          5.446843857670967,
          6.793757509891973,
          7.963027954771379,
          8.976326968774098,
          9.854455511336102,
          10.618078460640824,
          11.285288838656884,
          11.871828362146228,
          12.390653216949602,
          12.852275275607084
         ],
         "yaxis": "y"
        },
        {
         "line": {
          "color": "black",
          "dash": "dot"
         },
         "marker": {
          "color": "black",
          "size": 4
         },
         "mode": "lines+markers",
         "name": "Dose=0.5, spray=3",
         "opacity": 0.5,
         "showlegend": false,
         "type": "scatter",
         "x": [
          0,
          3,
          6,
          9,
          12,
          15,
          18,
          21,
          24,
          27,
          30,
          33,
          36,
          39,
          42,
          45
         ],
         "xaxis": "x2",
         "y": [
          0.0025528415617962,
          0.0059391517557381,
          0.018778415796023,
          0.0571491077358744,
          0.1229140931432016,
          0.1942855967147658,
          0.2608797402978793,
          0.3208761038821864,
          0.3739913935038703,
          0.4206390523146909,
          0.4615555948692752,
          0.4975317839619085,
          0.5292967744861746,
          0.5574808512371909,
          0.582614780689946,
          0.6051410717144988
         ],
         "yaxis": "y2"
        },
        {
         "line": {
          "color": "black",
          "dash": "dot"
         },
         "marker": {
          "color": "black",
          "size": 4
         },
         "mode": "lines+markers",
         "name": "Dose=0.5, spray=3",
         "opacity": 0.5,
         "showlegend": false,
         "type": "scatter",
         "x": [
          5.602642680273808e-05,
          0.0003031075736083,
          0.0016278920384213,
          0.0060264657937243,
          0.012237430713848,
          0.0168143529603833,
          0.0193549477906405,
          0.0203013602044299,
          0.020184424902624,
          0.0194540298065367,
          0.018413900033078,
          0.017248045443448,
          0.0160616152471544,
          0.0149116925693041,
          0.0138270341094694,
          0.0128200412068585
         ],
         "xaxis": "x3",
         "y": [
          0.0033863101939419,
          0.0128392640402849,
          0.038370691939851403,
          0.0657649854073272,
          0.0713715035715642,
          0.0665941435831135,
          0.0599963635843071,
          0.05311528962168388,
          0.046647658810820614,
          0.04091654255458432,
          0.03597618909263328,
          0.03176499052426612,
          0.028184076751016307,
          0.025133929452755055,
          0.022526291024552836,
          null
         ],
         "yaxis": "y3"
        },
        {
         "line": {
          "color": "black",
          "dash": "solid"
         },
         "marker": {
          "color": "black",
          "size": 4
         },
         "mode": "lines+markers",
         "name": "Dose=1.0, spray=3",
         "type": "scatter",
         "x": [
          0.0025528415617962,
          0.0062734967675709,
          0.0245210378100955,
          0.0984600623291659,
          0.2318354559786093,
          0.353800624347475,
          0.4478133183230084,
          0.5197806577868498,
          0.575828954462743,
          0.620442512083057,
          0.6566961069428516,
          0.686695032424721,
          0.7119096008825541,
          0.7333892444858823,
          0.7519011669381633,
          0.7680170519585056
         ],
         "xaxis": "x",
         "y": [
          null,
          0.1724307496090603,
          0.2166202118408053,
          0.4155531905817664,
          1.2269802399333456,
          2.826062272934021,
          4.524419032282011,
          6.045723440808179,
          7.359592828160844,
          8.483120835724462,
          9.44504499105894,
          10.273389545249715,
          10.991439534393471,
          11.6186468098263,
          12.1702217567376,
          12.658785376753384
         ],
         "yaxis": "y"
        },
        {
         "line": {
          "color": "black",
          "dash": "solid"
         },
         "marker": {
          "color": "black",
          "size": 4
         },
         "mode": "lines+markers",
         "name": "Dose=1.0, spray=3",
         "opacity": 0.5,
         "showlegend": false,
         "type": "scatter",
         "x": [
          0,
          3,
          6,
          9,
          12,
          15,
          18,
          21,
          24,
          27,
          30,
          33,
          36,
          39,
          42,
          45
         ],
         "xaxis": "x2",
         "y": [
          0.0025528415617962,
          0.0062734967675709,
          0.0245210378100955,
          0.0984600623291659,
          0.2318354559786093,
          0.353800624347475,
          0.4478133183230084,
          0.5197806577868498,
          0.575828954462743,
          0.620442512083057,
          0.6566961069428516,
          0.686695032424721,
          0.7119096008825541,
          0.7333892444858823,
          0.7519011669381633,
          0.7680170519585056
         ],
         "yaxis": "y2"
        },
        {
         "line": {
          "color": "black",
          "dash": "solid"
         },
         "marker": {
          "color": "black",
          "size": 4
         },
         "mode": "lines+markers",
         "name": "Dose=1.0, spray=3",
         "opacity": 0.5,
         "showlegend": false,
         "type": "scatter",
         "x": [
          5.602642680273808e-05,
          0.0003674307594187,
          0.002815003689843,
          0.0137054848994569,
          0.0247386052841664,
          0.0258878060228452,
          0.0230488814691375,
          0.0195588733260052,
          0.0164317111403591,
          0.0138507820979955,
          0.0117670966682891,
          0.0100877919905508,
          0.0087264425165462,
          0.0076132835419242,
          0.0066944090335284,
          0.0059287505742914
         ],
         "xaxis": "x3",
         "y": [
          0.0037206552057747,
          0.0182475410425246,
          0.0739390245190704,
          0.1333753936494434,
          0.1219651683688657,
          0.09401269397553341,
          0.07196733946384137,
          0.05604829667589317,
          0.04461355762031405,
          0.036253594859794624,
          0.029998925481869332,
          0.025214568457833098,
          0.021479643603328213,
          0.01851192245228106,
          0.016115885020342224,
          null
         ],
         "yaxis": "y3"
        }
       ],
       "layout": {
        "annotations": [
         {
          "font": {
           "color": "rgb(110,110,110)",
           "size": 20
          },
          "showarrow": false,
          "text": "A",
          "x": 0,
          "xanchor": "center",
          "xref": "paper",
          "y": 1.05,
          "yanchor": "top",
          "yref": "paper"
         },
         {
          "font": {
           "color": "rgb(110,110,110)",
           "size": 20
          },
          "showarrow": false,
          "text": "B",
          "x": 0,
          "xanchor": "center",
          "xref": "paper",
          "y": 0.67,
          "yanchor": "top",
          "yref": "paper"
         },
         {
          "font": {
           "color": "rgb(110,110,110)",
           "size": 20
          },
          "showarrow": false,
          "text": "C",
          "x": 0,
          "xanchor": "center",
          "xref": "paper",
          "y": 0.29000000000000004,
          "yanchor": "top",
          "yref": "paper"
         }
        ],
        "font": {
         "size": 14
        },
        "height": 800,
        "legend": {
         "font": {
          "size": 12
         },
         "orientation": "h",
         "x": 0,
         "y": 1.18
        },
        "showlegend": true,
        "template": {
         "data": {
          "bar": [
           {
            "error_x": {
             "color": "rgb(36,36,36)"
            },
            "error_y": {
             "color": "rgb(36,36,36)"
            },
            "marker": {
             "line": {
              "color": "white",
              "width": 0.5
             },
             "pattern": {
              "fillmode": "overlay",
              "size": 10,
              "solidity": 0.2
             }
            },
            "type": "bar"
           }
          ],
          "barpolar": [
           {
            "marker": {
             "line": {
              "color": "white",
              "width": 0.5
             },
             "pattern": {
              "fillmode": "overlay",
              "size": 10,
              "solidity": 0.2
             }
            },
            "type": "barpolar"
           }
          ],
          "carpet": [
           {
            "aaxis": {
             "endlinecolor": "rgb(36,36,36)",
             "gridcolor": "white",
             "linecolor": "white",
             "minorgridcolor": "white",
             "startlinecolor": "rgb(36,36,36)"
            },
            "baxis": {
             "endlinecolor": "rgb(36,36,36)",
             "gridcolor": "white",
             "linecolor": "white",
             "minorgridcolor": "white",
             "startlinecolor": "rgb(36,36,36)"
            },
            "type": "carpet"
           }
          ],
          "choropleth": [
           {
            "colorbar": {
             "outlinewidth": 1,
             "tickcolor": "rgb(36,36,36)",
             "ticks": "outside"
            },
            "type": "choropleth"
           }
          ],
          "contour": [
           {
            "colorbar": {
             "outlinewidth": 1,
             "tickcolor": "rgb(36,36,36)",
             "ticks": "outside"
            },
            "colorscale": [
             [
              0,
              "#440154"
             ],
             [
              0.1111111111111111,
              "#482878"
             ],
             [
              0.2222222222222222,
              "#3e4989"
             ],
             [
              0.3333333333333333,
              "#31688e"
             ],
             [
              0.4444444444444444,
              "#26828e"
             ],
             [
              0.5555555555555556,
              "#1f9e89"
             ],
             [
              0.6666666666666666,
              "#35b779"
             ],
             [
              0.7777777777777778,
              "#6ece58"
             ],
             [
              0.8888888888888888,
              "#b5de2b"
             ],
             [
              1,
              "#fde725"
             ]
            ],
            "type": "contour"
           }
          ],
          "contourcarpet": [
           {
            "colorbar": {
             "outlinewidth": 1,
             "tickcolor": "rgb(36,36,36)",
             "ticks": "outside"
            },
            "type": "contourcarpet"
           }
          ],
          "heatmap": [
           {
            "colorbar": {
             "outlinewidth": 1,
             "tickcolor": "rgb(36,36,36)",
             "ticks": "outside"
            },
            "colorscale": [
             [
              0,
              "#440154"
             ],
             [
              0.1111111111111111,
              "#482878"
             ],
             [
              0.2222222222222222,
              "#3e4989"
             ],
             [
              0.3333333333333333,
              "#31688e"
             ],
             [
              0.4444444444444444,
              "#26828e"
             ],
             [
              0.5555555555555556,
              "#1f9e89"
             ],
             [
              0.6666666666666666,
              "#35b779"
             ],
             [
              0.7777777777777778,
              "#6ece58"
             ],
             [
              0.8888888888888888,
              "#b5de2b"
             ],
             [
              1,
              "#fde725"
             ]
            ],
            "type": "heatmap"
           }
          ],
          "heatmapgl": [
           {
            "colorbar": {
             "outlinewidth": 1,
             "tickcolor": "rgb(36,36,36)",
             "ticks": "outside"
            },
            "colorscale": [
             [
              0,
              "#440154"
             ],
             [
              0.1111111111111111,
              "#482878"
             ],
             [
              0.2222222222222222,
              "#3e4989"
             ],
             [
              0.3333333333333333,
              "#31688e"
             ],
             [
              0.4444444444444444,
              "#26828e"
             ],
             [
              0.5555555555555556,
              "#1f9e89"
             ],
             [
              0.6666666666666666,
              "#35b779"
             ],
             [
              0.7777777777777778,
              "#6ece58"
             ],
             [
              0.8888888888888888,
              "#b5de2b"
             ],
             [
              1,
              "#fde725"
             ]
            ],
            "type": "heatmapgl"
           }
          ],
          "histogram": [
           {
            "marker": {
             "line": {
              "color": "white",
              "width": 0.6
             },
             "pattern": {
              "fillmode": "overlay",
              "size": 10,
              "solidity": 0.2
             }
            },
            "type": "histogram"
           }
          ],
          "histogram2d": [
           {
            "colorbar": {
             "outlinewidth": 1,
             "tickcolor": "rgb(36,36,36)",
             "ticks": "outside"
            },
            "colorscale": [
             [
              0,
              "#440154"
             ],
             [
              0.1111111111111111,
              "#482878"
             ],
             [
              0.2222222222222222,
              "#3e4989"
             ],
             [
              0.3333333333333333,
              "#31688e"
             ],
             [
              0.4444444444444444,
              "#26828e"
             ],
             [
              0.5555555555555556,
              "#1f9e89"
             ],
             [
              0.6666666666666666,
              "#35b779"
             ],
             [
              0.7777777777777778,
              "#6ece58"
             ],
             [
              0.8888888888888888,
              "#b5de2b"
             ],
             [
              1,
              "#fde725"
             ]
            ],
            "type": "histogram2d"
           }
          ],
          "histogram2dcontour": [
           {
            "colorbar": {
             "outlinewidth": 1,
             "tickcolor": "rgb(36,36,36)",
             "ticks": "outside"
            },
            "colorscale": [
             [
              0,
              "#440154"
             ],
             [
              0.1111111111111111,
              "#482878"
             ],
             [
              0.2222222222222222,
              "#3e4989"
             ],
             [
              0.3333333333333333,
              "#31688e"
             ],
             [
              0.4444444444444444,
              "#26828e"
             ],
             [
              0.5555555555555556,
              "#1f9e89"
             ],
             [
              0.6666666666666666,
              "#35b779"
             ],
             [
              0.7777777777777778,
              "#6ece58"
             ],
             [
              0.8888888888888888,
              "#b5de2b"
             ],
             [
              1,
              "#fde725"
             ]
            ],
            "type": "histogram2dcontour"
           }
          ],
          "mesh3d": [
           {
            "colorbar": {
             "outlinewidth": 1,
             "tickcolor": "rgb(36,36,36)",
             "ticks": "outside"
            },
            "type": "mesh3d"
           }
          ],
          "parcoords": [
           {
            "line": {
             "colorbar": {
              "outlinewidth": 1,
              "tickcolor": "rgb(36,36,36)",
              "ticks": "outside"
             }
            },
            "type": "parcoords"
           }
          ],
          "pie": [
           {
            "automargin": true,
            "type": "pie"
           }
          ],
          "scatter": [
           {
            "marker": {
             "colorbar": {
              "outlinewidth": 1,
              "tickcolor": "rgb(36,36,36)",
              "ticks": "outside"
             }
            },
            "type": "scatter"
           }
          ],
          "scatter3d": [
           {
            "line": {
             "colorbar": {
              "outlinewidth": 1,
              "tickcolor": "rgb(36,36,36)",
              "ticks": "outside"
             }
            },
            "marker": {
             "colorbar": {
              "outlinewidth": 1,
              "tickcolor": "rgb(36,36,36)",
              "ticks": "outside"
             }
            },
            "type": "scatter3d"
           }
          ],
          "scattercarpet": [
           {
            "marker": {
             "colorbar": {
              "outlinewidth": 1,
              "tickcolor": "rgb(36,36,36)",
              "ticks": "outside"
             }
            },
            "type": "scattercarpet"
           }
          ],
          "scattergeo": [
           {
            "marker": {
             "colorbar": {
              "outlinewidth": 1,
              "tickcolor": "rgb(36,36,36)",
              "ticks": "outside"
             }
            },
            "type": "scattergeo"
           }
          ],
          "scattergl": [
           {
            "marker": {
             "colorbar": {
              "outlinewidth": 1,
              "tickcolor": "rgb(36,36,36)",
              "ticks": "outside"
             }
            },
            "type": "scattergl"
           }
          ],
          "scattermapbox": [
           {
            "marker": {
             "colorbar": {
              "outlinewidth": 1,
              "tickcolor": "rgb(36,36,36)",
              "ticks": "outside"
             }
            },
            "type": "scattermapbox"
           }
          ],
          "scatterpolar": [
           {
            "marker": {
             "colorbar": {
              "outlinewidth": 1,
              "tickcolor": "rgb(36,36,36)",
              "ticks": "outside"
             }
            },
            "type": "scatterpolar"
           }
          ],
          "scatterpolargl": [
           {
            "marker": {
             "colorbar": {
              "outlinewidth": 1,
              "tickcolor": "rgb(36,36,36)",
              "ticks": "outside"
             }
            },
            "type": "scatterpolargl"
           }
          ],
          "scatterternary": [
           {
            "marker": {
             "colorbar": {
              "outlinewidth": 1,
              "tickcolor": "rgb(36,36,36)",
              "ticks": "outside"
             }
            },
            "type": "scatterternary"
           }
          ],
          "surface": [
           {
            "colorbar": {
             "outlinewidth": 1,
             "tickcolor": "rgb(36,36,36)",
             "ticks": "outside"
            },
            "colorscale": [
             [
              0,
              "#440154"
             ],
             [
              0.1111111111111111,
              "#482878"
             ],
             [
              0.2222222222222222,
              "#3e4989"
             ],
             [
              0.3333333333333333,
              "#31688e"
             ],
             [
              0.4444444444444444,
              "#26828e"
             ],
             [
              0.5555555555555556,
              "#1f9e89"
             ],
             [
              0.6666666666666666,
              "#35b779"
             ],
             [
              0.7777777777777778,
              "#6ece58"
             ],
             [
              0.8888888888888888,
              "#b5de2b"
             ],
             [
              1,
              "#fde725"
             ]
            ],
            "type": "surface"
           }
          ],
          "table": [
           {
            "cells": {
             "fill": {
              "color": "rgb(237,237,237)"
             },
             "line": {
              "color": "white"
             }
            },
            "header": {
             "fill": {
              "color": "rgb(217,217,217)"
             },
             "line": {
              "color": "white"
             }
            },
            "type": "table"
           }
          ]
         },
         "layout": {
          "annotationdefaults": {
           "arrowcolor": "#2a3f5f",
           "arrowhead": 0,
           "arrowwidth": 1
          },
          "autotypenumbers": "strict",
          "coloraxis": {
           "colorbar": {
            "outlinewidth": 1,
            "tickcolor": "rgb(36,36,36)",
            "ticks": "outside"
           }
          },
          "colorscale": {
           "diverging": [
            [
             0,
             "rgb(103,0,31)"
            ],
            [
             0.1,
             "rgb(178,24,43)"
            ],
            [
             0.2,
             "rgb(214,96,77)"
            ],
            [
             0.3,
             "rgb(244,165,130)"
            ],
            [
             0.4,
             "rgb(253,219,199)"
            ],
            [
             0.5,
             "rgb(247,247,247)"
            ],
            [
             0.6,
             "rgb(209,229,240)"
            ],
            [
             0.7,
             "rgb(146,197,222)"
            ],
            [
             0.8,
             "rgb(67,147,195)"
            ],
            [
             0.9,
             "rgb(33,102,172)"
            ],
            [
             1,
             "rgb(5,48,97)"
            ]
           ],
           "sequential": [
            [
             0,
             "#440154"
            ],
            [
             0.1111111111111111,
             "#482878"
            ],
            [
             0.2222222222222222,
             "#3e4989"
            ],
            [
             0.3333333333333333,
             "#31688e"
            ],
            [
             0.4444444444444444,
             "#26828e"
            ],
            [
             0.5555555555555556,
             "#1f9e89"
            ],
            [
             0.6666666666666666,
             "#35b779"
            ],
            [
             0.7777777777777778,
             "#6ece58"
            ],
            [
             0.8888888888888888,
             "#b5de2b"
            ],
            [
             1,
             "#fde725"
            ]
           ],
           "sequentialminus": [
            [
             0,
             "#440154"
            ],
            [
             0.1111111111111111,
             "#482878"
            ],
            [
             0.2222222222222222,
             "#3e4989"
            ],
            [
             0.3333333333333333,
             "#31688e"
            ],
            [
             0.4444444444444444,
             "#26828e"
            ],
            [
             0.5555555555555556,
             "#1f9e89"
            ],
            [
             0.6666666666666666,
             "#35b779"
            ],
            [
             0.7777777777777778,
             "#6ece58"
            ],
            [
             0.8888888888888888,
             "#b5de2b"
            ],
            [
             1,
             "#fde725"
            ]
           ]
          },
          "colorway": [
           "#1F77B4",
           "#FF7F0E",
           "#2CA02C",
           "#D62728",
           "#9467BD",
           "#8C564B",
           "#E377C2",
           "#7F7F7F",
           "#BCBD22",
           "#17BECF"
          ],
          "font": {
           "color": "rgb(36,36,36)"
          },
          "geo": {
           "bgcolor": "white",
           "lakecolor": "white",
           "landcolor": "white",
           "showlakes": true,
           "showland": true,
           "subunitcolor": "white"
          },
          "hoverlabel": {
           "align": "left"
          },
          "hovermode": "closest",
          "mapbox": {
           "style": "light"
          },
          "paper_bgcolor": "white",
          "plot_bgcolor": "white",
          "polar": {
           "angularaxis": {
            "gridcolor": "rgb(232,232,232)",
            "linecolor": "rgb(36,36,36)",
            "showgrid": false,
            "showline": true,
            "ticks": "outside"
           },
           "bgcolor": "white",
           "radialaxis": {
            "gridcolor": "rgb(232,232,232)",
            "linecolor": "rgb(36,36,36)",
            "showgrid": false,
            "showline": true,
            "ticks": "outside"
           }
          },
          "scene": {
           "xaxis": {
            "backgroundcolor": "white",
            "gridcolor": "rgb(232,232,232)",
            "gridwidth": 2,
            "linecolor": "rgb(36,36,36)",
            "showbackground": true,
            "showgrid": false,
            "showline": true,
            "ticks": "outside",
            "zeroline": false,
            "zerolinecolor": "rgb(36,36,36)"
           },
           "yaxis": {
            "backgroundcolor": "white",
            "gridcolor": "rgb(232,232,232)",
            "gridwidth": 2,
            "linecolor": "rgb(36,36,36)",
            "showbackground": true,
            "showgrid": false,
            "showline": true,
            "ticks": "outside",
            "zeroline": false,
            "zerolinecolor": "rgb(36,36,36)"
           },
           "zaxis": {
            "backgroundcolor": "white",
            "gridcolor": "rgb(232,232,232)",
            "gridwidth": 2,
            "linecolor": "rgb(36,36,36)",
            "showbackground": true,
            "showgrid": false,
            "showline": true,
            "ticks": "outside",
            "zeroline": false,
            "zerolinecolor": "rgb(36,36,36)"
           }
          },
          "shapedefaults": {
           "fillcolor": "black",
           "line": {
            "color": "#2a3f5f",
            "width": 0
           },
           "opacity": 0.3
          },
          "ternary": {
           "aaxis": {
            "gridcolor": "rgb(232,232,232)",
            "linecolor": "rgb(36,36,36)",
            "showgrid": false,
            "showline": true,
            "ticks": "outside"
           },
           "baxis": {
            "gridcolor": "rgb(232,232,232)",
            "linecolor": "rgb(36,36,36)",
            "showgrid": false,
            "showline": true,
            "ticks": "outside"
           },
           "bgcolor": "white",
           "caxis": {
            "gridcolor": "rgb(232,232,232)",
            "linecolor": "rgb(36,36,36)",
            "showgrid": false,
            "showline": true,
            "ticks": "outside"
           }
          },
          "title": {
           "x": 0.05
          },
          "xaxis": {
           "automargin": true,
           "gridcolor": "rgb(232,232,232)",
           "linecolor": "rgb(36,36,36)",
           "showgrid": false,
           "showline": true,
           "ticks": "outside",
           "title": {
            "standoff": 15
           },
           "zeroline": false,
           "zerolinecolor": "rgb(36,36,36)",
           "zerolinewidth": 2
          },
          "yaxis": {
           "automargin": true,
           "gridcolor": "rgb(232,232,232)",
           "linecolor": "rgb(36,36,36)",
           "showgrid": false,
           "showline": true,
           "ticks": "outside",
           "title": {
            "standoff": 15
           },
           "zeroline": false,
           "zerolinecolor": "rgb(36,36,36)",
           "zerolinewidth": 2
          }
         }
        },
        "width": 600,
        "xaxis": {
         "anchor": "y",
         "domain": [
          0,
          1
         ],
         "range": [
          -0.01,
          1.01
         ],
         "showgrid": false,
         "title": {
          "text": "Trait mean"
         },
         "type": "linear"
        },
        "xaxis2": {
         "anchor": "y2",
         "autorange": true,
         "domain": [
          0,
          1
         ],
         "range": [
          -2.8846153846153846,
          47.88461538461539
         ],
         "showgrid": false,
         "title": {
          "text": "Number of applications"
         },
         "type": "linear"
        },
        "xaxis3": {
         "anchor": "y3",
         "autorange": true,
         "domain": [
          0,
          1
         ],
         "range": [
          -0.0016091015101585542,
          0.027697150180360192
         ],
         "showgrid": false,
         "title": {
          "text": "Trait variance"
         },
         "type": "linear"
        },
        "yaxis": {
         "anchor": "x",
         "autorange": true,
         "domain": [
          0.7666666666666666,
          0.9999999999999999
         ],
         "range": [
          -0.8842229608907755,
          13.90892898610692
         ],
         "showgrid": false,
         "title": {
          "text": "Disease severity"
         },
         "type": "linear"
        },
        "yaxis2": {
         "anchor": "x2",
         "autorange": true,
         "domain": [
          0.3833333333333333,
          0.6166666666666666
         ],
         "range": [
          -2.799505054913026,
          0.0918997793271072
         ],
         "showgrid": false,
         "title": {
          "text": "Trait mean"
         },
         "type": "log"
        },
        "yaxis3": {
         "anchor": "x3",
         "autorange": true,
         "domain": [
          0,
          0.2333333333333333
         ],
         "range": [
          -0.010125342174797958,
          0.14441391178976964
         ],
         "showgrid": false,
         "title": {
          "text": "Change in trait mean"
         },
         "type": "linear"
        }
       }
      },
      "image/png": "[encoded data removed]",
      "text/html": [
       "<div>                            <div id=\"49f9be70-17d4-401b-9ff5-101f51114327\" class=\"plotly-graph-div\" style=\"height:800px; width:600px;\"></div>            <script type=\"text/javascript\">                require([\"plotly\"], function(Plotly) {                    window.PLOTLYENV=window.PLOTLYENV || {};                                    if (document.getElementById(\"49f9be70-17d4-401b-9ff5-101f51114327\")) {                    Plotly.newPlot(                        \"49f9be70-17d4-401b-9ff5-101f51114327\",                        [{\"line\":{\"color\":\"red\",\"dash\":\"dot\"},\"marker\":{\"color\":\"red\",\"size\":4},\"mode\":\"lines+markers\",\"name\":\"Dose=0.5, spray=1\",\"type\":\"scatter\",\"x\":[0.0025528415617962,0.0034660175273245,0.0050417328014932,0.0077900460571671,0.0125462988967751,0.0205019664360723,0.0329607391936903,0.0506894590890267,0.0732544091339021,0.0991249294592803,0.126551839879002,0.1542904824741822,0.1816876095157275,0.2084443320273066,0.2344086533688993,0.2594814858162794],\"xaxis\":\"x\",\"y\":[null,5.301001248542548,5.401781130615552,5.553837312172378,5.785162082942351,6.132031535364137,6.6321797058866485,7.30435321828071,8.119972229712413,9.000344358467881,9.85445743772416,10.624226227543746,11.294773124127133,11.876466116323645,12.386151381489546,12.838396516569713],\"yaxis\":\"y\"},{\"line\":{\"color\":\"red\",\"dash\":\"dot\"},\"marker\":{\"color\":\"red\",\"size\":4},\"mode\":\"lines+markers\",\"name\":\"Dose=0.5, spray=1\",\"opacity\":0.5,\"showlegend\":false,\"type\":\"scatter\",\"x\":[0,1,2,3,4,5,6,7,8,9,10,11,12,13,14,15],\"xaxis\":\"x2\",\"y\":[0.0025528415617962,0.0034660175273245,0.0050417328014932,0.0077900460571671,0.0125462988967751,0.0205019664360723,0.0329607391936903,0.0506894590890267,0.0732544091339021,0.0991249294592803,0.126551839879002,0.1542904824741822,0.1816876095157275,0.2084443320273066,0.2344086533688993,0.2594814858162794],\"yaxis\":\"y2\"},{\"line\":{\"color\":\"red\",\"dash\":\"dot\"},\"marker\":{\"color\":\"red\",\"size\":4},\"mode\":\"lines+markers\",\"name\":\"Dose=0.5, spray=1\",\"opacity\":0.5,\"showlegend\":false,\"type\":\"scatter\",\"x\":[5.602642680273808e-05,0.00011137622113,0.0002256978221202,0.0004596061631072,0.0009213331951447,0.0017696136173793,0.0031599952799009,0.0051181146190217,0.0074520153721119,0.0098519391088577,0.0120785396747113,0.0140266678284127,0.0156726012565764,0.0170202367697659,0.0180822845403129,0.0188783672666426],\"xaxis\":\"x3\",\"y\":[0.0009131759655283001,0.0015757152741687,0.0027483132556739,0.004756252839607999,0.0079556675392972,0.012458772757618003,0.0177287198953364,0.022564950044875402,0.02587052032537819,0.027426910419721715,0.02773864259518019,0.02739712704154529,0.026756722511579123,0.025964321341592683,0.025072832447380095,null],\"yaxis\":\"y3\"},{\"line\":{\"color\":\"red\",\"dash\":\"solid\"},\"marker\":{\"color\":\"red\",\"size\":4},\"mode\":\"lines+markers\",\"name\":\"Dose=1.0, spray=1\",\"type\":\"scatter\",\"x\":[0.0025528415617962,0.0036129037698943,0.0056378268584248,0.0096378860698734,0.0175956350696722,0.0328251344288756,0.0591665228700442,0.0980323358326432,0.1460581562094336,0.1974744870316197,0.2479703265748002,0.2955072660576237,0.3393645816465951,0.3793978277194688,0.4157306440880447,0.4486224522706771],\"xaxis\":\"x\",\"y\":[null,3.0122769997299703,3.08604061507762,3.2079457953003447,3.4143537935240977,3.764895014593614,4.337549504550732,5.183276826134556,6.251736118086529,7.390657992787421,8.460482056189925,9.406481235638154,10.230860132001617,10.951087110358069,11.583685696562968,12.142235006562627],\"yaxis\":\"y\"},{\"line\":{\"color\":\"red\",\"dash\":\"solid\"},\"marker\":{\"color\":\"red\",\"size\":4},\"mode\":\"lines+markers\",\"name\":\"Dose=1.0, spray=1\",\"opacity\":0.5,\"showlegend\":false,\"type\":\"scatter\",\"x\":[0,1,2,3,4,5,6,7,8,9,10,11,12,13,14,15],\"xaxis\":\"x2\",\"y\":[0.0025528415617962,0.0036129037698943,0.0056378268584248,0.0096378860698734,0.0175956350696722,0.0328251344288756,0.0591665228700442,0.0980323358326432,0.1460581562094336,0.1974744870316197,0.2479703265748002,0.2955072660576237,0.3393645816465951,0.3793978277194688,0.4157306440880447,0.4486224522706771],\"yaxis\":\"y2\"},{\"line\":{\"color\":\"red\",\"dash\":\"solid\"},\"marker\":{\"color\":\"red\",\"size\":4},\"mode\":\"lines+markers\",\"name\":\"Dose=1.0, spray=1\",\"opacity\":0.5,\"showlegend\":false,\"type\":\"scatter\",\"x\":[5.602642680273808e-05,0.0001249968926454,0.0002921369185629,0.0007016508086559,0.0016733984440415,0.0037586441166607,0.0074547645361399,0.0124338117875383,0.0173862377857364,0.0211678451757487,0.0234885747812606,0.024555894185856,0.0246875906216106,0.0241799067941358,0.0232739108840828,0.0221479604462924],\"xaxis\":\"x3\",\"y\":[0.0010600622080981,0.0020249230885305003,0.0040000592114486,0.0079577489997988,0.0152294993592034,0.026341388441168602,0.038865812962599,0.0480258203767904,0.05141633082218611,0.05049583954318049,0.047536939482823476,0.043857315588971435,0.040033246072873674,0.03633281636857594,0.032891808182632376,null],\"yaxis\":\"y3\"},{\"line\":{\"color\":\"blue\",\"dash\":\"dot\"},\"marker\":{\"color\":\"blue\",\"size\":4},\"mode\":\"lines+markers\",\"name\":\"Dose=0.5, spray=2\",\"type\":\"scatter\",\"x\":[0.0025528415617962,0.0047362968072172,0.0108858159635539,0.0273027562045192,0.0618079570783812,0.1121263617042898,0.1670673938152602,0.2202217690907434,0.26992419634806,0.3156949397275322,0.3574168008871656,0.3952310373999789,0.4294312761186631,0.4603708419835927,0.4884058841155465,0.5138696111213924],\"xaxis\":\"x\",\"y\":[null,1.420547919843072,1.56129441027062,1.8881749787469693,2.607751509586072,3.855778981101466,5.36075973286084,6.745343922007889,7.922507962301603,8.931229021933259,9.805996559014623,10.5691650514804,11.23799318387749,11.826874725249931,12.348264381939764,12.81240655868254],\"yaxis\":\"y\"},{\"line\":{\"color\":\"blue\",\"dash\":\"dot\"},\"marker\":{\"color\":\"blue\",\"size\":4},\"mode\":\"lines+markers\",\"name\":\"Dose=0.5, spray=2\",\"opacity\":0.5,\"showlegend\":false,\"type\":\"scatter\",\"x\":[0,2,4,6,8,10,12,14,16,18,20,22,24,26,28,30],\"xaxis\":\"x2\",\"y\":[0.0025528415617962,0.0047362968072172,0.0108858159635539,0.0273027562045192,0.0618079570783812,0.1121263617042898,0.1670673938152602,0.2202217690907434,0.26992419634806,0.3156949397275322,0.3574168008871656,0.3952310373999789,0.4294312761186631,0.4603708419835927,0.4884058841155465,0.5138696111213924],\"yaxis\":\"y2\"},{\"line\":{\"color\":\"blue\",\"dash\":\"dot\"},\"marker\":{\"color\":\"blue\",\"size\":4},\"mode\":\"lines+markers\",\"name\":\"Dose=0.5, spray=2\",\"opacity\":0.5,\"showlegend\":false,\"type\":\"scatter\",\"x\":[5.602642680273808e-05,0.0002043916160464,0.0007704593992068,0.0025987884813871,0.0065083888552525,0.0113176798785824,0.015258446525009,0.0179514258543953,0.0195359668362613,0.0202294086422674,0.0202743611677625,0.0198866770354675,0.0192310268606874,0.018423047805147,0.0175403555106815,0.0166334839590933],\"xaxis\":\"x3\",\"y\":[0.0021834552454210003,0.0061495191563367,0.0164169402409653,0.034505200873861996,0.0503184046259086,0.0549410321109704,0.053154375275483196,0.04970242725731658,0.045770743379472234,0.04172186115963339,0.03781423651281329,0.03420023871868422,0.030939565864929575,0.02803504213195379,0.025463727005845926,null],\"yaxis\":\"y3\"},{\"line\":{\"color\":\"blue\",\"dash\":\"solid\"},\"marker\":{\"color\":\"blue\",\"size\":4},\"mode\":\"lines+markers\",\"name\":\"Dose=1.0, spray=2\",\"type\":\"scatter\",\"x\":[0.0025528415617962,0.0049561810957638,0.013027527113141,0.0406476934651737,0.1109316054449387,0.2132508187448396,0.3112520238308661,0.393075960997986,0.4597885732425367,0.5142802472552882,0.5592420191210195,0.5968112178832714,0.628599091130478,0.6558099098235158,0.6793471257741475,0.6998971482160672],\"xaxis\":\"x\",\"y\":[null,0.5220862115624,0.5809488403459195,0.748788906418463,1.2518148783624683,2.4242413470887167,4.061971255033142,5.644128763339382,7.020638086905913,8.19886503516659,9.20571993125511,10.069890830271056,10.81689972842163,11.467103456063326,12.037448963750732,12.541264732654865],\"yaxis\":\"y\"},{\"line\":{\"color\":\"blue\",\"dash\":\"solid\"},\"marker\":{\"color\":\"blue\",\"size\":4},\"mode\":\"lines+markers\",\"name\":\"Dose=1.0, spray=2\",\"opacity\":0.5,\"showlegend\":false,\"type\":\"scatter\",\"x\":[0,2,4,6,8,10,12,14,16,18,20,22,24,26,28,30],\"xaxis\":\"x2\",\"y\":[0.0025528415617962,0.0049561810957638,0.013027527113141,0.0406476934651737,0.1109316054449387,0.2132508187448396,0.3112520238308661,0.393075960997986,0.4597885732425367,0.5142802472552882,0.5592420191210195,0.5968112178832714,0.628599091130478,0.6558099098235158,0.6793471257741475,0.6998971482160672],\"yaxis\":\"y2\"},{\"line\":{\"color\":\"blue\",\"dash\":\"solid\"},\"marker\":{\"color\":\"blue\",\"size\":4},\"mode\":\"lines+markers\",\"name\":\"Dose=1.0, spray=2\",\"opacity\":0.5,\"showlegend\":false,\"type\":\"scatter\",\"x\":[5.602642680273808e-05,0.0002382128426585,0.0011566007233032,0.0052160128035081,0.0150219686665859,0.0236154691455264,0.0260320222433989,0.0248853013045445,0.022448064166565,0.0197939604448725,0.0173352575087616,0.0151873496642572,0.0133524812730391,0.0117961914208542,0.0104764739191537,0.0093539050214839],\"xaxis\":\"x3\",\"y\":[0.0024033395339676,0.0080713460173772,0.027620166352032696,0.070283911979765,0.10231921329990089,0.0980012050860265,0.08182393716711989,0.06671261224455072,0.05449167401275151,0.04496177186573125,0.037569198762251954,0.031787873247206555,0.027210818693037875,0.02353721595063163,0.020550022441919724,null],\"yaxis\":\"y3\"},{\"line\":{\"color\":\"black\",\"dash\":\"dot\"},\"marker\":{\"color\":\"black\",\"size\":4},\"mode\":\"lines+markers\",\"name\":\"Dose=0.5, spray=3\",\"type\":\"scatter\",\"x\":[0.0025528415617962,0.0059391517557381,0.018778415796023,0.0571491077358744,0.1229140931432016,0.1942855967147658,0.2608797402978793,0.3208761038821864,0.3739913935038703,0.4206390523146909,0.4615555948692752,0.4975317839619085,0.5292967744861746,0.5574808512371909,0.582614780689946,0.6051410717144988],\"xaxis\":\"x\",\"y\":[null,0.6176822894320777,0.7560764727421989,1.1911395835125598,2.2870813767332314,3.89770109567842,5.446843857670967,6.793757509891973,7.963027954771379,8.976326968774098,9.854455511336102,10.618078460640824,11.285288838656884,11.871828362146228,12.390653216949602,12.852275275607084],\"yaxis\":\"y\"},{\"line\":{\"color\":\"black\",\"dash\":\"dot\"},\"marker\":{\"color\":\"black\",\"size\":4},\"mode\":\"lines+markers\",\"name\":\"Dose=0.5, spray=3\",\"opacity\":0.5,\"showlegend\":false,\"type\":\"scatter\",\"x\":[0,3,6,9,12,15,18,21,24,27,30,33,36,39,42,45],\"xaxis\":\"x2\",\"y\":[0.0025528415617962,0.0059391517557381,0.018778415796023,0.0571491077358744,0.1229140931432016,0.1942855967147658,0.2608797402978793,0.3208761038821864,0.3739913935038703,0.4206390523146909,0.4615555948692752,0.4975317839619085,0.5292967744861746,0.5574808512371909,0.582614780689946,0.6051410717144988],\"yaxis\":\"y2\"},{\"line\":{\"color\":\"black\",\"dash\":\"dot\"},\"marker\":{\"color\":\"black\",\"size\":4},\"mode\":\"lines+markers\",\"name\":\"Dose=0.5, spray=3\",\"opacity\":0.5,\"showlegend\":false,\"type\":\"scatter\",\"x\":[5.602642680273808e-05,0.0003031075736083,0.0016278920384213,0.0060264657937243,0.012237430713848,0.0168143529603833,0.0193549477906405,0.0203013602044299,0.020184424902624,0.0194540298065367,0.018413900033078,0.017248045443448,0.0160616152471544,0.0149116925693041,0.0138270341094694,0.0128200412068585],\"xaxis\":\"x3\",\"y\":[0.0033863101939419,0.0128392640402849,0.038370691939851403,0.0657649854073272,0.0713715035715642,0.0665941435831135,0.0599963635843071,0.05311528962168388,0.046647658810820614,0.04091654255458432,0.03597618909263328,0.03176499052426612,0.028184076751016307,0.025133929452755055,0.022526291024552836,null],\"yaxis\":\"y3\"},{\"line\":{\"color\":\"black\",\"dash\":\"solid\"},\"marker\":{\"color\":\"black\",\"size\":4},\"mode\":\"lines+markers\",\"name\":\"Dose=1.0, spray=3\",\"type\":\"scatter\",\"x\":[0.0025528415617962,0.0062734967675709,0.0245210378100955,0.0984600623291659,0.2318354559786093,0.353800624347475,0.4478133183230084,0.5197806577868498,0.575828954462743,0.620442512083057,0.6566961069428516,0.686695032424721,0.7119096008825541,0.7333892444858823,0.7519011669381633,0.7680170519585056],\"xaxis\":\"x\",\"y\":[null,0.1724307496090603,0.2166202118408053,0.4155531905817664,1.2269802399333456,2.826062272934021,4.524419032282011,6.045723440808179,7.359592828160844,8.483120835724462,9.44504499105894,10.273389545249715,10.991439534393471,11.6186468098263,12.1702217567376,12.658785376753384],\"yaxis\":\"y\"},{\"line\":{\"color\":\"black\",\"dash\":\"solid\"},\"marker\":{\"color\":\"black\",\"size\":4},\"mode\":\"lines+markers\",\"name\":\"Dose=1.0, spray=3\",\"opacity\":0.5,\"showlegend\":false,\"type\":\"scatter\",\"x\":[0,3,6,9,12,15,18,21,24,27,30,33,36,39,42,45],\"xaxis\":\"x2\",\"y\":[0.0025528415617962,0.0062734967675709,0.0245210378100955,0.0984600623291659,0.2318354559786093,0.353800624347475,0.4478133183230084,0.5197806577868498,0.575828954462743,0.620442512083057,0.6566961069428516,0.686695032424721,0.7119096008825541,0.7333892444858823,0.7519011669381633,0.7680170519585056],\"yaxis\":\"y2\"},{\"line\":{\"color\":\"black\",\"dash\":\"solid\"},\"marker\":{\"color\":\"black\",\"size\":4},\"mode\":\"lines+markers\",\"name\":\"Dose=1.0, spray=3\",\"opacity\":0.5,\"showlegend\":false,\"type\":\"scatter\",\"x\":[5.602642680273808e-05,0.0003674307594187,0.002815003689843,0.0137054848994569,0.0247386052841664,0.0258878060228452,0.0230488814691375,0.0195588733260052,0.0164317111403591,0.0138507820979955,0.0117670966682891,0.0100877919905508,0.0087264425165462,0.0076132835419242,0.0066944090335284,0.0059287505742914],\"xaxis\":\"x3\",\"y\":[0.0037206552057747,0.0182475410425246,0.0739390245190704,0.1333753936494434,0.1219651683688657,0.09401269397553341,0.07196733946384137,0.05604829667589317,0.04461355762031405,0.036253594859794624,0.029998925481869332,0.025214568457833098,0.021479643603328213,0.01851192245228106,0.016115885020342224,null],\"yaxis\":\"y3\"}],                        {\"annotations\":[{\"font\":{\"color\":\"rgb(110,110,110)\",\"size\":20},\"showarrow\":false,\"text\":\"A\",\"x\":0,\"xanchor\":\"center\",\"xref\":\"paper\",\"y\":1.05,\"yanchor\":\"top\",\"yref\":\"paper\"},{\"font\":{\"color\":\"rgb(110,110,110)\",\"size\":20},\"showarrow\":false,\"text\":\"B\",\"x\":0,\"xanchor\":\"center\",\"xref\":\"paper\",\"y\":0.67,\"yanchor\":\"top\",\"yref\":\"paper\"},{\"font\":{\"color\":\"rgb(110,110,110)\",\"size\":20},\"showarrow\":false,\"text\":\"C\",\"x\":0,\"xanchor\":\"center\",\"xref\":\"paper\",\"y\":0.29000000000000004,\"yanchor\":\"top\",\"yref\":\"paper\"}],\"font\":{\"size\":14},\"height\":800,\"legend\":{\"font\":{\"size\":12},\"orientation\":\"h\",\"x\":0,\"y\":1.18},\"showlegend\":true,\"template\":{\"data\":{\"bar\":[{\"error_x\":{\"color\":\"rgb(36,36,36)\"},\"error_y\":{\"color\":\"rgb(36,36,36)\"},\"marker\":{\"line\":{\"color\":\"white\",\"width\":0.5},\"pattern\":{\"fillmode\":\"overlay\",\"size\":10,\"solidity\":0.2}},\"type\":\"bar\"}],\"barpolar\":[{\"marker\":{\"line\":{\"color\":\"white\",\"width\":0.5},\"pattern\":{\"fillmode\":\"overlay\",\"size\":10,\"solidity\":0.2}},\"type\":\"barpolar\"}],\"carpet\":[{\"aaxis\":{\"endlinecolor\":\"rgb(36,36,36)\",\"gridcolor\":\"white\",\"linecolor\":\"white\",\"minorgridcolor\":\"white\",\"startlinecolor\":\"rgb(36,36,36)\"},\"baxis\":{\"endlinecolor\":\"rgb(36,36,36)\",\"gridcolor\":\"white\",\"linecolor\":\"white\",\"minorgridcolor\":\"white\",\"startlinecolor\":\"rgb(36,36,36)\"},\"type\":\"carpet\"}],\"choropleth\":[{\"colorbar\":{\"outlinewidth\":1,\"tickcolor\":\"rgb(36,36,36)\",\"ticks\":\"outside\"},\"type\":\"choropleth\"}],\"contour\":[{\"colorbar\":{\"outlinewidth\":1,\"tickcolor\":\"rgb(36,36,36)\",\"ticks\":\"outside\"},\"colorscale\":[[0.0,\"#440154\"],[0.1111111111111111,\"#482878\"],[0.2222222222222222,\"#3e4989\"],[0.3333333333333333,\"#31688e\"],[0.4444444444444444,\"#26828e\"],[0.5555555555555556,\"#1f9e89\"],[0.6666666666666666,\"#35b779\"],[0.7777777777777778,\"#6ece58\"],[0.8888888888888888,\"#b5de2b\"],[1.0,\"#fde725\"]],\"type\":\"contour\"}],\"contourcarpet\":[{\"colorbar\":{\"outlinewidth\":1,\"tickcolor\":\"rgb(36,36,36)\",\"ticks\":\"outside\"},\"type\":\"contourcarpet\"}],\"heatmap\":[{\"colorbar\":{\"outlinewidth\":1,\"tickcolor\":\"rgb(36,36,36)\",\"ticks\":\"outside\"},\"colorscale\":[[0.0,\"#440154\"],[0.1111111111111111,\"#482878\"],[0.2222222222222222,\"#3e4989\"],[0.3333333333333333,\"#31688e\"],[0.4444444444444444,\"#26828e\"],[0.5555555555555556,\"#1f9e89\"],[0.6666666666666666,\"#35b779\"],[0.7777777777777778,\"#6ece58\"],[0.8888888888888888,\"#b5de2b\"],[1.0,\"#fde725\"]],\"type\":\"heatmap\"}],\"heatmapgl\":[{\"colorbar\":{\"outlinewidth\":1,\"tickcolor\":\"rgb(36,36,36)\",\"ticks\":\"outside\"},\"colorscale\":[[0.0,\"#440154\"],[0.1111111111111111,\"#482878\"],[0.2222222222222222,\"#3e4989\"],[0.3333333333333333,\"#31688e\"],[0.4444444444444444,\"#26828e\"],[0.5555555555555556,\"#1f9e89\"],[0.6666666666666666,\"#35b779\"],[0.7777777777777778,\"#6ece58\"],[0.8888888888888888,\"#b5de2b\"],[1.0,\"#fde725\"]],\"type\":\"heatmapgl\"}],\"histogram\":[{\"marker\":{\"line\":{\"color\":\"white\",\"width\":0.6},\"pattern\":{\"fillmode\":\"overlay\",\"size\":10,\"solidity\":0.2}},\"type\":\"histogram\"}],\"histogram2d\":[{\"colorbar\":{\"outlinewidth\":1,\"tickcolor\":\"rgb(36,36,36)\",\"ticks\":\"outside\"},\"colorscale\":[[0.0,\"#440154\"],[0.1111111111111111,\"#482878\"],[0.2222222222222222,\"#3e4989\"],[0.3333333333333333,\"#31688e\"],[0.4444444444444444,\"#26828e\"],[0.5555555555555556,\"#1f9e89\"],[0.6666666666666666,\"#35b779\"],[0.7777777777777778,\"#6ece58\"],[0.8888888888888888,\"#b5de2b\"],[1.0,\"#fde725\"]],\"type\":\"histogram2d\"}],\"histogram2dcontour\":[{\"colorbar\":{\"outlinewidth\":1,\"tickcolor\":\"rgb(36,36,36)\",\"ticks\":\"outside\"},\"colorscale\":[[0.0,\"#440154\"],[0.1111111111111111,\"#482878\"],[0.2222222222222222,\"#3e4989\"],[0.3333333333333333,\"#31688e\"],[0.4444444444444444,\"#26828e\"],[0.5555555555555556,\"#1f9e89\"],[0.6666666666666666,\"#35b779\"],[0.7777777777777778,\"#6ece58\"],[0.8888888888888888,\"#b5de2b\"],[1.0,\"#fde725\"]],\"type\":\"histogram2dcontour\"}],\"mesh3d\":[{\"colorbar\":{\"outlinewidth\":1,\"tickcolor\":\"rgb(36,36,36)\",\"ticks\":\"outside\"},\"type\":\"mesh3d\"}],\"parcoords\":[{\"line\":{\"colorbar\":{\"outlinewidth\":1,\"tickcolor\":\"rgb(36,36,36)\",\"ticks\":\"outside\"}},\"type\":\"parcoords\"}],\"pie\":[{\"automargin\":true,\"type\":\"pie\"}],\"scatter\":[{\"marker\":{\"colorbar\":{\"outlinewidth\":1,\"tickcolor\":\"rgb(36,36,36)\",\"ticks\":\"outside\"}},\"type\":\"scatter\"}],\"scatter3d\":[{\"line\":{\"colorbar\":{\"outlinewidth\":1,\"tickcolor\":\"rgb(36,36,36)\",\"ticks\":\"outside\"}},\"marker\":{\"colorbar\":{\"outlinewidth\":1,\"tickcolor\":\"rgb(36,36,36)\",\"ticks\":\"outside\"}},\"type\":\"scatter3d\"}],\"scattercarpet\":[{\"marker\":{\"colorbar\":{\"outlinewidth\":1,\"tickcolor\":\"rgb(36,36,36)\",\"ticks\":\"outside\"}},\"type\":\"scattercarpet\"}],\"scattergeo\":[{\"marker\":{\"colorbar\":{\"outlinewidth\":1,\"tickcolor\":\"rgb(36,36,36)\",\"ticks\":\"outside\"}},\"type\":\"scattergeo\"}],\"scattergl\":[{\"marker\":{\"colorbar\":{\"outlinewidth\":1,\"tickcolor\":\"rgb(36,36,36)\",\"ticks\":\"outside\"}},\"type\":\"scattergl\"}],\"scattermapbox\":[{\"marker\":{\"colorbar\":{\"outlinewidth\":1,\"tickcolor\":\"rgb(36,36,36)\",\"ticks\":\"outside\"}},\"type\":\"scattermapbox\"}],\"scatterpolar\":[{\"marker\":{\"colorbar\":{\"outlinewidth\":1,\"tickcolor\":\"rgb(36,36,36)\",\"ticks\":\"outside\"}},\"type\":\"scatterpolar\"}],\"scatterpolargl\":[{\"marker\":{\"colorbar\":{\"outlinewidth\":1,\"tickcolor\":\"rgb(36,36,36)\",\"ticks\":\"outside\"}},\"type\":\"scatterpolargl\"}],\"scatterternary\":[{\"marker\":{\"colorbar\":{\"outlinewidth\":1,\"tickcolor\":\"rgb(36,36,36)\",\"ticks\":\"outside\"}},\"type\":\"scatterternary\"}],\"surface\":[{\"colorbar\":{\"outlinewidth\":1,\"tickcolor\":\"rgb(36,36,36)\",\"ticks\":\"outside\"},\"colorscale\":[[0.0,\"#440154\"],[0.1111111111111111,\"#482878\"],[0.2222222222222222,\"#3e4989\"],[0.3333333333333333,\"#31688e\"],[0.4444444444444444,\"#26828e\"],[0.5555555555555556,\"#1f9e89\"],[0.6666666666666666,\"#35b779\"],[0.7777777777777778,\"#6ece58\"],[0.8888888888888888,\"#b5de2b\"],[1.0,\"#fde725\"]],\"type\":\"surface\"}],\"table\":[{\"cells\":{\"fill\":{\"color\":\"rgb(237,237,237)\"},\"line\":{\"color\":\"white\"}},\"header\":{\"fill\":{\"color\":\"rgb(217,217,217)\"},\"line\":{\"color\":\"white\"}},\"type\":\"table\"}]},\"layout\":{\"annotationdefaults\":{\"arrowcolor\":\"#2a3f5f\",\"arrowhead\":0,\"arrowwidth\":1},\"autotypenumbers\":\"strict\",\"coloraxis\":{\"colorbar\":{\"outlinewidth\":1,\"tickcolor\":\"rgb(36,36,36)\",\"ticks\":\"outside\"}},\"colorscale\":{\"diverging\":[[0.0,\"rgb(103,0,31)\"],[0.1,\"rgb(178,24,43)\"],[0.2,\"rgb(214,96,77)\"],[0.3,\"rgb(244,165,130)\"],[0.4,\"rgb(253,219,199)\"],[0.5,\"rgb(247,247,247)\"],[0.6,\"rgb(209,229,240)\"],[0.7,\"rgb(146,197,222)\"],[0.8,\"rgb(67,147,195)\"],[0.9,\"rgb(33,102,172)\"],[1.0,\"rgb(5,48,97)\"]],\"sequential\":[[0.0,\"#440154\"],[0.1111111111111111,\"#482878\"],[0.2222222222222222,\"#3e4989\"],[0.3333333333333333,\"#31688e\"],[0.4444444444444444,\"#26828e\"],[0.5555555555555556,\"#1f9e89\"],[0.6666666666666666,\"#35b779\"],[0.7777777777777778,\"#6ece58\"],[0.8888888888888888,\"#b5de2b\"],[1.0,\"#fde725\"]],\"sequentialminus\":[[0.0,\"#440154\"],[0.1111111111111111,\"#482878\"],[0.2222222222222222,\"#3e4989\"],[0.3333333333333333,\"#31688e\"],[0.4444444444444444,\"#26828e\"],[0.5555555555555556,\"#1f9e89\"],[0.6666666666666666,\"#35b779\"],[0.7777777777777778,\"#6ece58\"],[0.8888888888888888,\"#b5de2b\"],[1.0,\"#fde725\"]]},\"colorway\":[\"#1F77B4\",\"#FF7F0E\",\"#2CA02C\",\"#D62728\",\"#9467BD\",\"#8C564B\",\"#E377C2\",\"#7F7F7F\",\"#BCBD22\",\"#17BECF\"],\"font\":{\"color\":\"rgb(36,36,36)\"},\"geo\":{\"bgcolor\":\"white\",\"lakecolor\":\"white\",\"landcolor\":\"white\",\"showlakes\":true,\"showland\":true,\"subunitcolor\":\"white\"},\"hoverlabel\":{\"align\":\"left\"},\"hovermode\":\"closest\",\"mapbox\":{\"style\":\"light\"},\"paper_bgcolor\":\"white\",\"plot_bgcolor\":\"white\",\"polar\":{\"angularaxis\":{\"gridcolor\":\"rgb(232,232,232)\",\"linecolor\":\"rgb(36,36,36)\",\"showgrid\":false,\"showline\":true,\"ticks\":\"outside\"},\"bgcolor\":\"white\",\"radialaxis\":{\"gridcolor\":\"rgb(232,232,232)\",\"linecolor\":\"rgb(36,36,36)\",\"showgrid\":false,\"showline\":true,\"ticks\":\"outside\"}},\"scene\":{\"xaxis\":{\"backgroundcolor\":\"white\",\"gridcolor\":\"rgb(232,232,232)\",\"gridwidth\":2,\"linecolor\":\"rgb(36,36,36)\",\"showbackground\":true,\"showgrid\":false,\"showline\":true,\"ticks\":\"outside\",\"zeroline\":false,\"zerolinecolor\":\"rgb(36,36,36)\"},\"yaxis\":{\"backgroundcolor\":\"white\",\"gridcolor\":\"rgb(232,232,232)\",\"gridwidth\":2,\"linecolor\":\"rgb(36,36,36)\",\"showbackground\":true,\"showgrid\":false,\"showline\":true,\"ticks\":\"outside\",\"zeroline\":false,\"zerolinecolor\":\"rgb(36,36,36)\"},\"zaxis\":{\"backgroundcolor\":\"white\",\"gridcolor\":\"rgb(232,232,232)\",\"gridwidth\":2,\"linecolor\":\"rgb(36,36,36)\",\"showbackground\":true,\"showgrid\":false,\"showline\":true,\"ticks\":\"outside\",\"zeroline\":false,\"zerolinecolor\":\"rgb(36,36,36)\"}},\"shapedefaults\":{\"fillcolor\":\"black\",\"line\":{\"color\":\"#2a3f5f\",\"width\":0},\"opacity\":0.3},\"ternary\":{\"aaxis\":{\"gridcolor\":\"rgb(232,232,232)\",\"linecolor\":\"rgb(36,36,36)\",\"showgrid\":false,\"showline\":true,\"ticks\":\"outside\"},\"baxis\":{\"gridcolor\":\"rgb(232,232,232)\",\"linecolor\":\"rgb(36,36,36)\",\"showgrid\":false,\"showline\":true,\"ticks\":\"outside\"},\"bgcolor\":\"white\",\"caxis\":{\"gridcolor\":\"rgb(232,232,232)\",\"linecolor\":\"rgb(36,36,36)\",\"showgrid\":false,\"showline\":true,\"ticks\":\"outside\"}},\"title\":{\"x\":0.05},\"xaxis\":{\"automargin\":true,\"gridcolor\":\"rgb(232,232,232)\",\"linecolor\":\"rgb(36,36,36)\",\"showgrid\":false,\"showline\":true,\"ticks\":\"outside\",\"title\":{\"standoff\":15},\"zeroline\":false,\"zerolinecolor\":\"rgb(36,36,36)\",\"zerolinewidth\":2},\"yaxis\":{\"automargin\":true,\"gridcolor\":\"rgb(232,232,232)\",\"linecolor\":\"rgb(36,36,36)\",\"showgrid\":false,\"showline\":true,\"ticks\":\"outside\",\"title\":{\"standoff\":15},\"zeroline\":false,\"zerolinecolor\":\"rgb(36,36,36)\",\"zerolinewidth\":2}}},\"width\":600,\"xaxis\":{\"anchor\":\"y\",\"domain\":[0.0,1.0],\"range\":[-0.01,1.01],\"showgrid\":false,\"title\":{\"text\":\"Trait mean\"}},\"xaxis2\":{\"anchor\":\"y2\",\"domain\":[0.0,1.0],\"showgrid\":false,\"title\":{\"text\":\"Number of applications\"}},\"xaxis3\":{\"anchor\":\"y3\",\"domain\":[0.0,1.0],\"showgrid\":false,\"title\":{\"text\":\"Trait variance\"}},\"yaxis\":{\"anchor\":\"x\",\"domain\":[0.7666666666666666,0.9999999999999999],\"showgrid\":false,\"title\":{\"text\":\"Disease severity\"}},\"yaxis2\":{\"anchor\":\"x2\",\"domain\":[0.3833333333333333,0.6166666666666666],\"showgrid\":false,\"title\":{\"text\":\"Trait mean\"},\"type\":\"log\"},\"yaxis3\":{\"anchor\":\"x3\",\"domain\":[0.0,0.2333333333333333],\"showgrid\":false,\"title\":{\"text\":\"Change in trait mean\"}}},                        {\"responsive\": true}                    ).then(function(){\n",
       "                            \n",
       "var gd = document.getElementById('49f9be70-17d4-401b-9ff5-101f51114327');\n",
       "var x = new MutationObserver(function (mutations, observer) {{\n",
       "        var display = window.getComputedStyle(gd).display;\n",
       "        if (!display || display === 'none') {{\n",
       "            console.log([gd, 'removed!']);\n",
       "            Plotly.purge(gd);\n",
       "            observer.disconnect();\n",
       "        }}\n",
       "}});\n",
       "\n",
       "// Listen for the removal of the full notebook cells\n",
       "var notebookContainer = gd.closest('#notebook-container');\n",
       "if (notebookContainer) {{\n",
       "    x.observe(notebookContainer, {childList: true});\n",
       "}}\n",
       "\n",
       "// Listen for the clearing of the current output cell\n",
       "var outputEl = gd.closest('.output');\n",
       "if (outputEl) {{\n",
       "    x.observe(outputEl, {childList: true});\n",
       "}}\n",
       "\n",
       "                        })                };                });            </script>        </div>"
      ]
     },
     "metadata": {},
     "output_type": "display_data"
    }
   ],
   "source": [
    "f = fig1(df_use)\n",
    "\n",
    "f.show()"
   ]
  },
  {
   "cell_type": "code",
   "execution_count": 150,
   "id": "cd2e3281-b5d7-467a-a950-995082ab1445",
   "metadata": {},
   "outputs": [
    {
     "data": {
      "application/vnd.plotly.v1+json": {
       "config": {
        "plotlyServerURL": "https://plot.ly"
       },
       "data": [
        {
         "line": {
          "color": "red",
          "dash": "dot"
         },
         "marker": {
          "color": "red",
          "size": 4
         },
         "mode": "lines+markers",
         "name": "Dose=0.5, spray=1",
         "type": "scatter",
         "x": [
          0.0025528415617962,
          0.0255288751513227,
          0.0503407339410301,
          0.0755485311752294,
          0.1009861499901138,
          0.1267488203425071,
          0.1528851538181782,
          0.1793920396558724,
          0.2062494268531018,
          0.2334393191110377,
          0.2609509681584233,
          0.2887795253685468,
          0.3169221833724888,
          0.3453732991339343,
          0.3741187883499129,
          0.4031297571155023
         ],
         "xaxis": "x",
         "y": [
          null,
          6.0020098010312655,
          7.308345201485969,
          8.397251809439197,
          9.282466901335775,
          10.028108043586094,
          10.680738414664148,
          11.267047728112512,
          11.802664207781218,
          12.29776361938928,
          12.75966359583493,
          13.19396301814946,
          13.60507808212138,
          13.996528773365345,
          14.371110902539105,
          14.731004957683252
         ],
         "yaxis": "y"
        },
        {
         "line": {
          "color": "red",
          "dash": "dot"
         },
         "marker": {
          "color": "red",
          "size": 4
         },
         "mode": "lines+markers",
         "name": "Dose=0.5, spray=1",
         "opacity": 0.5,
         "showlegend": false,
         "type": "scatter",
         "x": [
          0,
          1,
          2,
          3,
          4,
          5,
          6,
          7,
          8,
          9,
          10,
          11,
          12,
          13,
          14,
          15
         ],
         "xaxis": "x2",
         "y": [
          0.0025528415617962,
          0.0255288751513227,
          0.0503407339410301,
          0.0755485311752294,
          0.1009861499901138,
          0.1267488203425071,
          0.1528851538181782,
          0.1793920396558724,
          0.2062494268531018,
          0.2334393191110377,
          0.2609509681584233,
          0.2887795253685468,
          0.3169221833724888,
          0.3453732991339343,
          0.3741187883499129,
          0.4031297571155023
         ],
         "yaxis": "y2"
        },
        {
         "line": {
          "color": "red",
          "dash": "solid"
         },
         "marker": {
          "color": "red",
          "size": 4
         },
         "mode": "lines+markers",
         "name": "Dose=1.0, spray=1",
         "type": "scatter",
         "x": [
          0.0025528415617962,
          0.0250776663398811,
          0.0513232887177218,
          0.079498035941906,
          0.1091721896823016,
          0.1403794320939371,
          0.173177462799348,
          0.2075985028493138,
          0.243680179395027,
          0.2814798492790743,
          0.3210662624638103,
          0.3624929487440649,
          0.4057512730434294,
          0.450699899674747,
          0.4969772380236827,
          0.5439299768213013
         ],
         "xaxis": "x",
         "y": [
          null,
          3.4766521314749,
          4.378875723664997,
          5.239124944521454,
          6.01785323227955,
          6.734735331010764,
          7.414109646947171,
          8.07176638881372,
          8.717610277824647,
          9.358821652656244,
          10.001283705156808,
          10.649957213810485,
          11.308720555661024,
          11.979813790201703,
          12.663060110465,
          13.354120811271777
         ],
         "yaxis": "y"
        },
        {
         "line": {
          "color": "red",
          "dash": "solid"
         },
         "marker": {
          "color": "red",
          "size": 4
         },
         "mode": "lines+markers",
         "name": "Dose=1.0, spray=1",
         "opacity": 0.5,
         "showlegend": false,
         "type": "scatter",
         "x": [
          0,
          1,
          2,
          3,
          4,
          5,
          6,
          7,
          8,
          9,
          10,
          11,
          12,
          13,
          14,
          15
         ],
         "xaxis": "x2",
         "y": [
          0.0025528415617962,
          0.0250776663398811,
          0.0513232887177218,
          0.079498035941906,
          0.1091721896823016,
          0.1403794320939371,
          0.173177462799348,
          0.2075985028493138,
          0.243680179395027,
          0.2814798492790743,
          0.3210662624638103,
          0.3624929487440649,
          0.4057512730434294,
          0.450699899674747,
          0.4969772380236827,
          0.5439299768213013
         ],
         "yaxis": "y2"
        },
        {
         "line": {
          "color": "blue",
          "dash": "dot"
         },
         "marker": {
          "color": "blue",
          "size": 4
         },
         "mode": "lines+markers",
         "name": "Dose=0.5, spray=2",
         "type": "scatter",
         "x": [
          0.0025528415617962,
          0.0310387742232521,
          0.0675876439951001,
          0.1053042190038206,
          0.1430947524677684,
          0.1815174583957648,
          0.2209559710979329,
          0.2616163767078337,
          0.3036276241689757,
          0.3470643097418064,
          0.3919313226831258,
          0.438119535602051,
          0.4853394137189372,
          0.5330480121002601,
          0.5804142944719467,
          0.6263682450782786
         ],
         "xaxis": "x",
         "y": [
          null,
          1.943777253206589,
          3.0520080486364973,
          4.247211080509162,
          5.303421808551368,
          6.2421978028101925,
          7.114984201930007,
          7.950328171884177,
          8.763927625677516,
          9.565624679980171,
          10.361788244357498,
          11.156128699837245,
          11.949068333988638,
          12.737627390025608,
          13.51463161842948,
          14.26862771990079
         ],
         "yaxis": "y"
        },
        {
         "line": {
          "color": "blue",
          "dash": "dot"
         },
         "marker": {
          "color": "blue",
          "size": 4
         },
         "mode": "lines+markers",
         "name": "Dose=0.5, spray=2",
         "opacity": 0.5,
         "showlegend": false,
         "type": "scatter",
         "x": [
          0,
          2,
          4,
          6,
          8,
          10,
          12,
          14,
          16,
          18,
          20,
          22,
          24,
          26,
          28,
          30
         ],
         "xaxis": "x2",
         "y": [
          0.0025528415617962,
          0.0310387742232521,
          0.0675876439951001,
          0.1053042190038206,
          0.1430947524677684,
          0.1815174583957648,
          0.2209559710979329,
          0.2616163767078337,
          0.3036276241689757,
          0.3470643097418064,
          0.3919313226831258,
          0.438119535602051,
          0.4853394137189372,
          0.5330480121002601,
          0.5804142944719467,
          0.6263682450782786
         ],
         "yaxis": "y2"
        },
        {
         "line": {
          "color": "blue",
          "dash": "solid"
         },
         "marker": {
          "color": "blue",
          "size": 4
         },
         "mode": "lines+markers",
         "name": "Dose=1.0, spray=2",
         "type": "scatter",
         "x": [
          0.0025528415617962,
          0.0294980662747171,
          0.0686548467442298,
          0.1127067682770203,
          0.1605378200315689,
          0.2143782689809114,
          0.2771778020917329,
          0.3524531311120146,
          0.4426205654355272,
          0.5443773207402904,
          0.6457476686791164,
          0.7324038689282891,
          0.797386160855495,
          0.8422103443845087,
          0.8719213128684984,
          0.8913847746927006
         ],
         "xaxis": "x",
         "y": [
          null,
          0.7177883298554893,
          1.1773668317785704,
          1.7956876493452911,
          2.4614748727929707,
          3.182534297110599,
          4.019394430937559,
          5.05068370111119,
          6.377903491327798,
          8.087718126558148,
          10.133293342691251,
          12.249878043482603,
          14.100093771595844,
          15.508424352977348,
          16.491817264004744,
          17.150781357485272
         ],
         "yaxis": "y"
        },
        {
         "line": {
          "color": "blue",
          "dash": "solid"
         },
         "marker": {
          "color": "blue",
          "size": 4
         },
         "mode": "lines+markers",
         "name": "Dose=1.0, spray=2",
         "opacity": 0.5,
         "showlegend": false,
         "type": "scatter",
         "x": [
          0,
          2,
          4,
          6,
          8,
          10,
          12,
          14,
          16,
          18,
          20,
          22,
          24,
          26,
          28,
          30
         ],
         "xaxis": "x2",
         "y": [
          0.0025528415617962,
          0.0294980662747171,
          0.0686548467442298,
          0.1127067682770203,
          0.1605378200315689,
          0.2143782689809114,
          0.2771778020917329,
          0.3524531311120146,
          0.4426205654355272,
          0.5443773207402904,
          0.6457476686791164,
          0.7324038689282891,
          0.797386160855495,
          0.8422103443845087,
          0.8719213128684984,
          0.8913847746927006
         ],
         "yaxis": "y2"
        },
        {
         "line": {
          "color": "black",
          "dash": "dot"
         },
         "marker": {
          "color": "black",
          "size": 4
         },
         "mode": "lines+markers",
         "name": "Dose=0.5, spray=3",
         "type": "scatter",
         "x": [
          0.0025528415617962,
          0.0298398115695916,
          0.0724337875062022,
          0.1170070311908626,
          0.162046538641833,
          0.2092864797741713,
          0.2596708282388628,
          0.3137707823318294,
          0.3719085931739893,
          0.433931275046547,
          0.4988479430951413,
          0.5645729835820232,
          0.6281265976966255,
          0.6863831465681255,
          0.7370002139191303,
          0.7789407159457765
         ],
         "xaxis": "x",
         "y": [
          null,
          0.8407256068945792,
          1.6553237727455663,
          2.76564360467517,
          3.801027263875104,
          4.772170258273777,
          5.746255502190951,
          6.755384191601328,
          7.817288280447133,
          8.942103151195129,
          10.128120038558622,
          11.35600803223612,
          12.584459219464222,
          13.757239239045868,
          14.817882805855294,
          15.727723658726095
         ],
         "yaxis": "y"
        },
        {
         "line": {
          "color": "black",
          "dash": "dot"
         },
         "marker": {
          "color": "black",
          "size": 4
         },
         "mode": "lines+markers",
         "name": "Dose=0.5, spray=3",
         "opacity": 0.5,
         "showlegend": false,
         "type": "scatter",
         "x": [
          0,
          3,
          6,
          9,
          12,
          15,
          18,
          21,
          24,
          27,
          30,
          33,
          36,
          39,
          42,
          45
         ],
         "xaxis": "x2",
         "y": [
          0.0025528415617962,
          0.0298398115695916,
          0.0724337875062022,
          0.1170070311908626,
          0.162046538641833,
          0.2092864797741713,
          0.2596708282388628,
          0.3137707823318294,
          0.3719085931739893,
          0.433931275046547,
          0.4988479430951413,
          0.5645729835820232,
          0.6281265976966255,
          0.6863831465681255,
          0.7370002139191303,
          0.7789407159457765
         ],
         "yaxis": "y2"
        },
        {
         "line": {
          "color": "black",
          "dash": "solid"
         },
         "marker": {
          "color": "black",
          "size": 4
         },
         "mode": "lines+markers",
         "name": "Dose=1.0, spray=3",
         "type": "scatter",
         "x": [
          0.0025528415617962,
          0.0261608622915305,
          0.0718745904581177,
          0.1284565142823843,
          0.1987660545119639,
          0.297553653830227,
          0.4332805008437726,
          0.5833600488528948,
          0.7082324062694376,
          0.7938627342468652,
          0.8480043580805012,
          0.881473013495054,
          0.9021451941987596,
          0.9150015806691684,
          0.9230748138972537,
          0.92819631400231
         ],
         "xaxis": "x",
         "y": [
          null,
          0.2271519537707632,
          0.4579969331945328,
          0.8991854783181575,
          1.4816089434064612,
          2.3273866596342523,
          3.784974491207898,
          6.213976580723898,
          9.323886677546012,
          12.195206734498903,
          14.314508618983412,
          15.723038950440296,
          16.622442353444438,
          17.189971594878518,
          17.548027046538664,
          17.77511141596584
         ],
         "yaxis": "y"
        },
        {
         "line": {
          "color": "black",
          "dash": "solid"
         },
         "marker": {
          "color": "black",
          "size": 4
         },
         "mode": "lines+markers",
         "name": "Dose=1.0, spray=3",
         "opacity": 0.5,
         "showlegend": false,
         "type": "scatter",
         "x": [
          0,
          3,
          6,
          9,
          12,
          15,
          18,
          21,
          24,
          27,
          30,
          33,
          36,
          39,
          42,
          45
         ],
         "xaxis": "x2",
         "y": [
          0.0025528415617962,
          0.0261608622915305,
          0.0718745904581177,
          0.1284565142823843,
          0.1987660545119639,
          0.297553653830227,
          0.4332805008437726,
          0.5833600488528948,
          0.7082324062694376,
          0.7938627342468652,
          0.8480043580805012,
          0.881473013495054,
          0.9021451941987596,
          0.9150015806691684,
          0.9230748138972537,
          0.92819631400231
         ],
         "yaxis": "y2"
        }
       ],
       "layout": {
        "annotations": [
         {
          "font": {
           "color": "rgb(110,110,110)",
           "size": 20
          },
          "showarrow": false,
          "text": "A",
          "x": 0,
          "xanchor": "center",
          "xref": "paper",
          "y": 1.05,
          "yanchor": "top",
          "yref": "paper"
         },
         {
          "font": {
           "color": "rgb(110,110,110)",
           "size": 20
          },
          "showarrow": false,
          "text": "B",
          "x": 0,
          "xanchor": "center",
          "xref": "paper",
          "y": 0.67,
          "yanchor": "top",
          "yref": "paper"
         },
         {
          "font": {
           "color": "rgb(110,110,110)",
           "size": 20
          },
          "showarrow": false,
          "text": "C",
          "x": 0,
          "xanchor": "center",
          "xref": "paper",
          "y": 0.29000000000000004,
          "yanchor": "top",
          "yref": "paper"
         }
        ],
        "font": {
         "size": 14
        },
        "height": 800,
        "legend": {
         "font": {
          "size": 12
         },
         "orientation": "h",
         "x": 0,
         "y": 1.18
        },
        "showlegend": true,
        "template": {
         "data": {
          "bar": [
           {
            "error_x": {
             "color": "rgb(36,36,36)"
            },
            "error_y": {
             "color": "rgb(36,36,36)"
            },
            "marker": {
             "line": {
              "color": "white",
              "width": 0.5
             },
             "pattern": {
              "fillmode": "overlay",
              "size": 10,
              "solidity": 0.2
             }
            },
            "type": "bar"
           }
          ],
          "barpolar": [
           {
            "marker": {
             "line": {
              "color": "white",
              "width": 0.5
             },
             "pattern": {
              "fillmode": "overlay",
              "size": 10,
              "solidity": 0.2
             }
            },
            "type": "barpolar"
           }
          ],
          "carpet": [
           {
            "aaxis": {
             "endlinecolor": "rgb(36,36,36)",
             "gridcolor": "white",
             "linecolor": "white",
             "minorgridcolor": "white",
             "startlinecolor": "rgb(36,36,36)"
            },
            "baxis": {
             "endlinecolor": "rgb(36,36,36)",
             "gridcolor": "white",
             "linecolor": "white",
             "minorgridcolor": "white",
             "startlinecolor": "rgb(36,36,36)"
            },
            "type": "carpet"
           }
          ],
          "choropleth": [
           {
            "colorbar": {
             "outlinewidth": 1,
             "tickcolor": "rgb(36,36,36)",
             "ticks": "outside"
            },
            "type": "choropleth"
           }
          ],
          "contour": [
           {
            "colorbar": {
             "outlinewidth": 1,
             "tickcolor": "rgb(36,36,36)",
             "ticks": "outside"
            },
            "colorscale": [
             [
              0,
              "#440154"
             ],
             [
              0.1111111111111111,
              "#482878"
             ],
             [
              0.2222222222222222,
              "#3e4989"
             ],
             [
              0.3333333333333333,
              "#31688e"
             ],
             [
              0.4444444444444444,
              "#26828e"
             ],
             [
              0.5555555555555556,
              "#1f9e89"
             ],
             [
              0.6666666666666666,
              "#35b779"
             ],
             [
              0.7777777777777778,
              "#6ece58"
             ],
             [
              0.8888888888888888,
              "#b5de2b"
             ],
             [
              1,
              "#fde725"
             ]
            ],
            "type": "contour"
           }
          ],
          "contourcarpet": [
           {
            "colorbar": {
             "outlinewidth": 1,
             "tickcolor": "rgb(36,36,36)",
             "ticks": "outside"
            },
            "type": "contourcarpet"
           }
          ],
          "heatmap": [
           {
            "colorbar": {
             "outlinewidth": 1,
             "tickcolor": "rgb(36,36,36)",
             "ticks": "outside"
            },
            "colorscale": [
             [
              0,
              "#440154"
             ],
             [
              0.1111111111111111,
              "#482878"
             ],
             [
              0.2222222222222222,
              "#3e4989"
             ],
             [
              0.3333333333333333,
              "#31688e"
             ],
             [
              0.4444444444444444,
              "#26828e"
             ],
             [
              0.5555555555555556,
              "#1f9e89"
             ],
             [
              0.6666666666666666,
              "#35b779"
             ],
             [
              0.7777777777777778,
              "#6ece58"
             ],
             [
              0.8888888888888888,
              "#b5de2b"
             ],
             [
              1,
              "#fde725"
             ]
            ],
            "type": "heatmap"
           }
          ],
          "heatmapgl": [
           {
            "colorbar": {
             "outlinewidth": 1,
             "tickcolor": "rgb(36,36,36)",
             "ticks": "outside"
            },
            "colorscale": [
             [
              0,
              "#440154"
             ],
             [
              0.1111111111111111,
              "#482878"
             ],
             [
              0.2222222222222222,
              "#3e4989"
             ],
             [
              0.3333333333333333,
              "#31688e"
             ],
             [
              0.4444444444444444,
              "#26828e"
             ],
             [
              0.5555555555555556,
              "#1f9e89"
             ],
             [
              0.6666666666666666,
              "#35b779"
             ],
             [
              0.7777777777777778,
              "#6ece58"
             ],
             [
              0.8888888888888888,
              "#b5de2b"
             ],
             [
              1,
              "#fde725"
             ]
            ],
            "type": "heatmapgl"
           }
          ],
          "histogram": [
           {
            "marker": {
             "line": {
              "color": "white",
              "width": 0.6
             },
             "pattern": {
              "fillmode": "overlay",
              "size": 10,
              "solidity": 0.2
             }
            },
            "type": "histogram"
           }
          ],
          "histogram2d": [
           {
            "colorbar": {
             "outlinewidth": 1,
             "tickcolor": "rgb(36,36,36)",
             "ticks": "outside"
            },
            "colorscale": [
             [
              0,
              "#440154"
             ],
             [
              0.1111111111111111,
              "#482878"
             ],
             [
              0.2222222222222222,
              "#3e4989"
             ],
             [
              0.3333333333333333,
              "#31688e"
             ],
             [
              0.4444444444444444,
              "#26828e"
             ],
             [
              0.5555555555555556,
              "#1f9e89"
             ],
             [
              0.6666666666666666,
              "#35b779"
             ],
             [
              0.7777777777777778,
              "#6ece58"
             ],
             [
              0.8888888888888888,
              "#b5de2b"
             ],
             [
              1,
              "#fde725"
             ]
            ],
            "type": "histogram2d"
           }
          ],
          "histogram2dcontour": [
           {
            "colorbar": {
             "outlinewidth": 1,
             "tickcolor": "rgb(36,36,36)",
             "ticks": "outside"
            },
            "colorscale": [
             [
              0,
              "#440154"
             ],
             [
              0.1111111111111111,
              "#482878"
             ],
             [
              0.2222222222222222,
              "#3e4989"
             ],
             [
              0.3333333333333333,
              "#31688e"
             ],
             [
              0.4444444444444444,
              "#26828e"
             ],
             [
              0.5555555555555556,
              "#1f9e89"
             ],
             [
              0.6666666666666666,
              "#35b779"
             ],
             [
              0.7777777777777778,
              "#6ece58"
             ],
             [
              0.8888888888888888,
              "#b5de2b"
             ],
             [
              1,
              "#fde725"
             ]
            ],
            "type": "histogram2dcontour"
           }
          ],
          "mesh3d": [
           {
            "colorbar": {
             "outlinewidth": 1,
             "tickcolor": "rgb(36,36,36)",
             "ticks": "outside"
            },
            "type": "mesh3d"
           }
          ],
          "parcoords": [
           {
            "line": {
             "colorbar": {
              "outlinewidth": 1,
              "tickcolor": "rgb(36,36,36)",
              "ticks": "outside"
             }
            },
            "type": "parcoords"
           }
          ],
          "pie": [
           {
            "automargin": true,
            "type": "pie"
           }
          ],
          "scatter": [
           {
            "marker": {
             "colorbar": {
              "outlinewidth": 1,
              "tickcolor": "rgb(36,36,36)",
              "ticks": "outside"
             }
            },
            "type": "scatter"
           }
          ],
          "scatter3d": [
           {
            "line": {
             "colorbar": {
              "outlinewidth": 1,
              "tickcolor": "rgb(36,36,36)",
              "ticks": "outside"
             }
            },
            "marker": {
             "colorbar": {
              "outlinewidth": 1,
              "tickcolor": "rgb(36,36,36)",
              "ticks": "outside"
             }
            },
            "type": "scatter3d"
           }
          ],
          "scattercarpet": [
           {
            "marker": {
             "colorbar": {
              "outlinewidth": 1,
              "tickcolor": "rgb(36,36,36)",
              "ticks": "outside"
             }
            },
            "type": "scattercarpet"
           }
          ],
          "scattergeo": [
           {
            "marker": {
             "colorbar": {
              "outlinewidth": 1,
              "tickcolor": "rgb(36,36,36)",
              "ticks": "outside"
             }
            },
            "type": "scattergeo"
           }
          ],
          "scattergl": [
           {
            "marker": {
             "colorbar": {
              "outlinewidth": 1,
              "tickcolor": "rgb(36,36,36)",
              "ticks": "outside"
             }
            },
            "type": "scattergl"
           }
          ],
          "scattermapbox": [
           {
            "marker": {
             "colorbar": {
              "outlinewidth": 1,
              "tickcolor": "rgb(36,36,36)",
              "ticks": "outside"
             }
            },
            "type": "scattermapbox"
           }
          ],
          "scatterpolar": [
           {
            "marker": {
             "colorbar": {
              "outlinewidth": 1,
              "tickcolor": "rgb(36,36,36)",
              "ticks": "outside"
             }
            },
            "type": "scatterpolar"
           }
          ],
          "scatterpolargl": [
           {
            "marker": {
             "colorbar": {
              "outlinewidth": 1,
              "tickcolor": "rgb(36,36,36)",
              "ticks": "outside"
             }
            },
            "type": "scatterpolargl"
           }
          ],
          "scatterternary": [
           {
            "marker": {
             "colorbar": {
              "outlinewidth": 1,
              "tickcolor": "rgb(36,36,36)",
              "ticks": "outside"
             }
            },
            "type": "scatterternary"
           }
          ],
          "surface": [
           {
            "colorbar": {
             "outlinewidth": 1,
             "tickcolor": "rgb(36,36,36)",
             "ticks": "outside"
            },
            "colorscale": [
             [
              0,
              "#440154"
             ],
             [
              0.1111111111111111,
              "#482878"
             ],
             [
              0.2222222222222222,
              "#3e4989"
             ],
             [
              0.3333333333333333,
              "#31688e"
             ],
             [
              0.4444444444444444,
              "#26828e"
             ],
             [
              0.5555555555555556,
              "#1f9e89"
             ],
             [
              0.6666666666666666,
              "#35b779"
             ],
             [
              0.7777777777777778,
              "#6ece58"
             ],
             [
              0.8888888888888888,
              "#b5de2b"
             ],
             [
              1,
              "#fde725"
             ]
            ],
            "type": "surface"
           }
          ],
          "table": [
           {
            "cells": {
             "fill": {
              "color": "rgb(237,237,237)"
             },
             "line": {
              "color": "white"
             }
            },
            "header": {
             "fill": {
              "color": "rgb(217,217,217)"
             },
             "line": {
              "color": "white"
             }
            },
            "type": "table"
           }
          ]
         },
         "layout": {
          "annotationdefaults": {
           "arrowcolor": "#2a3f5f",
           "arrowhead": 0,
           "arrowwidth": 1
          },
          "autotypenumbers": "strict",
          "coloraxis": {
           "colorbar": {
            "outlinewidth": 1,
            "tickcolor": "rgb(36,36,36)",
            "ticks": "outside"
           }
          },
          "colorscale": {
           "diverging": [
            [
             0,
             "rgb(103,0,31)"
            ],
            [
             0.1,
             "rgb(178,24,43)"
            ],
            [
             0.2,
             "rgb(214,96,77)"
            ],
            [
             0.3,
             "rgb(244,165,130)"
            ],
            [
             0.4,
             "rgb(253,219,199)"
            ],
            [
             0.5,
             "rgb(247,247,247)"
            ],
            [
             0.6,
             "rgb(209,229,240)"
            ],
            [
             0.7,
             "rgb(146,197,222)"
            ],
            [
             0.8,
             "rgb(67,147,195)"
            ],
            [
             0.9,
             "rgb(33,102,172)"
            ],
            [
             1,
             "rgb(5,48,97)"
            ]
           ],
           "sequential": [
            [
             0,
             "#440154"
            ],
            [
             0.1111111111111111,
             "#482878"
            ],
            [
             0.2222222222222222,
             "#3e4989"
            ],
            [
             0.3333333333333333,
             "#31688e"
            ],
            [
             0.4444444444444444,
             "#26828e"
            ],
            [
             0.5555555555555556,
             "#1f9e89"
            ],
            [
             0.6666666666666666,
             "#35b779"
            ],
            [
             0.7777777777777778,
             "#6ece58"
            ],
            [
             0.8888888888888888,
             "#b5de2b"
            ],
            [
             1,
             "#fde725"
            ]
           ],
           "sequentialminus": [
            [
             0,
             "#440154"
            ],
            [
             0.1111111111111111,
             "#482878"
            ],
            [
             0.2222222222222222,
             "#3e4989"
            ],
            [
             0.3333333333333333,
             "#31688e"
            ],
            [
             0.4444444444444444,
             "#26828e"
            ],
            [
             0.5555555555555556,
             "#1f9e89"
            ],
            [
             0.6666666666666666,
             "#35b779"
            ],
            [
             0.7777777777777778,
             "#6ece58"
            ],
            [
             0.8888888888888888,
             "#b5de2b"
            ],
            [
             1,
             "#fde725"
            ]
           ]
          },
          "colorway": [
           "#1F77B4",
           "#FF7F0E",
           "#2CA02C",
           "#D62728",
           "#9467BD",
           "#8C564B",
           "#E377C2",
           "#7F7F7F",
           "#BCBD22",
           "#17BECF"
          ],
          "font": {
           "color": "rgb(36,36,36)"
          },
          "geo": {
           "bgcolor": "white",
           "lakecolor": "white",
           "landcolor": "white",
           "showlakes": true,
           "showland": true,
           "subunitcolor": "white"
          },
          "hoverlabel": {
           "align": "left"
          },
          "hovermode": "closest",
          "mapbox": {
           "style": "light"
          },
          "paper_bgcolor": "white",
          "plot_bgcolor": "white",
          "polar": {
           "angularaxis": {
            "gridcolor": "rgb(232,232,232)",
            "linecolor": "rgb(36,36,36)",
            "showgrid": false,
            "showline": true,
            "ticks": "outside"
           },
           "bgcolor": "white",
           "radialaxis": {
            "gridcolor": "rgb(232,232,232)",
            "linecolor": "rgb(36,36,36)",
            "showgrid": false,
            "showline": true,
            "ticks": "outside"
           }
          },
          "scene": {
           "xaxis": {
            "backgroundcolor": "white",
            "gridcolor": "rgb(232,232,232)",
            "gridwidth": 2,
            "linecolor": "rgb(36,36,36)",
            "showbackground": true,
            "showgrid": false,
            "showline": true,
            "ticks": "outside",
            "zeroline": false,
            "zerolinecolor": "rgb(36,36,36)"
           },
           "yaxis": {
            "backgroundcolor": "white",
            "gridcolor": "rgb(232,232,232)",
            "gridwidth": 2,
            "linecolor": "rgb(36,36,36)",
            "showbackground": true,
            "showgrid": false,
            "showline": true,
            "ticks": "outside",
            "zeroline": false,
            "zerolinecolor": "rgb(36,36,36)"
           },
           "zaxis": {
            "backgroundcolor": "white",
            "gridcolor": "rgb(232,232,232)",
            "gridwidth": 2,
            "linecolor": "rgb(36,36,36)",
            "showbackground": true,
            "showgrid": false,
            "showline": true,
            "ticks": "outside",
            "zeroline": false,
            "zerolinecolor": "rgb(36,36,36)"
           }
          },
          "shapedefaults": {
           "fillcolor": "black",
           "line": {
            "color": "#2a3f5f",
            "width": 0
           },
           "opacity": 0.3
          },
          "ternary": {
           "aaxis": {
            "gridcolor": "rgb(232,232,232)",
            "linecolor": "rgb(36,36,36)",
            "showgrid": false,
            "showline": true,
            "ticks": "outside"
           },
           "baxis": {
            "gridcolor": "rgb(232,232,232)",
            "linecolor": "rgb(36,36,36)",
            "showgrid": false,
            "showline": true,
            "ticks": "outside"
           },
           "bgcolor": "white",
           "caxis": {
            "gridcolor": "rgb(232,232,232)",
            "linecolor": "rgb(36,36,36)",
            "showgrid": false,
            "showline": true,
            "ticks": "outside"
           }
          },
          "title": {
           "x": 0.05
          },
          "xaxis": {
           "automargin": true,
           "gridcolor": "rgb(232,232,232)",
           "linecolor": "rgb(36,36,36)",
           "showgrid": false,
           "showline": true,
           "ticks": "outside",
           "title": {
            "standoff": 15
           },
           "zeroline": false,
           "zerolinecolor": "rgb(36,36,36)",
           "zerolinewidth": 2
          },
          "yaxis": {
           "automargin": true,
           "gridcolor": "rgb(232,232,232)",
           "linecolor": "rgb(36,36,36)",
           "showgrid": false,
           "showline": true,
           "ticks": "outside",
           "title": {
            "standoff": 15
           },
           "zeroline": false,
           "zerolinecolor": "rgb(36,36,36)",
           "zerolinewidth": 2
          }
         }
        },
        "width": 600,
        "xaxis": {
         "anchor": "y",
         "autorange": false,
         "domain": [
          0,
          1
         ],
         "range": [
          -0.01,
          1.01
         ],
         "showgrid": false,
         "showspikes": false,
         "title": {
          "text": "Trait mean"
         },
         "type": "linear"
        },
        "xaxis2": {
         "anchor": "y2",
         "autorange": true,
         "domain": [
          0,
          1
         ],
         "range": [
          -2.8846153846153846,
          47.88461538461539
         ],
         "showgrid": false,
         "showspikes": false,
         "title": {
          "text": "Number of applications"
         },
         "type": "linear"
        },
        "xaxis3": {
         "anchor": "y3",
         "domain": [
          0,
          1
         ],
         "showgrid": false,
         "title": {
          "text": "Trait variance"
         }
        },
        "yaxis": {
         "anchor": "x",
         "autorange": true,
         "domain": [
          0.7666666666666666,
          0.9999999999999999
         ],
         "range": [
          -1.2351780014121603,
          19.237441371148762
         ],
         "showgrid": false,
         "showspikes": false,
         "title": {
          "text": "Disease severity"
         },
         "type": "linear"
        },
        "yaxis2": {
         "anchor": "x2",
         "autorange": true,
         "domain": [
          0.3833333333333333,
          0.6166666666666666
         ],
         "range": [
          -0.07458411447491331,
          1.0053332700390194
         ],
         "showgrid": false,
         "showspikes": false,
         "title": {
          "text": "Trait mean"
         },
         "type": "linear"
        },
        "yaxis3": {
         "anchor": "x3",
         "domain": [
          0,
          0.2333333333333333
         ],
         "showgrid": false,
         "title": {
          "text": "Change in trait mean"
         }
        }
       }
      },
      "image/png": "[encoded data removed]",
      "text/html": [
       "<div>                            <div id=\"ec493ff4-b149-48b8-b82f-27aff0d31db4\" class=\"plotly-graph-div\" style=\"height:800px; width:600px;\"></div>            <script type=\"text/javascript\">                require([\"plotly\"], function(Plotly) {                    window.PLOTLYENV=window.PLOTLYENV || {};                                    if (document.getElementById(\"ec493ff4-b149-48b8-b82f-27aff0d31db4\")) {                    Plotly.newPlot(                        \"ec493ff4-b149-48b8-b82f-27aff0d31db4\",                        [{\"line\":{\"color\":\"red\",\"dash\":\"dot\"},\"marker\":{\"color\":\"red\",\"size\":4},\"mode\":\"lines+markers\",\"name\":\"Dose=0.5, spray=1\",\"type\":\"scatter\",\"x\":[0.0025528415617962,0.0255288751513227,0.0503407339410301,0.0755485311752294,0.1009861499901138,0.1267488203425071,0.1528851538181782,0.1793920396558724,0.2062494268531018,0.2334393191110377,0.2609509681584233,0.2887795253685468,0.3169221833724888,0.3453732991339343,0.3741187883499129,0.4031297571155023],\"xaxis\":\"x\",\"y\":[null,6.0020098010312655,7.308345201485969,8.397251809439197,9.282466901335775,10.028108043586094,10.680738414664148,11.267047728112512,11.802664207781218,12.29776361938928,12.75966359583493,13.19396301814946,13.60507808212138,13.996528773365345,14.371110902539105,14.731004957683252],\"yaxis\":\"y\"},{\"line\":{\"color\":\"red\",\"dash\":\"dot\"},\"marker\":{\"color\":\"red\",\"size\":4},\"mode\":\"lines+markers\",\"name\":\"Dose=0.5, spray=1\",\"opacity\":0.5,\"showlegend\":false,\"type\":\"scatter\",\"x\":[0,1,2,3,4,5,6,7,8,9,10,11,12,13,14,15],\"xaxis\":\"x2\",\"y\":[0.0025528415617962,0.0255288751513227,0.0503407339410301,0.0755485311752294,0.1009861499901138,0.1267488203425071,0.1528851538181782,0.1793920396558724,0.2062494268531018,0.2334393191110377,0.2609509681584233,0.2887795253685468,0.3169221833724888,0.3453732991339343,0.3741187883499129,0.4031297571155023],\"yaxis\":\"y2\"},{\"line\":{\"color\":\"red\",\"dash\":\"solid\"},\"marker\":{\"color\":\"red\",\"size\":4},\"mode\":\"lines+markers\",\"name\":\"Dose=1.0, spray=1\",\"type\":\"scatter\",\"x\":[0.0025528415617962,0.0250776663398811,0.0513232887177218,0.079498035941906,0.1091721896823016,0.1403794320939371,0.173177462799348,0.2075985028493138,0.243680179395027,0.2814798492790743,0.3210662624638103,0.3624929487440649,0.4057512730434294,0.450699899674747,0.4969772380236827,0.5439299768213013],\"xaxis\":\"x\",\"y\":[null,3.4766521314749,4.378875723664997,5.239124944521454,6.01785323227955,6.734735331010764,7.414109646947171,8.07176638881372,8.717610277824647,9.358821652656244,10.001283705156808,10.649957213810485,11.308720555661024,11.979813790201703,12.663060110465,13.354120811271777],\"yaxis\":\"y\"},{\"line\":{\"color\":\"red\",\"dash\":\"solid\"},\"marker\":{\"color\":\"red\",\"size\":4},\"mode\":\"lines+markers\",\"name\":\"Dose=1.0, spray=1\",\"opacity\":0.5,\"showlegend\":false,\"type\":\"scatter\",\"x\":[0,1,2,3,4,5,6,7,8,9,10,11,12,13,14,15],\"xaxis\":\"x2\",\"y\":[0.0025528415617962,0.0250776663398811,0.0513232887177218,0.079498035941906,0.1091721896823016,0.1403794320939371,0.173177462799348,0.2075985028493138,0.243680179395027,0.2814798492790743,0.3210662624638103,0.3624929487440649,0.4057512730434294,0.450699899674747,0.4969772380236827,0.5439299768213013],\"yaxis\":\"y2\"},{\"line\":{\"color\":\"blue\",\"dash\":\"dot\"},\"marker\":{\"color\":\"blue\",\"size\":4},\"mode\":\"lines+markers\",\"name\":\"Dose=0.5, spray=2\",\"type\":\"scatter\",\"x\":[0.0025528415617962,0.0310387742232521,0.0675876439951001,0.1053042190038206,0.1430947524677684,0.1815174583957648,0.2209559710979329,0.2616163767078337,0.3036276241689757,0.3470643097418064,0.3919313226831258,0.438119535602051,0.4853394137189372,0.5330480121002601,0.5804142944719467,0.6263682450782786],\"xaxis\":\"x\",\"y\":[null,1.943777253206589,3.0520080486364973,4.247211080509162,5.303421808551368,6.2421978028101925,7.114984201930007,7.950328171884177,8.763927625677516,9.565624679980171,10.361788244357498,11.156128699837245,11.949068333988638,12.737627390025608,13.51463161842948,14.26862771990079],\"yaxis\":\"y\"},{\"line\":{\"color\":\"blue\",\"dash\":\"dot\"},\"marker\":{\"color\":\"blue\",\"size\":4},\"mode\":\"lines+markers\",\"name\":\"Dose=0.5, spray=2\",\"opacity\":0.5,\"showlegend\":false,\"type\":\"scatter\",\"x\":[0,2,4,6,8,10,12,14,16,18,20,22,24,26,28,30],\"xaxis\":\"x2\",\"y\":[0.0025528415617962,0.0310387742232521,0.0675876439951001,0.1053042190038206,0.1430947524677684,0.1815174583957648,0.2209559710979329,0.2616163767078337,0.3036276241689757,0.3470643097418064,0.3919313226831258,0.438119535602051,0.4853394137189372,0.5330480121002601,0.5804142944719467,0.6263682450782786],\"yaxis\":\"y2\"},{\"line\":{\"color\":\"blue\",\"dash\":\"solid\"},\"marker\":{\"color\":\"blue\",\"size\":4},\"mode\":\"lines+markers\",\"name\":\"Dose=1.0, spray=2\",\"type\":\"scatter\",\"x\":[0.0025528415617962,0.0294980662747171,0.0686548467442298,0.1127067682770203,0.1605378200315689,0.2143782689809114,0.2771778020917329,0.3524531311120146,0.4426205654355272,0.5443773207402904,0.6457476686791164,0.7324038689282891,0.797386160855495,0.8422103443845087,0.8719213128684984,0.8913847746927006],\"xaxis\":\"x\",\"y\":[null,0.7177883298554893,1.1773668317785704,1.7956876493452911,2.4614748727929707,3.182534297110599,4.019394430937559,5.05068370111119,6.377903491327798,8.087718126558148,10.133293342691251,12.249878043482603,14.100093771595844,15.508424352977348,16.491817264004744,17.150781357485272],\"yaxis\":\"y\"},{\"line\":{\"color\":\"blue\",\"dash\":\"solid\"},\"marker\":{\"color\":\"blue\",\"size\":4},\"mode\":\"lines+markers\",\"name\":\"Dose=1.0, spray=2\",\"opacity\":0.5,\"showlegend\":false,\"type\":\"scatter\",\"x\":[0,2,4,6,8,10,12,14,16,18,20,22,24,26,28,30],\"xaxis\":\"x2\",\"y\":[0.0025528415617962,0.0294980662747171,0.0686548467442298,0.1127067682770203,0.1605378200315689,0.2143782689809114,0.2771778020917329,0.3524531311120146,0.4426205654355272,0.5443773207402904,0.6457476686791164,0.7324038689282891,0.797386160855495,0.8422103443845087,0.8719213128684984,0.8913847746927006],\"yaxis\":\"y2\"},{\"line\":{\"color\":\"black\",\"dash\":\"dot\"},\"marker\":{\"color\":\"black\",\"size\":4},\"mode\":\"lines+markers\",\"name\":\"Dose=0.5, spray=3\",\"type\":\"scatter\",\"x\":[0.0025528415617962,0.0298398115695916,0.0724337875062022,0.1170070311908626,0.162046538641833,0.2092864797741713,0.2596708282388628,0.3137707823318294,0.3719085931739893,0.433931275046547,0.4988479430951413,0.5645729835820232,0.6281265976966255,0.6863831465681255,0.7370002139191303,0.7789407159457765],\"xaxis\":\"x\",\"y\":[null,0.8407256068945792,1.6553237727455663,2.76564360467517,3.801027263875104,4.772170258273777,5.746255502190951,6.755384191601328,7.817288280447133,8.942103151195129,10.128120038558622,11.35600803223612,12.584459219464222,13.757239239045868,14.817882805855294,15.727723658726095],\"yaxis\":\"y\"},{\"line\":{\"color\":\"black\",\"dash\":\"dot\"},\"marker\":{\"color\":\"black\",\"size\":4},\"mode\":\"lines+markers\",\"name\":\"Dose=0.5, spray=3\",\"opacity\":0.5,\"showlegend\":false,\"type\":\"scatter\",\"x\":[0,3,6,9,12,15,18,21,24,27,30,33,36,39,42,45],\"xaxis\":\"x2\",\"y\":[0.0025528415617962,0.0298398115695916,0.0724337875062022,0.1170070311908626,0.162046538641833,0.2092864797741713,0.2596708282388628,0.3137707823318294,0.3719085931739893,0.433931275046547,0.4988479430951413,0.5645729835820232,0.6281265976966255,0.6863831465681255,0.7370002139191303,0.7789407159457765],\"yaxis\":\"y2\"},{\"line\":{\"color\":\"black\",\"dash\":\"solid\"},\"marker\":{\"color\":\"black\",\"size\":4},\"mode\":\"lines+markers\",\"name\":\"Dose=1.0, spray=3\",\"type\":\"scatter\",\"x\":[0.0025528415617962,0.0261608622915305,0.0718745904581177,0.1284565142823843,0.1987660545119639,0.297553653830227,0.4332805008437726,0.5833600488528948,0.7082324062694376,0.7938627342468652,0.8480043580805012,0.881473013495054,0.9021451941987596,0.9150015806691684,0.9230748138972537,0.92819631400231],\"xaxis\":\"x\",\"y\":[null,0.2271519537707632,0.4579969331945328,0.8991854783181575,1.4816089434064612,2.3273866596342523,3.784974491207898,6.213976580723898,9.323886677546012,12.195206734498903,14.314508618983412,15.723038950440296,16.622442353444438,17.189971594878518,17.548027046538664,17.77511141596584],\"yaxis\":\"y\"},{\"line\":{\"color\":\"black\",\"dash\":\"solid\"},\"marker\":{\"color\":\"black\",\"size\":4},\"mode\":\"lines+markers\",\"name\":\"Dose=1.0, spray=3\",\"opacity\":0.5,\"showlegend\":false,\"type\":\"scatter\",\"x\":[0,3,6,9,12,15,18,21,24,27,30,33,36,39,42,45],\"xaxis\":\"x2\",\"y\":[0.0025528415617962,0.0261608622915305,0.0718745904581177,0.1284565142823843,0.1987660545119639,0.297553653830227,0.4332805008437726,0.5833600488528948,0.7082324062694376,0.7938627342468652,0.8480043580805012,0.881473013495054,0.9021451941987596,0.9150015806691684,0.9230748138972537,0.92819631400231],\"yaxis\":\"y2\"}],                        {\"annotations\":[{\"font\":{\"color\":\"rgb(110,110,110)\",\"size\":20},\"showarrow\":false,\"text\":\"A\",\"x\":0,\"xanchor\":\"center\",\"xref\":\"paper\",\"y\":1.05,\"yanchor\":\"top\",\"yref\":\"paper\"},{\"font\":{\"color\":\"rgb(110,110,110)\",\"size\":20},\"showarrow\":false,\"text\":\"B\",\"x\":0,\"xanchor\":\"center\",\"xref\":\"paper\",\"y\":0.67,\"yanchor\":\"top\",\"yref\":\"paper\"},{\"font\":{\"color\":\"rgb(110,110,110)\",\"size\":20},\"showarrow\":false,\"text\":\"C\",\"x\":0,\"xanchor\":\"center\",\"xref\":\"paper\",\"y\":0.29000000000000004,\"yanchor\":\"top\",\"yref\":\"paper\"}],\"font\":{\"size\":14},\"height\":800,\"legend\":{\"font\":{\"size\":12},\"orientation\":\"h\",\"x\":0,\"y\":1.18},\"showlegend\":true,\"template\":{\"data\":{\"bar\":[{\"error_x\":{\"color\":\"rgb(36,36,36)\"},\"error_y\":{\"color\":\"rgb(36,36,36)\"},\"marker\":{\"line\":{\"color\":\"white\",\"width\":0.5},\"pattern\":{\"fillmode\":\"overlay\",\"size\":10,\"solidity\":0.2}},\"type\":\"bar\"}],\"barpolar\":[{\"marker\":{\"line\":{\"color\":\"white\",\"width\":0.5},\"pattern\":{\"fillmode\":\"overlay\",\"size\":10,\"solidity\":0.2}},\"type\":\"barpolar\"}],\"carpet\":[{\"aaxis\":{\"endlinecolor\":\"rgb(36,36,36)\",\"gridcolor\":\"white\",\"linecolor\":\"white\",\"minorgridcolor\":\"white\",\"startlinecolor\":\"rgb(36,36,36)\"},\"baxis\":{\"endlinecolor\":\"rgb(36,36,36)\",\"gridcolor\":\"white\",\"linecolor\":\"white\",\"minorgridcolor\":\"white\",\"startlinecolor\":\"rgb(36,36,36)\"},\"type\":\"carpet\"}],\"choropleth\":[{\"colorbar\":{\"outlinewidth\":1,\"tickcolor\":\"rgb(36,36,36)\",\"ticks\":\"outside\"},\"type\":\"choropleth\"}],\"contour\":[{\"colorbar\":{\"outlinewidth\":1,\"tickcolor\":\"rgb(36,36,36)\",\"ticks\":\"outside\"},\"colorscale\":[[0.0,\"#440154\"],[0.1111111111111111,\"#482878\"],[0.2222222222222222,\"#3e4989\"],[0.3333333333333333,\"#31688e\"],[0.4444444444444444,\"#26828e\"],[0.5555555555555556,\"#1f9e89\"],[0.6666666666666666,\"#35b779\"],[0.7777777777777778,\"#6ece58\"],[0.8888888888888888,\"#b5de2b\"],[1.0,\"#fde725\"]],\"type\":\"contour\"}],\"contourcarpet\":[{\"colorbar\":{\"outlinewidth\":1,\"tickcolor\":\"rgb(36,36,36)\",\"ticks\":\"outside\"},\"type\":\"contourcarpet\"}],\"heatmap\":[{\"colorbar\":{\"outlinewidth\":1,\"tickcolor\":\"rgb(36,36,36)\",\"ticks\":\"outside\"},\"colorscale\":[[0.0,\"#440154\"],[0.1111111111111111,\"#482878\"],[0.2222222222222222,\"#3e4989\"],[0.3333333333333333,\"#31688e\"],[0.4444444444444444,\"#26828e\"],[0.5555555555555556,\"#1f9e89\"],[0.6666666666666666,\"#35b779\"],[0.7777777777777778,\"#6ece58\"],[0.8888888888888888,\"#b5de2b\"],[1.0,\"#fde725\"]],\"type\":\"heatmap\"}],\"heatmapgl\":[{\"colorbar\":{\"outlinewidth\":1,\"tickcolor\":\"rgb(36,36,36)\",\"ticks\":\"outside\"},\"colorscale\":[[0.0,\"#440154\"],[0.1111111111111111,\"#482878\"],[0.2222222222222222,\"#3e4989\"],[0.3333333333333333,\"#31688e\"],[0.4444444444444444,\"#26828e\"],[0.5555555555555556,\"#1f9e89\"],[0.6666666666666666,\"#35b779\"],[0.7777777777777778,\"#6ece58\"],[0.8888888888888888,\"#b5de2b\"],[1.0,\"#fde725\"]],\"type\":\"heatmapgl\"}],\"histogram\":[{\"marker\":{\"line\":{\"color\":\"white\",\"width\":0.6},\"pattern\":{\"fillmode\":\"overlay\",\"size\":10,\"solidity\":0.2}},\"type\":\"histogram\"}],\"histogram2d\":[{\"colorbar\":{\"outlinewidth\":1,\"tickcolor\":\"rgb(36,36,36)\",\"ticks\":\"outside\"},\"colorscale\":[[0.0,\"#440154\"],[0.1111111111111111,\"#482878\"],[0.2222222222222222,\"#3e4989\"],[0.3333333333333333,\"#31688e\"],[0.4444444444444444,\"#26828e\"],[0.5555555555555556,\"#1f9e89\"],[0.6666666666666666,\"#35b779\"],[0.7777777777777778,\"#6ece58\"],[0.8888888888888888,\"#b5de2b\"],[1.0,\"#fde725\"]],\"type\":\"histogram2d\"}],\"histogram2dcontour\":[{\"colorbar\":{\"outlinewidth\":1,\"tickcolor\":\"rgb(36,36,36)\",\"ticks\":\"outside\"},\"colorscale\":[[0.0,\"#440154\"],[0.1111111111111111,\"#482878\"],[0.2222222222222222,\"#3e4989\"],[0.3333333333333333,\"#31688e\"],[0.4444444444444444,\"#26828e\"],[0.5555555555555556,\"#1f9e89\"],[0.6666666666666666,\"#35b779\"],[0.7777777777777778,\"#6ece58\"],[0.8888888888888888,\"#b5de2b\"],[1.0,\"#fde725\"]],\"type\":\"histogram2dcontour\"}],\"mesh3d\":[{\"colorbar\":{\"outlinewidth\":1,\"tickcolor\":\"rgb(36,36,36)\",\"ticks\":\"outside\"},\"type\":\"mesh3d\"}],\"parcoords\":[{\"line\":{\"colorbar\":{\"outlinewidth\":1,\"tickcolor\":\"rgb(36,36,36)\",\"ticks\":\"outside\"}},\"type\":\"parcoords\"}],\"pie\":[{\"automargin\":true,\"type\":\"pie\"}],\"scatter\":[{\"marker\":{\"colorbar\":{\"outlinewidth\":1,\"tickcolor\":\"rgb(36,36,36)\",\"ticks\":\"outside\"}},\"type\":\"scatter\"}],\"scatter3d\":[{\"line\":{\"colorbar\":{\"outlinewidth\":1,\"tickcolor\":\"rgb(36,36,36)\",\"ticks\":\"outside\"}},\"marker\":{\"colorbar\":{\"outlinewidth\":1,\"tickcolor\":\"rgb(36,36,36)\",\"ticks\":\"outside\"}},\"type\":\"scatter3d\"}],\"scattercarpet\":[{\"marker\":{\"colorbar\":{\"outlinewidth\":1,\"tickcolor\":\"rgb(36,36,36)\",\"ticks\":\"outside\"}},\"type\":\"scattercarpet\"}],\"scattergeo\":[{\"marker\":{\"colorbar\":{\"outlinewidth\":1,\"tickcolor\":\"rgb(36,36,36)\",\"ticks\":\"outside\"}},\"type\":\"scattergeo\"}],\"scattergl\":[{\"marker\":{\"colorbar\":{\"outlinewidth\":1,\"tickcolor\":\"rgb(36,36,36)\",\"ticks\":\"outside\"}},\"type\":\"scattergl\"}],\"scattermapbox\":[{\"marker\":{\"colorbar\":{\"outlinewidth\":1,\"tickcolor\":\"rgb(36,36,36)\",\"ticks\":\"outside\"}},\"type\":\"scattermapbox\"}],\"scatterpolar\":[{\"marker\":{\"colorbar\":{\"outlinewidth\":1,\"tickcolor\":\"rgb(36,36,36)\",\"ticks\":\"outside\"}},\"type\":\"scatterpolar\"}],\"scatterpolargl\":[{\"marker\":{\"colorbar\":{\"outlinewidth\":1,\"tickcolor\":\"rgb(36,36,36)\",\"ticks\":\"outside\"}},\"type\":\"scatterpolargl\"}],\"scatterternary\":[{\"marker\":{\"colorbar\":{\"outlinewidth\":1,\"tickcolor\":\"rgb(36,36,36)\",\"ticks\":\"outside\"}},\"type\":\"scatterternary\"}],\"surface\":[{\"colorbar\":{\"outlinewidth\":1,\"tickcolor\":\"rgb(36,36,36)\",\"ticks\":\"outside\"},\"colorscale\":[[0.0,\"#440154\"],[0.1111111111111111,\"#482878\"],[0.2222222222222222,\"#3e4989\"],[0.3333333333333333,\"#31688e\"],[0.4444444444444444,\"#26828e\"],[0.5555555555555556,\"#1f9e89\"],[0.6666666666666666,\"#35b779\"],[0.7777777777777778,\"#6ece58\"],[0.8888888888888888,\"#b5de2b\"],[1.0,\"#fde725\"]],\"type\":\"surface\"}],\"table\":[{\"cells\":{\"fill\":{\"color\":\"rgb(237,237,237)\"},\"line\":{\"color\":\"white\"}},\"header\":{\"fill\":{\"color\":\"rgb(217,217,217)\"},\"line\":{\"color\":\"white\"}},\"type\":\"table\"}]},\"layout\":{\"annotationdefaults\":{\"arrowcolor\":\"#2a3f5f\",\"arrowhead\":0,\"arrowwidth\":1},\"autotypenumbers\":\"strict\",\"coloraxis\":{\"colorbar\":{\"outlinewidth\":1,\"tickcolor\":\"rgb(36,36,36)\",\"ticks\":\"outside\"}},\"colorscale\":{\"diverging\":[[0.0,\"rgb(103,0,31)\"],[0.1,\"rgb(178,24,43)\"],[0.2,\"rgb(214,96,77)\"],[0.3,\"rgb(244,165,130)\"],[0.4,\"rgb(253,219,199)\"],[0.5,\"rgb(247,247,247)\"],[0.6,\"rgb(209,229,240)\"],[0.7,\"rgb(146,197,222)\"],[0.8,\"rgb(67,147,195)\"],[0.9,\"rgb(33,102,172)\"],[1.0,\"rgb(5,48,97)\"]],\"sequential\":[[0.0,\"#440154\"],[0.1111111111111111,\"#482878\"],[0.2222222222222222,\"#3e4989\"],[0.3333333333333333,\"#31688e\"],[0.4444444444444444,\"#26828e\"],[0.5555555555555556,\"#1f9e89\"],[0.6666666666666666,\"#35b779\"],[0.7777777777777778,\"#6ece58\"],[0.8888888888888888,\"#b5de2b\"],[1.0,\"#fde725\"]],\"sequentialminus\":[[0.0,\"#440154\"],[0.1111111111111111,\"#482878\"],[0.2222222222222222,\"#3e4989\"],[0.3333333333333333,\"#31688e\"],[0.4444444444444444,\"#26828e\"],[0.5555555555555556,\"#1f9e89\"],[0.6666666666666666,\"#35b779\"],[0.7777777777777778,\"#6ece58\"],[0.8888888888888888,\"#b5de2b\"],[1.0,\"#fde725\"]]},\"colorway\":[\"#1F77B4\",\"#FF7F0E\",\"#2CA02C\",\"#D62728\",\"#9467BD\",\"#8C564B\",\"#E377C2\",\"#7F7F7F\",\"#BCBD22\",\"#17BECF\"],\"font\":{\"color\":\"rgb(36,36,36)\"},\"geo\":{\"bgcolor\":\"white\",\"lakecolor\":\"white\",\"landcolor\":\"white\",\"showlakes\":true,\"showland\":true,\"subunitcolor\":\"white\"},\"hoverlabel\":{\"align\":\"left\"},\"hovermode\":\"closest\",\"mapbox\":{\"style\":\"light\"},\"paper_bgcolor\":\"white\",\"plot_bgcolor\":\"white\",\"polar\":{\"angularaxis\":{\"gridcolor\":\"rgb(232,232,232)\",\"linecolor\":\"rgb(36,36,36)\",\"showgrid\":false,\"showline\":true,\"ticks\":\"outside\"},\"bgcolor\":\"white\",\"radialaxis\":{\"gridcolor\":\"rgb(232,232,232)\",\"linecolor\":\"rgb(36,36,36)\",\"showgrid\":false,\"showline\":true,\"ticks\":\"outside\"}},\"scene\":{\"xaxis\":{\"backgroundcolor\":\"white\",\"gridcolor\":\"rgb(232,232,232)\",\"gridwidth\":2,\"linecolor\":\"rgb(36,36,36)\",\"showbackground\":true,\"showgrid\":false,\"showline\":true,\"ticks\":\"outside\",\"zeroline\":false,\"zerolinecolor\":\"rgb(36,36,36)\"},\"yaxis\":{\"backgroundcolor\":\"white\",\"gridcolor\":\"rgb(232,232,232)\",\"gridwidth\":2,\"linecolor\":\"rgb(36,36,36)\",\"showbackground\":true,\"showgrid\":false,\"showline\":true,\"ticks\":\"outside\",\"zeroline\":false,\"zerolinecolor\":\"rgb(36,36,36)\"},\"zaxis\":{\"backgroundcolor\":\"white\",\"gridcolor\":\"rgb(232,232,232)\",\"gridwidth\":2,\"linecolor\":\"rgb(36,36,36)\",\"showbackground\":true,\"showgrid\":false,\"showline\":true,\"ticks\":\"outside\",\"zeroline\":false,\"zerolinecolor\":\"rgb(36,36,36)\"}},\"shapedefaults\":{\"fillcolor\":\"black\",\"line\":{\"color\":\"#2a3f5f\",\"width\":0},\"opacity\":0.3},\"ternary\":{\"aaxis\":{\"gridcolor\":\"rgb(232,232,232)\",\"linecolor\":\"rgb(36,36,36)\",\"showgrid\":false,\"showline\":true,\"ticks\":\"outside\"},\"baxis\":{\"gridcolor\":\"rgb(232,232,232)\",\"linecolor\":\"rgb(36,36,36)\",\"showgrid\":false,\"showline\":true,\"ticks\":\"outside\"},\"bgcolor\":\"white\",\"caxis\":{\"gridcolor\":\"rgb(232,232,232)\",\"linecolor\":\"rgb(36,36,36)\",\"showgrid\":false,\"showline\":true,\"ticks\":\"outside\"}},\"title\":{\"x\":0.05},\"xaxis\":{\"automargin\":true,\"gridcolor\":\"rgb(232,232,232)\",\"linecolor\":\"rgb(36,36,36)\",\"showgrid\":false,\"showline\":true,\"ticks\":\"outside\",\"title\":{\"standoff\":15},\"zeroline\":false,\"zerolinecolor\":\"rgb(36,36,36)\",\"zerolinewidth\":2},\"yaxis\":{\"automargin\":true,\"gridcolor\":\"rgb(232,232,232)\",\"linecolor\":\"rgb(36,36,36)\",\"showgrid\":false,\"showline\":true,\"ticks\":\"outside\",\"title\":{\"standoff\":15},\"zeroline\":false,\"zerolinecolor\":\"rgb(36,36,36)\",\"zerolinewidth\":2}}},\"width\":600,\"xaxis\":{\"anchor\":\"y\",\"domain\":[0.0,1.0],\"range\":[-0.01,1.01],\"showgrid\":false,\"title\":{\"text\":\"Trait mean\"}},\"xaxis2\":{\"anchor\":\"y2\",\"domain\":[0.0,1.0],\"showgrid\":false,\"title\":{\"text\":\"Number of applications\"}},\"xaxis3\":{\"anchor\":\"y3\",\"domain\":[0.0,1.0],\"showgrid\":false,\"title\":{\"text\":\"Trait variance\"}},\"yaxis\":{\"anchor\":\"x\",\"domain\":[0.7666666666666666,0.9999999999999999],\"showgrid\":false,\"title\":{\"text\":\"Disease severity\"}},\"yaxis2\":{\"anchor\":\"x2\",\"domain\":[0.3833333333333333,0.6166666666666666],\"showgrid\":false,\"title\":{\"text\":\"Trait mean\"}},\"yaxis3\":{\"anchor\":\"x3\",\"domain\":[0.0,0.2333333333333333],\"showgrid\":false,\"title\":{\"text\":\"Change in trait mean\"}}},                        {\"responsive\": true}                    ).then(function(){\n",
       "                            \n",
       "var gd = document.getElementById('ec493ff4-b149-48b8-b82f-27aff0d31db4');\n",
       "var x = new MutationObserver(function (mutations, observer) {{\n",
       "        var display = window.getComputedStyle(gd).display;\n",
       "        if (!display || display === 'none') {{\n",
       "            console.log([gd, 'removed!']);\n",
       "            Plotly.purge(gd);\n",
       "            observer.disconnect();\n",
       "        }}\n",
       "}});\n",
       "\n",
       "// Listen for the removal of the full notebook cells\n",
       "var notebookContainer = gd.closest('#notebook-container');\n",
       "if (notebookContainer) {{\n",
       "    x.observe(notebookContainer, {childList: true});\n",
       "}}\n",
       "\n",
       "// Listen for the clearing of the current output cell\n",
       "var outputEl = gd.closest('.output');\n",
       "if (outputEl) {{\n",
       "    x.observe(outputEl, {childList: true});\n",
       "}}\n",
       "\n",
       "                        })                };                });            </script>        </div>"
      ]
     },
     "metadata": {},
     "output_type": "display_data"
    }
   ],
   "source": [
    "f = fig1(df_in)\n",
    "\n",
    "f.show()"
   ]
  },
  {
   "cell_type": "code",
   "execution_count": 134,
   "id": "7dc0953f-2ba7-46e6-813f-ee698ef41260",
   "metadata": {},
   "outputs": [
    {
     "data": {
      "application/vnd.plotly.v1+json": {
       "config": {
        "plotlyServerURL": "https://plot.ly"
       },
       "data": [
        {
         "line": {
          "color": "red",
          "dash": "dot"
         },
         "marker": {
          "color": "red",
          "size": 4
         },
         "mode": "lines+markers",
         "name": "Dose=0.5, spray=1",
         "type": "scatter",
         "x": [
          0.0025528415617962,
          0.0034677012910263,
          0.0050463441926158,
          0.0077994478389719,
          0.0125626754564965,
          0.0205263826931547,
          0.0329901030597795,
          0.050713792147814,
          0.0732589994415251,
          0.0990980645974554,
          0.1264911187800327,
          0.1542025237285,
          0.1815836517622648,
          0.2083359605163142,
          0.2343053016704402,
          0.2593895404227921
         ],
         "xaxis": "x",
         "y": [
          null,
          5.301051065459305,
          5.401969681802809,
          5.554251646769798,
          5.785922128149615,
          6.133262832291847,
          6.633925929571419,
          7.306436482406039,
          8.121931942010487,
          9.00162304851572,
          9.854724303090803,
          10.623512492391493,
          11.293352455440653,
          11.874673651743183,
          12.384272397918703,
          12.836629110242932
         ],
         "yaxis": "y"
        },
        {
         "line": {
          "color": "red",
          "dash": "dot"
         },
         "marker": {
          "color": "red",
          "size": 4
         },
         "mode": "lines+markers",
         "name": "Dose=0.5, spray=1",
         "opacity": 0.5,
         "showlegend": false,
         "type": "scatter",
         "x": [
          0,
          1,
          2,
          3,
          4,
          5,
          6,
          7,
          8,
          9,
          10,
          11,
          12,
          13,
          14,
          15
         ],
         "xaxis": "x2",
         "y": [
          0.0025528415617962,
          0.0034677012910263,
          0.0050463441926158,
          0.0077994478389719,
          0.0125626754564965,
          0.0205263826931547,
          0.0329901030597795,
          0.050713792147814,
          0.0732589994415251,
          0.0990980645974554,
          0.1264911187800327,
          0.1542025237285,
          0.1815836517622648,
          0.2083359605163142,
          0.2343053016704402,
          0.2593895404227921
         ],
         "yaxis": "y2"
        },
        {
         "line": {
          "color": "red",
          "dash": "solid"
         },
         "marker": {
          "color": "red",
          "size": 4
         },
         "mode": "lines+markers",
         "name": "Dose=1.0, spray=1",
         "type": "scatter",
         "x": [
          0.0025528415617962,
          0.0036145368953543,
          0.0056424976050313,
          0.0096477319610338,
          0.0176125970665966,
          0.0328469763335557,
          0.0591801049196993,
          0.0980156240345531,
          0.1460003037923055,
          0.1973887289307164,
          0.2478809918703624,
          0.2954327829351857,
          0.3393124071465712,
          0.3793674776321389,
          0.4157181602786255,
          0.4486234202857964
         ],
         "xaxis": "x",
         "y": [
          null,
          3.012309635122663,
          3.08616306615229,
          3.208225042316537,
          3.414884508013085,
          3.765756183121276,
          4.338659887908025,
          5.18421207788034,
          6.251886232578184,
          7.389810566309507,
          8.459013531983842,
          9.404935589540456,
          10.229592487149825,
          10.950216366819864,
          11.583186088396744,
          12.142027573077955
         ],
         "yaxis": "y"
        },
        {
         "line": {
          "color": "red",
          "dash": "solid"
         },
         "marker": {
          "color": "red",
          "size": 4
         },
         "mode": "lines+markers",
         "name": "Dose=1.0, spray=1",
         "opacity": 0.5,
         "showlegend": false,
         "type": "scatter",
         "x": [
          0,
          1,
          2,
          3,
          4,
          5,
          6,
          7,
          8,
          9,
          10,
          11,
          12,
          13,
          14,
          15
         ],
         "xaxis": "x2",
         "y": [
          0.0025528415617962,
          0.0036145368953543,
          0.0056424976050313,
          0.0096477319610338,
          0.0176125970665966,
          0.0328469763335557,
          0.0591801049196993,
          0.0980156240345531,
          0.1460003037923055,
          0.1973887289307164,
          0.2478809918703624,
          0.2954327829351857,
          0.3393124071465712,
          0.3793674776321389,
          0.4157181602786255,
          0.4486234202857964
         ],
         "yaxis": "y2"
        },
        {
         "line": {
          "color": "blue",
          "dash": "dot"
         },
         "marker": {
          "color": "blue",
          "size": 4
         },
         "mode": "lines+markers",
         "name": "Dose=0.5, spray=2",
         "type": "scatter",
         "x": [
          0.0025528415617962,
          0.0047385161839343,
          0.0108935274672656,
          0.0273180081657427,
          0.0618166088946029,
          0.1121028020479912,
          0.167013830106408,
          0.2201613569811828,
          0.2698747817086955,
          0.3156626259650174,
          0.3574002578916033,
          0.3952264954301162,
          0.4294352403036758,
          0.4603809122515733,
          0.488420683096217,
          0.5138884749065944
         ],
         "xaxis": "x",
         "y": [
          null,
          1.4205855315002136,
          1.5614490216667225,
          1.888597120689244,
          2.6085224141380605,
          3.8563795326320585,
          5.360423419937773,
          6.744234416173386,
          7.92125415224913,
          8.930231194238104,
          9.805360475250088,
          10.568842547529163,
          11.237897123439724,
          11.826931364927562,
          12.348425329151151,
          12.8126446054765
         ],
         "yaxis": "y"
        },
        {
         "line": {
          "color": "blue",
          "dash": "dot"
         },
         "marker": {
          "color": "blue",
          "size": 4
         },
         "mode": "lines+markers",
         "name": "Dose=0.5, spray=2",
         "opacity": 0.5,
         "showlegend": false,
         "type": "scatter",
         "x": [
          0,
          2,
          4,
          6,
          8,
          10,
          12,
          14,
          16,
          18,
          20,
          22,
          24,
          26,
          28,
          30
         ],
         "xaxis": "x2",
         "y": [
          0.0025528415617962,
          0.0047385161839343,
          0.0108935274672656,
          0.0273180081657427,
          0.0618166088946029,
          0.1121028020479912,
          0.167013830106408,
          0.2201613569811828,
          0.2698747817086955,
          0.3156626259650174,
          0.3574002578916033,
          0.3952264954301162,
          0.4294352403036758,
          0.4603809122515733,
          0.488420683096217,
          0.5138884749065944
         ],
         "yaxis": "y2"
        },
        {
         "line": {
          "color": "blue",
          "dash": "solid"
         },
         "marker": {
          "color": "blue",
          "size": 4
         },
         "mode": "lines+markers",
         "name": "Dose=1.0, spray=2",
         "type": "scatter",
         "x": [
          0.0025528415617962,
          0.0049581998860329,
          0.0130347377786901,
          0.0406588719843574,
          0.1109171531004334,
          0.2132021805154371,
          0.3112123805749845,
          0.3930603542203148,
          0.4597896384809896,
          0.514290643172191,
          0.5592585815654236,
          0.5968332413816321,
          0.6286268896936064,
          0.6558442151349202,
          0.6793888976147585,
          0.6999475324547167
         ],
         "xaxis": "x",
         "y": [
          null,
          0.5220998154918841,
          0.5810050517128821,
          0.7489485428419551,
          1.2520543748466133,
          2.4240580661510496,
          4.06124025400799,
          5.64353714244433,
          7.020426643742435,
          8.198931398499768,
          9.205959896925238,
          10.070263191056782,
          10.81740148043336,
          11.46774833736556,
          12.038258454045984,
          12.54226536312122
         ],
         "yaxis": "y"
        },
        {
         "line": {
          "color": "blue",
          "dash": "solid"
         },
         "marker": {
          "color": "blue",
          "size": 4
         },
         "mode": "lines+markers",
         "name": "Dose=1.0, spray=2",
         "opacity": 0.5,
         "showlegend": false,
         "type": "scatter",
         "x": [
          0,
          2,
          4,
          6,
          8,
          10,
          12,
          14,
          16,
          18,
          20,
          22,
          24,
          26,
          28,
          30
         ],
         "xaxis": "x2",
         "y": [
          0.0025528415617962,
          0.0049581998860329,
          0.0130347377786901,
          0.0406588719843574,
          0.1109171531004334,
          0.2132021805154371,
          0.3112123805749845,
          0.3930603542203148,
          0.4597896384809896,
          0.514290643172191,
          0.5592585815654236,
          0.5968332413816321,
          0.6286268896936064,
          0.6558442151349202,
          0.6793888976147585,
          0.6999475324547167
         ],
         "yaxis": "y2"
        },
        {
         "line": {
          "color": "black",
          "dash": "dot"
         },
         "marker": {
          "color": "black",
          "size": 4
         },
         "mode": "lines+markers",
         "name": "Dose=0.5, spray=3",
         "type": "scatter",
         "x": [
          0.0025528415617962,
          0.0059410950215644,
          0.0187856117246359,
          0.057155691033626,
          0.1228976256140174,
          0.1942526265179195,
          0.2608510586254086,
          0.3208600197732161,
          0.3739866356288398,
          0.4206421524024786,
          0.4615640379909297,
          0.4975443314482339,
          0.5293130189774411,
          0.5575008199452001,
          0.5826387139941713,
          0.6051693215808716
         ],
         "xaxis": "x",
         "y": [
          null,
          0.6176974096636652,
          0.7561602352334917,
          1.1913955113751171,
          2.287338404351126,
          3.897399701869337,
          5.446182444734717,
          6.793194609619728,
          7.962721384916851,
          8.97624130479878,
          9.854519109243585,
          10.618242058745937,
          11.2855288670273,
          11.872137230308244,
          12.391031470801062,
          12.852727385840524
         ],
         "yaxis": "y"
        },
        {
         "line": {
          "color": "black",
          "dash": "dot"
         },
         "marker": {
          "color": "black",
          "size": 4
         },
         "mode": "lines+markers",
         "name": "Dose=0.5, spray=3",
         "opacity": 0.5,
         "showlegend": false,
         "type": "scatter",
         "x": [
          0,
          3,
          6,
          9,
          12,
          15,
          18,
          21,
          24,
          27,
          30,
          33,
          36,
          39,
          42,
          45
         ],
         "xaxis": "x2",
         "y": [
          0.0025528415617962,
          0.0059410950215644,
          0.0187856117246359,
          0.057155691033626,
          0.1228976256140174,
          0.1942526265179195,
          0.2608510586254086,
          0.3208600197732161,
          0.3739866356288398,
          0.4206421524024786,
          0.4615640379909297,
          0.4975443314482339,
          0.5293130189774411,
          0.5575008199452001,
          0.5826387139941713,
          0.6051693215808716
         ],
         "yaxis": "y2"
        },
        {
         "line": {
          "color": "black",
          "dash": "solid"
         },
         "marker": {
          "color": "black",
          "size": 4
         },
         "mode": "lines+markers",
         "name": "Dose=1.0, spray=3",
         "type": "scatter",
         "x": [
          0.0025528415617962,
          0.0062750284233083,
          0.0245265517140747,
          0.0984565953820602,
          0.2318117658393066,
          0.3537881909164067,
          0.4478146778666468,
          0.5197895343151866,
          0.575843091640954,
          0.6204620052946171,
          0.656721853265666,
          0.686728292445306,
          0.7119519378594605,
          0.733442556691275,
          0.7519677480461213,
          0.7680996653103179
         ],
         "xaxis": "x",
         "y": [
          null,
          0.1724343208524227,
          0.2166400032622553,
          0.4156125575497766,
          1.2269318889609704,
          2.825780459174021,
          4.524283881429106,
          6.045795248082114,
          7.359813426675096,
          8.483478359295765,
          9.445560158620218,
          10.274097403206609,
          10.992384585977536,
          11.619883226373338,
          12.17181509153902,
          12.66081479391295
         ],
         "yaxis": "y"
        },
        {
         "line": {
          "color": "black",
          "dash": "solid"
         },
         "marker": {
          "color": "black",
          "size": 4
         },
         "mode": "lines+markers",
         "name": "Dose=1.0, spray=3",
         "opacity": 0.5,
         "showlegend": false,
         "type": "scatter",
         "x": [
          0,
          3,
          6,
          9,
          12,
          15,
          18,
          21,
          24,
          27,
          30,
          33,
          36,
          39,
          42,
          45
         ],
         "xaxis": "x2",
         "y": [
          0.0025528415617962,
          0.0062750284233083,
          0.0245265517140747,
          0.0984565953820602,
          0.2318117658393066,
          0.3537881909164067,
          0.4478146778666468,
          0.5197895343151866,
          0.575843091640954,
          0.6204620052946171,
          0.656721853265666,
          0.686728292445306,
          0.7119519378594605,
          0.733442556691275,
          0.7519677480461213,
          0.7680996653103179
         ],
         "yaxis": "y2"
        }
       ],
       "layout": {
        "annotations": [
         {
          "font": {
           "color": "rgb(110,110,110)",
           "size": 20
          },
          "showarrow": false,
          "text": "A",
          "x": 0,
          "xanchor": "center",
          "xref": "paper",
          "y": 1.05,
          "yanchor": "top",
          "yref": "paper"
         },
         {
          "font": {
           "color": "rgb(110,110,110)",
           "size": 20
          },
          "showarrow": false,
          "text": "B",
          "x": 0,
          "xanchor": "center",
          "xref": "paper",
          "y": 0.67,
          "yanchor": "top",
          "yref": "paper"
         },
         {
          "font": {
           "color": "rgb(110,110,110)",
           "size": 20
          },
          "showarrow": false,
          "text": "C",
          "x": 0,
          "xanchor": "center",
          "xref": "paper",
          "y": 0.29000000000000004,
          "yanchor": "top",
          "yref": "paper"
         }
        ],
        "font": {
         "size": 14
        },
        "height": 800,
        "legend": {
         "font": {
          "size": 12
         },
         "orientation": "h",
         "x": 0,
         "y": 1.18
        },
        "showlegend": true,
        "template": {
         "data": {
          "bar": [
           {
            "error_x": {
             "color": "rgb(36,36,36)"
            },
            "error_y": {
             "color": "rgb(36,36,36)"
            },
            "marker": {
             "line": {
              "color": "white",
              "width": 0.5
             },
             "pattern": {
              "fillmode": "overlay",
              "size": 10,
              "solidity": 0.2
             }
            },
            "type": "bar"
           }
          ],
          "barpolar": [
           {
            "marker": {
             "line": {
              "color": "white",
              "width": 0.5
             },
             "pattern": {
              "fillmode": "overlay",
              "size": 10,
              "solidity": 0.2
             }
            },
            "type": "barpolar"
           }
          ],
          "carpet": [
           {
            "aaxis": {
             "endlinecolor": "rgb(36,36,36)",
             "gridcolor": "white",
             "linecolor": "white",
             "minorgridcolor": "white",
             "startlinecolor": "rgb(36,36,36)"
            },
            "baxis": {
             "endlinecolor": "rgb(36,36,36)",
             "gridcolor": "white",
             "linecolor": "white",
             "minorgridcolor": "white",
             "startlinecolor": "rgb(36,36,36)"
            },
            "type": "carpet"
           }
          ],
          "choropleth": [
           {
            "colorbar": {
             "outlinewidth": 1,
             "tickcolor": "rgb(36,36,36)",
             "ticks": "outside"
            },
            "type": "choropleth"
           }
          ],
          "contour": [
           {
            "colorbar": {
             "outlinewidth": 1,
             "tickcolor": "rgb(36,36,36)",
             "ticks": "outside"
            },
            "colorscale": [
             [
              0,
              "#440154"
             ],
             [
              0.1111111111111111,
              "#482878"
             ],
             [
              0.2222222222222222,
              "#3e4989"
             ],
             [
              0.3333333333333333,
              "#31688e"
             ],
             [
              0.4444444444444444,
              "#26828e"
             ],
             [
              0.5555555555555556,
              "#1f9e89"
             ],
             [
              0.6666666666666666,
              "#35b779"
             ],
             [
              0.7777777777777778,
              "#6ece58"
             ],
             [
              0.8888888888888888,
              "#b5de2b"
             ],
             [
              1,
              "#fde725"
             ]
            ],
            "type": "contour"
           }
          ],
          "contourcarpet": [
           {
            "colorbar": {
             "outlinewidth": 1,
             "tickcolor": "rgb(36,36,36)",
             "ticks": "outside"
            },
            "type": "contourcarpet"
           }
          ],
          "heatmap": [
           {
            "colorbar": {
             "outlinewidth": 1,
             "tickcolor": "rgb(36,36,36)",
             "ticks": "outside"
            },
            "colorscale": [
             [
              0,
              "#440154"
             ],
             [
              0.1111111111111111,
              "#482878"
             ],
             [
              0.2222222222222222,
              "#3e4989"
             ],
             [
              0.3333333333333333,
              "#31688e"
             ],
             [
              0.4444444444444444,
              "#26828e"
             ],
             [
              0.5555555555555556,
              "#1f9e89"
             ],
             [
              0.6666666666666666,
              "#35b779"
             ],
             [
              0.7777777777777778,
              "#6ece58"
             ],
             [
              0.8888888888888888,
              "#b5de2b"
             ],
             [
              1,
              "#fde725"
             ]
            ],
            "type": "heatmap"
           }
          ],
          "heatmapgl": [
           {
            "colorbar": {
             "outlinewidth": 1,
             "tickcolor": "rgb(36,36,36)",
             "ticks": "outside"
            },
            "colorscale": [
             [
              0,
              "#440154"
             ],
             [
              0.1111111111111111,
              "#482878"
             ],
             [
              0.2222222222222222,
              "#3e4989"
             ],
             [
              0.3333333333333333,
              "#31688e"
             ],
             [
              0.4444444444444444,
              "#26828e"
             ],
             [
              0.5555555555555556,
              "#1f9e89"
             ],
             [
              0.6666666666666666,
              "#35b779"
             ],
             [
              0.7777777777777778,
              "#6ece58"
             ],
             [
              0.8888888888888888,
              "#b5de2b"
             ],
             [
              1,
              "#fde725"
             ]
            ],
            "type": "heatmapgl"
           }
          ],
          "histogram": [
           {
            "marker": {
             "line": {
              "color": "white",
              "width": 0.6
             },
             "pattern": {
              "fillmode": "overlay",
              "size": 10,
              "solidity": 0.2
             }
            },
            "type": "histogram"
           }
          ],
          "histogram2d": [
           {
            "colorbar": {
             "outlinewidth": 1,
             "tickcolor": "rgb(36,36,36)",
             "ticks": "outside"
            },
            "colorscale": [
             [
              0,
              "#440154"
             ],
             [
              0.1111111111111111,
              "#482878"
             ],
             [
              0.2222222222222222,
              "#3e4989"
             ],
             [
              0.3333333333333333,
              "#31688e"
             ],
             [
              0.4444444444444444,
              "#26828e"
             ],
             [
              0.5555555555555556,
              "#1f9e89"
             ],
             [
              0.6666666666666666,
              "#35b779"
             ],
             [
              0.7777777777777778,
              "#6ece58"
             ],
             [
              0.8888888888888888,
              "#b5de2b"
             ],
             [
              1,
              "#fde725"
             ]
            ],
            "type": "histogram2d"
           }
          ],
          "histogram2dcontour": [
           {
            "colorbar": {
             "outlinewidth": 1,
             "tickcolor": "rgb(36,36,36)",
             "ticks": "outside"
            },
            "colorscale": [
             [
              0,
              "#440154"
             ],
             [
              0.1111111111111111,
              "#482878"
             ],
             [
              0.2222222222222222,
              "#3e4989"
             ],
             [
              0.3333333333333333,
              "#31688e"
             ],
             [
              0.4444444444444444,
              "#26828e"
             ],
             [
              0.5555555555555556,
              "#1f9e89"
             ],
             [
              0.6666666666666666,
              "#35b779"
             ],
             [
              0.7777777777777778,
              "#6ece58"
             ],
             [
              0.8888888888888888,
              "#b5de2b"
             ],
             [
              1,
              "#fde725"
             ]
            ],
            "type": "histogram2dcontour"
           }
          ],
          "mesh3d": [
           {
            "colorbar": {
             "outlinewidth": 1,
             "tickcolor": "rgb(36,36,36)",
             "ticks": "outside"
            },
            "type": "mesh3d"
           }
          ],
          "parcoords": [
           {
            "line": {
             "colorbar": {
              "outlinewidth": 1,
              "tickcolor": "rgb(36,36,36)",
              "ticks": "outside"
             }
            },
            "type": "parcoords"
           }
          ],
          "pie": [
           {
            "automargin": true,
            "type": "pie"
           }
          ],
          "scatter": [
           {
            "marker": {
             "colorbar": {
              "outlinewidth": 1,
              "tickcolor": "rgb(36,36,36)",
              "ticks": "outside"
             }
            },
            "type": "scatter"
           }
          ],
          "scatter3d": [
           {
            "line": {
             "colorbar": {
              "outlinewidth": 1,
              "tickcolor": "rgb(36,36,36)",
              "ticks": "outside"
             }
            },
            "marker": {
             "colorbar": {
              "outlinewidth": 1,
              "tickcolor": "rgb(36,36,36)",
              "ticks": "outside"
             }
            },
            "type": "scatter3d"
           }
          ],
          "scattercarpet": [
           {
            "marker": {
             "colorbar": {
              "outlinewidth": 1,
              "tickcolor": "rgb(36,36,36)",
              "ticks": "outside"
             }
            },
            "type": "scattercarpet"
           }
          ],
          "scattergeo": [
           {
            "marker": {
             "colorbar": {
              "outlinewidth": 1,
              "tickcolor": "rgb(36,36,36)",
              "ticks": "outside"
             }
            },
            "type": "scattergeo"
           }
          ],
          "scattergl": [
           {
            "marker": {
             "colorbar": {
              "outlinewidth": 1,
              "tickcolor": "rgb(36,36,36)",
              "ticks": "outside"
             }
            },
            "type": "scattergl"
           }
          ],
          "scattermapbox": [
           {
            "marker": {
             "colorbar": {
              "outlinewidth": 1,
              "tickcolor": "rgb(36,36,36)",
              "ticks": "outside"
             }
            },
            "type": "scattermapbox"
           }
          ],
          "scatterpolar": [
           {
            "marker": {
             "colorbar": {
              "outlinewidth": 1,
              "tickcolor": "rgb(36,36,36)",
              "ticks": "outside"
             }
            },
            "type": "scatterpolar"
           }
          ],
          "scatterpolargl": [
           {
            "marker": {
             "colorbar": {
              "outlinewidth": 1,
              "tickcolor": "rgb(36,36,36)",
              "ticks": "outside"
             }
            },
            "type": "scatterpolargl"
           }
          ],
          "scatterternary": [
           {
            "marker": {
             "colorbar": {
              "outlinewidth": 1,
              "tickcolor": "rgb(36,36,36)",
              "ticks": "outside"
             }
            },
            "type": "scatterternary"
           }
          ],
          "surface": [
           {
            "colorbar": {
             "outlinewidth": 1,
             "tickcolor": "rgb(36,36,36)",
             "ticks": "outside"
            },
            "colorscale": [
             [
              0,
              "#440154"
             ],
             [
              0.1111111111111111,
              "#482878"
             ],
             [
              0.2222222222222222,
              "#3e4989"
             ],
             [
              0.3333333333333333,
              "#31688e"
             ],
             [
              0.4444444444444444,
              "#26828e"
             ],
             [
              0.5555555555555556,
              "#1f9e89"
             ],
             [
              0.6666666666666666,
              "#35b779"
             ],
             [
              0.7777777777777778,
              "#6ece58"
             ],
             [
              0.8888888888888888,
              "#b5de2b"
             ],
             [
              1,
              "#fde725"
             ]
            ],
            "type": "surface"
           }
          ],
          "table": [
           {
            "cells": {
             "fill": {
              "color": "rgb(237,237,237)"
             },
             "line": {
              "color": "white"
             }
            },
            "header": {
             "fill": {
              "color": "rgb(217,217,217)"
             },
             "line": {
              "color": "white"
             }
            },
            "type": "table"
           }
          ]
         },
         "layout": {
          "annotationdefaults": {
           "arrowcolor": "#2a3f5f",
           "arrowhead": 0,
           "arrowwidth": 1
          },
          "autotypenumbers": "strict",
          "coloraxis": {
           "colorbar": {
            "outlinewidth": 1,
            "tickcolor": "rgb(36,36,36)",
            "ticks": "outside"
           }
          },
          "colorscale": {
           "diverging": [
            [
             0,
             "rgb(103,0,31)"
            ],
            [
             0.1,
             "rgb(178,24,43)"
            ],
            [
             0.2,
             "rgb(214,96,77)"
            ],
            [
             0.3,
             "rgb(244,165,130)"
            ],
            [
             0.4,
             "rgb(253,219,199)"
            ],
            [
             0.5,
             "rgb(247,247,247)"
            ],
            [
             0.6,
             "rgb(209,229,240)"
            ],
            [
             0.7,
             "rgb(146,197,222)"
            ],
            [
             0.8,
             "rgb(67,147,195)"
            ],
            [
             0.9,
             "rgb(33,102,172)"
            ],
            [
             1,
             "rgb(5,48,97)"
            ]
           ],
           "sequential": [
            [
             0,
             "#440154"
            ],
            [
             0.1111111111111111,
             "#482878"
            ],
            [
             0.2222222222222222,
             "#3e4989"
            ],
            [
             0.3333333333333333,
             "#31688e"
            ],
            [
             0.4444444444444444,
             "#26828e"
            ],
            [
             0.5555555555555556,
             "#1f9e89"
            ],
            [
             0.6666666666666666,
             "#35b779"
            ],
            [
             0.7777777777777778,
             "#6ece58"
            ],
            [
             0.8888888888888888,
             "#b5de2b"
            ],
            [
             1,
             "#fde725"
            ]
           ],
           "sequentialminus": [
            [
             0,
             "#440154"
            ],
            [
             0.1111111111111111,
             "#482878"
            ],
            [
             0.2222222222222222,
             "#3e4989"
            ],
            [
             0.3333333333333333,
             "#31688e"
            ],
            [
             0.4444444444444444,
             "#26828e"
            ],
            [
             0.5555555555555556,
             "#1f9e89"
            ],
            [
             0.6666666666666666,
             "#35b779"
            ],
            [
             0.7777777777777778,
             "#6ece58"
            ],
            [
             0.8888888888888888,
             "#b5de2b"
            ],
            [
             1,
             "#fde725"
            ]
           ]
          },
          "colorway": [
           "#1F77B4",
           "#FF7F0E",
           "#2CA02C",
           "#D62728",
           "#9467BD",
           "#8C564B",
           "#E377C2",
           "#7F7F7F",
           "#BCBD22",
           "#17BECF"
          ],
          "font": {
           "color": "rgb(36,36,36)"
          },
          "geo": {
           "bgcolor": "white",
           "lakecolor": "white",
           "landcolor": "white",
           "showlakes": true,
           "showland": true,
           "subunitcolor": "white"
          },
          "hoverlabel": {
           "align": "left"
          },
          "hovermode": "closest",
          "mapbox": {
           "style": "light"
          },
          "paper_bgcolor": "white",
          "plot_bgcolor": "white",
          "polar": {
           "angularaxis": {
            "gridcolor": "rgb(232,232,232)",
            "linecolor": "rgb(36,36,36)",
            "showgrid": false,
            "showline": true,
            "ticks": "outside"
           },
           "bgcolor": "white",
           "radialaxis": {
            "gridcolor": "rgb(232,232,232)",
            "linecolor": "rgb(36,36,36)",
            "showgrid": false,
            "showline": true,
            "ticks": "outside"
           }
          },
          "scene": {
           "xaxis": {
            "backgroundcolor": "white",
            "gridcolor": "rgb(232,232,232)",
            "gridwidth": 2,
            "linecolor": "rgb(36,36,36)",
            "showbackground": true,
            "showgrid": false,
            "showline": true,
            "ticks": "outside",
            "zeroline": false,
            "zerolinecolor": "rgb(36,36,36)"
           },
           "yaxis": {
            "backgroundcolor": "white",
            "gridcolor": "rgb(232,232,232)",
            "gridwidth": 2,
            "linecolor": "rgb(36,36,36)",
            "showbackground": true,
            "showgrid": false,
            "showline": true,
            "ticks": "outside",
            "zeroline": false,
            "zerolinecolor": "rgb(36,36,36)"
           },
           "zaxis": {
            "backgroundcolor": "white",
            "gridcolor": "rgb(232,232,232)",
            "gridwidth": 2,
            "linecolor": "rgb(36,36,36)",
            "showbackground": true,
            "showgrid": false,
            "showline": true,
            "ticks": "outside",
            "zeroline": false,
            "zerolinecolor": "rgb(36,36,36)"
           }
          },
          "shapedefaults": {
           "fillcolor": "black",
           "line": {
            "color": "#2a3f5f",
            "width": 0
           },
           "opacity": 0.3
          },
          "ternary": {
           "aaxis": {
            "gridcolor": "rgb(232,232,232)",
            "linecolor": "rgb(36,36,36)",
            "showgrid": false,
            "showline": true,
            "ticks": "outside"
           },
           "baxis": {
            "gridcolor": "rgb(232,232,232)",
            "linecolor": "rgb(36,36,36)",
            "showgrid": false,
            "showline": true,
            "ticks": "outside"
           },
           "bgcolor": "white",
           "caxis": {
            "gridcolor": "rgb(232,232,232)",
            "linecolor": "rgb(36,36,36)",
            "showgrid": false,
            "showline": true,
            "ticks": "outside"
           }
          },
          "title": {
           "x": 0.05
          },
          "xaxis": {
           "automargin": true,
           "gridcolor": "rgb(232,232,232)",
           "linecolor": "rgb(36,36,36)",
           "showgrid": false,
           "showline": true,
           "ticks": "outside",
           "title": {
            "standoff": 15
           },
           "zeroline": false,
           "zerolinecolor": "rgb(36,36,36)",
           "zerolinewidth": 2
          },
          "yaxis": {
           "automargin": true,
           "gridcolor": "rgb(232,232,232)",
           "linecolor": "rgb(36,36,36)",
           "showgrid": false,
           "showline": true,
           "ticks": "outside",
           "title": {
            "standoff": 15
           },
           "zeroline": false,
           "zerolinecolor": "rgb(36,36,36)",
           "zerolinewidth": 2
          }
         }
        },
        "width": 600,
        "xaxis": {
         "anchor": "y",
         "domain": [
          0,
          1
         ],
         "range": [
          -0.01,
          1.01
         ],
         "showgrid": false,
         "title": {
          "text": "Trait mean"
         },
         "type": "linear"
        },
        "xaxis2": {
         "anchor": "y2",
         "autorange": true,
         "domain": [
          0,
          1
         ],
         "range": [
          -2.8846153846153846,
          47.88461538461539
         ],
         "showgrid": false,
         "title": {
          "text": "Number of applications"
         },
         "type": "linear"
        },
        "xaxis3": {
         "anchor": "y3",
         "domain": [
          0,
          1
         ],
         "showgrid": false,
         "title": {
          "text": "Trait variance"
         }
        },
        "yaxis": {
         "anchor": "x",
         "autorange": true,
         "domain": [
          0.7666666666666666,
          0.9999999999999999
         ],
         "range": [
          -0.8842567678965859,
          13.909418474589533
         ],
         "showgrid": false,
         "title": {
          "text": "Disease severity"
         },
         "type": "linear"
        },
        "yaxis2": {
         "anchor": "x2",
         "autorange": true,
         "domain": [
          0.3833333333333333,
          0.6166666666666666
         ],
         "range": [
          -0.06124272708391395,
          0.831895233956028
         ],
         "showgrid": false,
         "title": {
          "text": "Trait mean"
         },
         "type": "linear"
        },
        "yaxis3": {
         "anchor": "x3",
         "domain": [
          0,
          0.2333333333333333
         ],
         "showgrid": false,
         "title": {
          "text": "Change in trait mean"
         }
        }
       }
      },
      "image/png": "[encoded data removed]",
      "text/html": [
       "<div>                            <div id=\"57612c32-8a34-474d-96f9-84969a95357f\" class=\"plotly-graph-div\" style=\"height:800px; width:600px;\"></div>            <script type=\"text/javascript\">                require([\"plotly\"], function(Plotly) {                    window.PLOTLYENV=window.PLOTLYENV || {};                                    if (document.getElementById(\"57612c32-8a34-474d-96f9-84969a95357f\")) {                    Plotly.newPlot(                        \"57612c32-8a34-474d-96f9-84969a95357f\",                        [{\"line\":{\"color\":\"red\",\"dash\":\"dot\"},\"marker\":{\"color\":\"red\",\"size\":4},\"mode\":\"lines+markers\",\"name\":\"Dose=0.5, spray=1\",\"type\":\"scatter\",\"x\":[0.0025528415617962,0.0034677012910263,0.0050463441926158,0.0077994478389719,0.0125626754564965,0.0205263826931547,0.0329901030597795,0.050713792147814,0.0732589994415251,0.0990980645974554,0.1264911187800327,0.1542025237285,0.1815836517622648,0.2083359605163142,0.2343053016704402,0.2593895404227921],\"xaxis\":\"x\",\"y\":[null,5.301051065459305,5.401969681802809,5.554251646769798,5.785922128149615,6.133262832291847,6.633925929571419,7.306436482406039,8.121931942010487,9.00162304851572,9.854724303090803,10.623512492391493,11.293352455440653,11.874673651743183,12.384272397918703,12.836629110242932],\"yaxis\":\"y\"},{\"line\":{\"color\":\"red\",\"dash\":\"dot\"},\"marker\":{\"color\":\"red\",\"size\":4},\"mode\":\"lines+markers\",\"name\":\"Dose=0.5, spray=1\",\"opacity\":0.5,\"showlegend\":false,\"type\":\"scatter\",\"x\":[0,1,2,3,4,5,6,7,8,9,10,11,12,13,14,15],\"xaxis\":\"x2\",\"y\":[0.0025528415617962,0.0034677012910263,0.0050463441926158,0.0077994478389719,0.0125626754564965,0.0205263826931547,0.0329901030597795,0.050713792147814,0.0732589994415251,0.0990980645974554,0.1264911187800327,0.1542025237285,0.1815836517622648,0.2083359605163142,0.2343053016704402,0.2593895404227921],\"yaxis\":\"y2\"},{\"line\":{\"color\":\"red\",\"dash\":\"solid\"},\"marker\":{\"color\":\"red\",\"size\":4},\"mode\":\"lines+markers\",\"name\":\"Dose=1.0, spray=1\",\"type\":\"scatter\",\"x\":[0.0025528415617962,0.0036145368953543,0.0056424976050313,0.0096477319610338,0.0176125970665966,0.0328469763335557,0.0591801049196993,0.0980156240345531,0.1460003037923055,0.1973887289307164,0.2478809918703624,0.2954327829351857,0.3393124071465712,0.3793674776321389,0.4157181602786255,0.4486234202857964],\"xaxis\":\"x\",\"y\":[null,3.012309635122663,3.08616306615229,3.208225042316537,3.414884508013085,3.765756183121276,4.338659887908025,5.18421207788034,6.251886232578184,7.389810566309507,8.459013531983842,9.404935589540456,10.229592487149825,10.950216366819864,11.583186088396744,12.142027573077955],\"yaxis\":\"y\"},{\"line\":{\"color\":\"red\",\"dash\":\"solid\"},\"marker\":{\"color\":\"red\",\"size\":4},\"mode\":\"lines+markers\",\"name\":\"Dose=1.0, spray=1\",\"opacity\":0.5,\"showlegend\":false,\"type\":\"scatter\",\"x\":[0,1,2,3,4,5,6,7,8,9,10,11,12,13,14,15],\"xaxis\":\"x2\",\"y\":[0.0025528415617962,0.0036145368953543,0.0056424976050313,0.0096477319610338,0.0176125970665966,0.0328469763335557,0.0591801049196993,0.0980156240345531,0.1460003037923055,0.1973887289307164,0.2478809918703624,0.2954327829351857,0.3393124071465712,0.3793674776321389,0.4157181602786255,0.4486234202857964],\"yaxis\":\"y2\"},{\"line\":{\"color\":\"blue\",\"dash\":\"dot\"},\"marker\":{\"color\":\"blue\",\"size\":4},\"mode\":\"lines+markers\",\"name\":\"Dose=0.5, spray=2\",\"type\":\"scatter\",\"x\":[0.0025528415617962,0.0047385161839343,0.0108935274672656,0.0273180081657427,0.0618166088946029,0.1121028020479912,0.167013830106408,0.2201613569811828,0.2698747817086955,0.3156626259650174,0.3574002578916033,0.3952264954301162,0.4294352403036758,0.4603809122515733,0.488420683096217,0.5138884749065944],\"xaxis\":\"x\",\"y\":[null,1.4205855315002136,1.5614490216667225,1.888597120689244,2.6085224141380605,3.8563795326320585,5.360423419937773,6.744234416173386,7.92125415224913,8.930231194238104,9.805360475250088,10.568842547529163,11.237897123439724,11.826931364927562,12.348425329151151,12.8126446054765],\"yaxis\":\"y\"},{\"line\":{\"color\":\"blue\",\"dash\":\"dot\"},\"marker\":{\"color\":\"blue\",\"size\":4},\"mode\":\"lines+markers\",\"name\":\"Dose=0.5, spray=2\",\"opacity\":0.5,\"showlegend\":false,\"type\":\"scatter\",\"x\":[0,2,4,6,8,10,12,14,16,18,20,22,24,26,28,30],\"xaxis\":\"x2\",\"y\":[0.0025528415617962,0.0047385161839343,0.0108935274672656,0.0273180081657427,0.0618166088946029,0.1121028020479912,0.167013830106408,0.2201613569811828,0.2698747817086955,0.3156626259650174,0.3574002578916033,0.3952264954301162,0.4294352403036758,0.4603809122515733,0.488420683096217,0.5138884749065944],\"yaxis\":\"y2\"},{\"line\":{\"color\":\"blue\",\"dash\":\"solid\"},\"marker\":{\"color\":\"blue\",\"size\":4},\"mode\":\"lines+markers\",\"name\":\"Dose=1.0, spray=2\",\"type\":\"scatter\",\"x\":[0.0025528415617962,0.0049581998860329,0.0130347377786901,0.0406588719843574,0.1109171531004334,0.2132021805154371,0.3112123805749845,0.3930603542203148,0.4597896384809896,0.514290643172191,0.5592585815654236,0.5968332413816321,0.6286268896936064,0.6558442151349202,0.6793888976147585,0.6999475324547167],\"xaxis\":\"x\",\"y\":[null,0.5220998154918841,0.5810050517128821,0.7489485428419551,1.2520543748466133,2.4240580661510496,4.06124025400799,5.64353714244433,7.020426643742435,8.198931398499768,9.205959896925238,10.070263191056782,10.81740148043336,11.46774833736556,12.038258454045984,12.54226536312122],\"yaxis\":\"y\"},{\"line\":{\"color\":\"blue\",\"dash\":\"solid\"},\"marker\":{\"color\":\"blue\",\"size\":4},\"mode\":\"lines+markers\",\"name\":\"Dose=1.0, spray=2\",\"opacity\":0.5,\"showlegend\":false,\"type\":\"scatter\",\"x\":[0,2,4,6,8,10,12,14,16,18,20,22,24,26,28,30],\"xaxis\":\"x2\",\"y\":[0.0025528415617962,0.0049581998860329,0.0130347377786901,0.0406588719843574,0.1109171531004334,0.2132021805154371,0.3112123805749845,0.3930603542203148,0.4597896384809896,0.514290643172191,0.5592585815654236,0.5968332413816321,0.6286268896936064,0.6558442151349202,0.6793888976147585,0.6999475324547167],\"yaxis\":\"y2\"},{\"line\":{\"color\":\"black\",\"dash\":\"dot\"},\"marker\":{\"color\":\"black\",\"size\":4},\"mode\":\"lines+markers\",\"name\":\"Dose=0.5, spray=3\",\"type\":\"scatter\",\"x\":[0.0025528415617962,0.0059410950215644,0.0187856117246359,0.057155691033626,0.1228976256140174,0.1942526265179195,0.2608510586254086,0.3208600197732161,0.3739866356288398,0.4206421524024786,0.4615640379909297,0.4975443314482339,0.5293130189774411,0.5575008199452001,0.5826387139941713,0.6051693215808716],\"xaxis\":\"x\",\"y\":[null,0.6176974096636652,0.7561602352334917,1.1913955113751171,2.287338404351126,3.897399701869337,5.446182444734717,6.793194609619728,7.962721384916851,8.97624130479878,9.854519109243585,10.618242058745937,11.2855288670273,11.872137230308244,12.391031470801062,12.852727385840524],\"yaxis\":\"y\"},{\"line\":{\"color\":\"black\",\"dash\":\"dot\"},\"marker\":{\"color\":\"black\",\"size\":4},\"mode\":\"lines+markers\",\"name\":\"Dose=0.5, spray=3\",\"opacity\":0.5,\"showlegend\":false,\"type\":\"scatter\",\"x\":[0,3,6,9,12,15,18,21,24,27,30,33,36,39,42,45],\"xaxis\":\"x2\",\"y\":[0.0025528415617962,0.0059410950215644,0.0187856117246359,0.057155691033626,0.1228976256140174,0.1942526265179195,0.2608510586254086,0.3208600197732161,0.3739866356288398,0.4206421524024786,0.4615640379909297,0.4975443314482339,0.5293130189774411,0.5575008199452001,0.5826387139941713,0.6051693215808716],\"yaxis\":\"y2\"},{\"line\":{\"color\":\"black\",\"dash\":\"solid\"},\"marker\":{\"color\":\"black\",\"size\":4},\"mode\":\"lines+markers\",\"name\":\"Dose=1.0, spray=3\",\"type\":\"scatter\",\"x\":[0.0025528415617962,0.0062750284233083,0.0245265517140747,0.0984565953820602,0.2318117658393066,0.3537881909164067,0.4478146778666468,0.5197895343151866,0.575843091640954,0.6204620052946171,0.656721853265666,0.686728292445306,0.7119519378594605,0.733442556691275,0.7519677480461213,0.7680996653103179],\"xaxis\":\"x\",\"y\":[null,0.1724343208524227,0.2166400032622553,0.4156125575497766,1.2269318889609704,2.825780459174021,4.524283881429106,6.045795248082114,7.359813426675096,8.483478359295765,9.445560158620218,10.274097403206609,10.992384585977536,11.619883226373338,12.17181509153902,12.66081479391295],\"yaxis\":\"y\"},{\"line\":{\"color\":\"black\",\"dash\":\"solid\"},\"marker\":{\"color\":\"black\",\"size\":4},\"mode\":\"lines+markers\",\"name\":\"Dose=1.0, spray=3\",\"opacity\":0.5,\"showlegend\":false,\"type\":\"scatter\",\"x\":[0,3,6,9,12,15,18,21,24,27,30,33,36,39,42,45],\"xaxis\":\"x2\",\"y\":[0.0025528415617962,0.0062750284233083,0.0245265517140747,0.0984565953820602,0.2318117658393066,0.3537881909164067,0.4478146778666468,0.5197895343151866,0.575843091640954,0.6204620052946171,0.656721853265666,0.686728292445306,0.7119519378594605,0.733442556691275,0.7519677480461213,0.7680996653103179],\"yaxis\":\"y2\"}],                        {\"annotations\":[{\"font\":{\"color\":\"rgb(110,110,110)\",\"size\":20},\"showarrow\":false,\"text\":\"A\",\"x\":0,\"xanchor\":\"center\",\"xref\":\"paper\",\"y\":1.05,\"yanchor\":\"top\",\"yref\":\"paper\"},{\"font\":{\"color\":\"rgb(110,110,110)\",\"size\":20},\"showarrow\":false,\"text\":\"B\",\"x\":0,\"xanchor\":\"center\",\"xref\":\"paper\",\"y\":0.67,\"yanchor\":\"top\",\"yref\":\"paper\"},{\"font\":{\"color\":\"rgb(110,110,110)\",\"size\":20},\"showarrow\":false,\"text\":\"C\",\"x\":0,\"xanchor\":\"center\",\"xref\":\"paper\",\"y\":0.29000000000000004,\"yanchor\":\"top\",\"yref\":\"paper\"}],\"font\":{\"size\":14},\"height\":800,\"legend\":{\"font\":{\"size\":12},\"orientation\":\"h\",\"x\":0,\"y\":1.18},\"showlegend\":true,\"template\":{\"data\":{\"bar\":[{\"error_x\":{\"color\":\"rgb(36,36,36)\"},\"error_y\":{\"color\":\"rgb(36,36,36)\"},\"marker\":{\"line\":{\"color\":\"white\",\"width\":0.5},\"pattern\":{\"fillmode\":\"overlay\",\"size\":10,\"solidity\":0.2}},\"type\":\"bar\"}],\"barpolar\":[{\"marker\":{\"line\":{\"color\":\"white\",\"width\":0.5},\"pattern\":{\"fillmode\":\"overlay\",\"size\":10,\"solidity\":0.2}},\"type\":\"barpolar\"}],\"carpet\":[{\"aaxis\":{\"endlinecolor\":\"rgb(36,36,36)\",\"gridcolor\":\"white\",\"linecolor\":\"white\",\"minorgridcolor\":\"white\",\"startlinecolor\":\"rgb(36,36,36)\"},\"baxis\":{\"endlinecolor\":\"rgb(36,36,36)\",\"gridcolor\":\"white\",\"linecolor\":\"white\",\"minorgridcolor\":\"white\",\"startlinecolor\":\"rgb(36,36,36)\"},\"type\":\"carpet\"}],\"choropleth\":[{\"colorbar\":{\"outlinewidth\":1,\"tickcolor\":\"rgb(36,36,36)\",\"ticks\":\"outside\"},\"type\":\"choropleth\"}],\"contour\":[{\"colorbar\":{\"outlinewidth\":1,\"tickcolor\":\"rgb(36,36,36)\",\"ticks\":\"outside\"},\"colorscale\":[[0.0,\"#440154\"],[0.1111111111111111,\"#482878\"],[0.2222222222222222,\"#3e4989\"],[0.3333333333333333,\"#31688e\"],[0.4444444444444444,\"#26828e\"],[0.5555555555555556,\"#1f9e89\"],[0.6666666666666666,\"#35b779\"],[0.7777777777777778,\"#6ece58\"],[0.8888888888888888,\"#b5de2b\"],[1.0,\"#fde725\"]],\"type\":\"contour\"}],\"contourcarpet\":[{\"colorbar\":{\"outlinewidth\":1,\"tickcolor\":\"rgb(36,36,36)\",\"ticks\":\"outside\"},\"type\":\"contourcarpet\"}],\"heatmap\":[{\"colorbar\":{\"outlinewidth\":1,\"tickcolor\":\"rgb(36,36,36)\",\"ticks\":\"outside\"},\"colorscale\":[[0.0,\"#440154\"],[0.1111111111111111,\"#482878\"],[0.2222222222222222,\"#3e4989\"],[0.3333333333333333,\"#31688e\"],[0.4444444444444444,\"#26828e\"],[0.5555555555555556,\"#1f9e89\"],[0.6666666666666666,\"#35b779\"],[0.7777777777777778,\"#6ece58\"],[0.8888888888888888,\"#b5de2b\"],[1.0,\"#fde725\"]],\"type\":\"heatmap\"}],\"heatmapgl\":[{\"colorbar\":{\"outlinewidth\":1,\"tickcolor\":\"rgb(36,36,36)\",\"ticks\":\"outside\"},\"colorscale\":[[0.0,\"#440154\"],[0.1111111111111111,\"#482878\"],[0.2222222222222222,\"#3e4989\"],[0.3333333333333333,\"#31688e\"],[0.4444444444444444,\"#26828e\"],[0.5555555555555556,\"#1f9e89\"],[0.6666666666666666,\"#35b779\"],[0.7777777777777778,\"#6ece58\"],[0.8888888888888888,\"#b5de2b\"],[1.0,\"#fde725\"]],\"type\":\"heatmapgl\"}],\"histogram\":[{\"marker\":{\"line\":{\"color\":\"white\",\"width\":0.6},\"pattern\":{\"fillmode\":\"overlay\",\"size\":10,\"solidity\":0.2}},\"type\":\"histogram\"}],\"histogram2d\":[{\"colorbar\":{\"outlinewidth\":1,\"tickcolor\":\"rgb(36,36,36)\",\"ticks\":\"outside\"},\"colorscale\":[[0.0,\"#440154\"],[0.1111111111111111,\"#482878\"],[0.2222222222222222,\"#3e4989\"],[0.3333333333333333,\"#31688e\"],[0.4444444444444444,\"#26828e\"],[0.5555555555555556,\"#1f9e89\"],[0.6666666666666666,\"#35b779\"],[0.7777777777777778,\"#6ece58\"],[0.8888888888888888,\"#b5de2b\"],[1.0,\"#fde725\"]],\"type\":\"histogram2d\"}],\"histogram2dcontour\":[{\"colorbar\":{\"outlinewidth\":1,\"tickcolor\":\"rgb(36,36,36)\",\"ticks\":\"outside\"},\"colorscale\":[[0.0,\"#440154\"],[0.1111111111111111,\"#482878\"],[0.2222222222222222,\"#3e4989\"],[0.3333333333333333,\"#31688e\"],[0.4444444444444444,\"#26828e\"],[0.5555555555555556,\"#1f9e89\"],[0.6666666666666666,\"#35b779\"],[0.7777777777777778,\"#6ece58\"],[0.8888888888888888,\"#b5de2b\"],[1.0,\"#fde725\"]],\"type\":\"histogram2dcontour\"}],\"mesh3d\":[{\"colorbar\":{\"outlinewidth\":1,\"tickcolor\":\"rgb(36,36,36)\",\"ticks\":\"outside\"},\"type\":\"mesh3d\"}],\"parcoords\":[{\"line\":{\"colorbar\":{\"outlinewidth\":1,\"tickcolor\":\"rgb(36,36,36)\",\"ticks\":\"outside\"}},\"type\":\"parcoords\"}],\"pie\":[{\"automargin\":true,\"type\":\"pie\"}],\"scatter\":[{\"marker\":{\"colorbar\":{\"outlinewidth\":1,\"tickcolor\":\"rgb(36,36,36)\",\"ticks\":\"outside\"}},\"type\":\"scatter\"}],\"scatter3d\":[{\"line\":{\"colorbar\":{\"outlinewidth\":1,\"tickcolor\":\"rgb(36,36,36)\",\"ticks\":\"outside\"}},\"marker\":{\"colorbar\":{\"outlinewidth\":1,\"tickcolor\":\"rgb(36,36,36)\",\"ticks\":\"outside\"}},\"type\":\"scatter3d\"}],\"scattercarpet\":[{\"marker\":{\"colorbar\":{\"outlinewidth\":1,\"tickcolor\":\"rgb(36,36,36)\",\"ticks\":\"outside\"}},\"type\":\"scattercarpet\"}],\"scattergeo\":[{\"marker\":{\"colorbar\":{\"outlinewidth\":1,\"tickcolor\":\"rgb(36,36,36)\",\"ticks\":\"outside\"}},\"type\":\"scattergeo\"}],\"scattergl\":[{\"marker\":{\"colorbar\":{\"outlinewidth\":1,\"tickcolor\":\"rgb(36,36,36)\",\"ticks\":\"outside\"}},\"type\":\"scattergl\"}],\"scattermapbox\":[{\"marker\":{\"colorbar\":{\"outlinewidth\":1,\"tickcolor\":\"rgb(36,36,36)\",\"ticks\":\"outside\"}},\"type\":\"scattermapbox\"}],\"scatterpolar\":[{\"marker\":{\"colorbar\":{\"outlinewidth\":1,\"tickcolor\":\"rgb(36,36,36)\",\"ticks\":\"outside\"}},\"type\":\"scatterpolar\"}],\"scatterpolargl\":[{\"marker\":{\"colorbar\":{\"outlinewidth\":1,\"tickcolor\":\"rgb(36,36,36)\",\"ticks\":\"outside\"}},\"type\":\"scatterpolargl\"}],\"scatterternary\":[{\"marker\":{\"colorbar\":{\"outlinewidth\":1,\"tickcolor\":\"rgb(36,36,36)\",\"ticks\":\"outside\"}},\"type\":\"scatterternary\"}],\"surface\":[{\"colorbar\":{\"outlinewidth\":1,\"tickcolor\":\"rgb(36,36,36)\",\"ticks\":\"outside\"},\"colorscale\":[[0.0,\"#440154\"],[0.1111111111111111,\"#482878\"],[0.2222222222222222,\"#3e4989\"],[0.3333333333333333,\"#31688e\"],[0.4444444444444444,\"#26828e\"],[0.5555555555555556,\"#1f9e89\"],[0.6666666666666666,\"#35b779\"],[0.7777777777777778,\"#6ece58\"],[0.8888888888888888,\"#b5de2b\"],[1.0,\"#fde725\"]],\"type\":\"surface\"}],\"table\":[{\"cells\":{\"fill\":{\"color\":\"rgb(237,237,237)\"},\"line\":{\"color\":\"white\"}},\"header\":{\"fill\":{\"color\":\"rgb(217,217,217)\"},\"line\":{\"color\":\"white\"}},\"type\":\"table\"}]},\"layout\":{\"annotationdefaults\":{\"arrowcolor\":\"#2a3f5f\",\"arrowhead\":0,\"arrowwidth\":1},\"autotypenumbers\":\"strict\",\"coloraxis\":{\"colorbar\":{\"outlinewidth\":1,\"tickcolor\":\"rgb(36,36,36)\",\"ticks\":\"outside\"}},\"colorscale\":{\"diverging\":[[0.0,\"rgb(103,0,31)\"],[0.1,\"rgb(178,24,43)\"],[0.2,\"rgb(214,96,77)\"],[0.3,\"rgb(244,165,130)\"],[0.4,\"rgb(253,219,199)\"],[0.5,\"rgb(247,247,247)\"],[0.6,\"rgb(209,229,240)\"],[0.7,\"rgb(146,197,222)\"],[0.8,\"rgb(67,147,195)\"],[0.9,\"rgb(33,102,172)\"],[1.0,\"rgb(5,48,97)\"]],\"sequential\":[[0.0,\"#440154\"],[0.1111111111111111,\"#482878\"],[0.2222222222222222,\"#3e4989\"],[0.3333333333333333,\"#31688e\"],[0.4444444444444444,\"#26828e\"],[0.5555555555555556,\"#1f9e89\"],[0.6666666666666666,\"#35b779\"],[0.7777777777777778,\"#6ece58\"],[0.8888888888888888,\"#b5de2b\"],[1.0,\"#fde725\"]],\"sequentialminus\":[[0.0,\"#440154\"],[0.1111111111111111,\"#482878\"],[0.2222222222222222,\"#3e4989\"],[0.3333333333333333,\"#31688e\"],[0.4444444444444444,\"#26828e\"],[0.5555555555555556,\"#1f9e89\"],[0.6666666666666666,\"#35b779\"],[0.7777777777777778,\"#6ece58\"],[0.8888888888888888,\"#b5de2b\"],[1.0,\"#fde725\"]]},\"colorway\":[\"#1F77B4\",\"#FF7F0E\",\"#2CA02C\",\"#D62728\",\"#9467BD\",\"#8C564B\",\"#E377C2\",\"#7F7F7F\",\"#BCBD22\",\"#17BECF\"],\"font\":{\"color\":\"rgb(36,36,36)\"},\"geo\":{\"bgcolor\":\"white\",\"lakecolor\":\"white\",\"landcolor\":\"white\",\"showlakes\":true,\"showland\":true,\"subunitcolor\":\"white\"},\"hoverlabel\":{\"align\":\"left\"},\"hovermode\":\"closest\",\"mapbox\":{\"style\":\"light\"},\"paper_bgcolor\":\"white\",\"plot_bgcolor\":\"white\",\"polar\":{\"angularaxis\":{\"gridcolor\":\"rgb(232,232,232)\",\"linecolor\":\"rgb(36,36,36)\",\"showgrid\":false,\"showline\":true,\"ticks\":\"outside\"},\"bgcolor\":\"white\",\"radialaxis\":{\"gridcolor\":\"rgb(232,232,232)\",\"linecolor\":\"rgb(36,36,36)\",\"showgrid\":false,\"showline\":true,\"ticks\":\"outside\"}},\"scene\":{\"xaxis\":{\"backgroundcolor\":\"white\",\"gridcolor\":\"rgb(232,232,232)\",\"gridwidth\":2,\"linecolor\":\"rgb(36,36,36)\",\"showbackground\":true,\"showgrid\":false,\"showline\":true,\"ticks\":\"outside\",\"zeroline\":false,\"zerolinecolor\":\"rgb(36,36,36)\"},\"yaxis\":{\"backgroundcolor\":\"white\",\"gridcolor\":\"rgb(232,232,232)\",\"gridwidth\":2,\"linecolor\":\"rgb(36,36,36)\",\"showbackground\":true,\"showgrid\":false,\"showline\":true,\"ticks\":\"outside\",\"zeroline\":false,\"zerolinecolor\":\"rgb(36,36,36)\"},\"zaxis\":{\"backgroundcolor\":\"white\",\"gridcolor\":\"rgb(232,232,232)\",\"gridwidth\":2,\"linecolor\":\"rgb(36,36,36)\",\"showbackground\":true,\"showgrid\":false,\"showline\":true,\"ticks\":\"outside\",\"zeroline\":false,\"zerolinecolor\":\"rgb(36,36,36)\"}},\"shapedefaults\":{\"fillcolor\":\"black\",\"line\":{\"color\":\"#2a3f5f\",\"width\":0},\"opacity\":0.3},\"ternary\":{\"aaxis\":{\"gridcolor\":\"rgb(232,232,232)\",\"linecolor\":\"rgb(36,36,36)\",\"showgrid\":false,\"showline\":true,\"ticks\":\"outside\"},\"baxis\":{\"gridcolor\":\"rgb(232,232,232)\",\"linecolor\":\"rgb(36,36,36)\",\"showgrid\":false,\"showline\":true,\"ticks\":\"outside\"},\"bgcolor\":\"white\",\"caxis\":{\"gridcolor\":\"rgb(232,232,232)\",\"linecolor\":\"rgb(36,36,36)\",\"showgrid\":false,\"showline\":true,\"ticks\":\"outside\"}},\"title\":{\"x\":0.05},\"xaxis\":{\"automargin\":true,\"gridcolor\":\"rgb(232,232,232)\",\"linecolor\":\"rgb(36,36,36)\",\"showgrid\":false,\"showline\":true,\"ticks\":\"outside\",\"title\":{\"standoff\":15},\"zeroline\":false,\"zerolinecolor\":\"rgb(36,36,36)\",\"zerolinewidth\":2},\"yaxis\":{\"automargin\":true,\"gridcolor\":\"rgb(232,232,232)\",\"linecolor\":\"rgb(36,36,36)\",\"showgrid\":false,\"showline\":true,\"ticks\":\"outside\",\"title\":{\"standoff\":15},\"zeroline\":false,\"zerolinecolor\":\"rgb(36,36,36)\",\"zerolinewidth\":2}}},\"width\":600,\"xaxis\":{\"anchor\":\"y\",\"domain\":[0.0,1.0],\"range\":[-0.01,1.01],\"showgrid\":false,\"title\":{\"text\":\"Trait mean\"}},\"xaxis2\":{\"anchor\":\"y2\",\"domain\":[0.0,1.0],\"showgrid\":false,\"title\":{\"text\":\"Number of applications\"}},\"xaxis3\":{\"anchor\":\"y3\",\"domain\":[0.0,1.0],\"showgrid\":false,\"title\":{\"text\":\"Trait variance\"}},\"yaxis\":{\"anchor\":\"x\",\"domain\":[0.7666666666666666,0.9999999999999999],\"showgrid\":false,\"title\":{\"text\":\"Disease severity\"}},\"yaxis2\":{\"anchor\":\"x2\",\"domain\":[0.3833333333333333,0.6166666666666666],\"showgrid\":false,\"title\":{\"text\":\"Trait mean\"}},\"yaxis3\":{\"anchor\":\"x3\",\"domain\":[0.0,0.2333333333333333],\"showgrid\":false,\"title\":{\"text\":\"Change in trait mean\"}}},                        {\"responsive\": true}                    ).then(function(){\n",
       "                            \n",
       "var gd = document.getElementById('57612c32-8a34-474d-96f9-84969a95357f');\n",
       "var x = new MutationObserver(function (mutations, observer) {{\n",
       "        var display = window.getComputedStyle(gd).display;\n",
       "        if (!display || display === 'none') {{\n",
       "            console.log([gd, 'removed!']);\n",
       "            Plotly.purge(gd);\n",
       "            observer.disconnect();\n",
       "        }}\n",
       "}});\n",
       "\n",
       "// Listen for the removal of the full notebook cells\n",
       "var notebookContainer = gd.closest('#notebook-container');\n",
       "if (notebookContainer) {{\n",
       "    x.observe(notebookContainer, {childList: true});\n",
       "}}\n",
       "\n",
       "// Listen for the clearing of the current output cell\n",
       "var outputEl = gd.closest('.output');\n",
       "if (outputEl) {{\n",
       "    x.observe(outputEl, {childList: true});\n",
       "}}\n",
       "\n",
       "                        })                };                });            </script>        </div>"
      ]
     },
     "metadata": {},
     "output_type": "display_data"
    }
   ],
   "source": [
    "f = fig1(df_use)\n",
    "\n",
    "f.show()"
   ]
  },
  {
   "cell_type": "markdown",
   "id": "56a7d4ba-982e-4049-89af-d95df7018b51",
   "metadata": {},
   "source": [
    "More applications gives slightly slower relative increase:\n",
    "\n",
    "- perhaps due to mutation having less of an effect? i.e. fewer generations so less mutation?\n",
    "- something to do with chemical decay / density dependence?\n",
    "\n",
    "High dose / N applications:\n",
    "\n",
    "- reduced mutation\n",
    "- increased selection on existing variation or variants that do arise via mutation (but not per spray increased?)"
   ]
  },
  {
   "cell_type": "code",
   "execution_count": 11,
   "id": "7a987cfc-0b38-4d7c-8c8a-3bd77ab0f308",
   "metadata": {},
   "outputs": [],
   "source": [
    "f.write_image('../figures/paper/fig1.png')"
   ]
  },
  {
   "cell_type": "code",
   "execution_count": null,
   "id": "803a146c-f665-4d6b-8760-bacb921ced9c",
   "metadata": {},
   "outputs": [],
   "source": []
  }
 ],
 "metadata": {
  "kernelspec": {
   "display_name": "poly2_kernel",
   "language": "python",
   "name": "poly2_kernel"
  },
  "language_info": {
   "codemirror_mode": {
    "name": "ipython",
    "version": 3
   },
   "file_extension": ".py",
   "mimetype": "text/x-python",
   "name": "python",
   "nbconvert_exporter": "python",
   "pygments_lexer": "ipython3",
   "version": "3.8.12"
  }
 },
 "nbformat": 4,
 "nbformat_minor": 5
}
