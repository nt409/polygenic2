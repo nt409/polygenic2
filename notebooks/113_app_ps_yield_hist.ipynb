{
 "cells": [
  {
   "cell_type": "markdown",
   "id": "59d8512c-fd3a-4ab2-ae04-05bfe55bf48e",
   "metadata": {},
   "source": [
    "# Cumulative app version of fig 3\n",
    "\n",
    "Cumulative yield"
   ]
  },
  {
   "cell_type": "code",
   "execution_count": 1,
   "id": "10a4e91c-2ac1-4c97-9800-7dea3cb6c2df",
   "metadata": {},
   "outputs": [],
   "source": [
    "%load_ext autoreload\n",
    "%autoreload 2\n",
    "\n",
    "# %matplotlib widget"
   ]
  },
  {
   "cell_type": "code",
   "execution_count": 42,
   "id": "f598092b-71c1-4fde-bb78-b6551f449484",
   "metadata": {},
   "outputs": [],
   "source": [
    "import pandas as pd\n",
    "\n",
    "import seaborn as sns\n",
    "\n",
    "from math import log\n",
    "\n",
    "import numpy as np\n",
    "import matplotlib.pyplot as plt\n",
    "\n",
    "import plotly.graph_objects as go\n",
    "from plotly.subplots import make_subplots\n",
    "import plotly.express as px\n",
    "\n",
    "# from xgboost import XGBRegressor\n",
    "# import shap\n",
    "\n",
    "\n",
    "from plots2.fns import (\n",
    "    get_corner_annotations,\n",
    "    get_corner_annotations_custom_labels,\n",
    "    # get_corner_annotations_explicit\n",
    ")\n",
    "\n",
    "from plots2.consts import (\n",
    "    SMALL_FONT,\n",
    "    MEDIUM_FONT,\n",
    "    BIGGER_FONT,\n",
    "    SHAP_BLUE\n",
    ")\n",
    "\n",
    "from poly2.utils import trait_vec, gamma_dist\n",
    "# from poly2.run import no_joblib_single_run, no_joblib_multiple_run\n",
    "from poly2.config import Config, ConfigMixture, get_asymptote_config\n",
    "from poly2.simulator import SimulatorOneTrait, SimulatorAsymptote"
   ]
  },
  {
   "cell_type": "code",
   "execution_count": 3,
   "id": "7945930e-6360-4107-bb2b-25dff39146d3",
   "metadata": {},
   "outputs": [
    {
     "data": {
      "text/html": [
       "<div>\n",
       "<style scoped>\n",
       "    .dataframe tbody tr th:only-of-type {\n",
       "        vertical-align: middle;\n",
       "    }\n",
       "\n",
       "    .dataframe tbody tr th {\n",
       "        vertical-align: top;\n",
       "    }\n",
       "\n",
       "    .dataframe thead th {\n",
       "        text-align: right;\n",
       "    }\n",
       "</style>\n",
       "<table border=\"1\" class=\"dataframe\">\n",
       "  <thead>\n",
       "    <tr style=\"text-align: right;\">\n",
       "      <th></th>\n",
       "      <th>run</th>\n",
       "      <th>year</th>\n",
       "      <th>dose</th>\n",
       "      <th>yld</th>\n",
       "      <th>cum_yld</th>\n",
       "      <th>mu</th>\n",
       "      <th>b</th>\n",
       "      <th>asymptote</th>\n",
       "      <th>dec_rate_multiplier</th>\n",
       "      <th>m_prop_multiplier</th>\n",
       "      <th>m_scale_multiplier</th>\n",
       "      <th>ME_mean</th>\n",
       "    </tr>\n",
       "  </thead>\n",
       "  <tbody>\n",
       "    <tr>\n",
       "      <th>0</th>\n",
       "      <td>0.0</td>\n",
       "      <td>1.0</td>\n",
       "      <td>1.0</td>\n",
       "      <td>10.021293</td>\n",
       "      <td>10.021293</td>\n",
       "      <td>17.879734</td>\n",
       "      <td>2.744068</td>\n",
       "      <td>0.602763</td>\n",
       "      <td>1.786355</td>\n",
       "      <td>0.703574</td>\n",
       "      <td>1.95789</td>\n",
       "      <td>0.398241</td>\n",
       "    </tr>\n",
       "    <tr>\n",
       "      <th>1</th>\n",
       "      <td>0.0</td>\n",
       "      <td>2.0</td>\n",
       "      <td>1.0</td>\n",
       "      <td>10.021275</td>\n",
       "      <td>20.042568</td>\n",
       "      <td>17.879734</td>\n",
       "      <td>2.744068</td>\n",
       "      <td>0.602763</td>\n",
       "      <td>1.786355</td>\n",
       "      <td>0.703574</td>\n",
       "      <td>1.95789</td>\n",
       "      <td>0.398241</td>\n",
       "    </tr>\n",
       "    <tr>\n",
       "      <th>2</th>\n",
       "      <td>0.0</td>\n",
       "      <td>3.0</td>\n",
       "      <td>1.0</td>\n",
       "      <td>10.021238</td>\n",
       "      <td>30.063805</td>\n",
       "      <td>17.879734</td>\n",
       "      <td>2.744068</td>\n",
       "      <td>0.602763</td>\n",
       "      <td>1.786355</td>\n",
       "      <td>0.703574</td>\n",
       "      <td>1.95789</td>\n",
       "      <td>0.398241</td>\n",
       "    </tr>\n",
       "    <tr>\n",
       "      <th>3</th>\n",
       "      <td>0.0</td>\n",
       "      <td>4.0</td>\n",
       "      <td>1.0</td>\n",
       "      <td>10.021156</td>\n",
       "      <td>40.084961</td>\n",
       "      <td>17.879734</td>\n",
       "      <td>2.744068</td>\n",
       "      <td>0.602763</td>\n",
       "      <td>1.786355</td>\n",
       "      <td>0.703574</td>\n",
       "      <td>1.95789</td>\n",
       "      <td>0.398241</td>\n",
       "    </tr>\n",
       "    <tr>\n",
       "      <th>4</th>\n",
       "      <td>0.0</td>\n",
       "      <td>5.0</td>\n",
       "      <td>1.0</td>\n",
       "      <td>10.020970</td>\n",
       "      <td>50.105931</td>\n",
       "      <td>17.879734</td>\n",
       "      <td>2.744068</td>\n",
       "      <td>0.602763</td>\n",
       "      <td>1.786355</td>\n",
       "      <td>0.703574</td>\n",
       "      <td>1.95789</td>\n",
       "      <td>0.398241</td>\n",
       "    </tr>\n",
       "  </tbody>\n",
       "</table>\n",
       "</div>"
      ],
      "text/plain": [
       "   run  year  dose        yld    cum_yld         mu         b  asymptote  \\\n",
       "0  0.0   1.0   1.0  10.021293  10.021293  17.879734  2.744068   0.602763   \n",
       "1  0.0   2.0   1.0  10.021275  20.042568  17.879734  2.744068   0.602763   \n",
       "2  0.0   3.0   1.0  10.021238  30.063805  17.879734  2.744068   0.602763   \n",
       "3  0.0   4.0   1.0  10.021156  40.084961  17.879734  2.744068   0.602763   \n",
       "4  0.0   5.0   1.0  10.020970  50.105931  17.879734  2.744068   0.602763   \n",
       "\n",
       "   dec_rate_multiplier  m_prop_multiplier  m_scale_multiplier   ME_mean  \n",
       "0             1.786355           0.703574             1.95789  0.398241  \n",
       "1             1.786355           0.703574             1.95789  0.398241  \n",
       "2             1.786355           0.703574             1.95789  0.398241  \n",
       "3             1.786355           0.703574             1.95789  0.398241  \n",
       "4             1.786355           0.703574             1.95789  0.398241  "
      ]
     },
     "execution_count": 3,
     "metadata": {},
     "output_type": "execute_result"
    }
   ],
   "source": [
    "df = pd.read_csv('../outputs/combined/processed_scan_cumulative.csv')\n",
    "\n",
    "df.head()"
   ]
  },
  {
   "cell_type": "markdown",
   "id": "7c139d7b-09c5-4552-a77a-3a6bac510890",
   "metadata": {},
   "source": [
    "## Yield plot"
   ]
  },
  {
   "cell_type": "code",
   "execution_count": 41,
   "id": "500d3643-6a1c-4414-a68d-a4346e2f8dee",
   "metadata": {},
   "outputs": [
    {
     "name": "stdout",
     "output_type": "stream",
     "text": [
      "CONFIG\n",
      "------\n",
      "I0s = [0.00985703]\n",
      "asymptote = None\n",
      "betas = [0.00786542]\n",
      "decay_rate = None\n",
      "doses = [1.]\n",
      "fungicide_mixture = False\n",
      "host_on = None\n",
      "k_b = 0.8431572316700577\n",
      "k_mu = 9.44286788381916\n",
      "l_b = 6.585357214619326\n",
      "l_mu = 0.8089358816813786\n",
      "mutation_proportion = 1.234375e-05\n",
      "mutation_scale_fung = 0.0019836158401698102\n",
      "mutation_scale_host = 0.0019836158401698102\n",
      "n_k = 300\n",
      "n_l = 50\n",
      "n_years = 1\n",
      "replace_cultivars = None\n",
      "sprays = None\n",
      "\n"
     ]
    }
   ],
   "source": [
    "cf = Config(n_k=300, n_years=1)"
   ]
  },
  {
   "cell_type": "code",
   "execution_count": 44,
   "id": "4aa41290-55f3-4e02-89cc-50d6216126ee",
   "metadata": {},
   "outputs": [],
   "source": [
    "data = SimulatorOneTrait(cf).run_model()"
   ]
  },
  {
   "cell_type": "code",
   "execution_count": 51,
   "id": "09375a6a-1128-418e-8c19-f2e5eee802f4",
   "metadata": {},
   "outputs": [],
   "source": [
    "DEFAULT_YIELD = data['yield_vec'][0]"
   ]
  },
  {
   "cell_type": "code",
   "execution_count": 37,
   "id": "6f4c5fb4-eeb4-4dc5-8f25-06098767a9ee",
   "metadata": {},
   "outputs": [],
   "source": [
    "plt.rc('font', size=SMALL_FONT)          # controls default text sizes\n",
    "plt.rc('axes', titlesize=SMALL_FONT)     # fontsize of the axes title\n",
    "plt.rc('axes', labelsize=MEDIUM_FONT)    # fontsize of the x and y labels\n",
    "plt.rc('xtick', labelsize=SMALL_FONT)    # fontsize of the tick labels\n",
    "plt.rc('ytick', labelsize=SMALL_FONT)    # fontsize of the tick labels\n",
    "plt.rc('legend', fontsize=SMALL_FONT)    # legend fontsize"
   ]
  },
  {
   "cell_type": "code",
   "execution_count": 57,
   "id": "e925a0bb-92d3-4068-931e-52df2adf70d7",
   "metadata": {},
   "outputs": [
    {
     "data": {
      "text/plain": [
       "<matplotlib.legend.Legend at 0x252d33ee4f0>"
      ]
     },
     "execution_count": 57,
     "metadata": {},
     "output_type": "execute_result"
    },
    {
     "data": {
      "image/png": "[encoded data removed]",
      "text/plain": [
       "<Figure size 576x288 with 1 Axes>"
      ]
     },
     "metadata": {
      "needs_background": "light"
     },
     "output_type": "display_data"
    }
   ],
   "source": [
    "f, ax = plt.subplots(figsize=(8,4))\n",
    "\n",
    "(\n",
    "    df\n",
    "    .loc[lambda x: x.year==1]\n",
    "    .loc[:, ['yld']]\n",
    "    .reset_index(drop=True)\n",
    "    .hist('yld', bins=50, ax=ax)\n",
    ")\n",
    "\n",
    "ax.axvline(DEFAULT_YIELD, c='r', ls='--', lw=4, label='Default value')\n",
    "\n",
    "ax.grid(False)\n",
    "ax.set_title(None)\n",
    "ax.set_xlabel('Yield')\n",
    "ax.set_ylabel('Count')\n",
    "\n",
    "ax.legend(loc=2, frameon=False)"
   ]
  },
  {
   "cell_type": "markdown",
   "id": "2893eecd-385f-4cbb-a2de-87da681e08f4",
   "metadata": {},
   "source": [
    "# Save"
   ]
  },
  {
   "cell_type": "code",
   "execution_count": 58,
   "id": "080b2460-da76-4bfa-97c6-9420424c291f",
   "metadata": {},
   "outputs": [],
   "source": [
    "f.savefig('../figures/paper/app3_y_fig1.jpg', dpi=300, bbox_inches=\"tight\")"
   ]
  },
  {
   "cell_type": "code",
   "execution_count": null,
   "id": "cbb2b680-f52b-4204-bb1b-0312625387f9",
   "metadata": {},
   "outputs": [],
   "source": []
  }
 ],
 "metadata": {
  "kernelspec": {
   "display_name": "poly2_kernel",
   "language": "python",
   "name": "poly2_kernel"
  },
  "language_info": {
   "codemirror_mode": {
    "name": "ipython",
    "version": 3
   },
   "file_extension": ".py",
   "mimetype": "text/x-python",
   "name": "python",
   "nbconvert_exporter": "python",
   "pygments_lexer": "ipython3",
   "version": "3.8.12"
  }
 },
 "nbformat": 4,
 "nbformat_minor": 5
}
