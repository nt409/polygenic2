{
 "cells": [
  {
   "cell_type": "markdown",
   "id": "3b2d9bb1-b006-465c-9f4b-de6474891438",
   "metadata": {},
   "source": [
    "# Hyperparam optimisation"
   ]
  },
  {
   "cell_type": "code",
   "execution_count": 1,
   "id": "52a58e05-1803-48b2-aa54-4fc8afaa4358",
   "metadata": {},
   "outputs": [],
   "source": [
    "%load_ext autoreload\n",
    "%autoreload 2\n",
    "\n",
    "# %matplotlib widget"
   ]
  },
  {
   "cell_type": "code",
   "execution_count": 2,
   "id": "0044f611-16c0-4b8f-858d-6862d2c1008a",
   "metadata": {},
   "outputs": [
    {
     "name": "stderr",
     "output_type": "stream",
     "text": [
      "C:\\Users\\user\\anaconda3\\envs\\poly2\\lib\\site-packages\\xgboost\\compat.py:36: FutureWarning: pandas.Int64Index is deprecated and will be removed from pandas in a future version. Use pandas.Index with the appropriate dtype instead.\n",
      "  from pandas import MultiIndex, Int64Index\n"
     ]
    }
   ],
   "source": [
    "import pandas as pd\n",
    "import warnings\n",
    "import seaborn as sns\n",
    "\n",
    "import optuna\n",
    "from optuna.samplers import TPESampler\n",
    "from optuna.visualization import (\n",
    "    plot_optimization_history,\n",
    "    plot_contour,\n",
    ")\n",
    "\n",
    "import numpy as np\n",
    "import matplotlib.pyplot as plt\n",
    "\n",
    "import plotly.graph_objects as go\n",
    "from plotly.subplots import make_subplots\n",
    "import plotly.express as px\n",
    "\n",
    "from xgboost import XGBRegressor\n",
    "import shap\n",
    "\n",
    "from sklearn.metrics import mean_squared_error\n",
    "from sklearn.model_selection import KFold\n",
    "\n",
    "\n",
    "# from plots2.fns import (\n",
    "#     standard_layout,\n",
    "#     corner_annotations_colwise,\n",
    "#     corner_annotations_rowwise,\n",
    "#     get_text_annotation\n",
    "# )\n",
    "\n",
    "from poly2.utils import get_dispersal_kernel, trait_vec, beta_dist, gamma_dist\n",
    "from poly2.run import no_joblib_single_run, no_joblib_multiple_run\n",
    "from poly2.config import Config, ConfigMixture, get_asymptote_config\n",
    "from poly2.simulator import SimulatorOneTrait, SimulatorAsymptote"
   ]
  },
  {
   "cell_type": "code",
   "execution_count": 3,
   "id": "4d10f2d9-14c7-45fe-a827-2fc6264f1c7b",
   "metadata": {},
   "outputs": [],
   "source": [
    "df = pd.read_csv('../outputs/combined/scan_all.csv')"
   ]
  },
  {
   "cell_type": "code",
   "execution_count": 4,
   "id": "ca6c8b9b-f9a7-4046-835c-d66f5a4a9abf",
   "metadata": {},
   "outputs": [],
   "source": [
    "# df_filt = df.loc[lambda x: x.year<=30].reset_index(drop=True)"
   ]
  },
  {
   "cell_type": "code",
   "execution_count": 5,
   "id": "3edd4c36-1cdc-4d66-9095-5cb3e22f0e76",
   "metadata": {},
   "outputs": [
    {
     "data": {
      "text/html": [
       "<div>\n",
       "<style scoped>\n",
       "    .dataframe tbody tr th:only-of-type {\n",
       "        vertical-align: middle;\n",
       "    }\n",
       "\n",
       "    .dataframe tbody tr th {\n",
       "        vertical-align: top;\n",
       "    }\n",
       "\n",
       "    .dataframe thead th {\n",
       "        text-align: right;\n",
       "    }\n",
       "</style>\n",
       "<table border=\"1\" class=\"dataframe\">\n",
       "  <thead>\n",
       "    <tr style=\"text-align: right;\">\n",
       "      <th></th>\n",
       "      <th>run</th>\n",
       "      <th>year</th>\n",
       "      <th>best_dose</th>\n",
       "      <th>n_pos_diff</th>\n",
       "      <th>in_0p0_0p1</th>\n",
       "      <th>in_0p1_0p2</th>\n",
       "      <th>in_0p2_0p3</th>\n",
       "      <th>in_0p3_0p4</th>\n",
       "      <th>in_0p4_0p5</th>\n",
       "      <th>in_0p5_0p6</th>\n",
       "      <th>...</th>\n",
       "      <th>in_0p8_0p9</th>\n",
       "      <th>in_0p9_1p0</th>\n",
       "      <th>mu</th>\n",
       "      <th>b</th>\n",
       "      <th>asymptote</th>\n",
       "      <th>dec_rate_multiplier</th>\n",
       "      <th>m_prop_multiplier</th>\n",
       "      <th>m_scale_multiplier</th>\n",
       "      <th>ME_var</th>\n",
       "      <th>ME_mean</th>\n",
       "    </tr>\n",
       "  </thead>\n",
       "  <tbody>\n",
       "    <tr>\n",
       "      <th>0</th>\n",
       "      <td>0</td>\n",
       "      <td>1</td>\n",
       "      <td>1.0</td>\n",
       "      <td>9</td>\n",
       "      <td>1.0</td>\n",
       "      <td>5.054079e-27</td>\n",
       "      <td>7.584700e-34</td>\n",
       "      <td>1.472094e-39</td>\n",
       "      <td>4.846678e-45</td>\n",
       "      <td>9.976588e-51</td>\n",
       "      <td>...</td>\n",
       "      <td>2.492945e-74</td>\n",
       "      <td>3.501367e-90</td>\n",
       "      <td>17.879734</td>\n",
       "      <td>2.744068</td>\n",
       "      <td>0.602763</td>\n",
       "      <td>1.786355</td>\n",
       "      <td>0.703574</td>\n",
       "      <td>1.95789</td>\n",
       "      <td>5.044122e-17</td>\n",
       "      <td>0.398241</td>\n",
       "    </tr>\n",
       "    <tr>\n",
       "      <th>1</th>\n",
       "      <td>0</td>\n",
       "      <td>2</td>\n",
       "      <td>1.0</td>\n",
       "      <td>9</td>\n",
       "      <td>1.0</td>\n",
       "      <td>5.054079e-27</td>\n",
       "      <td>7.584700e-34</td>\n",
       "      <td>1.472094e-39</td>\n",
       "      <td>4.846678e-45</td>\n",
       "      <td>9.976588e-51</td>\n",
       "      <td>...</td>\n",
       "      <td>2.492945e-74</td>\n",
       "      <td>3.501367e-90</td>\n",
       "      <td>17.879734</td>\n",
       "      <td>2.744068</td>\n",
       "      <td>0.602763</td>\n",
       "      <td>1.786355</td>\n",
       "      <td>0.703574</td>\n",
       "      <td>1.95789</td>\n",
       "      <td>5.044122e-17</td>\n",
       "      <td>0.398241</td>\n",
       "    </tr>\n",
       "    <tr>\n",
       "      <th>2</th>\n",
       "      <td>0</td>\n",
       "      <td>3</td>\n",
       "      <td>1.0</td>\n",
       "      <td>9</td>\n",
       "      <td>1.0</td>\n",
       "      <td>5.054079e-27</td>\n",
       "      <td>7.584700e-34</td>\n",
       "      <td>1.472094e-39</td>\n",
       "      <td>4.846678e-45</td>\n",
       "      <td>9.976588e-51</td>\n",
       "      <td>...</td>\n",
       "      <td>2.492945e-74</td>\n",
       "      <td>3.501367e-90</td>\n",
       "      <td>17.879734</td>\n",
       "      <td>2.744068</td>\n",
       "      <td>0.602763</td>\n",
       "      <td>1.786355</td>\n",
       "      <td>0.703574</td>\n",
       "      <td>1.95789</td>\n",
       "      <td>5.044122e-17</td>\n",
       "      <td>0.398241</td>\n",
       "    </tr>\n",
       "    <tr>\n",
       "      <th>3</th>\n",
       "      <td>0</td>\n",
       "      <td>4</td>\n",
       "      <td>1.0</td>\n",
       "      <td>9</td>\n",
       "      <td>1.0</td>\n",
       "      <td>5.054079e-27</td>\n",
       "      <td>7.584700e-34</td>\n",
       "      <td>1.472094e-39</td>\n",
       "      <td>4.846678e-45</td>\n",
       "      <td>9.976588e-51</td>\n",
       "      <td>...</td>\n",
       "      <td>2.492945e-74</td>\n",
       "      <td>3.501367e-90</td>\n",
       "      <td>17.879734</td>\n",
       "      <td>2.744068</td>\n",
       "      <td>0.602763</td>\n",
       "      <td>1.786355</td>\n",
       "      <td>0.703574</td>\n",
       "      <td>1.95789</td>\n",
       "      <td>5.044122e-17</td>\n",
       "      <td>0.398241</td>\n",
       "    </tr>\n",
       "    <tr>\n",
       "      <th>4</th>\n",
       "      <td>0</td>\n",
       "      <td>5</td>\n",
       "      <td>1.0</td>\n",
       "      <td>9</td>\n",
       "      <td>1.0</td>\n",
       "      <td>5.054079e-27</td>\n",
       "      <td>7.584700e-34</td>\n",
       "      <td>1.472094e-39</td>\n",
       "      <td>4.846678e-45</td>\n",
       "      <td>9.976588e-51</td>\n",
       "      <td>...</td>\n",
       "      <td>2.492945e-74</td>\n",
       "      <td>3.501367e-90</td>\n",
       "      <td>17.879734</td>\n",
       "      <td>2.744068</td>\n",
       "      <td>0.602763</td>\n",
       "      <td>1.786355</td>\n",
       "      <td>0.703574</td>\n",
       "      <td>1.95789</td>\n",
       "      <td>5.044122e-17</td>\n",
       "      <td>0.398241</td>\n",
       "    </tr>\n",
       "  </tbody>\n",
       "</table>\n",
       "<p>5 rows × 22 columns</p>\n",
       "</div>"
      ],
      "text/plain": [
       "   run  year  best_dose  n_pos_diff  in_0p0_0p1    in_0p1_0p2    in_0p2_0p3  \\\n",
       "0    0     1        1.0           9         1.0  5.054079e-27  7.584700e-34   \n",
       "1    0     2        1.0           9         1.0  5.054079e-27  7.584700e-34   \n",
       "2    0     3        1.0           9         1.0  5.054079e-27  7.584700e-34   \n",
       "3    0     4        1.0           9         1.0  5.054079e-27  7.584700e-34   \n",
       "4    0     5        1.0           9         1.0  5.054079e-27  7.584700e-34   \n",
       "\n",
       "     in_0p3_0p4    in_0p4_0p5    in_0p5_0p6  ...    in_0p8_0p9    in_0p9_1p0  \\\n",
       "0  1.472094e-39  4.846678e-45  9.976588e-51  ...  2.492945e-74  3.501367e-90   \n",
       "1  1.472094e-39  4.846678e-45  9.976588e-51  ...  2.492945e-74  3.501367e-90   \n",
       "2  1.472094e-39  4.846678e-45  9.976588e-51  ...  2.492945e-74  3.501367e-90   \n",
       "3  1.472094e-39  4.846678e-45  9.976588e-51  ...  2.492945e-74  3.501367e-90   \n",
       "4  1.472094e-39  4.846678e-45  9.976588e-51  ...  2.492945e-74  3.501367e-90   \n",
       "\n",
       "          mu         b  asymptote  dec_rate_multiplier  m_prop_multiplier  \\\n",
       "0  17.879734  2.744068   0.602763             1.786355           0.703574   \n",
       "1  17.879734  2.744068   0.602763             1.786355           0.703574   \n",
       "2  17.879734  2.744068   0.602763             1.786355           0.703574   \n",
       "3  17.879734  2.744068   0.602763             1.786355           0.703574   \n",
       "4  17.879734  2.744068   0.602763             1.786355           0.703574   \n",
       "\n",
       "   m_scale_multiplier        ME_var   ME_mean  \n",
       "0             1.95789  5.044122e-17  0.398241  \n",
       "1             1.95789  5.044122e-17  0.398241  \n",
       "2             1.95789  5.044122e-17  0.398241  \n",
       "3             1.95789  5.044122e-17  0.398241  \n",
       "4             1.95789  5.044122e-17  0.398241  \n",
       "\n",
       "[5 rows x 22 columns]"
      ]
     },
     "execution_count": 5,
     "metadata": {},
     "output_type": "execute_result"
    }
   ],
   "source": [
    "df.head()"
   ]
  },
  {
   "cell_type": "code",
   "execution_count": 6,
   "id": "f8afc7c8-44bd-42a0-9f39-bacb2674793c",
   "metadata": {},
   "outputs": [
    {
     "data": {
      "text/plain": [
       "Index(['run', 'year', 'best_dose', 'n_pos_diff', 'in_0p0_0p1', 'in_0p1_0p2',\n",
       "       'in_0p2_0p3', 'in_0p3_0p4', 'in_0p4_0p5', 'in_0p5_0p6', 'in_0p6_0p7',\n",
       "       'in_0p7_0p8', 'in_0p8_0p9', 'in_0p9_1p0', 'mu', 'b', 'asymptote',\n",
       "       'dec_rate_multiplier', 'm_prop_multiplier', 'm_scale_multiplier',\n",
       "       'ME_var', 'ME_mean'],\n",
       "      dtype='object')"
      ]
     },
     "execution_count": 6,
     "metadata": {},
     "output_type": "execute_result"
    }
   ],
   "source": [
    "df.columns"
   ]
  },
  {
   "cell_type": "code",
   "execution_count": 7,
   "id": "b205b21b-6732-4b40-93ea-0e7b6fc5f764",
   "metadata": {},
   "outputs": [],
   "source": [
    "X = (\n",
    "    # df_filt\n",
    "    df\n",
    "    .drop([\n",
    "        'best_dose',\n",
    "        'n_pos_diff',\n",
    "        'ME_var',\n",
    "    ], axis=1)\n",
    "    .filter(regex='^((?!in_0).)*$')\n",
    "    .rename(columns = {\n",
    "        'dec_rate_multiplier': 'dec_rate',\n",
    "        'm_prop_multiplier': 'm_prop',\n",
    "        'm_scale_multiplier': 'm_scale',\n",
    "        'asymptote': 'asymp',\n",
    "    })\n",
    ")\n",
    "\n",
    "# y = df_filt.loc[:, ['run', 'best_dose']]\n",
    "y = df.loc[:, ['run', 'best_dose']]"
   ]
  },
  {
   "cell_type": "code",
   "execution_count": 8,
   "id": "e1de55ff-ce6a-4cb0-b665-a57be2746187",
   "metadata": {},
   "outputs": [
    {
     "data": {
      "text/html": [
       "<div>\n",
       "<style scoped>\n",
       "    .dataframe tbody tr th:only-of-type {\n",
       "        vertical-align: middle;\n",
       "    }\n",
       "\n",
       "    .dataframe tbody tr th {\n",
       "        vertical-align: top;\n",
       "    }\n",
       "\n",
       "    .dataframe thead th {\n",
       "        text-align: right;\n",
       "    }\n",
       "</style>\n",
       "<table border=\"1\" class=\"dataframe\">\n",
       "  <thead>\n",
       "    <tr style=\"text-align: right;\">\n",
       "      <th></th>\n",
       "      <th>run</th>\n",
       "      <th>year</th>\n",
       "      <th>mu</th>\n",
       "      <th>b</th>\n",
       "      <th>asymp</th>\n",
       "      <th>dec_rate</th>\n",
       "      <th>m_prop</th>\n",
       "      <th>m_scale</th>\n",
       "      <th>ME_mean</th>\n",
       "    </tr>\n",
       "  </thead>\n",
       "  <tbody>\n",
       "    <tr>\n",
       "      <th>0</th>\n",
       "      <td>0</td>\n",
       "      <td>1</td>\n",
       "      <td>17.879734</td>\n",
       "      <td>2.744068</td>\n",
       "      <td>0.602763</td>\n",
       "      <td>1.786355</td>\n",
       "      <td>0.703574</td>\n",
       "      <td>1.95789</td>\n",
       "      <td>0.398241</td>\n",
       "    </tr>\n",
       "    <tr>\n",
       "      <th>1</th>\n",
       "      <td>0</td>\n",
       "      <td>2</td>\n",
       "      <td>17.879734</td>\n",
       "      <td>2.744068</td>\n",
       "      <td>0.602763</td>\n",
       "      <td>1.786355</td>\n",
       "      <td>0.703574</td>\n",
       "      <td>1.95789</td>\n",
       "      <td>0.398241</td>\n",
       "    </tr>\n",
       "    <tr>\n",
       "      <th>2</th>\n",
       "      <td>0</td>\n",
       "      <td>3</td>\n",
       "      <td>17.879734</td>\n",
       "      <td>2.744068</td>\n",
       "      <td>0.602763</td>\n",
       "      <td>1.786355</td>\n",
       "      <td>0.703574</td>\n",
       "      <td>1.95789</td>\n",
       "      <td>0.398241</td>\n",
       "    </tr>\n",
       "    <tr>\n",
       "      <th>3</th>\n",
       "      <td>0</td>\n",
       "      <td>4</td>\n",
       "      <td>17.879734</td>\n",
       "      <td>2.744068</td>\n",
       "      <td>0.602763</td>\n",
       "      <td>1.786355</td>\n",
       "      <td>0.703574</td>\n",
       "      <td>1.95789</td>\n",
       "      <td>0.398241</td>\n",
       "    </tr>\n",
       "    <tr>\n",
       "      <th>4</th>\n",
       "      <td>0</td>\n",
       "      <td>5</td>\n",
       "      <td>17.879734</td>\n",
       "      <td>2.744068</td>\n",
       "      <td>0.602763</td>\n",
       "      <td>1.786355</td>\n",
       "      <td>0.703574</td>\n",
       "      <td>1.95789</td>\n",
       "      <td>0.398241</td>\n",
       "    </tr>\n",
       "  </tbody>\n",
       "</table>\n",
       "</div>"
      ],
      "text/plain": [
       "   run  year         mu         b     asymp  dec_rate    m_prop  m_scale  \\\n",
       "0    0     1  17.879734  2.744068  0.602763  1.786355  0.703574  1.95789   \n",
       "1    0     2  17.879734  2.744068  0.602763  1.786355  0.703574  1.95789   \n",
       "2    0     3  17.879734  2.744068  0.602763  1.786355  0.703574  1.95789   \n",
       "3    0     4  17.879734  2.744068  0.602763  1.786355  0.703574  1.95789   \n",
       "4    0     5  17.879734  2.744068  0.602763  1.786355  0.703574  1.95789   \n",
       "\n",
       "    ME_mean  \n",
       "0  0.398241  \n",
       "1  0.398241  \n",
       "2  0.398241  \n",
       "3  0.398241  \n",
       "4  0.398241  "
      ]
     },
     "execution_count": 8,
     "metadata": {},
     "output_type": "execute_result"
    }
   ],
   "source": [
    "X.head()"
   ]
  },
  {
   "cell_type": "code",
   "execution_count": 9,
   "id": "21dbc889-ca58-4214-8534-69eb8c0ab5cd",
   "metadata": {},
   "outputs": [
    {
     "data": {
      "text/html": [
       "<div>\n",
       "<style scoped>\n",
       "    .dataframe tbody tr th:only-of-type {\n",
       "        vertical-align: middle;\n",
       "    }\n",
       "\n",
       "    .dataframe tbody tr th {\n",
       "        vertical-align: top;\n",
       "    }\n",
       "\n",
       "    .dataframe thead th {\n",
       "        text-align: right;\n",
       "    }\n",
       "</style>\n",
       "<table border=\"1\" class=\"dataframe\">\n",
       "  <thead>\n",
       "    <tr style=\"text-align: right;\">\n",
       "      <th></th>\n",
       "      <th>run</th>\n",
       "    </tr>\n",
       "  </thead>\n",
       "  <tbody>\n",
       "    <tr>\n",
       "      <th>count</th>\n",
       "      <td>350000.000000</td>\n",
       "    </tr>\n",
       "    <tr>\n",
       "      <th>mean</th>\n",
       "      <td>4999.500000</td>\n",
       "    </tr>\n",
       "    <tr>\n",
       "      <th>std</th>\n",
       "      <td>2886.755455</td>\n",
       "    </tr>\n",
       "    <tr>\n",
       "      <th>min</th>\n",
       "      <td>0.000000</td>\n",
       "    </tr>\n",
       "    <tr>\n",
       "      <th>25%</th>\n",
       "      <td>2499.750000</td>\n",
       "    </tr>\n",
       "    <tr>\n",
       "      <th>50%</th>\n",
       "      <td>4999.500000</td>\n",
       "    </tr>\n",
       "    <tr>\n",
       "      <th>75%</th>\n",
       "      <td>7499.250000</td>\n",
       "    </tr>\n",
       "    <tr>\n",
       "      <th>max</th>\n",
       "      <td>9999.000000</td>\n",
       "    </tr>\n",
       "  </tbody>\n",
       "</table>\n",
       "</div>"
      ],
      "text/plain": [
       "                 run\n",
       "count  350000.000000\n",
       "mean     4999.500000\n",
       "std      2886.755455\n",
       "min         0.000000\n",
       "25%      2499.750000\n",
       "50%      4999.500000\n",
       "75%      7499.250000\n",
       "max      9999.000000"
      ]
     },
     "execution_count": 9,
     "metadata": {},
     "output_type": "execute_result"
    }
   ],
   "source": [
    "X.filter(like='run').describe()"
   ]
  },
  {
   "cell_type": "markdown",
   "id": "3af27c24-9c08-460a-b18a-2e7db312febf",
   "metadata": {},
   "source": [
    "# Fit XGBoost model and find good hyperparams"
   ]
  },
  {
   "cell_type": "code",
   "execution_count": 10,
   "id": "19cfbe39-a5e4-4008-9619-33e63076e8b4",
   "metadata": {},
   "outputs": [],
   "source": [
    "np.random.seed(0)\n",
    "\n",
    "# ignore warning about Int64Index\n",
    "warnings.simplefilter(action='ignore', category=FutureWarning)"
   ]
  },
  {
   "cell_type": "markdown",
   "id": "7000e311-f7ee-40a3-8939-d4edddcb5195",
   "metadata": {},
   "source": [
    "Get data (by run)"
   ]
  },
  {
   "cell_type": "code",
   "execution_count": 11,
   "id": "310e585d-9932-4491-9a58-156586ebf2c3",
   "metadata": {},
   "outputs": [],
   "source": [
    "# reset index? Might help with Int64Index XGB warning\n",
    "X_cv = X.loc[lambda x: (x.run<8000)].drop('run', axis=1)\n",
    "y_cv = y.loc[lambda x: (x.run<8000)].drop('run', axis=1)\n",
    "\n",
    "X_test = X.loc[lambda x: (x.run>=8000)].drop('run', axis=1)\n",
    "y_test = np.array(y.loc[lambda x: (x.run>=8000)].drop('run', axis=1))"
   ]
  },
  {
   "cell_type": "markdown",
   "id": "b5d9e75f-a32b-4461-8ff0-08cdff82c864",
   "metadata": {},
   "source": [
    "How do the default params do?"
   ]
  },
  {
   "cell_type": "code",
   "execution_count": null,
   "id": "1d56a247-3707-439c-a209-715f658e7b6e",
   "metadata": {},
   "outputs": [
    {
     "name": "stdout",
     "output_type": "stream",
     "text": [
      "ok? True\n"
     ]
    }
   ],
   "source": [
    "%%time\n",
    "\n",
    "rmse_list = []\n",
    "        \n",
    "kf = KFold(n_splits=10)\n",
    "\n",
    "for train_ind, val_ind in kf.split(X_cv):\n",
    "\n",
    "    X_tr = X_cv.iloc[train_ind]\n",
    "    y_tr = y_cv.iloc[train_ind]\n",
    "\n",
    "    X_v = X_cv.iloc[val_ind]\n",
    "    y_v = y_cv.iloc[val_ind]\n",
    "    \n",
    "    train_runs = X.iloc[train_ind].run\n",
    "    val_runs = X.iloc[val_ind].run\n",
    "\n",
    "    print(f'ok? {sum(train_runs.isin(val_runs))==0}')\n",
    "\n",
    "    y_tr = np.array(y_tr)\n",
    "    y_v = np.array(y_v)\n",
    "\n",
    "    model = XGBRegressor().fit(X_tr, y_tr)\n",
    "\n",
    "    y_p = model.predict(X_v)\n",
    "\n",
    "    rmse = mean_squared_error(y_p, y_v, squared=False)\n",
    "\n",
    "    rmse_list.append(rmse)\n",
    "\n",
    "score = sum(rmse_list)/len(rmse_list)\n",
    "\n",
    "score"
   ]
  },
  {
   "cell_type": "markdown",
   "id": "4f4aa351-c757-4893-ad9b-a5192ff354c3",
   "metadata": {},
   "source": [
    "Including `in_0p1...` we got `0.12505` on the default params. Without does `0.1301`."
   ]
  },
  {
   "cell_type": "markdown",
   "id": "c42fe9da-e401-4d18-920d-ed176b548860",
   "metadata": {},
   "source": [
    "## Hyperparam opt"
   ]
  },
  {
   "cell_type": "code",
   "execution_count": null,
   "id": "64ff154f-9ae5-456b-9a00-5e783766115b",
   "metadata": {},
   "outputs": [],
   "source": [
    "class HyperparamsObj:\n",
    "    def __init__(self, X_in, y_in) -> None:\n",
    "        self.X = X_in\n",
    "        self.y = y_in\n",
    "        \n",
    "    #\n",
    "    #\n",
    "\n",
    "    def __call__(self, trial):\n",
    "\n",
    "        params = self.get_params(trial)\n",
    "\n",
    "        score = self.run_model(params)\n",
    "\n",
    "        return score\n",
    "\n",
    "    #\n",
    "    #\n",
    "\n",
    "    def run_model(self, params):\n",
    "        \n",
    "        X, y = self.X, self.y\n",
    "        \n",
    "        rmse_list = []\n",
    "        \n",
    "        kf = KFold(n_splits=5)\n",
    "\n",
    "        for train_ind, val_ind in kf.split(X):\n",
    "            \n",
    "            X_tr = X.iloc[train_ind]\n",
    "            y_tr = y.iloc[train_ind]\n",
    "            \n",
    "            X_v = X.iloc[val_ind]\n",
    "            y_v = y.iloc[val_ind]\n",
    "            \n",
    "            y_tr = np.array(y_tr)\n",
    "            y_v = np.array(y_v)\n",
    "        \n",
    "            model = XGBRegressor(**params).fit(X_tr, y_tr)\n",
    "\n",
    "            y_p = model.predict(X_v)\n",
    "            \n",
    "            rmse = mean_squared_error(y_p, y_v, squared=False)\n",
    "\n",
    "            rmse_list.append(rmse)\n",
    "        \n",
    "        score = sum(rmse_list)/len(rmse_list)\n",
    "\n",
    "        return score\n",
    "\n",
    "    #\n",
    "    #\n",
    "\n",
    "    def get_params(self, trial):\n",
    "        params = {\n",
    "            \"tree_method\": \"hist\",\n",
    "            \"max_depth\": trial.suggest_int(\"max_depth\", 3, 20),\n",
    "            \"n_estimators\": trial.suggest_int(\"n_estimators\", 10, 1000, log=True),\n",
    "            \"learning_rate\": trial.suggest_float(\"learning_rate\", 1e-3, 0.3, log=True),\n",
    "            \"subsample\": trial.suggest_float(\"subsample\", 0.5, 1),\n",
    "            \"colsample_bytree\": trial.suggest_float(\"colsample_bytree\", 0.4, 1),\n",
    "        }\n",
    "        return params"
   ]
  },
  {
   "cell_type": "code",
   "execution_count": null,
   "id": "2f06788f-1e03-495c-a31b-d3aedc045f5a",
   "metadata": {},
   "outputs": [],
   "source": [
    "optuna.logging.set_verbosity(0)"
   ]
  },
  {
   "cell_type": "code",
   "execution_count": null,
   "id": "2d2e0044-c5b7-402d-8e5e-e0a9b4a0bd94",
   "metadata": {},
   "outputs": [],
   "source": [
    "obj = HyperparamsObj(X_cv, y_cv)\n",
    "\n",
    "sampler = TPESampler(seed=10)\n",
    "study = optuna.create_study(sampler=sampler)"
   ]
  },
  {
   "cell_type": "markdown",
   "id": "92abbdd0-f700-4069-b10e-7a4182a87f13",
   "metadata": {},
   "source": [
    "NB takes about 17 hours"
   ]
  },
  {
   "cell_type": "code",
   "execution_count": null,
   "id": "4ba192f9-e8b4-4f08-8675-f9918bfd4860",
   "metadata": {},
   "outputs": [],
   "source": [
    "%%time\n",
    "study.optimize(obj, n_trials=10)\n",
    "study.best_value"
   ]
  },
  {
   "cell_type": "code",
   "execution_count": null,
   "id": "effccebf-22c1-4bd3-b45c-a1f335299ed6",
   "metadata": {},
   "outputs": [],
   "source": [
    "%%time\n",
    "study.optimize(obj, n_trials=90)\n",
    "study.best_value"
   ]
  },
  {
   "cell_type": "code",
   "execution_count": null,
   "id": "d9a61f57-615a-4f74-a428-ad8d7297a66e",
   "metadata": {},
   "outputs": [],
   "source": [
    "%%time\n",
    "study.optimize(obj, n_trials=100)\n",
    "study.best_value"
   ]
  },
  {
   "cell_type": "code",
   "execution_count": null,
   "id": "4bdb8a8c-f1b4-4514-b02e-fc0a23e807a4",
   "metadata": {},
   "outputs": [],
   "source": [
    "%%time\n",
    "study.optimize(obj, n_trials=100)\n",
    "study.best_value"
   ]
  },
  {
   "cell_type": "markdown",
   "id": "ee8005e3-d6e8-431f-a56f-ef441ce9e212",
   "metadata": {},
   "source": [
    "Previous model (with weird pars) got best value of `0.1042` after 91 trials out of 200 trials."
   ]
  },
  {
   "cell_type": "markdown",
   "id": "37c4b73c-1fe3-47f8-a4f3-24c176cf5f74",
   "metadata": {},
   "source": [
    "## Plots"
   ]
  },
  {
   "cell_type": "code",
   "execution_count": null,
   "id": "11b9daf6-1e98-4c58-ab1f-a58cbe95878a",
   "metadata": {},
   "outputs": [],
   "source": [
    "f = plot_optimization_history(study)\n",
    "f.update_layout(height=500)"
   ]
  },
  {
   "cell_type": "code",
   "execution_count": null,
   "id": "bde4156e-081d-4c86-b35e-9fda83e9cfd3",
   "metadata": {},
   "outputs": [],
   "source": [
    "f = plot_contour(study)\n",
    "f.update_layout(height=800)"
   ]
  },
  {
   "cell_type": "markdown",
   "id": "44e625ec-2e8b-4037-b89a-ade73b11d33c",
   "metadata": {},
   "source": [
    "## Check performance of best model"
   ]
  },
  {
   "cell_type": "markdown",
   "id": "a06e2a14-4bdd-4494-98f3-3134aa9fd23a",
   "metadata": {},
   "source": [
    "Check model doesn't drastically degrade on completely unseen data\n",
    "\n",
    "Prev version got `0.1019` on train set and `0.1261` on the test set."
   ]
  },
  {
   "cell_type": "code",
   "execution_count": null,
   "id": "687fa4dc-5597-4563-a958-ab4196ca667f",
   "metadata": {},
   "outputs": [],
   "source": [
    "best_pars = study.best_params\n",
    "\n",
    "best_pars"
   ]
  },
  {
   "cell_type": "code",
   "execution_count": null,
   "id": "ff10431b-415d-432a-a92a-2498534fd08c",
   "metadata": {},
   "outputs": [],
   "source": [
    "best_model = XGBRegressor(**best_pars).fit(X_cv, y_cv)\n",
    "\n",
    "y_p = best_model.predict(X_test)\n",
    "\n",
    "rmse = mean_squared_error(y_p, y_test, squared=False)\n",
    "\n",
    "rmse"
   ]
  },
  {
   "cell_type": "code",
   "execution_count": null,
   "id": "a5e53299-bc4f-4b08-8b12-304792f0f2c1",
   "metadata": {},
   "outputs": [],
   "source": [
    "# model = XGBRegressor().fit(X_train_val, y_train_val)\n",
    "model = XGBRegressor().fit(X_cv, y_cv)\n",
    "\n",
    "y_p = model.predict(X_test)\n",
    "\n",
    "rmse = mean_squared_error(y_p, y_test, squared=False)\n",
    "\n",
    "rmse"
   ]
  },
  {
   "cell_type": "markdown",
   "id": "53d053bb-554d-4a8c-bba8-3414d5e40753",
   "metadata": {},
   "source": [
    "### Save model"
   ]
  },
  {
   "cell_type": "code",
   "execution_count": null,
   "id": "46ffb622-eece-4298-bfe6-8a5b3155fcce",
   "metadata": {},
   "outputs": [],
   "source": [
    "best_model.save_model('xgb_scan_all.json')"
   ]
  },
  {
   "cell_type": "code",
   "execution_count": null,
   "id": "acbc3bd0-e620-4e15-8bd7-2f8e04fcfe3c",
   "metadata": {},
   "outputs": [],
   "source": []
  }
 ],
 "metadata": {
  "kernelspec": {
   "display_name": "poly2_kernel",
   "language": "python",
   "name": "poly2_kernel"
  },
  "language_info": {
   "codemirror_mode": {
    "name": "ipython",
    "version": 3
   },
   "file_extension": ".py",
   "mimetype": "text/x-python",
   "name": "python",
   "nbconvert_exporter": "python",
   "pygments_lexer": "ipython3",
   "version": "3.8.12"
  }
 },
 "nbformat": 4,
 "nbformat_minor": 5
}
