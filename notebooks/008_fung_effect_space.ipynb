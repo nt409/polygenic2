{
 "cells": [
  {
   "cell_type": "markdown",
   "id": "9c28a391-71c7-4a13-b083-87e880010897",
   "metadata": {},
   "source": [
    "# Rough"
   ]
  },
  {
   "cell_type": "code",
   "execution_count": 1,
   "id": "62bd3e02-eaa3-4096-98d8-085aa6d8621f",
   "metadata": {},
   "outputs": [],
   "source": [
    "%load_ext autoreload\n",
    "%autoreload 2\n",
    "\n",
    "# %matplotlib widget"
   ]
  },
  {
   "cell_type": "code",
   "execution_count": 2,
   "id": "ad0f2ad3-8828-4875-85c9-95bcd0be6489",
   "metadata": {},
   "outputs": [
    {
     "name": "stderr",
     "output_type": "stream",
     "text": [
      "/Users/nicktaylor/opt/miniconda3/envs/poly2/lib/python3.9/site-packages/xgboost/compat.py:36: FutureWarning: pandas.Int64Index is deprecated and will be removed from pandas in a future version. Use pandas.Index with the appropriate dtype instead.\n",
      "  from pandas import MultiIndex, Int64Index\n"
     ]
    }
   ],
   "source": [
    "import pandas as pd\n",
    "\n",
    "import seaborn as sns\n",
    "\n",
    "import numpy as np\n",
    "import matplotlib.pyplot as plt\n",
    "\n",
    "import plotly.graph_objects as go\n",
    "from plotly.subplots import make_subplots\n",
    "import plotly.express as px\n",
    "\n",
    "from xgboost import XGBRegressor\n",
    "import shap\n",
    "\n",
    "\n",
    "from plots2.fns import (\n",
    "    standard_layout,\n",
    "    corner_annotations_colwise,\n",
    "    corner_annotations_rowwise,\n",
    "    get_text_annotation\n",
    ")\n",
    "\n",
    "from poly2.utils import get_dispersal_kernel, trait_vec, beta_dist, gamma_dist\n",
    "from poly2.run import no_joblib_single_run, no_joblib_multiple_run\n",
    "from poly2.config import Config, ConfigMixture, get_asymptote_config\n",
    "from poly2.simulator import SimulatorOneTrait, SimulatorAsymptote"
   ]
  },
  {
   "cell_type": "markdown",
   "id": "5723d07d-b8bb-4969-9eef-3f6d1624fb05",
   "metadata": {},
   "source": [
    "Need to come up with something mapping our distribution of k values to max fung effect space (same if asymptote is 1 but not otherwise).\n",
    "\n",
    "We have a distribution of values for the curvature.\n",
    "\n",
    "Need to incorporate asymptote.\n",
    "\n",
    "Then do all summary statistics wrt this space. "
   ]
  },
  {
   "cell_type": "markdown",
   "id": "2a265446-4d4e-46d3-b6c9-2c77f0bab6c0",
   "metadata": {},
   "source": [
    "Given k, w, the fung max effect is \n",
    "\n",
    "`1 - w + w * k`\n",
    "\n",
    "which gives `1-w` when k is 0, and gives 1 when k is 1."
   ]
  },
  {
   "cell_type": "markdown",
   "id": "39f5da4c-6dd8-4dcc-b68f-2598c575e5c9",
   "metadata": {},
   "source": [
    "So if we calculate that mean is x and var is y, simply need to use\n",
    "\n",
    "`var = w^2 var_k`\n",
    "\n",
    "`mu = 1-w + w mu_k`"
   ]
  },
  {
   "cell_type": "code",
   "execution_count": 14,
   "id": "3c49f35c-5217-490b-9d6a-92b90a8137e1",
   "metadata": {},
   "outputs": [],
   "source": [
    "from poly2.utils import (\n",
    "    edge_values,\n",
    "    gamma_dist,\n",
    "    get_dist_var,\n",
    "    get_dist_mean,\n",
    ")"
   ]
  },
  {
   "cell_type": "code",
   "execution_count": 6,
   "id": "7710be6f-7f6c-4988-8d34-55c837e846d4",
   "metadata": {},
   "outputs": [
    {
     "data": {
      "text/plain": [
       "array([0. , 0.1, 0.2, 0.3, 0.4, 0.5, 0.6, 0.7, 0.8, 0.9, 1. ])"
      ]
     },
     "execution_count": 6,
     "metadata": {},
     "output_type": "execute_result"
    }
   ],
   "source": [
    "edge_values(10)"
   ]
  },
  {
   "cell_type": "code",
   "execution_count": 9,
   "id": "79e40e66-1cb4-43a6-808e-54071cbe248d",
   "metadata": {},
   "outputs": [],
   "source": [
    "a, b, w = 5, 0.85, 0.5"
   ]
  },
  {
   "cell_type": "code",
   "execution_count": 11,
   "id": "1eb2d2da-2594-4f50-b0b2-f7069e0dc1aa",
   "metadata": {},
   "outputs": [
    {
     "data": {
      "text/plain": [
       "array([0.5 , 0.55, 0.6 , 0.65, 0.7 , 0.75, 0.8 , 0.85, 0.9 , 0.95, 1.  ])"
      ]
     },
     "execution_count": 11,
     "metadata": {},
     "output_type": "execute_result"
    }
   ],
   "source": [
    "(1 - w + w * edge_values(10))"
   ]
  },
  {
   "cell_type": "code",
   "execution_count": 32,
   "id": "bd24ac42-87d9-486a-8407-b85c7159973a",
   "metadata": {},
   "outputs": [],
   "source": [
    "init_dist = gamma_dist(300, 5, 0.85)\n",
    "\n",
    "w=0.1\n",
    "\n",
    "tv = trait_vec(300)\n",
    "\n",
    "reshaped = init_dist.reshape((300, 1))\n",
    "tv_var = get_dist_var(reshaped, tv)[0]\n",
    "tv_mean = get_dist_mean(reshaped, tv)[0]\n",
    "\n",
    "max_effect_mean = 1 - w + w * tv_mean\n",
    "max_effect_var = (w**2) * tv_var"
   ]
  },
  {
   "cell_type": "code",
   "execution_count": 33,
   "id": "cc7e96e5-739c-4a0d-9e20-9f210680dcae",
   "metadata": {},
   "outputs": [
    {
     "data": {
      "text/plain": [
       "0.001925135861964662"
      ]
     },
     "execution_count": 33,
     "metadata": {},
     "output_type": "execute_result"
    }
   ],
   "source": [
    "tv_var"
   ]
  },
  {
   "cell_type": "code",
   "execution_count": 34,
   "id": "795d1729-c1b6-4477-83bd-f71e164ec0fd",
   "metadata": {},
   "outputs": [
    {
     "data": {
      "text/plain": [
       "0.020879227249585873"
      ]
     },
     "execution_count": 34,
     "metadata": {},
     "output_type": "execute_result"
    }
   ],
   "source": [
    "tv_mean"
   ]
  },
  {
   "cell_type": "code",
   "execution_count": 35,
   "id": "f9226cd1-f30d-4174-ab57-f465b6050480",
   "metadata": {},
   "outputs": [
    {
     "data": {
      "text/plain": [
       "1.9251358619646626e-05"
      ]
     },
     "execution_count": 35,
     "metadata": {},
     "output_type": "execute_result"
    }
   ],
   "source": [
    "max_effect_var"
   ]
  },
  {
   "cell_type": "code",
   "execution_count": 36,
   "id": "9c13cd58-cbba-4a46-8fe0-97063febacc3",
   "metadata": {},
   "outputs": [
    {
     "data": {
      "text/plain": [
       "0.9020879227249586"
      ]
     },
     "execution_count": 36,
     "metadata": {},
     "output_type": "execute_result"
    }
   ],
   "source": [
    "max_effect_mean"
   ]
  },
  {
   "cell_type": "code",
   "execution_count": null,
   "id": "145a907f-3370-486c-b01d-990d88516102",
   "metadata": {},
   "outputs": [],
   "source": []
  }
 ],
 "metadata": {
  "kernelspec": {
   "display_name": "poly2_ker",
   "language": "python",
   "name": "poly2_ker"
  },
  "language_info": {
   "codemirror_mode": {
    "name": "ipython",
    "version": 3
   },
   "file_extension": ".py",
   "mimetype": "text/x-python",
   "name": "python",
   "nbconvert_exporter": "python",
   "pygments_lexer": "ipython3",
   "version": "3.9.12"
  }
 },
 "nbformat": 4,
 "nbformat_minor": 5
}
