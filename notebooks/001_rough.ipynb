{
 "cells": [
  {
   "cell_type": "markdown",
   "id": "9c28a391-71c7-4a13-b083-87e880010897",
   "metadata": {},
   "source": [
    "# Rough"
   ]
  },
  {
   "cell_type": "code",
   "execution_count": 1,
   "id": "62bd3e02-eaa3-4096-98d8-085aa6d8621f",
   "metadata": {},
   "outputs": [],
   "source": [
    "%load_ext autoreload\n",
    "%autoreload 2\n",
    "\n",
    "%matplotlib widget"
   ]
  },
  {
   "cell_type": "code",
   "execution_count": 29,
   "id": "ad0f2ad3-8828-4875-85c9-95bcd0be6489",
   "metadata": {},
   "outputs": [],
   "source": [
    "import pandas as pd\n",
    "\n",
    "import seaborn as sns\n",
    "\n",
    "import numpy as np\n",
    "import matplotlib.pyplot as plt\n",
    "\n",
    "from xgboost import XGBRegressor\n",
    "import optuna\n",
    "\n",
    "from sklearn.metrics import mean_squared_error\n",
    "\n",
    "import warnings\n",
    "\n",
    "from poly2.utils import (\n",
    "    get_dispersal_kernel, trait_vec, load_train_test_data,\n",
    "    get_best_model, get_model_cv_score, HyperparamsObj,\n",
    "    get_best_params, \n",
    ")\n",
    "from cluster.hyper import train_test_scores, run_optuna\n",
    "from poly2.config import Config"
   ]
  },
  {
   "cell_type": "code",
   "execution_count": 30,
   "id": "98a10bb3-236f-47ef-b6bc-508ddcdea2bf",
   "metadata": {},
   "outputs": [],
   "source": [
    "warnings.simplefilter(action='ignore', category=FutureWarning)"
   ]
  },
  {
   "cell_type": "markdown",
   "id": "c567176b-5ab3-467f-b173-e43b604ffe4f",
   "metadata": {},
   "source": [
    "## Which model?"
   ]
  },
  {
   "cell_type": "code",
   "execution_count": 3,
   "id": "48e7a0fc-73d5-4248-8142-9c4085e60a69",
   "metadata": {},
   "outputs": [],
   "source": [
    "model = 'all'"
   ]
  }
 ],
 "metadata": {
  "kernelspec": {
   "display_name": "poly2_kernel",
   "language": "python",
   "name": "poly2_kernel"
  },
  "language_info": {
   "codemirror_mode": {
    "name": "ipython",
    "version": 3
   },
   "file_extension": ".py",
   "mimetype": "text/x-python",
   "name": "python",
   "nbconvert_exporter": "python",
   "pygments_lexer": "ipython3",
   "version": "3.8.12"
  }
 },
 "nbformat": 4,
 "nbformat_minor": 5
}
