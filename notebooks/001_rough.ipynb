{
 "cells": [
  {
   "cell_type": "markdown",
   "id": "9c28a391-71c7-4a13-b083-87e880010897",
   "metadata": {},
   "source": [
    "# Rough"
   ]
  },
  {
   "cell_type": "code",
   "execution_count": 1,
   "id": "62bd3e02-eaa3-4096-98d8-085aa6d8621f",
   "metadata": {},
   "outputs": [],
   "source": [
    "%load_ext autoreload\n",
    "%autoreload 2\n",
    "\n",
    "%matplotlib widget"
   ]
  },
  {
   "cell_type": "code",
   "execution_count": 29,
   "id": "ad0f2ad3-8828-4875-85c9-95bcd0be6489",
   "metadata": {},
   "outputs": [],
   "source": [
    "import pandas as pd\n",
    "\n",
    "import seaborn as sns\n",
    "\n",
    "import numpy as np\n",
    "import matplotlib.pyplot as plt\n",
    "\n",
    "from xgboost import XGBRegressor\n",
    "import optuna\n",
    "\n",
    "from sklearn.metrics import mean_squared_error\n",
    "\n",
    "import warnings\n",
    "\n",
    "from poly2.utils import (\n",
    "    get_dispersal_kernel, trait_vec, load_train_test_data,\n",
    "    get_best_model, get_model_cv_score, HyperparamsObj,\n",
    "    get_best_params, \n",
    ")\n",
    "from cluster.hyper import train_test_scores, run_optuna\n",
    "from poly2.config import Config"
   ]
  },
  {
   "cell_type": "code",
   "execution_count": 30,
   "id": "98a10bb3-236f-47ef-b6bc-508ddcdea2bf",
   "metadata": {},
   "outputs": [],
   "source": [
    "warnings.simplefilter(action='ignore', category=FutureWarning)"
   ]
  },
  {
   "cell_type": "markdown",
   "id": "c567176b-5ab3-467f-b173-e43b604ffe4f",
   "metadata": {},
   "source": [
    "## Which model?"
   ]
  },
  {
   "cell_type": "code",
   "execution_count": 3,
   "id": "48e7a0fc-73d5-4248-8142-9c4085e60a69",
   "metadata": {},
   "outputs": [],
   "source": [
    "model = 'all'"
   ]
  },
  {
   "cell_type": "markdown",
   "id": "c829ca15-ba0c-41d9-ba2e-bdf9511954ed",
   "metadata": {},
   "source": [
    "## SHAP stuff"
   ]
  },
  {
   "cell_type": "code",
   "execution_count": 77,
   "id": "90be75e1-b4a2-4743-b919-c5f3ba662a60",
   "metadata": {},
   "outputs": [
    {
     "data": {
      "text/plain": [
       "0.11017603330089432"
      ]
     },
     "execution_count": 77,
     "metadata": {},
     "output_type": "execute_result"
    }
   ],
   "source": [
    "0.11017603330089432"
   ]
  },
  {
   "cell_type": "code",
   "execution_count": 88,
   "id": "48653661-3781-4346-8876-4ac0dda9ba0d",
   "metadata": {},
   "outputs": [],
   "source": [
    "df1 = pd.DataFrame(best_pars, index=[0])"
   ]
  },
  {
   "cell_type": "code",
   "execution_count": 89,
   "id": "98222cbe-e8a5-40db-b09a-7f54ff1f7310",
   "metadata": {},
   "outputs": [],
   "source": [
    "df2 = pd.DataFrame(\n",
    "    dict(\n",
    "    model=1,\n",
    "    default_cv_score=2,\n",
    "    ), index=[0]\n",
    ")"
   ]
  },
  {
   "cell_type": "code",
   "execution_count": 92,
   "id": "d8206c99-2cf9-4dbd-807a-394a65446183",
   "metadata": {},
   "outputs": [
    {
     "data": {
      "text/html": [
       "<div>\n",
       "<style scoped>\n",
       "    .dataframe tbody tr th:only-of-type {\n",
       "        vertical-align: middle;\n",
       "    }\n",
       "\n",
       "    .dataframe tbody tr th {\n",
       "        vertical-align: top;\n",
       "    }\n",
       "\n",
       "    .dataframe thead th {\n",
       "        text-align: right;\n",
       "    }\n",
       "</style>\n",
       "<table border=\"1\" class=\"dataframe\">\n",
       "  <thead>\n",
       "    <tr style=\"text-align: right;\">\n",
       "      <th></th>\n",
       "      <th>max_depth</th>\n",
       "      <th>n_estimators</th>\n",
       "      <th>learning_rate</th>\n",
       "      <th>subsample</th>\n",
       "      <th>colsample_bytree</th>\n",
       "      <th>model</th>\n",
       "      <th>default_cv_score</th>\n",
       "    </tr>\n",
       "  </thead>\n",
       "  <tbody>\n",
       "    <tr>\n",
       "      <th>0</th>\n",
       "      <td>10</td>\n",
       "      <td>1740</td>\n",
       "      <td>0.019909</td>\n",
       "      <td>0.546807</td>\n",
       "      <td>0.887985</td>\n",
       "      <td>1</td>\n",
       "      <td>2</td>\n",
       "    </tr>\n",
       "  </tbody>\n",
       "</table>\n",
       "</div>"
      ],
      "text/plain": [
       "   max_depth  n_estimators  learning_rate  subsample  colsample_bytree  model  default_cv_score\n",
       "0         10          1740       0.019909   0.546807          0.887985      1                 2"
      ]
     },
     "execution_count": 92,
     "metadata": {},
     "output_type": "execute_result"
    }
   ],
   "source": [
    "pd.concat([df1, df2], axis=1)"
   ]
  },
  {
   "cell_type": "code",
   "execution_count": 91,
   "id": "2e1730b8-ed1d-4301-9cea-391d0fb2f615",
   "metadata": {},
   "outputs": [
    {
     "data": {
      "text/html": [
       "<div>\n",
       "<style scoped>\n",
       "    .dataframe tbody tr th:only-of-type {\n",
       "        vertical-align: middle;\n",
       "    }\n",
       "\n",
       "    .dataframe tbody tr th {\n",
       "        vertical-align: top;\n",
       "    }\n",
       "\n",
       "    .dataframe thead th {\n",
       "        text-align: right;\n",
       "    }\n",
       "</style>\n",
       "<table border=\"1\" class=\"dataframe\">\n",
       "  <thead>\n",
       "    <tr style=\"text-align: right;\">\n",
       "      <th></th>\n",
       "      <th>model</th>\n",
       "      <th>default_cv_score</th>\n",
       "    </tr>\n",
       "  </thead>\n",
       "  <tbody>\n",
       "    <tr>\n",
       "      <th>0</th>\n",
       "      <td>1</td>\n",
       "      <td>2</td>\n",
       "    </tr>\n",
       "  </tbody>\n",
       "</table>\n",
       "</div>"
      ],
      "text/plain": [
       "   model  default_cv_score\n",
       "0      1                 2"
      ]
     },
     "execution_count": 91,
     "metadata": {},
     "output_type": "execute_result"
    }
   ],
   "source": [
    "df2"
   ]
  },
  {
   "cell_type": "code",
   "execution_count": 84,
   "id": "910a76fc-185f-4739-9899-4d6f8312603e",
   "metadata": {},
   "outputs": [
    {
     "data": {
      "text/html": [
       "<div>\n",
       "<style scoped>\n",
       "    .dataframe tbody tr th:only-of-type {\n",
       "        vertical-align: middle;\n",
       "    }\n",
       "\n",
       "    .dataframe tbody tr th {\n",
       "        vertical-align: top;\n",
       "    }\n",
       "\n",
       "    .dataframe thead th {\n",
       "        text-align: right;\n",
       "    }\n",
       "</style>\n",
       "<table border=\"1\" class=\"dataframe\">\n",
       "  <thead>\n",
       "    <tr style=\"text-align: right;\">\n",
       "      <th></th>\n",
       "      <th>best_cv_score</th>\n",
       "    </tr>\n",
       "  </thead>\n",
       "  <tbody>\n",
       "    <tr>\n",
       "      <th>2</th>\n",
       "      <td>0.110323</td>\n",
       "    </tr>\n",
       "    <tr>\n",
       "      <th>22</th>\n",
       "      <td>0.110346</td>\n",
       "    </tr>\n",
       "    <tr>\n",
       "      <th>118</th>\n",
       "      <td>0.110283</td>\n",
       "    </tr>\n",
       "    <tr>\n",
       "      <th>124</th>\n",
       "      <td>0.110490</td>\n",
       "    </tr>\n",
       "    <tr>\n",
       "      <th>135</th>\n",
       "      <td>0.110310</td>\n",
       "    </tr>\n",
       "    <tr>\n",
       "      <th>152</th>\n",
       "      <td>0.110398</td>\n",
       "    </tr>\n",
       "  </tbody>\n",
       "</table>\n",
       "</div>"
      ],
      "text/plain": [
       "     best_cv_score\n",
       "2         0.110323\n",
       "22        0.110346\n",
       "118       0.110283\n",
       "124       0.110490\n",
       "135       0.110310\n",
       "152       0.110398"
      ]
     },
     "execution_count": 84,
     "metadata": {},
     "output_type": "execute_result"
    }
   ],
   "source": [
    "(\n",
    "    pd.read_csv(f'../outputs/scores/{model}.csv')\n",
    "    .loc[:, ['best_cv_score']]\n",
    "    # .loc[lambda x: x.best_cv_score>0.1101]\n",
    "    # .loc[lambda x: x.best_cv_score<0.1105]\n",
    ")"
   ]
  },
  {
   "cell_type": "code",
   "execution_count": 42,
   "id": "2acea7c6-0b2c-431f-b1c2-2bcee48ee784",
   "metadata": {},
   "outputs": [
    {
     "data": {
      "text/html": [
       "<div>\n",
       "<style scoped>\n",
       "    .dataframe tbody tr th:only-of-type {\n",
       "        vertical-align: middle;\n",
       "    }\n",
       "\n",
       "    .dataframe tbody tr th {\n",
       "        vertical-align: top;\n",
       "    }\n",
       "\n",
       "    .dataframe thead th {\n",
       "        text-align: right;\n",
       "    }\n",
       "</style>\n",
       "<table border=\"1\" class=\"dataframe\">\n",
       "  <thead>\n",
       "    <tr style=\"text-align: right;\">\n",
       "      <th></th>\n",
       "      <th>model</th>\n",
       "      <th>default_cv_score</th>\n",
       "      <th>best_cv_score</th>\n",
       "      <th>rmse_test</th>\n",
       "      <th>rmse_train</th>\n",
       "      <th>rmse_test_def</th>\n",
       "      <th>number</th>\n",
       "      <th>max_depth</th>\n",
       "      <th>n_estimators</th>\n",
       "      <th>learning_rate</th>\n",
       "      <th>subsample</th>\n",
       "      <th>colsample_bytree</th>\n",
       "    </tr>\n",
       "  </thead>\n",
       "  <tbody>\n",
       "    <tr>\n",
       "      <th>0</th>\n",
       "      <td>all</td>\n",
       "      <td>0.131867</td>\n",
       "      <td>0.109074</td>\n",
       "      <td>0.107335</td>\n",
       "      <td>0.042964</td>\n",
       "      <td>0.12707</td>\n",
       "      <td>3</td>\n",
       "      <td>10</td>\n",
       "      <td>1740</td>\n",
       "      <td>0.019909</td>\n",
       "      <td>0.546807</td>\n",
       "      <td>0.887985</td>\n",
       "    </tr>\n",
       "  </tbody>\n",
       "</table>\n",
       "</div>"
      ],
      "text/plain": [
       "  model  default_cv_score  best_cv_score  rmse_test  rmse_train  rmse_test_def  number  max_depth  n_estimators  learning_rate  subsample  colsample_bytree\n",
       "0   all          0.131867       0.109074   0.107335    0.042964        0.12707       3         10          1740       0.019909   0.546807          0.887985"
      ]
     },
     "execution_count": 42,
     "metadata": {},
     "output_type": "execute_result"
    }
   ],
   "source": [
    "hps = pd.read_csv(f'../outputs/hyperparams/best/{model}.csv')\n",
    "hps"
   ]
  },
  {
   "cell_type": "code",
   "execution_count": 58,
   "id": "64f60798-eb26-4664-a828-1ac018591976",
   "metadata": {},
   "outputs": [],
   "source": [
    "bps = get_best_params(model)"
   ]
  },
  {
   "cell_type": "code",
   "execution_count": 63,
   "id": "5aefa4f3-db51-4a8c-bdde-5e4d7f9b9dea",
   "metadata": {},
   "outputs": [],
   "source": [
    "del bps['tree_method']"
   ]
  },
  {
   "cell_type": "code",
   "execution_count": 64,
   "id": "863d937d-f44b-4ae4-ab12-fc6e1fa22224",
   "metadata": {},
   "outputs": [],
   "source": [
    "rmse_train, rmse_test, rmse_test_def = train_test_scores(\n",
    "    bps,\n",
    "    X_cv,\n",
    "    y_cv,\n",
    "    X_test,\n",
    "    y_test,\n",
    ")"
   ]
  },
  {
   "cell_type": "code",
   "execution_count": 65,
   "id": "f9d114e6-1c2c-4052-b737-0400184f8af4",
   "metadata": {},
   "outputs": [
    {
     "data": {
      "text/plain": [
       "(0.0431882810074089, 0.10774565717579333, 0.12707018807068118)"
      ]
     },
     "execution_count": 65,
     "metadata": {},
     "output_type": "execute_result"
    }
   ],
   "source": [
    "rmse_train, rmse_test, rmse_test_def"
   ]
  },
  {
   "cell_type": "code",
   "execution_count": 61,
   "id": "047fce74-0203-4e67-8647-cf76b8284876",
   "metadata": {},
   "outputs": [
    {
     "data": {
      "text/plain": [
       "(0.03718551081030404, 0.10623304379219752, 0.12707018807068118)"
      ]
     },
     "execution_count": 61,
     "metadata": {},
     "output_type": "execute_result"
    }
   ],
   "source": [
    "rmse_train, rmse_test, rmse_test_def"
   ]
  },
  {
   "cell_type": "markdown",
   "id": "733fbb9d-d3f6-4e94-b6c4-729f68a1f945",
   "metadata": {},
   "source": [
    "# Try re-running optuna"
   ]
  },
  {
   "cell_type": "code",
   "execution_count": 93,
   "id": "8aa6fced-96d0-4219-92b6-908a94e3595e",
   "metadata": {},
   "outputs": [
    {
     "name": "stderr",
     "output_type": "stream",
     "text": [
      "\u001b[32m[I 2022-09-13 10:12:13,489]\u001b[0m A new study created in memory with name: no-name-24bdcf42-cfa0-40de-a9d5-9a94a6a12c65\u001b[0m\n",
      "5it [02:16, 27.29s/it]\n",
      "\u001b[32m[I 2022-09-13 10:14:30,038]\u001b[0m Trial 0 finished with value: 0.1226907805611435 and parameters: {'max_depth': 15, 'n_estimators': 129, 'learning_rate': 0.11087959763246974, 'subsample': 0.515723193813149, 'colsample_bytree': 0.8848299780189086}. Best is trial 0 with value: 0.1226907805611435.\u001b[0m\n"
     ]
    }
   ],
   "source": [
    "np.random.seed(99)\n",
    "\n",
    "optuna.logging.set_verbosity(3)\n",
    "\n",
    "obj = HyperparamsObj(X_cv, y_cv)\n",
    "\n",
    "sampler = optuna.samplers.RandomSampler(seed=99)\n",
    "\n",
    "\n",
    "study = optuna.create_study(sampler=sampler)\n",
    "\n",
    "study.optimize(obj, n_trials=1)\n",
    "\n",
    "best_pars = study.best_params\n",
    "best_value = study.best_value\n",
    "best_number = study.best_trial.number"
   ]
  },
  {
   "cell_type": "code",
   "execution_count": 98,
   "id": "ad85a3d0-6375-4c3e-9e03-56b6bbb0ac8a",
   "metadata": {},
   "outputs": [
    {
     "data": {
      "text/plain": [
       "{'max_depth': 15,\n",
       " 'n_estimators': 129,\n",
       " 'learning_rate': 0.11087959763246974,\n",
       " 'subsample': 0.515723193813149,\n",
       " 'colsample_bytree': 0.8848299780189086}"
      ]
     },
     "execution_count": 98,
     "metadata": {},
     "output_type": "execute_result"
    }
   ],
   "source": [
    "best_pars = study.best_params\n",
    "study.best_params"
   ]
  },
  {
   "cell_type": "code",
   "execution_count": 99,
   "id": "0d67787b-4e40-47de-8285-268936df6baa",
   "metadata": {},
   "outputs": [],
   "source": [
    "best_pars['tree_method'] = 'hist'"
   ]
  },
  {
   "cell_type": "code",
   "execution_count": 73,
   "id": "ed7e8070-1b73-4498-a972-ef0e944c2a43",
   "metadata": {},
   "outputs": [
    {
     "data": {
      "text/plain": [
       "0.11017603330089432"
      ]
     },
     "execution_count": 73,
     "metadata": {},
     "output_type": "execute_result"
    }
   ],
   "source": [
    "study.best_value"
   ]
  },
  {
   "cell_type": "code",
   "execution_count": 74,
   "id": "280e5265-d49f-4582-ac52-e563fa7b849a",
   "metadata": {},
   "outputs": [
    {
     "data": {
      "text/plain": [
       "3"
      ]
     },
     "execution_count": 74,
     "metadata": {},
     "output_type": "execute_result"
    }
   ],
   "source": [
    "study.best_trial.number"
   ]
  },
  {
   "cell_type": "code",
   "execution_count": 75,
   "id": "13851c73-0872-4d88-afc2-1b762acf35f3",
   "metadata": {},
   "outputs": [
    {
     "data": {
      "text/plain": [
       "0.11017603330089432"
      ]
     },
     "execution_count": 75,
     "metadata": {},
     "output_type": "execute_result"
    }
   ],
   "source": [
    "best_value"
   ]
  },
  {
   "cell_type": "markdown",
   "id": "6e22aa90-8330-415a-8a0f-b015e8c448ac",
   "metadata": {},
   "source": [
    "# old"
   ]
  },
  {
   "cell_type": "code",
   "execution_count": null,
   "id": "0ff8fdc4-8d74-42e4-a0f7-cc9b51bf0280",
   "metadata": {},
   "outputs": [],
   "source": [
    "best_model = get_best_model(model)"
   ]
  },
  {
   "cell_type": "code",
   "execution_count": 47,
   "id": "b22c59c7-0974-45d3-9393-0900f204ab6a",
   "metadata": {},
   "outputs": [],
   "source": [
    "X_cv, y_cv, X_test, y_test = load_train_test_data(model)"
   ]
  },
  {
   "cell_type": "markdown",
   "id": "5ce7f659-903f-4aaa-8aca-00d37b53163d",
   "metadata": {},
   "source": [
    "Below cell takes around `1 minute`"
   ]
  },
  {
   "cell_type": "code",
   "execution_count": 48,
   "id": "1fef9fee-eeae-4e88-b3fc-7d44d2157dae",
   "metadata": {},
   "outputs": [
    {
     "name": "stdout",
     "output_type": "stream",
     "text": [
      "Wall time: 58.3 s\n"
     ]
    },
    {
     "data": {
      "text/plain": [
       "XGBRegressor(base_score=0.5, booster='gbtree', colsample_bylevel=1,\n",
       "             colsample_bynode=1, colsample_bytree=0.8879850476692774,\n",
       "             enable_categorical=False, gamma=0, gpu_id=-1, importance_type=None,\n",
       "             interaction_constraints='', learning_rate=0.0199085136730978,\n",
       "             max_delta_step=0, max_depth=10, min_child_weight=1, missing=nan,\n",
       "             monotone_constraints='()', n_estimators=1740, n_jobs=8,\n",
       "             num_parallel_tree=1, predictor='auto', random_state=0, reg_alpha=0,\n",
       "             reg_lambda=1, scale_pos_weight=1, subsample=0.5468065466488763,\n",
       "             tree_method='hist', validate_parameters=1, verbosity=None)"
      ]
     },
     "execution_count": 48,
     "metadata": {},
     "output_type": "execute_result"
    }
   ],
   "source": [
    "%%time\n",
    "best_model.fit(X_cv, y_cv)"
   ]
  },
  {
   "cell_type": "code",
   "execution_count": 49,
   "id": "c3827c7e-cf15-40f2-9a8b-773ca63425d7",
   "metadata": {},
   "outputs": [],
   "source": [
    "yptest = best_model.predict(X_test)"
   ]
  },
  {
   "cell_type": "code",
   "execution_count": 50,
   "id": "2c00d0cb-b0ea-44d0-8932-47e33a532887",
   "metadata": {},
   "outputs": [
    {
     "data": {
      "text/plain": [
       "0.10623304379219752"
      ]
     },
     "execution_count": 50,
     "metadata": {},
     "output_type": "execute_result"
    }
   ],
   "source": [
    "rmse_test = mean_squared_error(yptest, y_test, squared=False)\n",
    "rmse_test"
   ]
  },
  {
   "cell_type": "markdown",
   "id": "aa7c0d9b-50ee-413f-bfec-f451423f2979",
   "metadata": {},
   "source": [
    "We are expecting a value of `0.1073346696102688` but the setup didn't use `tree_method=hist`.\n",
    "\n",
    "We got a value of `0.10623304379219752` when seed was 99, same for 200\n",
    "\n",
    "So we are all good (??)"
   ]
  },
  {
   "cell_type": "code",
   "execution_count": 38,
   "id": "82f87bfc-a440-4913-8e4f-7bbccf1e1229",
   "metadata": {},
   "outputs": [],
   "source": [
    "yptrain = best_model.predict(X_cv)"
   ]
  },
  {
   "cell_type": "code",
   "execution_count": 39,
   "id": "1e257438-fe58-4baf-9c51-b3e308393d0d",
   "metadata": {},
   "outputs": [
    {
     "data": {
      "text/plain": [
       "0.03718551081030404"
      ]
     },
     "execution_count": 39,
     "metadata": {},
     "output_type": "execute_result"
    }
   ],
   "source": [
    "rmse_train = mean_squared_error(yptrain, y_cv, squared=False)\n",
    "rmse_train"
   ]
  },
  {
   "cell_type": "markdown",
   "id": "73631a09-49b9-48e5-859e-d28e527489b2",
   "metadata": {},
   "source": [
    "## Check model cv score"
   ]
  },
  {
   "cell_type": "code",
   "execution_count": 23,
   "id": "e7d0c767-bbc5-448e-a73e-2e6506a97d6e",
   "metadata": {},
   "outputs": [
    {
     "data": {
      "text/plain": [
       "{'max_depth': 10,\n",
       " 'n_estimators': 1740,\n",
       " 'learning_rate': 0.0199085136730978,\n",
       " 'subsample': 0.5468065466488763,\n",
       " 'colsample_bytree': 0.8879850476692774,\n",
       " 'tree_method': 'hist'}"
      ]
     },
     "execution_count": 23,
     "metadata": {},
     "output_type": "execute_result"
    }
   ],
   "source": [
    "best_params = (\n",
    "    pd.read_csv(f'../outputs/hyperparams/best/{model}.csv')\n",
    "    .loc[:, [\n",
    "        'max_depth',\n",
    "        'n_estimators',\n",
    "        'learning_rate',\n",
    "        'subsample',\n",
    "        'colsample_bytree',\n",
    "    ]]\n",
    "    .iloc[0]\n",
    "    .to_dict()\n",
    ")\n",
    "\n",
    "best_params['n_estimators'] = int(best_params['n_estimators'])\n",
    "best_params['max_depth'] = int(best_params['max_depth'])\n",
    "best_params['tree_method'] = 'hist'\n",
    "\n",
    "best_params"
   ]
  },
  {
   "cell_type": "code",
   "execution_count": 25,
   "id": "081de0b0-3942-4a8b-a842-4143fe1ccd83",
   "metadata": {},
   "outputs": [
    {
     "name": "stderr",
     "output_type": "stream",
     "text": [
      "0it [00:00, ?it/s]C:\\Users\\user\\anaconda3\\envs\\poly2\\lib\\site-packages\\xgboost\\data.py:262: FutureWarning: pandas.Int64Index is deprecated and will be removed from pandas in a future version. Use pandas.Index with the appropriate dtype instead.\n",
      "  elif isinstance(data.columns, (pd.Int64Index, pd.RangeIndex)):\n",
      "1it [00:52, 52.74s/it]C:\\Users\\user\\anaconda3\\envs\\poly2\\lib\\site-packages\\xgboost\\data.py:262: FutureWarning: pandas.Int64Index is deprecated and will be removed from pandas in a future version. Use pandas.Index with the appropriate dtype instead.\n",
      "  elif isinstance(data.columns, (pd.Int64Index, pd.RangeIndex)):\n",
      "2it [01:45, 52.72s/it]C:\\Users\\user\\anaconda3\\envs\\poly2\\lib\\site-packages\\xgboost\\data.py:262: FutureWarning: pandas.Int64Index is deprecated and will be removed from pandas in a future version. Use pandas.Index with the appropriate dtype instead.\n",
      "  elif isinstance(data.columns, (pd.Int64Index, pd.RangeIndex)):\n",
      "3it [02:38, 52.69s/it]C:\\Users\\user\\anaconda3\\envs\\poly2\\lib\\site-packages\\xgboost\\data.py:262: FutureWarning: pandas.Int64Index is deprecated and will be removed from pandas in a future version. Use pandas.Index with the appropriate dtype instead.\n",
      "  elif isinstance(data.columns, (pd.Int64Index, pd.RangeIndex)):\n",
      "4it [03:33, 53.83s/it]C:\\Users\\user\\anaconda3\\envs\\poly2\\lib\\site-packages\\xgboost\\data.py:262: FutureWarning: pandas.Int64Index is deprecated and will be removed from pandas in a future version. Use pandas.Index with the appropriate dtype instead.\n",
      "  elif isinstance(data.columns, (pd.Int64Index, pd.RangeIndex)):\n",
      "5it [04:26, 53.26s/it]\n"
     ]
    },
    {
     "data": {
      "text/plain": [
       "0.11017603330089432"
      ]
     },
     "execution_count": 25,
     "metadata": {},
     "output_type": "execute_result"
    }
   ],
   "source": [
    "model_cv_score = get_model_cv_score(X_cv, y_cv, best_params)"
   ]
  },
  {
   "cell_type": "markdown",
   "id": "57aa3d05-9bb4-4706-8260-f09ccbff683d",
   "metadata": {},
   "source": [
    "`0.11017603330089432`"
   ]
  },
  {
   "cell_type": "markdown",
   "id": "0353e763-f81a-4c3a-b496-910b6f4b47c3",
   "metadata": {},
   "source": [
    "## Check default model"
   ]
  },
  {
   "cell_type": "code",
   "execution_count": 32,
   "id": "2a6e1097-6f85-46a4-92e4-b71bf29a79e5",
   "metadata": {},
   "outputs": [],
   "source": [
    "default_model = XGBRegressor().fit(X_cv, y_cv)\n",
    "\n",
    "yp_def = default_model.predict(X_test)\n",
    "\n",
    "rmse_def_test = mean_squared_error(yp_def, y_test, squared=False)"
   ]
  },
  {
   "cell_type": "markdown",
   "id": "448a57bb-bc80-42ff-b5d7-756e5fa9b535",
   "metadata": {},
   "source": [
    "## Result for paper (table)"
   ]
  },
  {
   "cell_type": "code",
   "execution_count": 41,
   "id": "5e17eda7-d2b2-4a83-8c6d-f97b19daec25",
   "metadata": {},
   "outputs": [
    {
     "name": "stdout",
     "output_type": "stream",
     "text": [
      "rmse_test=0.10623\n",
      "rmse_train=0.03719\n",
      "rmse_def_test=0.12707\n"
     ]
    }
   ],
   "source": [
    "print(f'{rmse_test=:.5f}\\n{rmse_train=:.5f}\\n{rmse_def_test=:.5f}')"
   ]
  },
  {
   "cell_type": "code",
   "execution_count": 43,
   "id": "e809ba6c-b7f6-4408-a15b-0fce057431db",
   "metadata": {},
   "outputs": [
    {
     "data": {
      "text/html": [
       "<div>\n",
       "<style scoped>\n",
       "    .dataframe tbody tr th:only-of-type {\n",
       "        vertical-align: middle;\n",
       "    }\n",
       "\n",
       "    .dataframe tbody tr th {\n",
       "        vertical-align: top;\n",
       "    }\n",
       "\n",
       "    .dataframe thead th {\n",
       "        text-align: right;\n",
       "    }\n",
       "</style>\n",
       "<table border=\"1\" class=\"dataframe\">\n",
       "  <thead>\n",
       "    <tr style=\"text-align: right;\">\n",
       "      <th></th>\n",
       "      <th>model</th>\n",
       "      <th>default_cv_score</th>\n",
       "      <th>best_cv_score</th>\n",
       "      <th>rmse_test</th>\n",
       "      <th>rmse_train</th>\n",
       "      <th>rmse_test_def</th>\n",
       "      <th>number</th>\n",
       "      <th>max_depth</th>\n",
       "      <th>n_estimators</th>\n",
       "      <th>learning_rate</th>\n",
       "      <th>subsample</th>\n",
       "      <th>colsample_bytree</th>\n",
       "    </tr>\n",
       "  </thead>\n",
       "  <tbody>\n",
       "    <tr>\n",
       "      <th>0</th>\n",
       "      <td>all</td>\n",
       "      <td>0.131867</td>\n",
       "      <td>0.109074</td>\n",
       "      <td>0.107335</td>\n",
       "      <td>0.042964</td>\n",
       "      <td>0.12707</td>\n",
       "      <td>3</td>\n",
       "      <td>10</td>\n",
       "      <td>1740</td>\n",
       "      <td>0.019909</td>\n",
       "      <td>0.546807</td>\n",
       "      <td>0.887985</td>\n",
       "    </tr>\n",
       "  </tbody>\n",
       "</table>\n",
       "</div>"
      ],
      "text/plain": [
       "  model  default_cv_score  best_cv_score  rmse_test  rmse_train  rmse_test_def  number  max_depth  n_estimators  learning_rate  subsample  colsample_bytree\n",
       "0   all          0.131867       0.109074   0.107335    0.042964        0.12707       3         10          1740       0.019909   0.546807          0.887985"
      ]
     },
     "execution_count": 43,
     "metadata": {},
     "output_type": "execute_result"
    }
   ],
   "source": [
    "hps"
   ]
  },
  {
   "cell_type": "code",
   "execution_count": 44,
   "id": "56421724-0ca4-41f3-a8e1-c097a7e64fcf",
   "metadata": {},
   "outputs": [
    {
     "data": {
      "text/plain": [
       "{'max_depth': 10,\n",
       " 'n_estimators': 1740,\n",
       " 'learning_rate': 0.0199085136730978,\n",
       " 'subsample': 0.5468065466488763,\n",
       " 'colsample_bytree': 0.8879850476692774,\n",
       " 'tree_method': 'hist'}"
      ]
     },
     "execution_count": 44,
     "metadata": {},
     "output_type": "execute_result"
    }
   ],
   "source": [
    "best_params"
   ]
  },
  {
   "cell_type": "code",
   "execution_count": null,
   "id": "c6a0ad84-10ef-4caf-9a3c-0753c8c64a7c",
   "metadata": {},
   "outputs": [],
   "source": []
  }
 ],
 "metadata": {
  "kernelspec": {
   "display_name": "poly2_kernel",
   "language": "python",
   "name": "poly2_kernel"
  },
  "language_info": {
   "codemirror_mode": {
    "name": "ipython",
    "version": 3
   },
   "file_extension": ".py",
   "mimetype": "text/x-python",
   "name": "python",
   "nbconvert_exporter": "python",
   "pygments_lexer": "ipython3",
   "version": "3.8.12"
  }
 },
 "nbformat": 4,
 "nbformat_minor": 5
}
