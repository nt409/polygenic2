{
 "cells": [
  {
   "cell_type": "markdown",
   "id": "9c28a391-71c7-4a13-b083-87e880010897",
   "metadata": {},
   "source": [
    "# Rough"
   ]
  },
  {
   "cell_type": "code",
   "execution_count": 1,
   "id": "62bd3e02-eaa3-4096-98d8-085aa6d8621f",
   "metadata": {},
   "outputs": [],
   "source": [
    "%load_ext autoreload\n",
    "%autoreload 2\n",
    "\n",
    "%matplotlib widget"
   ]
  },
  {
   "cell_type": "code",
   "execution_count": 2,
   "id": "ad0f2ad3-8828-4875-85c9-95bcd0be6489",
   "metadata": {},
   "outputs": [],
   "source": [
    "import pandas as pd\n",
    "\n",
    "import seaborn as sns\n",
    "\n",
    "import numpy as np\n",
    "import matplotlib.pyplot as plt\n",
    "\n",
    "import plotly.graph_objects as go\n",
    "from plotly.subplots import make_subplots\n",
    "import plotly.express as px\n",
    "\n",
    "\n",
    "from plots2.fns import (\n",
    "    standard_layout,\n",
    "    corner_annotations_colwise,\n",
    "    corner_annotations_rowwise,\n",
    "    get_text_annotation\n",
    ")\n",
    "\n",
    "from poly2.utils import get_dispersal_kernel, trait_vec\n",
    "from poly2.run import no_joblib_single_run, no_joblib_multiple_run\n",
    "from poly2.config import Config, ConfigMixture\n",
    "from poly2.simulator import SimulatorOneTrait"
   ]
  },
  {
   "cell_type": "code",
   "execution_count": 8,
   "id": "b98e53ca-0c62-4631-9f75-e2452c0b1e6d",
   "metadata": {},
   "outputs": [
    {
     "name": "stdout",
     "output_type": "stream",
     "text": [
      "CONFIG\n",
      "------\n",
      "I0s = [0.00985703, 0.00985703, 0.00985703, 0.00985 ...\n",
      "asymptote = 1\n",
      "betas = [0.00786542, 0.00786542, 0.00786542, 0.007 ...\n",
      "decay_rate = None\n",
      "doses = [1., 1., 1., 1., 1., 1., 1., 1., 1., 1., 1 ...\n",
      "fungicide_mixture = False\n",
      "host_on = None\n",
      "k_b = 0.8431572316700577\n",
      "k_mu = 9.44286788381916\n",
      "l_b = 6.585357214619326\n",
      "l_mu = 0.8089358816813786\n",
      "mutation_proportion = 1.234375e-05\n",
      "mutation_scale_fung = 0.0019836158401698102\n",
      "mutation_scale_host = 0.0019836158401698102\n",
      "n_k = 50\n",
      "n_l = 50\n",
      "n_years = 15\n",
      "replace_cultivars = None\n",
      "sprays = None\n",
      "type = single\n",
      "\n"
     ]
    }
   ],
   "source": [
    "c = Config(asymptote=1)"
   ]
  },
  {
   "cell_type": "code",
   "execution_count": 9,
   "id": "c026e433-ba88-45ad-a9fc-ff4321ff130a",
   "metadata": {},
   "outputs": [],
   "source": [
    "s = SimulatorOneTrait(c)"
   ]
  },
  {
   "cell_type": "code",
   "execution_count": 10,
   "id": "93544eb8-5f7d-48a5-9fde-b50f8b66d3e9",
   "metadata": {},
   "outputs": [],
   "source": [
    "data2 = s.run_model()"
   ]
  },
  {
   "cell_type": "code",
   "execution_count": 11,
   "id": "0abcc08b-2cb2-44e1-a9ea-18e1a1207444",
   "metadata": {},
   "outputs": [
    {
     "data": {
      "text/plain": [
       "[<matplotlib.lines.Line2D at 0x7fb3d926cd90>]"
      ]
     },
     "execution_count": 11,
     "metadata": {},
     "output_type": "execute_result"
    },
    {
     "data": {
      "image/png": "[encoded data removed]",
      "text/plain": [
       "<Figure size 432x288 with 1 Axes>"
      ]
     },
     "metadata": {
      "needs_background": "light"
     },
     "output_type": "display_data"
    }
   ],
   "source": [
    "f, ax = plt.subplots()\n",
    "\n",
    "ax.plot(data['yield_vec'])\n",
    "ax.plot(data2['yield_vec'])"
   ]
  },
  {
   "cell_type": "code",
   "execution_count": null,
   "id": "e7d9b0c6-7287-47e8-8569-457347e67567",
   "metadata": {},
   "outputs": [],
   "source": []
  }
 ],
 "metadata": {
  "kernelspec": {
   "display_name": "Python 3",
   "language": "python",
   "name": "python3"
  },
  "language_info": {
   "codemirror_mode": {
    "name": "ipython",
    "version": 3
   },
   "file_extension": ".py",
   "mimetype": "text/x-python",
   "name": "python",
   "nbconvert_exporter": "python",
   "pygments_lexer": "ipython3",
   "version": "3.9.12"
  }
 },
 "nbformat": 4,
 "nbformat_minor": 5
}
